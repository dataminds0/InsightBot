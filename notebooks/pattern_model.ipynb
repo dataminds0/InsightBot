{
 "cells": [
  {
   "cell_type": "markdown",
   "id": "f8a5825b",
   "metadata": {},
   "source": [
    "# News Article Classification and Analysis\n",
    "\n",
    "This notebook performs a comprehensive analysis of news articles, encompassing language detection, context classification, headline extraction, and sentiment analysis. It leverages various NLP techniques and pre-trained models to categorize and summarize textual data.\n",
    "\n",
    "**The key steps include:**\n",
    "\n",
    "1.  **Data Loading and Cleaning:** Loading the dataset from a CSV file and preprocessing the text content.\n",
    "2.  **Language Detection:** Identifying the language of each article using the `langdetect` library.\n",
    "3.  **Context Classification:** Assigning context labels (e.g., Political, Economy, Technology, Social) to articles using keyword-based weak labeling and transformer-based zero-shot classification.\n",
    "4.  **Headline Extraction:** Generating concise headlines for articles using summarization pipelines.\n",
    "5.  **Sentiment Analysis:** Determining the sentiment (Positive, Negative, Neutral) of articles using TextBlob and VADER sentiment analysis.\n",
    "\n",
    "The notebook explores different models and methods for context classification, headline extraction, and sentiment analysis, comparing their performance and trade-offs. The final output includes the original content, extracted headlines, predicted context, detected language, and sentiment scores for each article."
   ]
  },
  {
   "cell_type": "code",
   "execution_count": 22,
   "id": "664dc85b",
   "metadata": {},
   "outputs": [],
   "source": [
    "import pandas as pd\n",
    "from transformers import pipeline\n",
    "from langdetect import detect\n",
    "from pymongo import MongoClient\n",
    "import os\n"
   ]
  },
  {
   "cell_type": "code",
   "execution_count": 23,
   "id": "b7f098eb",
   "metadata": {},
   "outputs": [],
   "source": [
    "df = pd.read_csv(r'../data/cleaned_data/clean_data.csv')"
   ]
  },
  {
   "cell_type": "code",
   "execution_count": 24,
   "id": "1b754983",
   "metadata": {},
   "outputs": [],
   "source": [
    "df['content'] = df['content'].astype(str)\n",
    "df.dropna(subset='content',inplace=True)"
   ]
  },
  {
   "cell_type": "code",
   "execution_count": 25,
   "id": "507034a1",
   "metadata": {},
   "outputs": [
    {
     "data": {
      "text/plain": [
       "(1119, 7)"
      ]
     },
     "execution_count": 25,
     "metadata": {},
     "output_type": "execute_result"
    }
   ],
   "source": [
    "df.shape"
   ]
  },
  {
   "cell_type": "code",
   "execution_count": 26,
   "id": "8f1d03aa",
   "metadata": {},
   "outputs": [
    {
     "data": {
      "application/vnd.microsoft.datawrangler.viewer.v0+json": {
       "columns": [
        {
         "name": "index",
         "rawType": "int64",
         "type": "integer"
        },
        {
         "name": "content",
         "rawType": "object",
         "type": "string"
        }
       ],
       "ref": "6a226346-919b-4f34-ba43-22d212988244",
       "rows": [
        [
         "0",
         "Poland’s interior ministry said seven drones and parts of one unidentified missile have been found. The White House said that Trump was planning to speak with Polish President Karol Nawrocki on Wednesday. Poland earlier announced it was closing its eastern border with Russian ally Belarus, due to joint Russian-Belarusian military exercises beginning Friday, Reuters reported. CNN’s Chris Lau, Gianluca Mezzofiore, Victoria Butenko, Daria Tarasova-Markina, Darya Tarasova, Natasha Bertrand, Haley Britzky, Kit Maher and Antonia Mortensen contributed to this report."
        ],
        [
         "1",
         "Appointed by President Emmanuel Macron on Tuesday, former defense minister Lecornu succeeds François Bayrou, who was ousted after losing a confidence vote in parliament over his unpopular plan to tame the deficit. Early Wednesday, activists launched small but disruptive actions, closing off key ring roads in Bordeaux, Rennes, Nantes and Caen. Police quickly contained the situation as around 150 mostly young demonstrators chanted anti-police slogans in a largely calm atmosphere. A larger nationwide strike and protest is already planned for September 18, when all trade unions are expected to join."
        ],
        [
         "2",
         "The attack could have a chilling effect in the region and raises concerns that if a close US ally, such as Qatar, can come under attack by another US ally Israel, who might be next? But I will say this, we want the hostages back, but we are not thrilled about the way that went down,” Trump told reporters this evening outside Joe’s Seafood, Prime Steak & Stone Crab in Washington, DC. The strikes came as Israel on Tuesday ordered a complete evacuation of Gaza City, home to around a million Palestinians, ahead of its planned military takeover which it said is key to defeating Hamas. The UN Human Rights Chief Volker Türk has warned that an Israeli escalation in Gaza City would lead to “more massive forced displacement, more killing, more unbearable suffering, senseless destruction and atrocity crimes.” CNN’s Mostafa Salem, Mohammed Tawfeeq, Max Saltman, Sarah El Sirgany, Abeer Salman, Tal Shalev, Dana Karni, Kristen Holmes, Kevin Liptak, Andrew Potter, Kylie Atwood, Christian Edwards, Paula Newton and Billy Stockwell contributed reporting."
        ],
        [
         "3",
         "Ukraine’s President Volodymyr Zelensky described the airstrike as “brutally savage” and “directly on people. Now Putin is making his intentions clearer than ever “Russian propaganda claims to be ‘saving’ people in the Donetsk region, but in reality, it is dropping massive air bombs on people who came to receive pensions,” Sybiha added. The village was occupied in June 2022 but Ukrainian forces reclaimed it later that year. Across Ukraine, seven people have been killed and at least 22 injured within the last day."
        ],
        [
         "4",
         "“There are opportunities everywhere,” he said, adding that finding them was a matter of perseverance and adapting to new situations. She created an organization called Proyecto Comida Calientita (Warm Food Project), which provides freshly made meals to migrants. By his second semester, he was also working as a tutor, helping other pupils with admission exams and mathematics. After his stint there, he and a coworker launched their own call center that hired fellow deportees, many of whom were also English speakers struggling to fit in."
        ]
       ],
       "shape": {
        "columns": 1,
        "rows": 5
       }
      },
      "text/plain": [
       "0    Poland’s interior ministry said seven drones a...\n",
       "1    Appointed by President Emmanuel Macron on Tues...\n",
       "2    The attack could have a chilling effect in the...\n",
       "3    Ukraine’s President Volodymyr Zelensky describ...\n",
       "4    “There are opportunities everywhere,” he said,...\n",
       "Name: content, dtype: object"
      ]
     },
     "execution_count": 26,
     "metadata": {},
     "output_type": "execute_result"
    }
   ],
   "source": [
    "df['content'].head()"
   ]
  },
  {
   "cell_type": "markdown",
   "id": "b457b409",
   "metadata": {},
   "source": [
    "## This Model detect the Language, Title ant context Classification"
   ]
  },
  {
   "cell_type": "markdown",
   "id": "dcdd3821",
   "metadata": {},
   "source": [
    "### 1: Language Detect  "
   ]
  },
  {
   "cell_type": "code",
   "execution_count": 27,
   "id": "90f2ae5d",
   "metadata": {},
   "outputs": [],
   "source": [
    "df['language'] = df['content'].apply(detect)"
   ]
  },
  {
   "cell_type": "code",
   "execution_count": 28,
   "id": "b94b6b3d",
   "metadata": {},
   "outputs": [
    {
     "data": {
      "application/vnd.microsoft.datawrangler.viewer.v0+json": {
       "columns": [
        {
         "name": "index",
         "rawType": "int64",
         "type": "integer"
        },
        {
         "name": "content",
         "rawType": "object",
         "type": "string"
        },
        {
         "name": "language",
         "rawType": "object",
         "type": "string"
        }
       ],
       "ref": "75a49c92-713a-45b4-8a38-d5d71184760e",
       "rows": [
        [
         "0",
         "Poland’s interior ministry said seven drones and parts of one unidentified missile have been found. The White House said that Trump was planning to speak with Polish President Karol Nawrocki on Wednesday. Poland earlier announced it was closing its eastern border with Russian ally Belarus, due to joint Russian-Belarusian military exercises beginning Friday, Reuters reported. CNN’s Chris Lau, Gianluca Mezzofiore, Victoria Butenko, Daria Tarasova-Markina, Darya Tarasova, Natasha Bertrand, Haley Britzky, Kit Maher and Antonia Mortensen contributed to this report.",
         "en"
        ],
        [
         "1",
         "Appointed by President Emmanuel Macron on Tuesday, former defense minister Lecornu succeeds François Bayrou, who was ousted after losing a confidence vote in parliament over his unpopular plan to tame the deficit. Early Wednesday, activists launched small but disruptive actions, closing off key ring roads in Bordeaux, Rennes, Nantes and Caen. Police quickly contained the situation as around 150 mostly young demonstrators chanted anti-police slogans in a largely calm atmosphere. A larger nationwide strike and protest is already planned for September 18, when all trade unions are expected to join.",
         "en"
        ],
        [
         "2",
         "The attack could have a chilling effect in the region and raises concerns that if a close US ally, such as Qatar, can come under attack by another US ally Israel, who might be next? But I will say this, we want the hostages back, but we are not thrilled about the way that went down,” Trump told reporters this evening outside Joe’s Seafood, Prime Steak & Stone Crab in Washington, DC. The strikes came as Israel on Tuesday ordered a complete evacuation of Gaza City, home to around a million Palestinians, ahead of its planned military takeover which it said is key to defeating Hamas. The UN Human Rights Chief Volker Türk has warned that an Israeli escalation in Gaza City would lead to “more massive forced displacement, more killing, more unbearable suffering, senseless destruction and atrocity crimes.” CNN’s Mostafa Salem, Mohammed Tawfeeq, Max Saltman, Sarah El Sirgany, Abeer Salman, Tal Shalev, Dana Karni, Kristen Holmes, Kevin Liptak, Andrew Potter, Kylie Atwood, Christian Edwards, Paula Newton and Billy Stockwell contributed reporting.",
         "en"
        ],
        [
         "3",
         "Ukraine’s President Volodymyr Zelensky described the airstrike as “brutally savage” and “directly on people. Now Putin is making his intentions clearer than ever “Russian propaganda claims to be ‘saving’ people in the Donetsk region, but in reality, it is dropping massive air bombs on people who came to receive pensions,” Sybiha added. The village was occupied in June 2022 but Ukrainian forces reclaimed it later that year. Across Ukraine, seven people have been killed and at least 22 injured within the last day.",
         "en"
        ],
        [
         "4",
         "“There are opportunities everywhere,” he said, adding that finding them was a matter of perseverance and adapting to new situations. She created an organization called Proyecto Comida Calientita (Warm Food Project), which provides freshly made meals to migrants. By his second semester, he was also working as a tutor, helping other pupils with admission exams and mathematics. After his stint there, he and a coworker launched their own call center that hired fellow deportees, many of whom were also English speakers struggling to fit in.",
         "en"
        ]
       ],
       "shape": {
        "columns": 2,
        "rows": 5
       }
      },
      "text/html": [
       "<div>\n",
       "<style scoped>\n",
       "    .dataframe tbody tr th:only-of-type {\n",
       "        vertical-align: middle;\n",
       "    }\n",
       "\n",
       "    .dataframe tbody tr th {\n",
       "        vertical-align: top;\n",
       "    }\n",
       "\n",
       "    .dataframe thead th {\n",
       "        text-align: right;\n",
       "    }\n",
       "</style>\n",
       "<table border=\"1\" class=\"dataframe\">\n",
       "  <thead>\n",
       "    <tr style=\"text-align: right;\">\n",
       "      <th></th>\n",
       "      <th>content</th>\n",
       "      <th>language</th>\n",
       "    </tr>\n",
       "  </thead>\n",
       "  <tbody>\n",
       "    <tr>\n",
       "      <th>0</th>\n",
       "      <td>Poland’s interior ministry said seven drones a...</td>\n",
       "      <td>en</td>\n",
       "    </tr>\n",
       "    <tr>\n",
       "      <th>1</th>\n",
       "      <td>Appointed by President Emmanuel Macron on Tues...</td>\n",
       "      <td>en</td>\n",
       "    </tr>\n",
       "    <tr>\n",
       "      <th>2</th>\n",
       "      <td>The attack could have a chilling effect in the...</td>\n",
       "      <td>en</td>\n",
       "    </tr>\n",
       "    <tr>\n",
       "      <th>3</th>\n",
       "      <td>Ukraine’s President Volodymyr Zelensky describ...</td>\n",
       "      <td>en</td>\n",
       "    </tr>\n",
       "    <tr>\n",
       "      <th>4</th>\n",
       "      <td>“There are opportunities everywhere,” he said,...</td>\n",
       "      <td>en</td>\n",
       "    </tr>\n",
       "  </tbody>\n",
       "</table>\n",
       "</div>"
      ],
      "text/plain": [
       "                                             content language\n",
       "0  Poland’s interior ministry said seven drones a...       en\n",
       "1  Appointed by President Emmanuel Macron on Tues...       en\n",
       "2  The attack could have a chilling effect in the...       en\n",
       "3  Ukraine’s President Volodymyr Zelensky describ...       en\n",
       "4  “There are opportunities everywhere,” he said,...       en"
      ]
     },
     "execution_count": 28,
     "metadata": {},
     "output_type": "execute_result"
    }
   ],
   "source": [
    "df[['content','language']].head()"
   ]
  },
  {
   "cell_type": "markdown",
   "id": "bff184d9",
   "metadata": {},
   "source": [
    "## 2: Context Classification  "
   ]
  },
  {
   "cell_type": "markdown",
   "id": "cf263bfd",
   "metadata": {},
   "source": [
    "### Chose model"
   ]
  },
  {
   "cell_type": "code",
   "execution_count": 29,
   "id": "14c2832f",
   "metadata": {},
   "outputs": [
    {
     "name": "stderr",
     "output_type": "stream",
     "text": [
      "Device set to use cuda:0\n"
     ]
    }
   ],
   "source": [
    "# =========== Heavy Models (Use GPU) ===========\n",
    "# ==== Context ====\n",
    "classifier = pipeline(\n",
    "    \"zero-shot-classification\",\n",
    "    model=\"typeform/distilbert-base-uncased-mnli\", \n",
    "    device=0\n",
    ")"
   ]
  },
  {
   "cell_type": "markdown",
   "id": "ce68c3e6",
   "metadata": {},
   "source": [
    "### Apply Models"
   ]
  },
  {
   "cell_type": "code",
   "execution_count": 30,
   "id": "b1116e92",
   "metadata": {},
   "outputs": [],
   "source": [
    "labels = [\"politics\", \"technology\", \"social\", \"sports\", \"economy\"]\n",
    "\n",
    "def extract_features_context(text):\n",
    "\n",
    "    # Context (category)\n",
    "    context = classifier(text, candidate_labels=labels)['labels'][0]\n",
    "    \n",
    "    return  context\n",
    "\n",
    "# Apply classification\n",
    "\n",
    "df['context'] = df['content'].apply(\n",
    "    lambda x: pd.Series(extract_features_context(x))\n",
    ")"
   ]
  },
  {
   "cell_type": "code",
   "execution_count": 31,
   "id": "d4a02d78",
   "metadata": {},
   "outputs": [
    {
     "data": {
      "application/vnd.microsoft.datawrangler.viewer.v0+json": {
       "columns": [
        {
         "name": "index",
         "rawType": "int64",
         "type": "integer"
        },
        {
         "name": "content",
         "rawType": "object",
         "type": "string"
        },
        {
         "name": "context",
         "rawType": "object",
         "type": "string"
        }
       ],
       "ref": "06e940cb-e28f-4831-9a07-588123b9e3ac",
       "rows": [
        [
         "0",
         "Poland’s interior ministry said seven drones and parts of one unidentified missile have been found. The White House said that Trump was planning to speak with Polish President Karol Nawrocki on Wednesday. Poland earlier announced it was closing its eastern border with Russian ally Belarus, due to joint Russian-Belarusian military exercises beginning Friday, Reuters reported. CNN’s Chris Lau, Gianluca Mezzofiore, Victoria Butenko, Daria Tarasova-Markina, Darya Tarasova, Natasha Bertrand, Haley Britzky, Kit Maher and Antonia Mortensen contributed to this report.",
         "sports"
        ],
        [
         "1",
         "Appointed by President Emmanuel Macron on Tuesday, former defense minister Lecornu succeeds François Bayrou, who was ousted after losing a confidence vote in parliament over his unpopular plan to tame the deficit. Early Wednesday, activists launched small but disruptive actions, closing off key ring roads in Bordeaux, Rennes, Nantes and Caen. Police quickly contained the situation as around 150 mostly young demonstrators chanted anti-police slogans in a largely calm atmosphere. A larger nationwide strike and protest is already planned for September 18, when all trade unions are expected to join.",
         "politics"
        ],
        [
         "2",
         "The attack could have a chilling effect in the region and raises concerns that if a close US ally, such as Qatar, can come under attack by another US ally Israel, who might be next? But I will say this, we want the hostages back, but we are not thrilled about the way that went down,” Trump told reporters this evening outside Joe’s Seafood, Prime Steak & Stone Crab in Washington, DC. The strikes came as Israel on Tuesday ordered a complete evacuation of Gaza City, home to around a million Palestinians, ahead of its planned military takeover which it said is key to defeating Hamas. The UN Human Rights Chief Volker Türk has warned that an Israeli escalation in Gaza City would lead to “more massive forced displacement, more killing, more unbearable suffering, senseless destruction and atrocity crimes.” CNN’s Mostafa Salem, Mohammed Tawfeeq, Max Saltman, Sarah El Sirgany, Abeer Salman, Tal Shalev, Dana Karni, Kristen Holmes, Kevin Liptak, Andrew Potter, Kylie Atwood, Christian Edwards, Paula Newton and Billy Stockwell contributed reporting.",
         "politics"
        ],
        [
         "3",
         "Ukraine’s President Volodymyr Zelensky described the airstrike as “brutally savage” and “directly on people. Now Putin is making his intentions clearer than ever “Russian propaganda claims to be ‘saving’ people in the Donetsk region, but in reality, it is dropping massive air bombs on people who came to receive pensions,” Sybiha added. The village was occupied in June 2022 but Ukrainian forces reclaimed it later that year. Across Ukraine, seven people have been killed and at least 22 injured within the last day.",
         "politics"
        ],
        [
         "4",
         "“There are opportunities everywhere,” he said, adding that finding them was a matter of perseverance and adapting to new situations. She created an organization called Proyecto Comida Calientita (Warm Food Project), which provides freshly made meals to migrants. By his second semester, he was also working as a tutor, helping other pupils with admission exams and mathematics. After his stint there, he and a coworker launched their own call center that hired fellow deportees, many of whom were also English speakers struggling to fit in.",
         "social"
        ],
        [
         "5",
         "For a minister, some might say Sébastien Lecornu has had an easy gig inside French President Emmanuel Macron’s government. When Francois Bayrou, the latest ill-fated inhabitant of France’s prime ministerial residence, the Matignon, stepped aside after calling for his own doomed confidence vote (leading many commentators to describe it as jumping ship), headlines in France have turned to his successor. No knight in shining armor appeared – Macron is now on his seventh prime minister, so viable candidates are getting harder to find. According to Lazar, Lecornu offers some compromise – he is a right-wing politician yet still a figure of what the French call, “Social Gaullism,” conservative politicians who aren’t afraid to hike taxes, unlike Macron’s focus on pro-business policies.",
         "politics"
        ],
        [
         "6",
         "Ethiopia’s downstream neighbors, however, have watched the project advance with dread since construction began in 2011. Ethiopia has been filling the reservoir in phases since 2020, arguing that it would not significantly harm downstream countries. In Ethiopia, which has faced years of internal armed conflict, largely along ethnic lines, the GERD has proven a source of national pride, said Mekdelawit Messay, an Ethiopian water researcher at Florida International University. “It has been a banner to rally under, and it shows what we can achieve when unified.” Local media say 91% of funding came from the state, and the remaining 9% from Ethiopians buying bonds or making donations.",
         "politics"
        ],
        [
         "7",
         "Before he was ousted, Bayrou warned that getting rid of him would not resolve France’s challenges. As a result, for decades, two mainstream political parties on the left and right alternated in power. Unlike Germany or Italy, France has no tradition of coalition building, instead its politics have been shaped for more than 60 years by a presidency-dominated system. And for Macron, history does indeed risk repeating itself unless he can find a prime minister able to broker compromise.",
         "politics"
        ],
        [
         "8",
         "A Russian cruise missile that hit a government building in central Kyiv on Sunday was filled with dozens of foreign parts, including chips and other electronic components made in the United States, Ukrainian officials said on Tuesday. The Iskander 9M727 missile that struck the building did not explode, most likely because it was damaged by Ukrainian air defenses, Vladyslav Vlasiuk, Ukraine’s presidential commissioner for sanctions policy, said on Tuesday. Infineon Technologies, the German company that now owns American-based Cypress Semiconductor – one of the manufacturers listed – told CNN that it has taken “extensive measures” to ensure its items don’t end up in Russia. Vlasiuk said that even though this particular missile still included dozens of Western-made parts, it contained fewer such components compared to missiles analyzed earlier in the war.",
         "politics"
        ],
        [
         "9",
         "After being pushed out of Uganda, the militia went on to attack villages in Congo, Central African Republic and South Sudan. The court’s so-called confirmation of charges hearing comes two decades after it issued an arrest warrant for Kony. Court-appointed counsel for Kony argued the proceedings violate their client’s fair trial rights and should not have been held at all. He also noted that the warrants for Netanyahu and Putin were issued in recent years, whereas Kony has been wanted since 2005.",
         "politics"
        ],
        [
         "10",
         "None of these new sites would be in Gaza City, the official said. There is no indication yet that the new sites have all been established. When plans for the takeover were announced, some Gaza City residents told CNN that they would rather die in their homes than be displaced again. Um Samed, a 59-year-old mother of five, told Reuters that she had to make the decision whether “to stay and die at home in Gaza City, or follow (Israel’s) orders and leave Gaza and die in the south.” CNN’s Ibrahim Dahman, Abeer Salman, Eugenia Yosef, Max Saltman and Kareem El Damanhoury contributed to this report.",
         "politics"
        ],
        [
         "11",
         "The cause of the collision is not yet known but a video shared on social media and geolocated by CNN shows a freight train plowing into a double-decker bus that was beginning to cross the tracks in slow-moving traffic. A video circulating online also showed people trying to help passengers evacuate from the roof. A spokesperson for Canadian Pacific Kansas City told CNN that the train was operated by its subsidiary CPKC de Mexico, adding that the company is working with officials in the response efforts and investigation. “We express our most sincere solidarity with the affected families at this time,” it said in a statement, promising support.",
         "technology"
        ],
        [
         "12",
         "BIS said that a former deputy head of Moldovan intelligence service SIS who handed over classified information to the KGB was among them. “To successfully counter these hostile activities in Europe, we need to restrict the movement of accredited diplomats from Russia and Belarus within the Schengen (borderless) area,” BIS head Michal Koudelka said in a statement. Russia strikes Ukrainian government building, in largest air attack of war Romania’s anti-organized crime agency, DIICOT, said on Monday that it implemented an arrest warrant for a 47-year-old suspect on treason charges. The suspect allegedly disclosed state secrets to Belarusian intelligence officers that would likely “endanger national security,” DIICOT stated.",
         "politics"
        ],
        [
         "13",
         "Nationwide demonstrations and highway blockades are set for Wednesday, followed by a broader union led strike on September 18. As a result, for decades, two mainstream political parties on the left and right alternated in power. Unlike Germany or Italy, France has no tradition of coalition building, instead its politics have been shaped for more than 60 years by a presidency-dominated system. Lecornu, 39, is regarded as a political survivor, the only minister to have served continuously since Macron first took office in 2017.",
         "politics"
        ],
        [
         "14",
         "Pig heads appeared outside several mosques around Paris on Tuesday, authorities said, decrying the insult to Muslims. France has Europe’s largest population of Muslims, over 6 million, for whom pigs are considered impure. “An inquiry has been immediately opened,” Paris police chief Laurent Nunez said on X. A Paris police unit is investigating the incident for suspected incitement to hatred, aggravated by discrimination.",
         "politics"
        ],
        [
         "15",
         "Prince Harry has paid tribute to his late grandmother, Queen Elizabeth II, on the third anniversary of her death as he returned to the United Kingdom for a short visit, which has also sparked speculation over whether he might meet his father, King Charles III. The Duke of Sussex, who lives in California with wife Meghan and their two children, has come back to England for several charity engagements this week. “For two decades, this event has shone a bright spotlight on the needs of children and young people living with complex medical conditions,” Harry said in a speech at the awards ceremony. The Prince of Wales will on Tuesday visit Spiral Skills, a youth organization in south London, which received funding from William’s homelessness initiative, “Homewards,” to expand its operations into a new hub for young people in the area.",
         "social"
        ],
        [
         "16",
         "A check-in area at London’s Heathrow airport was briefly evacuated on Monday due to a possible hazardous substance incident, but police later said no harmful substances were found at the scene. A Heathrow spokesperson told CNN that emergency services ﻿ confirmed the terminal was safe to reopen. “Specialist crews were deployed to carry out an assessment of the scene, and Terminal 4 check-in was evacuated as a precaution whilst firefighters conducted operations.” London Fire Brigade said it was called about the incident at 5:01 p.m. local time (12:01 p.m. Heathrow has been plagued by a string of recent incidents.",
         "technology"
        ],
        [
         "17",
         "A total of 364 MPs voted against Bayrou and 194 voted for him after he called the vote in a bid to push through an unpopular €44 billion ($51 billion) savings plan that included scrapping two public holidays and freezing government spending. Bayrou will now be forced to step down after just nine months in office, following in the footsteps of his predecessor Michel Barnier, who lost a no-confidence vote last December. A possible downgrade of France’s sovereign debt rating review Friday would deliver another blow to its economic standing in Europe. Instability in Paris is a gift to both Russian President Vladimir Putin and his US counterpart Donald Trump, who share a common delight in mocking Europe’s weaknesses.",
         "social"
        ],
        [
         "18",
         "Russia’s president is no longer trying to mollify Trump, however, and the US presidential envoy Keith Kellogg correctly deemed these assaults as an “escalation” on Sunday. Ukrainian officials fear Moscow’s troops are amassing yet again to make a final assault on Pokrovsk, in the east, and might see progress near Kupiansk, farther north. Europe has done much of its part, pledging higher spending, ongoing commitment, and even ground troops in Ukraine if there is a peace. This is an impossible task – partly due to Trump’s own muddled thinking – but most importantly, because Putin does not want peace.",
         "politics"
        ],
        [
         "19",
         "An activist group seeking to break Israel’s siege on Gaza by sea said one of its main boats was struck by a drone at a port in Tunisia on Monday night, but all six passengers and crew are safe. The features, he said, were “common, but not exclusive, to some models of Israeli hand grenades,” adding that better images may reveal more details. In June, a yacht with 12 activists onboard, including Thunberg, was intercepted off the coast of Gaza . In a statement, GSF said that “acts of aggression aimed at intimidating and derailing our mission will not deter us.”",
         "politics"
        ],
        [
         "20",
         "Einav Zangauker, the mother of an Israeli hostage held in Gaza, said Tuesday’s strike could serve as a death sentence for her son. It could be that at this very moment, the prime minister has essentially executed my Matan, sentenced him to death,” Zangauker wrote on X. “Unilaterally bombing inside Qatar, a sovereign nation and close ally of the United States that is working very hard in bravely taking risks with us to broker peace, does not advance Israel or America’s goals,” she said. CNN’s Kareem Khadder, Jeremy Diamond, Sarah El Sirgany, Abeer Salman, Max Saltman, Billy Stockwell, Abbas Al Lawati, Catherine Nicholls, Mohammed Tawfeeq and Kevin Liptak contributed to this report.",
         "technology"
        ],
        [
         "21",
         "In exchange, a source familiar with the proposal said Israel would release “thousands” of Palestinian prisoners. For weeks, Netanyahu did not respond to the ceasefire proposal put forward by Qatar and Egypt, which Hamas accepted. “But we will not sign a humiliating surrender document — and there is no emperor in Hamas’ leadership like Japan’s Hirohito,” Naim added. CNN’s Tal Shalev, Ibrahim Dahman and Mohammed Tawfeeq contributed to this report.",
         "politics"
        ],
        [
         "22",
         "Toledano said it took people a few seconds to understand what was happening after the first burst of gunfire. Prime Minister Benjamin Netanyahu visited the area after holding a “situational assessment” with his heads of security, where he announced measures against Palestinian villages. Later Monday, Israeli President Isaac Herzog visited wounded victims of the attack at Shaare Zedek Medical Center. I say to the residents: you have been warned — get out!” Netanyahu said in a video message.",
         "politics"
        ],
        [
         "23",
         "Besides formalizing an arms embargo, which the Spanish government says has been de facto in effect since October 2023, Spain will ban ships carrying fuel for Israel’s armed forces from passing through Spanish ports, and increase its humanitarian aid toward Gaza in 2026 to reach 150 million euros ($176 million), he said. Israel lambasted the accusation, saying it is based on a \"campaign of lies\" by Hamas. Israel’s offensive has killed more than 64,000 Palestinians, according to the Gaza Health Ministry, which does not say how many were civilians or combatants. “If they want to hold or halt defense connections with Israel,” Saar told reporters, “who do you think will lose from that?",
         "technology"
        ],
        [
         "24",
         "Videos shared on social media showed shattered windows and glass-covered floors at the airport’s arrivals hall. Two people sustained minor injuries as a result of the attack, MDA said. In early May, a ballistic missile fired by the Houthis penetrated Israel’s air defenses and struck Ben Gurion international airport near Tel Aviv, halting flights for about 30 minutes. Israel’s long-range Arrow interceptor missile failed to stop the Houthi projectile before it hit.",
         "social"
        ],
        [
         "25",
         "Kennedy appeared in front of the Senate Finance Committee and answered questions on a variety of topics , including vaccines, recent staffing changes and increasing calls for him to resign. He often fired back at lawmakers during his testimony, which was praised by the White House . Some of the pointed questioning came from Republicans who confirmed Kennedy. Kennedy has also canceled his department’s funding for future mRNA vaccine developments.",
         "politics"
        ],
        [
         "26",
         "Xi Jinping oversaw a huge display of China’s military power on Wednesday before some of the world’s most powerful authoritarian leaders, rallying them behind his vision for a new world order as US President Donald Trump wages a global trade war and shakes up American alliances. Russia’s Vladimir Putin and North Korea’s Kim Jong Un flanked Xi at the start of the parade as the trio stood together publicly for the first time in a historic moment. The parade unveiled hundreds of advanced weapons and featured over 10,000 troops, showcasing China’s growing military power under Xi’s push to modernize the world’s largest standing army .",
         "politics"
        ],
        [
         "27",
         "Eighteen other people were wounded , including 15 children and three adults. The shooter, who died of a self-inflicted gunshot wound, was identified as 23-year-old Robin Westman. Westman shared a “manifesto” on social media that is being investigated, police said. Investigators believe Westman likely intended to carry out yesterday’s attack from inside the church.",
         "politics"
        ],
        [
         "28",
         "“To date, the provisional report shows 28 suspected cases and 15 deaths, including 14 in Boulapé and 1 in Mweka, as well as four health care workers,” Kamba said. Travelers and health-care providers should be on alert due to Ebola disease outbreak in Uganda, CDC warns The World Health Organization said it dispatched its experts alongside Congo’s Rapid Response Team to Kasai province to strengthen disease surveillance, treatment and infection prevention and control in health facilities. The Ebola virus is highly contagious and can be contracted through bodily fluids such as vomit, blood, or semen. The disease it causes is a rare but severe — and often fatal — illness in people.",
         "economy"
        ],
        [
         "29",
         "Burkina Faso’s transitional parliament passed legislation outlawing conduct deemed to promote LGBTQ practices, introducing fines, prison sentences and sanctions for persons convicted, its justice minister said. “The law provides for a prison sentence ranging from two to five years and a fine,” Justice Minister Edasso Rodrigue Bayala said on state television on Monday night. LGBTQ people describe living there as ‘hell’ The government has framed the law as an effort to modernize family law and clarify nationality rules, but rights advocates are likely to call out the restrictions on LGBTQ practices and limits imposed on legal recourse in nationality cases. Anti-gay laws are in place in various conservative African countries including Senegal, Uganda and Malawi, though some others, including South Africa, Botswana and Angola, have decriminalized LGBTQ practices or enacted protective measures.",
         "social"
        ],
        [
         "30",
         "And on Tuesday 2 September the US carried out a lethal strike on a speedboat it said was carrying drugs in international waters and had departed from Venezuela, fueling suspicions in Caracas that Washington is trying to topple the regime of President Nicolas Maduro. It “would not be appropriate” at this moment to talk about possible military alliances with other Latin American countries and the region since, Gil said, they maintain a “pro-peace” stance. But it doesn’t work because these drug cartels know they will lose 2% of their cargo. I am concerned, as a Latin American, that this narrative is trying to be imposed,” he said.",
         "politics"
        ],
        [
         "31",
         "Lawyers for the eight detainees – who came from Cuba, Laos, Vietnam and other countries, along with Mexico - had argued that they would face dangerous physical conditions in South Sudan, which has struggled with intercommunal violence since its independence in 2011. One deportee, a South Sudanese citizen, was freed earlier, the Associated Press reported Saturday. Beyond South Sudan, the Trump administration is also coordinating US deportations with other African countries including Rwanda, Uganda and Eswatini . While Rwanda recently reached an agreement to take in up to 250 migrants deported from the US, Uganda has publicly insisted it will only accept limited cases, and Eswatini has already received deportees despite mounting criticism.",
         "technology"
        ],
        [
         "32",
         "Struck by lightning during a roaring thunderstorm 10 years ago, an ancient pine tree in Bolivia’s capital of La Paz is thriving. Pilgrims stream through the alleys bearing offerings – coins, flowers, sweets, handwritten disclosures of secret wishes – to stuff into bark crevices. “People ask for love, work, health, children, even to bring back their lost pet,” explained Javier Cordero, who leads funeral prayers at the cemetery. But long before such forest ecology studies, Indigenous Aymara shamans in Bolivia believed lightning strikes bestowed divine powers upon their survivors, whether people or trees.",
         "social"
        ],
        [
         "33",
         "Just a few hundred people live in Chichiriviche, and some 70 families depend on fishing for their subsistence, so not taking the boats out is unthinkable. The Venezuelan economy has long been troubled by chronic inefficiencies and historically subject to hyperinflationary cycles. “Tension is surely there, but I’m busy working and trying to make my products, so I don’t think about it,” says Gilberto Salas, an ice-cream maker in the central Caracas neighborhood of Chacao. They have repeatedly detained dissenting voices, including protesters, activists and a former presidential candidate .",
         "politics"
        ],
        [
         "34",
         "Then, a government ban last week on more than two dozen social media platforms including Instagram, Facebook and WhatsApp added fuel to the fire. Video also appeared to show demonstrators ransacking Prime Minister KP Sharma Oli’s private residence on Tuesday, Reuters reported. Others were worried about the response from a governing class that has just been rattled by its biggest challenge in years. “We are scared that students who protested peacefully will also be targeted.” Isaac Yee, Teele Rebane, Aishwarya S. Iyer and Nishant Khanal contributed reporting.",
         "social"
        ],
        [
         "35",
         "Analysts say the omission could signal that Kim has secured what he long sought: China’s tacit acceptance of North Korea as a nuclear power. But as US-China relations have deteriorated amid intensifying strategic rivalry, Beijing has scaled back its cooperation on curbing North Korea’s nuclear ambitions. In 2022, China and Russia jointly vetoed a US-led resolution at the UN Security Council that sought additional sanctions over North Korea’s renewed ballistic missile launches. Some experts have cautioned that the public omission of denuclearization by Xi and Kim might not amount to a shift in China’s official stance.",
         "technology"
        ],
        [
         "36",
         "Police used live ammunition, water cannons, and tear gas against the protesters, Reuters news agency reported. Crowds of protesters could be seen breaking into the property and destroying furniture before setting it on fire. Meanwhile, a viral online movement against “Nepo Kids” — politicians’ children showing off their lavish lifestyles — is fueling further anger by highlighting the disparities between those in power and regular Nepalis. More than 400 people, including security forces staff, were hospitalized on Monday, according to a report by Nepal’s health ministry.",
         "politics"
        ],
        [
         "37",
         "During, his exile Thaksin continued to be a driving force in politics behind the scenes. Thailand’s prime minister removed from office over leaked phone call scandal with Cambodian strongman Many observers feel that the family’s power in Thailand is diminished, and its long dominant political machine could finally be out of steam. Last week, that changed when the Shinawatra’s Pheu Thai Party was ousted from government. The former interior minister who spearheaded Thailand’s legalization of cannabis, and his government took office on Sunday after obtaining a royal endorsement from King Vajiralongkorn.",
         "politics"
        ],
        [
         "38",
         "Owned by Ferrari, Mugello Circuit serves as a testing ground for the Italian manufacturer’s F1 cars. “Mugello is pure passion,” says Fabio Di Giannantonio, one of two Italian riders for the VR46 Ducati team. A passer-by pours pour beer into the funnel, which sprays back gold liquid, along with a puff of smoke as Fuso hoots in delight Given Mugello’s rural location, accommodation can be hard to find for those not camping. About 50 VIPs — including actor Eric Bana, former F1 driver Mark Webber, World Cup-winning soccer captain Fabio Cannavaro, and MotoGP legend Giacomo Agostini — sit at white-clothed tables as Florence-based chef Riccardo Monco serves a multicourse meal.",
         "sports"
        ],
        [
         "39",
         "This more advanced map was released in 2016, and under South Korean law, cannot be exported to overseas servers without government approval. A big fear is that Google Maps’ dominance could displace competitors like Naver and Kakao, if it was allowed into the country. That could open the door to an enormous amount of information on user behavior, like how people are moving or interacting with online services. After all, Ahn claimed, Google doesn’t request data directly from the government in many other countries where it does have full mapping and navigation services.",
         "technology"
        ],
        [
         "40",
         "Layered onto all of this is a political system in which priorities flip every few years, undermining the long-term planning and financing that such megaprojects demand. We take you inside The Trump administration has taken a different approach, demanding that Amtrak focus on improving on-time performance before expanding. Brightline West, a privately owned 218-mile line linking Rancho Cucamonga, east of Los Angeles, with Las Vegas has begun early construction and is expected to ramp up in late 2025. Together with California’s ambitions, should they come to fruition, the line could show that high-speed rail is not only feasible but transformative for American intercity travel.",
         "sports"
        ],
        [
         "41",
         "To visitors, Venice is a glorious tapestry of historic buildings, waterways, bell towers, red roofs — and a mighty winged lion, the symbol of the Venetian republic, carved into structures across the city. This, they said, would explain why the 4-meter- (13-foot-) long and 2.2-meter- (7-foot-) high statue, previously thought to have been made locally, in Syria or Anatolia, is stylistically mysterious. Once the Polos sent the statue back to Italy after their visit to the Mongol court, it was probably “discreetly and laboriously refitted” to look like the holy emblem of St. Mark, with horns removed and a “wig” added, they added. “In a puzzling absence of written information, the intention and logistics behind its journey to Venice remain elusive and open to interpretation.",
         "technology"
        ],
        [
         "42",
         "That was how he got into a Netflix party for the reality show “Next in Fashion” after meeting and photographing its co-host, Alexa Chung, outside. Bassini has observed the circuit of influencers and hopefuls who try a more demanding don’t-you-know-who-I-am approach, only to see them get turned away unceremoniously each time. The actor and director Jemima Kirke once asked him how to fix her Polaroid camera while waiting for her car outside of a Puppets and Puppets show, he recounted, while Klum waxed poetic with him about the feeling of developing film in a lab. But during his first attempt to photograph New York Fashion Week on a wintery day in 2016, he had no connections.",
         "politics"
        ],
        [
         "43",
         "In preparation for the event, Rivalta will be closed off to tourists and visitors. Armani stores will also be closed in the afternoon as a mark of respect. “We are grateful for having chosen this place; we feel loved and esteemed,” Giuseppe Busani, a parish priest of Rivalta, who is officiating Armani’s private funeral, told the Italian newspaper Corriere della Sera. CNN’s Barbie Latza Nadeau, Sharon Braithwaite and Marianna Cerini contributed to this report.",
         "social"
        ],
        [
         "44",
         "This was, however, another avant-garde creation by Louis Souvestre, the self-described “hairfreak” who continues to walk a fine line between hairstyling and sculpture. No detail was overlooked, with two thin braids even dangling down and disappearing into the singers’ low-rise burgundy pants, like jack cables. With her forthcoming album “Vie” expected to be heavily 1980s-inspired, the look was, in part, a piece of clever marketing. Styled by Kyle Luu and sporting head-to-toe Dolce & Gabbana, the LA-based “global girl group” Katseye showed precisely how it’s done.",
         "technology"
        ],
        [
         "45",
         "Italy’s most famous film festival has drawn to a close. The 82nd edition of the Venice Film Festival, which concluded on September 6, presented a showcase of hotly anticipated films such as “Bugonia” by the Greek director Yorgos Lanthimos, “Frankenstein” by Guillermo Del Toro, and “Jay Kelly” by Noah Baumbach. Italian actor Alba Rohrwacher wore a custom deep blue satin dress designed by Jonathan Anderson for Dior (his first womenswear collection for the brand is scheduled to debut at Paris Fashion Week in October). Similarly, Louise Trotter’s vision for Italian label Bottega Veneta can already be seen on Jacob Elordi and Vicky Krieps, while Ayo Edebiri wore Chanel designed by the French house’s new creative director Matthieu Blazy.",
         "politics"
        ],
        [
         "46",
         "Nearly three years apart in age, the two sisters were extraordinarily close; so close that their mother once said, “if Cassandra’s head had been going to be cut off, Jane would have hers cut off too.” As Kalika Sands, Sotheby’s Head of Books and Manuscripts New York, notes, they had an “incredibly close emotional bond” as well as a “very strong intellectual bond.” This relationship is evident in the letters they wrote to each other. In this one, Austen rattles through an account of her days in Bath, gossips about their neighbors and relatives, shares news about their friends, pokes fun at Cassandra’s ill health, and laments the family’s diminished social status. It was written about three months after Austen’s father died, Sands told CNN, quoting a passage that shows the changed social circles the family moved in and “how reduced Jane Austen felt.” “Seven years and four months ago, we went to the same riding house to see Miss Lefroy’s performance,” Austen wrote. No letters from the period three or four years before this letter was written have survived, Sands said, pointing out this was a time when Austen wasn’t very productive, struggled with her family’s move to Bath and was perhaps depressed, as some critics have hypothesized.",
         "social"
        ],
        [
         "47",
         "A lightning-sparked wildfire in California’s Sierra National Forest burned Tuesday through a grove of giant sequoias and set some of the ancient towering trees on fire. To protect the majestic trees, some estimated to be 3,000 years old, fire crews laid sprinkler lines to increase ground moisture, wrapped the trunks with fire-resistant foil blankets, raked flammable material away from trees and patrolled the area looking for hotspots, he said. The giant trees rely on low-intensity fire to help open their cones to disperse seeds, and flames clear undergrowth so seedlings can take root and get sunlight. The blaze has scorched 85 square miles of grass, chaparral and timber in a remote area known for camping and hiking about 60 miles east of Fresno.",
         "technology"
        ],
        [
         "48",
         "The most basic building block is that water temperatures reach their warmest levels after basking in summer’s heat. ﻿The tropical Atlantic has been enveloped in dry, stable air so far this month, which is one of the main reasons it’s unusually quiet. Just two days later, Tropical Storm Chantal triggered destructive and deadly floods in a narrow strip of North Carolina. Last year, Hurricane Helene’s devastating impacts played out from Florida to Georgia, western North Carolina and eastern Tennessee in late September.",
         "politics"
        ],
        [
         "49",
         "There were no reports of injuries or deaths from the fire as of Wednesday evening, and multiple structures have been damaged or destroyed, a Cal Fire Tuolumne-Calaveras Unit spokesperson told CNN. The California Gold Rush brought thousands of Chinese miners to the United States, where they faced anti-immigrant sentiments and persecution that included an exorbitant Foreign Miners Tax designed to drive them away from mining. The town, which also served as a backdrop for multiple films , was added to California’s Historical Landmarks list in 1949. Since these produce minimal rain, lightning strikes dry ground with little to prevent a spark from turning into an all-out blaze.",
         "politics"
        ]
       ],
       "shape": {
        "columns": 2,
        "rows": 1119
       }
      },
      "text/html": [
       "<div>\n",
       "<style scoped>\n",
       "    .dataframe tbody tr th:only-of-type {\n",
       "        vertical-align: middle;\n",
       "    }\n",
       "\n",
       "    .dataframe tbody tr th {\n",
       "        vertical-align: top;\n",
       "    }\n",
       "\n",
       "    .dataframe thead th {\n",
       "        text-align: right;\n",
       "    }\n",
       "</style>\n",
       "<table border=\"1\" class=\"dataframe\">\n",
       "  <thead>\n",
       "    <tr style=\"text-align: right;\">\n",
       "      <th></th>\n",
       "      <th>content</th>\n",
       "      <th>context</th>\n",
       "    </tr>\n",
       "  </thead>\n",
       "  <tbody>\n",
       "    <tr>\n",
       "      <th>0</th>\n",
       "      <td>Poland’s interior ministry said seven drones a...</td>\n",
       "      <td>sports</td>\n",
       "    </tr>\n",
       "    <tr>\n",
       "      <th>1</th>\n",
       "      <td>Appointed by President Emmanuel Macron on Tues...</td>\n",
       "      <td>politics</td>\n",
       "    </tr>\n",
       "    <tr>\n",
       "      <th>2</th>\n",
       "      <td>The attack could have a chilling effect in the...</td>\n",
       "      <td>politics</td>\n",
       "    </tr>\n",
       "    <tr>\n",
       "      <th>3</th>\n",
       "      <td>Ukraine’s President Volodymyr Zelensky describ...</td>\n",
       "      <td>politics</td>\n",
       "    </tr>\n",
       "    <tr>\n",
       "      <th>4</th>\n",
       "      <td>“There are opportunities everywhere,” he said,...</td>\n",
       "      <td>social</td>\n",
       "    </tr>\n",
       "    <tr>\n",
       "      <th>...</th>\n",
       "      <td>...</td>\n",
       "      <td>...</td>\n",
       "    </tr>\n",
       "    <tr>\n",
       "      <th>1114</th>\n",
       "      <td>Сегодня Центральный банк России установил новы...</td>\n",
       "      <td>sports</td>\n",
       "    </tr>\n",
       "    <tr>\n",
       "      <th>1115</th>\n",
       "      <td>Сегодня Центральный банк России установил новы...</td>\n",
       "      <td>social</td>\n",
       "    </tr>\n",
       "    <tr>\n",
       "      <th>1116</th>\n",
       "      <td>Однако настоящая дорога не всегда черно-белая,...</td>\n",
       "      <td>social</td>\n",
       "    </tr>\n",
       "    <tr>\n",
       "      <th>1117</th>\n",
       "      <td>Неожиданные выводы исследователей: какое молок...</td>\n",
       "      <td>economy</td>\n",
       "    </tr>\n",
       "    <tr>\n",
       "      <th>1118</th>\n",
       "      <td>Сегодня Центральным банком России установлен н...</td>\n",
       "      <td>social</td>\n",
       "    </tr>\n",
       "  </tbody>\n",
       "</table>\n",
       "<p>1119 rows × 2 columns</p>\n",
       "</div>"
      ],
      "text/plain": [
       "                                                content   context\n",
       "0     Poland’s interior ministry said seven drones a...    sports\n",
       "1     Appointed by President Emmanuel Macron on Tues...  politics\n",
       "2     The attack could have a chilling effect in the...  politics\n",
       "3     Ukraine’s President Volodymyr Zelensky describ...  politics\n",
       "4     “There are opportunities everywhere,” he said,...    social\n",
       "...                                                 ...       ...\n",
       "1114  Сегодня Центральный банк России установил новы...    sports\n",
       "1115  Сегодня Центральный банк России установил новы...    social\n",
       "1116  Однако настоящая дорога не всегда черно-белая,...    social\n",
       "1117  Неожиданные выводы исследователей: какое молок...   economy\n",
       "1118  Сегодня Центральным банком России установлен н...    social\n",
       "\n",
       "[1119 rows x 2 columns]"
      ]
     },
     "execution_count": 31,
     "metadata": {},
     "output_type": "execute_result"
    }
   ],
   "source": [
    "df[['content', 'context']]"
   ]
  },
  {
   "cell_type": "code",
   "execution_count": 32,
   "id": "782d7267",
   "metadata": {},
   "outputs": [
    {
     "data": {
      "application/vnd.microsoft.datawrangler.viewer.v0+json": {
       "columns": [
        {
         "name": "context",
         "rawType": "object",
         "type": "string"
        },
        {
         "name": "count",
         "rawType": "int64",
         "type": "integer"
        }
       ],
       "ref": "3abef482-2811-425f-9e84-807f7f7d1c0a",
       "rows": [
        [
         "politics",
         "480"
        ],
        [
         "technology",
         "239"
        ],
        [
         "social",
         "219"
        ],
        [
         "economy",
         "91"
        ],
        [
         "sports",
         "90"
        ]
       ],
       "shape": {
        "columns": 1,
        "rows": 5
       }
      },
      "text/plain": [
       "context\n",
       "politics      480\n",
       "technology    239\n",
       "social        219\n",
       "economy        91\n",
       "sports         90\n",
       "Name: count, dtype: int64"
      ]
     },
     "execution_count": 32,
     "metadata": {},
     "output_type": "execute_result"
    }
   ],
   "source": [
    "df['context'].value_counts()"
   ]
  },
  {
   "cell_type": "markdown",
   "id": "cb2b6cfb",
   "metadata": {},
   "source": [
    "## 3: Headline extraction"
   ]
  },
  {
   "cell_type": "markdown",
   "id": "b88d1f3d",
   "metadata": {},
   "source": [
    "#### Chose model"
   ]
  },
  {
   "cell_type": "code",
   "execution_count": 33,
   "id": "d60969eb",
   "metadata": {},
   "outputs": [
    {
     "name": "stderr",
     "output_type": "stream",
     "text": [
      "Device set to use cuda:0\n"
     ]
    }
   ],
   "source": [
    "# =========== Medium Models (Use GPU) ===========\n",
    "# ==== Headline ====\n",
    "summarizer = pipeline(\n",
    "    \"summarization\",\n",
    "    model=\"sshleifer/distilbart-cnn-12-6\", \n",
    "    device=0, \n",
    "    torch_dtype=\"auto\"\n",
    ")"
   ]
  },
  {
   "cell_type": "markdown",
   "id": "46ee7d98",
   "metadata": {},
   "source": [
    "#### Apply Model"
   ]
  },
  {
   "cell_type": "code",
   "execution_count": 34,
   "id": "c6c89263",
   "metadata": {},
   "outputs": [],
   "source": [
    "def extract_features_headline(text):\n",
    "\n",
    "    cleaned_text = text[:512]\n",
    "    \n",
    "    try:\n",
    "        headline = summarizer(\n",
    "            cleaned_text,\n",
    "            max_length=20,\n",
    "            min_length=5,\n",
    "            do_sample=False\n",
    "        )[0]['summary_text']\n",
    "    except Exception as e:\n",
    "        return df['title']\n",
    "    \n",
    "    return headline"
   ]
  },
  {
   "cell_type": "code",
   "execution_count": null,
   "id": "05caffa5",
   "metadata": {},
   "outputs": [],
   "source": [
    "df['title'] = df.apply(lambda row: extract_features_headline(row['content']) if pd.isna(row['title']) else row['title'], axis=1)"
   ]
  },
  {
   "cell_type": "code",
   "execution_count": 37,
   "id": "5ca27acd",
   "metadata": {},
   "outputs": [
    {
     "data": {
      "application/vnd.microsoft.datawrangler.viewer.v0+json": {
       "columns": [
        {
         "name": "headline",
         "rawType": "object",
         "type": "string"
        },
        {
         "name": "count",
         "rawType": "int64",
         "type": "integer"
        }
       ],
       "ref": "3e66d8a4-509f-4629-927d-5c7b81d90274",
       "rows": [
        [
         "What's new to streaming this week?",
         "3"
        ],
        [
         "حرب غزة",
         "3"
        ],
        [
         "Photos this week",
         "2"
        ],
        [
         "Moon phase today",
         "2"
        ],
        [
         "Nepal",
         "2"
        ],
        [
         "NYT Connections hints today",
         "2"
        ],
        [
         "IN BRIEF",
         "2"
        ],
        [
         "Новое правило для водителей",
         "1"
        ],
        [
         "Qatar presses Hamas to “respond positively” to US ceasefire proposal, official says",
         "1"
        ],
        [
         "Как кошка сообщает о боли без звуков",
         "1"
        ],
        [
         "Лучшие порошки для цветных вещей",
         "1"
        ],
        [
         "Israel strikes Hamas leadership in Qatar in unprecedented attack. Here’s what to know",
         "1"
        ],
        [
         "Почему мы переехали в деревню и через год поняли, почему многие покидают сельскую жизнь",
         "1"
        ],
        [
         "Взрыв автоцистерны с газом в Мексике",
         "1"
        ],
        [
         "6 предметов в доме, которые ускоряют старение",
         "1"
        ],
        [
         "Как посадить тюльпаны осенью, чтобы весной ваш сад превратился в мечту",
         "1"
        ],
        [
         "Что сделали с последними карателями, которых удалось поймать перед самым развалом СССР?",
         "1"
        ],
        [
         "Вечер с Владимиром Соловьевым",
         "1"
        ],
        [
         "Курс рубля к сому на сегодня 11 сентября 2025 года по ЦБ РФ",
         "1"
        ],
        [
         "Курс турецкой лиры к рублю на сегодня 11 сентября 2025 года по ЦБ РФ",
         "1"
        ],
        [
         "Курс белорусского рубля к российскому рублю на сегодня 11 сентября 2025 года по ЦБ РФ",
         "1"
        ],
        [
         "Курс сомони к рублю на сегодня 11 сентября 2025 года по ЦБ РФ",
         "1"
        ],
        [
         "Курс юаня к рублю на сегодня 11 сентября 2025 года по ЦБ РФ",
         "1"
        ],
        [
         "Курс тенге к рублю на сегодня 11 сентября 2025 года по ЦБ РФ",
         "1"
        ],
        [
         "Пересечение сплошной линии",
         "1"
        ],
        [
         "Ученые раскрыли секрет",
         "1"
        ],
        [
         "Курс евро к рублю на сегодня 11 сентября 2025 года по ЦБ РФ",
         "1"
        ],
        [
         "At least 6 killed in shooting at Jerusalem bus stop, Israeli officials say, in city’s deadliest attack in 2 years",
         "1"
        ],
        [
         "Spain intensifies criticism of Israeli offensive in Gaza. Israel responds with travel bans",
         "1"
        ],
        [
         "Sirens fail as Houthi drone hits arrivals hall at Ramon Airport in southern Israel, authorities say",
         "1"
        ],
        [
         "Photos",
         "1"
        ],
        [
         "New Ebola outbreak in DR Congo suspected of causing 15 deaths",
         "1"
        ],
        [
         "Burkina Faso parliament passes law outlawing LGBTQ practices",
         "1"
        ],
        [
         "Venezuela not seeking conflict with the United States, its foreign minister tells CNN",
         "1"
        ],
        [
         "South Sudan repatriates Mexican man deported from US",
         "1"
        ],
        [
         "A lightning-struck ‘miracle tree’ said to fulfill wishes is drawing devotees to a Bolivian cemetery",
         "1"
        ],
        [
         "As US tensions rise, Venezuelans keep calm and carry on",
         "1"
        ],
        [
         "A parliament in flames, a leader toppled. Nepal Gen-Z protesters ask",
         "1"
        ],
        [
         "Kim has long sought recognition as a nuclear power. Xi may have just given it to him",
         "1"
        ],
        [
         "A social media ban, corruption and ‘Nepo Kids",
         "1"
        ],
        [
         "Thailand’s top court orders famed former prime minister Thaksin Shinawatra to spend one year in jail",
         "1"
        ],
        [
         "Wild racing, wild parties and wild boar",
         "1"
        ],
        [
         "Why doesn’t Google Maps work in one of Asia’s most developed, tourist-friendly countries?",
         "1"
        ],
        [
         "High-speed rail has come to America. Or has it?",
         "1"
        ],
        [
         "Venice’s famous winged lion statue is actually Chinese, scientists say",
         "1"
        ],
        [
         "The celebrity photographer who has made a career out of sneaking into fashion shows",
         "1"
        ],
        [
         "Italy says goodbye to legendary designer Giorgio Armani",
         "1"
        ],
        [
         "MTV VMAs red carpet",
         "1"
        ],
        [
         "The best looks from the 2025 Venice Film Festival",
         "1"
        ],
        [
         "Long, chatty letter from Jane Austen to sister Cassandra to be auctioned",
         "1"
        ]
       ],
       "shape": {
        "columns": 1,
        "rows": 1110
       }
      },
      "text/plain": [
       "headline\n",
       "What's new to streaming this week?                                                                                   3\n",
       "حرب غزة                                                                                                              3\n",
       "Photos this week                                                                                                     2\n",
       "Moon phase today                                                                                                     2\n",
       "Nepal                                                                                                                2\n",
       "                                                                                                                    ..\n",
       "«Сколько техники было оставлено афганцам- масштабы поражают!»- ветеран Афгана откровенно рассказал о своей службе    1\n",
       "Мудрые строки Дементьева, которые должны прочитать все родители хотя бы раз в жизни                                  1\n",
       "Астролог Василиса Володина поделилась важным советом для 3 знаков Зодиака                                            1\n",
       "Топ-5 лучших порошков для цветных вещей                                                                              1\n",
       "Russian aerial bomb kills at least 25 civilians in rural Ukrainian village, government says                          1\n",
       "Name: count, Length: 1110, dtype: int64"
      ]
     },
     "execution_count": 37,
     "metadata": {},
     "output_type": "execute_result"
    }
   ],
   "source": [
    "df.headline.value_counts()"
   ]
  },
  {
   "cell_type": "markdown",
   "id": "0a4f0654",
   "metadata": {},
   "source": [
    "## Sentiment Analysis Model\n"
   ]
  },
  {
   "cell_type": "code",
   "execution_count": 38,
   "id": "c78d6983",
   "metadata": {},
   "outputs": [],
   "source": [
    "from transformers import AutoTokenizer, AutoModelForSequenceClassification, pipeline\n",
    "\n",
    "model_name = \"cardiffnlp/twitter-xlm-roberta-base-sentiment\"\n",
    "tokenizer = AutoTokenizer.from_pretrained(model_name)\n",
    "model = AutoModelForSequenceClassification.from_pretrained(model_name).to('cuda')\n"
   ]
  },
  {
   "cell_type": "code",
   "execution_count": 39,
   "id": "25eb35ba",
   "metadata": {},
   "outputs": [
    {
     "name": "stderr",
     "output_type": "stream",
     "text": [
      "Device set to use cuda:0\n",
      "Truncation was not explicitly activated but `max_length` is provided a specific value, please use `truncation=True` to explicitly truncate examples to max length. Defaulting to 'longest_first' truncation strategy. If you encode pairs of sequences (GLUE-style) with the tokenizer you can select this strategy more precisely by providing a specific strategy to `truncation`.\n"
     ]
    }
   ],
   "source": [
    "sentiment_pipeline = pipeline(\"sentiment-analysis\", model=model, max_length=512, tokenizer=tokenizer)\n",
    "\n",
    "df[\"sentiment\"] = df[\"content\"].apply(lambda x: sentiment_pipeline(x)[0]['label'])"
   ]
  },
  {
   "cell_type": "code",
   "execution_count": 40,
   "id": "814a7bbe",
   "metadata": {},
   "outputs": [
    {
     "data": {
      "application/vnd.microsoft.datawrangler.viewer.v0+json": {
       "columns": [
        {
         "name": "index",
         "rawType": "int64",
         "type": "integer"
        },
        {
         "name": "content",
         "rawType": "object",
         "type": "string"
        },
        {
         "name": "sentiment",
         "rawType": "object",
         "type": "string"
        }
       ],
       "ref": "7be028cd-b20f-4177-8e0d-86419f66a8a2",
       "rows": [
        [
         "0",
         "Poland’s interior ministry said seven drones and parts of one unidentified missile have been found. The White House said that Trump was planning to speak with Polish President Karol Nawrocki on Wednesday. Poland earlier announced it was closing its eastern border with Russian ally Belarus, due to joint Russian-Belarusian military exercises beginning Friday, Reuters reported. CNN’s Chris Lau, Gianluca Mezzofiore, Victoria Butenko, Daria Tarasova-Markina, Darya Tarasova, Natasha Bertrand, Haley Britzky, Kit Maher and Antonia Mortensen contributed to this report.",
         "neutral"
        ],
        [
         "1",
         "Appointed by President Emmanuel Macron on Tuesday, former defense minister Lecornu succeeds François Bayrou, who was ousted after losing a confidence vote in parliament over his unpopular plan to tame the deficit. Early Wednesday, activists launched small but disruptive actions, closing off key ring roads in Bordeaux, Rennes, Nantes and Caen. Police quickly contained the situation as around 150 mostly young demonstrators chanted anti-police slogans in a largely calm atmosphere. A larger nationwide strike and protest is already planned for September 18, when all trade unions are expected to join.",
         "negative"
        ],
        [
         "2",
         "The attack could have a chilling effect in the region and raises concerns that if a close US ally, such as Qatar, can come under attack by another US ally Israel, who might be next? But I will say this, we want the hostages back, but we are not thrilled about the way that went down,” Trump told reporters this evening outside Joe’s Seafood, Prime Steak & Stone Crab in Washington, DC. The strikes came as Israel on Tuesday ordered a complete evacuation of Gaza City, home to around a million Palestinians, ahead of its planned military takeover which it said is key to defeating Hamas. The UN Human Rights Chief Volker Türk has warned that an Israeli escalation in Gaza City would lead to “more massive forced displacement, more killing, more unbearable suffering, senseless destruction and atrocity crimes.” CNN’s Mostafa Salem, Mohammed Tawfeeq, Max Saltman, Sarah El Sirgany, Abeer Salman, Tal Shalev, Dana Karni, Kristen Holmes, Kevin Liptak, Andrew Potter, Kylie Atwood, Christian Edwards, Paula Newton and Billy Stockwell contributed reporting.",
         "negative"
        ],
        [
         "3",
         "Ukraine’s President Volodymyr Zelensky described the airstrike as “brutally savage” and “directly on people. Now Putin is making his intentions clearer than ever “Russian propaganda claims to be ‘saving’ people in the Donetsk region, but in reality, it is dropping massive air bombs on people who came to receive pensions,” Sybiha added. The village was occupied in June 2022 but Ukrainian forces reclaimed it later that year. Across Ukraine, seven people have been killed and at least 22 injured within the last day.",
         "negative"
        ],
        [
         "4",
         "“There are opportunities everywhere,” he said, adding that finding them was a matter of perseverance and adapting to new situations. She created an organization called Proyecto Comida Calientita (Warm Food Project), which provides freshly made meals to migrants. By his second semester, he was also working as a tutor, helping other pupils with admission exams and mathematics. After his stint there, he and a coworker launched their own call center that hired fellow deportees, many of whom were also English speakers struggling to fit in.",
         "neutral"
        ]
       ],
       "shape": {
        "columns": 2,
        "rows": 5
       }
      },
      "text/html": [
       "<div>\n",
       "<style scoped>\n",
       "    .dataframe tbody tr th:only-of-type {\n",
       "        vertical-align: middle;\n",
       "    }\n",
       "\n",
       "    .dataframe tbody tr th {\n",
       "        vertical-align: top;\n",
       "    }\n",
       "\n",
       "    .dataframe thead th {\n",
       "        text-align: right;\n",
       "    }\n",
       "</style>\n",
       "<table border=\"1\" class=\"dataframe\">\n",
       "  <thead>\n",
       "    <tr style=\"text-align: right;\">\n",
       "      <th></th>\n",
       "      <th>content</th>\n",
       "      <th>sentiment</th>\n",
       "    </tr>\n",
       "  </thead>\n",
       "  <tbody>\n",
       "    <tr>\n",
       "      <th>0</th>\n",
       "      <td>Poland’s interior ministry said seven drones a...</td>\n",
       "      <td>neutral</td>\n",
       "    </tr>\n",
       "    <tr>\n",
       "      <th>1</th>\n",
       "      <td>Appointed by President Emmanuel Macron on Tues...</td>\n",
       "      <td>negative</td>\n",
       "    </tr>\n",
       "    <tr>\n",
       "      <th>2</th>\n",
       "      <td>The attack could have a chilling effect in the...</td>\n",
       "      <td>negative</td>\n",
       "    </tr>\n",
       "    <tr>\n",
       "      <th>3</th>\n",
       "      <td>Ukraine’s President Volodymyr Zelensky describ...</td>\n",
       "      <td>negative</td>\n",
       "    </tr>\n",
       "    <tr>\n",
       "      <th>4</th>\n",
       "      <td>“There are opportunities everywhere,” he said,...</td>\n",
       "      <td>neutral</td>\n",
       "    </tr>\n",
       "  </tbody>\n",
       "</table>\n",
       "</div>"
      ],
      "text/plain": [
       "                                             content sentiment\n",
       "0  Poland’s interior ministry said seven drones a...   neutral\n",
       "1  Appointed by President Emmanuel Macron on Tues...  negative\n",
       "2  The attack could have a chilling effect in the...  negative\n",
       "3  Ukraine’s President Volodymyr Zelensky describ...  negative\n",
       "4  “There are opportunities everywhere,” he said,...   neutral"
      ]
     },
     "execution_count": 40,
     "metadata": {},
     "output_type": "execute_result"
    }
   ],
   "source": [
    "df[['content', 'sentiment']].head()"
   ]
  },
  {
   "cell_type": "code",
   "execution_count": 41,
   "id": "c9918d86",
   "metadata": {},
   "outputs": [
    {
     "data": {
      "application/vnd.microsoft.datawrangler.viewer.v0+json": {
       "columns": [
        {
         "name": "sentiment",
         "rawType": "object",
         "type": "string"
        },
        {
         "name": "count",
         "rawType": "int64",
         "type": "integer"
        }
       ],
       "ref": "dc3d0ffa-6381-48fd-bfef-6e3c18c50f62",
       "rows": [
        [
         "negative",
         "643"
        ],
        [
         "neutral",
         "404"
        ],
        [
         "positive",
         "72"
        ]
       ],
       "shape": {
        "columns": 1,
        "rows": 3
       }
      },
      "text/plain": [
       "sentiment\n",
       "negative    643\n",
       "neutral     404\n",
       "positive     72\n",
       "Name: count, dtype: int64"
      ]
     },
     "execution_count": 41,
     "metadata": {},
     "output_type": "execute_result"
    }
   ],
   "source": [
    "df['sentiment'].value_counts()"
   ]
  },
  {
   "cell_type": "markdown",
   "id": "30ae3e38",
   "metadata": {},
   "source": [
    "## Final Date"
   ]
  },
  {
   "cell_type": "code",
   "execution_count": 42,
   "id": "1e188f7c",
   "metadata": {},
   "outputs": [
    {
     "data": {
      "application/vnd.microsoft.datawrangler.viewer.v0+json": {
       "columns": [
        {
         "name": "index",
         "rawType": "int64",
         "type": "integer"
        },
        {
         "name": "content",
         "rawType": "object",
         "type": "string"
        },
        {
         "name": "headline",
         "rawType": "object",
         "type": "string"
        },
        {
         "name": "context",
         "rawType": "object",
         "type": "string"
        },
        {
         "name": "sentiment",
         "rawType": "object",
         "type": "string"
        },
        {
         "name": "language",
         "rawType": "object",
         "type": "string"
        }
       ],
       "ref": "8d23c941-3ba7-4800-8965-795e0e854535",
       "rows": [
        [
         "0",
         "Poland’s interior ministry said seven drones and parts of one unidentified missile have been found. The White House said that Trump was planning to speak with Polish President Karol Nawrocki on Wednesday. Poland earlier announced it was closing its eastern border with Russian ally Belarus, due to joint Russian-Belarusian military exercises beginning Friday, Reuters reported. CNN’s Chris Lau, Gianluca Mezzofiore, Victoria Butenko, Daria Tarasova-Markina, Darya Tarasova, Natasha Bertrand, Haley Britzky, Kit Maher and Antonia Mortensen contributed to this report.",
         "NATO shoots down Russian drones in Polish airspace, accusing Moscow of being ‘absolutely reckless’",
         "sports",
         "neutral",
         "en"
        ],
        [
         "1",
         "Appointed by President Emmanuel Macron on Tuesday, former defense minister Lecornu succeeds François Bayrou, who was ousted after losing a confidence vote in parliament over his unpopular plan to tame the deficit. Early Wednesday, activists launched small but disruptive actions, closing off key ring roads in Bordeaux, Rennes, Nantes and Caen. Police quickly contained the situation as around 150 mostly young demonstrators chanted anti-police slogans in a largely calm atmosphere. A larger nationwide strike and protest is already planned for September 18, when all trade unions are expected to join.",
         "France hit by protests and disruption as new prime minister takes office",
         "politics",
         "negative",
         "en"
        ],
        [
         "2",
         "The attack could have a chilling effect in the region and raises concerns that if a close US ally, such as Qatar, can come under attack by another US ally Israel, who might be next? But I will say this, we want the hostages back, but we are not thrilled about the way that went down,” Trump told reporters this evening outside Joe’s Seafood, Prime Steak & Stone Crab in Washington, DC. The strikes came as Israel on Tuesday ordered a complete evacuation of Gaza City, home to around a million Palestinians, ahead of its planned military takeover which it said is key to defeating Hamas. The UN Human Rights Chief Volker Türk has warned that an Israeli escalation in Gaza City would lead to “more massive forced displacement, more killing, more unbearable suffering, senseless destruction and atrocity crimes.” CNN’s Mostafa Salem, Mohammed Tawfeeq, Max Saltman, Sarah El Sirgany, Abeer Salman, Tal Shalev, Dana Karni, Kristen Holmes, Kevin Liptak, Andrew Potter, Kylie Atwood, Christian Edwards, Paula Newton and Billy Stockwell contributed reporting.",
         "Israel strikes Hamas leadership in Qatar in unprecedented attack. Here’s what to know",
         "politics",
         "negative",
         "en"
        ],
        [
         "3",
         "Ukraine’s President Volodymyr Zelensky described the airstrike as “brutally savage” and “directly on people. Now Putin is making his intentions clearer than ever “Russian propaganda claims to be ‘saving’ people in the Donetsk region, but in reality, it is dropping massive air bombs on people who came to receive pensions,” Sybiha added. The village was occupied in June 2022 but Ukrainian forces reclaimed it later that year. Across Ukraine, seven people have been killed and at least 22 injured within the last day.",
         "Russian aerial bomb kills at least 25 civilians in rural Ukrainian village, government says",
         "politics",
         "negative",
         "en"
        ],
        [
         "4",
         "“There are opportunities everywhere,” he said, adding that finding them was a matter of perseverance and adapting to new situations. She created an organization called Proyecto Comida Calientita (Warm Food Project), which provides freshly made meals to migrants. By his second semester, he was also working as a tutor, helping other pupils with admission exams and mathematics. After his stint there, he and a coworker launched their own call center that hired fellow deportees, many of whom were also English speakers struggling to fit in.",
         "She was deported nine times. Then, like others, she found her American Dream in Mexico",
         "social",
         "neutral",
         "en"
        ],
        [
         "5",
         "For a minister, some might say Sébastien Lecornu has had an easy gig inside French President Emmanuel Macron’s government. When Francois Bayrou, the latest ill-fated inhabitant of France’s prime ministerial residence, the Matignon, stepped aside after calling for his own doomed confidence vote (leading many commentators to describe it as jumping ship), headlines in France have turned to his successor. No knight in shining armor appeared – Macron is now on his seventh prime minister, so viable candidates are getting harder to find. According to Lazar, Lecornu offers some compromise – he is a right-wing politician yet still a figure of what the French call, “Social Gaullism,” conservative politicians who aren’t afraid to hike taxes, unlike Macron’s focus on pro-business policies.",
         "French prime ministers face an impossible problem. Can this man solve it?",
         "politics",
         "negative",
         "en"
        ],
        [
         "6",
         "Ethiopia’s downstream neighbors, however, have watched the project advance with dread since construction began in 2011. Ethiopia has been filling the reservoir in phases since 2020, arguing that it would not significantly harm downstream countries. In Ethiopia, which has faced years of internal armed conflict, largely along ethnic lines, the GERD has proven a source of national pride, said Mekdelawit Messay, an Ethiopian water researcher at Florida International University. “It has been a banner to rally under, and it shows what we can achieve when unified.” Local media say 91% of funding came from the state, and the remaining 9% from Ethiopians buying bonds or making donations.",
         "Ethiopia opens Africa’s largest hydroelectric dam to Egyptian protest",
         "politics",
         "negative",
         "en"
        ],
        [
         "7",
         "Before he was ousted, Bayrou warned that getting rid of him would not resolve France’s challenges. As a result, for decades, two mainstream political parties on the left and right alternated in power. Unlike Germany or Italy, France has no tradition of coalition building, instead its politics have been shaped for more than 60 years by a presidency-dominated system. And for Macron, history does indeed risk repeating itself unless he can find a prime minister able to broker compromise.",
         "France’s government has collapsed again. How did we get here and what’s next?",
         "politics",
         "negative",
         "en"
        ],
        [
         "8",
         "A Russian cruise missile that hit a government building in central Kyiv on Sunday was filled with dozens of foreign parts, including chips and other electronic components made in the United States, Ukrainian officials said on Tuesday. The Iskander 9M727 missile that struck the building did not explode, most likely because it was damaged by Ukrainian air defenses, Vladyslav Vlasiuk, Ukraine’s presidential commissioner for sanctions policy, said on Tuesday. Infineon Technologies, the German company that now owns American-based Cypress Semiconductor – one of the manufacturers listed – told CNN that it has taken “extensive measures” to ensure its items don’t end up in Russia. Vlasiuk said that even though this particular missile still included dozens of Western-made parts, it contained fewer such components compared to missiles analyzed earlier in the war.",
         "Ukraine says Russian missile that hit government building is packed with US and European parts",
         "politics",
         "negative",
         "en"
        ],
        [
         "9",
         "After being pushed out of Uganda, the militia went on to attack villages in Congo, Central African Republic and South Sudan. The court’s so-called confirmation of charges hearing comes two decades after it issued an arrest warrant for Kony. Court-appointed counsel for Kony argued the proceedings violate their client’s fair trial rights and should not have been held at all. He also noted that the warrants for Netanyahu and Putin were issued in recent years, whereas Kony has been wanted since 2005.",
         "ICC opens war crimes case against Ugandan rebel leader Joseph Kony",
         "politics",
         "negative",
         "en"
        ],
        [
         "10",
         "None of these new sites would be in Gaza City, the official said. There is no indication yet that the new sites have all been established. When plans for the takeover were announced, some Gaza City residents told CNN that they would rather die in their homes than be displaced again. Um Samed, a 59-year-old mother of five, told Reuters that she had to make the decision whether “to stay and die at home in Gaza City, or follow (Israel’s) orders and leave Gaza and die in the south.” CNN’s Ibrahim Dahman, Abeer Salman, Eugenia Yosef, Max Saltman and Kareem El Damanhoury contributed to this report.",
         "Israel orders full evacuation of Gaza City as Netanyahu warns ‘this is only the beginning’",
         "politics",
         "negative",
         "en"
        ],
        [
         "11",
         "The cause of the collision is not yet known but a video shared on social media and geolocated by CNN shows a freight train plowing into a double-decker bus that was beginning to cross the tracks in slow-moving traffic. A video circulating online also showed people trying to help passengers evacuate from the roof. A spokesperson for Canadian Pacific Kansas City told CNN that the train was operated by its subsidiary CPKC de Mexico, adding that the company is working with officials in the response efforts and investigation. “We express our most sincere solidarity with the affected families at this time,” it said in a statement, promising support.",
         "Train collides with double-decker bus in Mexico, killing at least 10 people",
         "technology",
         "neutral",
         "en"
        ],
        [
         "12",
         "BIS said that a former deputy head of Moldovan intelligence service SIS who handed over classified information to the KGB was among them. “To successfully counter these hostile activities in Europe, we need to restrict the movement of accredited diplomats from Russia and Belarus within the Schengen (borderless) area,” BIS head Michal Koudelka said in a statement. Russia strikes Ukrainian government building, in largest air attack of war Romania’s anti-organized crime agency, DIICOT, said on Monday that it implemented an arrest warrant for a 47-year-old suspect on treason charges. The suspect allegedly disclosed state secrets to Belarusian intelligence officers that would likely “endanger national security,” DIICOT stated.",
         "Czech Republic and allies break up Belarus spy network across Europe",
         "politics",
         "negative",
         "en"
        ],
        [
         "13",
         "Nationwide demonstrations and highway blockades are set for Wednesday, followed by a broader union led strike on September 18. As a result, for decades, two mainstream political parties on the left and right alternated in power. Unlike Germany or Italy, France has no tradition of coalition building, instead its politics have been shaped for more than 60 years by a presidency-dominated system. Lecornu, 39, is regarded as a political survivor, the only minister to have served continuously since Macron first took office in 2017.",
         "French President Emmanuel Macron appoints outgoing defense minister Sébastien Lecornu as prime minister",
         "politics",
         "negative",
         "en"
        ],
        [
         "14",
         "Pig heads appeared outside several mosques around Paris on Tuesday, authorities said, decrying the insult to Muslims. France has Europe’s largest population of Muslims, over 6 million, for whom pigs are considered impure. “An inquiry has been immediately opened,” Paris police chief Laurent Nunez said on X. A Paris police unit is investigating the incident for suspected incitement to hatred, aggravated by discrimination.",
         "Pig heads discovered outside several Paris mosques",
         "politics",
         "negative",
         "en"
        ],
        [
         "15",
         "Prince Harry has paid tribute to his late grandmother, Queen Elizabeth II, on the third anniversary of her death as he returned to the United Kingdom for a short visit, which has also sparked speculation over whether he might meet his father, King Charles III. The Duke of Sussex, who lives in California with wife Meghan and their two children, has come back to England for several charity engagements this week. “For two decades, this event has shone a bright spotlight on the needs of children and young people living with complex medical conditions,” Harry said in a speech at the awards ceremony. The Prince of Wales will on Tuesday visit Spiral Skills, a youth organization in south London, which received funding from William’s homelessness initiative, “Homewards,” to expand its operations into a new hub for young people in the area.",
         "Prince Harry returns to the UK, but it’s unclear if he’ll see King Charles",
         "social",
         "neutral",
         "en"
        ],
        [
         "16",
         "A check-in area at London’s Heathrow airport was briefly evacuated on Monday due to a possible hazardous substance incident, but police later said no harmful substances were found at the scene. A Heathrow spokesperson told CNN that emergency services ﻿ confirmed the terminal was safe to reopen. “Specialist crews were deployed to carry out an assessment of the scene, and Terminal 4 check-in was evacuated as a precaution whilst firefighters conducted operations.” London Fire Brigade said it was called about the incident at 5:01 p.m. local time (12:01 p.m. Heathrow has been plagued by a string of recent incidents.",
         "London Heathrow Airport check-in area reopens after police say no hazardous materials found at scene",
         "technology",
         "neutral",
         "en"
        ],
        [
         "17",
         "A total of 364 MPs voted against Bayrou and 194 voted for him after he called the vote in a bid to push through an unpopular €44 billion ($51 billion) savings plan that included scrapping two public holidays and freezing government spending. Bayrou will now be forced to step down after just nine months in office, following in the footsteps of his predecessor Michel Barnier, who lost a no-confidence vote last December. A possible downgrade of France’s sovereign debt rating review Friday would deliver another blow to its economic standing in Europe. Instability in Paris is a gift to both Russian President Vladimir Putin and his US counterpart Donald Trump, who share a common delight in mocking Europe’s weaknesses.",
         "French government collapses after prime minister loses confidence vote",
         "social",
         "negative",
         "en"
        ],
        [
         "18",
         "Russia’s president is no longer trying to mollify Trump, however, and the US presidential envoy Keith Kellogg correctly deemed these assaults as an “escalation” on Sunday. Ukrainian officials fear Moscow’s troops are amassing yet again to make a final assault on Pokrovsk, in the east, and might see progress near Kupiansk, farther north. Europe has done much of its part, pledging higher spending, ongoing commitment, and even ground troops in Ukraine if there is a peace. This is an impossible task – partly due to Trump’s own muddled thinking – but most importantly, because Putin does not want peace.",
         "Trump’s misreading of Russia has cost Ukraine. Now Putin is making his intentions clearer than ever",
         "politics",
         "negative",
         "en"
        ],
        [
         "19",
         "An activist group seeking to break Israel’s siege on Gaza by sea said one of its main boats was struck by a drone at a port in Tunisia on Monday night, but all six passengers and crew are safe. The features, he said, were “common, but not exclusive, to some models of Israeli hand grenades,” adding that better images may reveal more details. In June, a yacht with 12 activists onboard, including Thunberg, was intercepted off the coast of Gaza . In a statement, GSF said that “acts of aggression aimed at intimidating and derailing our mission will not deter us.”",
         "Gaza aid flotilla says boat struck by drone at Tunisian port",
         "politics",
         "negative",
         "en"
        ],
        [
         "20",
         "Einav Zangauker, the mother of an Israeli hostage held in Gaza, said Tuesday’s strike could serve as a death sentence for her son. It could be that at this very moment, the prime minister has essentially executed my Matan, sentenced him to death,” Zangauker wrote on X. “Unilaterally bombing inside Qatar, a sovereign nation and close ally of the United States that is working very hard in bravely taking risks with us to broker peace, does not advance Israel or America’s goals,” she said. CNN’s Kareem Khadder, Jeremy Diamond, Sarah El Sirgany, Abeer Salman, Max Saltman, Billy Stockwell, Abbas Al Lawati, Catherine Nicholls, Mohammed Tawfeeq and Kevin Liptak contributed to this report.",
         "Israel carries out strike targeting Hamas leadership in Qatar",
         "technology",
         "negative",
         "en"
        ],
        [
         "21",
         "In exchange, a source familiar with the proposal said Israel would release “thousands” of Palestinian prisoners. For weeks, Netanyahu did not respond to the ceasefire proposal put forward by Qatar and Egypt, which Hamas accepted. “But we will not sign a humiliating surrender document — and there is no emperor in Hamas’ leadership like Japan’s Hirohito,” Naim added. CNN’s Tal Shalev, Ibrahim Dahman and Mohammed Tawfeeq contributed to this report.",
         "Qatar presses Hamas to “respond positively” to US ceasefire proposal, official says",
         "politics",
         "negative",
         "en"
        ],
        [
         "22",
         "Toledano said it took people a few seconds to understand what was happening after the first burst of gunfire. Prime Minister Benjamin Netanyahu visited the area after holding a “situational assessment” with his heads of security, where he announced measures against Palestinian villages. Later Monday, Israeli President Isaac Herzog visited wounded victims of the attack at Shaare Zedek Medical Center. I say to the residents: you have been warned — get out!” Netanyahu said in a video message.",
         "At least 6 killed in shooting at Jerusalem bus stop, Israeli officials say, in city’s deadliest attack in 2 years",
         "politics",
         "negative",
         "en"
        ],
        [
         "23",
         "Besides formalizing an arms embargo, which the Spanish government says has been de facto in effect since October 2023, Spain will ban ships carrying fuel for Israel’s armed forces from passing through Spanish ports, and increase its humanitarian aid toward Gaza in 2026 to reach 150 million euros ($176 million), he said. Israel lambasted the accusation, saying it is based on a \"campaign of lies\" by Hamas. Israel’s offensive has killed more than 64,000 Palestinians, according to the Gaza Health Ministry, which does not say how many were civilians or combatants. “If they want to hold or halt defense connections with Israel,” Saar told reporters, “who do you think will lose from that?",
         "Spain intensifies criticism of Israeli offensive in Gaza. Israel responds with travel bans",
         "technology",
         "negative",
         "en"
        ],
        [
         "24",
         "Videos shared on social media showed shattered windows and glass-covered floors at the airport’s arrivals hall. Two people sustained minor injuries as a result of the attack, MDA said. In early May, a ballistic missile fired by the Houthis penetrated Israel’s air defenses and struck Ben Gurion international airport near Tel Aviv, halting flights for about 30 minutes. Israel’s long-range Arrow interceptor missile failed to stop the Houthi projectile before it hit.",
         "Sirens fail as Houthi drone hits arrivals hall at Ramon Airport in southern Israel, authorities say",
         "social",
         "negative",
         "en"
        ],
        [
         "25",
         "Kennedy appeared in front of the Senate Finance Committee and answered questions on a variety of topics , including vaccines, recent staffing changes and increasing calls for him to resign. He often fired back at lawmakers during his testimony, which was praised by the White House . Some of the pointed questioning came from Republicans who confirmed Kennedy. Kennedy has also canceled his department’s funding for future mRNA vaccine developments.",
         "Photos this week",
         "politics",
         "neutral",
         "en"
        ],
        [
         "26",
         "Xi Jinping oversaw a huge display of China’s military power on Wednesday before some of the world’s most powerful authoritarian leaders, rallying them behind his vision for a new world order as US President Donald Trump wages a global trade war and shakes up American alliances. Russia’s Vladimir Putin and North Korea’s Kim Jong Un flanked Xi at the start of the parade as the trio stood together publicly for the first time in a historic moment. The parade unveiled hundreds of advanced weapons and featured over 10,000 troops, showcasing China’s growing military power under Xi’s push to modernize the world’s largest standing army .",
         "Photos",
         "politics",
         "neutral",
         "en"
        ],
        [
         "27",
         "Eighteen other people were wounded , including 15 children and three adults. The shooter, who died of a self-inflicted gunshot wound, was identified as 23-year-old Robin Westman. Westman shared a “manifesto” on social media that is being investigated, police said. Investigators believe Westman likely intended to carry out yesterday’s attack from inside the church.",
         "Photos this week",
         "politics",
         "negative",
         "en"
        ],
        [
         "28",
         "“To date, the provisional report shows 28 suspected cases and 15 deaths, including 14 in Boulapé and 1 in Mweka, as well as four health care workers,” Kamba said. Travelers and health-care providers should be on alert due to Ebola disease outbreak in Uganda, CDC warns The World Health Organization said it dispatched its experts alongside Congo’s Rapid Response Team to Kasai province to strengthen disease surveillance, treatment and infection prevention and control in health facilities. The Ebola virus is highly contagious and can be contracted through bodily fluids such as vomit, blood, or semen. The disease it causes is a rare but severe — and often fatal — illness in people.",
         "New Ebola outbreak in DR Congo suspected of causing 15 deaths",
         "economy",
         "negative",
         "en"
        ],
        [
         "29",
         "Burkina Faso’s transitional parliament passed legislation outlawing conduct deemed to promote LGBTQ practices, introducing fines, prison sentences and sanctions for persons convicted, its justice minister said. “The law provides for a prison sentence ranging from two to five years and a fine,” Justice Minister Edasso Rodrigue Bayala said on state television on Monday night. LGBTQ people describe living there as ‘hell’ The government has framed the law as an effort to modernize family law and clarify nationality rules, but rights advocates are likely to call out the restrictions on LGBTQ practices and limits imposed on legal recourse in nationality cases. Anti-gay laws are in place in various conservative African countries including Senegal, Uganda and Malawi, though some others, including South Africa, Botswana and Angola, have decriminalized LGBTQ practices or enacted protective measures.",
         "Burkina Faso parliament passes law outlawing LGBTQ practices",
         "social",
         "negative",
         "en"
        ],
        [
         "30",
         "And on Tuesday 2 September the US carried out a lethal strike on a speedboat it said was carrying drugs in international waters and had departed from Venezuela, fueling suspicions in Caracas that Washington is trying to topple the regime of President Nicolas Maduro. It “would not be appropriate” at this moment to talk about possible military alliances with other Latin American countries and the region since, Gil said, they maintain a “pro-peace” stance. But it doesn’t work because these drug cartels know they will lose 2% of their cargo. I am concerned, as a Latin American, that this narrative is trying to be imposed,” he said.",
         "Venezuela not seeking conflict with the United States, its foreign minister tells CNN",
         "politics",
         "negative",
         "en"
        ],
        [
         "31",
         "Lawyers for the eight detainees – who came from Cuba, Laos, Vietnam and other countries, along with Mexico - had argued that they would face dangerous physical conditions in South Sudan, which has struggled with intercommunal violence since its independence in 2011. One deportee, a South Sudanese citizen, was freed earlier, the Associated Press reported Saturday. Beyond South Sudan, the Trump administration is also coordinating US deportations with other African countries including Rwanda, Uganda and Eswatini . While Rwanda recently reached an agreement to take in up to 250 migrants deported from the US, Uganda has publicly insisted it will only accept limited cases, and Eswatini has already received deportees despite mounting criticism.",
         "South Sudan repatriates Mexican man deported from US",
         "technology",
         "negative",
         "en"
        ],
        [
         "32",
         "Struck by lightning during a roaring thunderstorm 10 years ago, an ancient pine tree in Bolivia’s capital of La Paz is thriving. Pilgrims stream through the alleys bearing offerings – coins, flowers, sweets, handwritten disclosures of secret wishes – to stuff into bark crevices. “People ask for love, work, health, children, even to bring back their lost pet,” explained Javier Cordero, who leads funeral prayers at the cemetery. But long before such forest ecology studies, Indigenous Aymara shamans in Bolivia believed lightning strikes bestowed divine powers upon their survivors, whether people or trees.",
         "A lightning-struck ‘miracle tree’ said to fulfill wishes is drawing devotees to a Bolivian cemetery",
         "social",
         "negative",
         "en"
        ],
        [
         "33",
         "Just a few hundred people live in Chichiriviche, and some 70 families depend on fishing for their subsistence, so not taking the boats out is unthinkable. The Venezuelan economy has long been troubled by chronic inefficiencies and historically subject to hyperinflationary cycles. “Tension is surely there, but I’m busy working and trying to make my products, so I don’t think about it,” says Gilberto Salas, an ice-cream maker in the central Caracas neighborhood of Chacao. They have repeatedly detained dissenting voices, including protesters, activists and a former presidential candidate .",
         "As US tensions rise, Venezuelans keep calm and carry on",
         "politics",
         "negative",
         "en"
        ],
        [
         "34",
         "Then, a government ban last week on more than two dozen social media platforms including Instagram, Facebook and WhatsApp added fuel to the fire. Video also appeared to show demonstrators ransacking Prime Minister KP Sharma Oli’s private residence on Tuesday, Reuters reported. Others were worried about the response from a governing class that has just been rattled by its biggest challenge in years. “We are scared that students who protested peacefully will also be targeted.” Isaac Yee, Teele Rebane, Aishwarya S. Iyer and Nishant Khanal contributed reporting.",
         "A parliament in flames, a leader toppled. Nepal Gen-Z protesters ask",
         "social",
         "negative",
         "en"
        ],
        [
         "35",
         "Analysts say the omission could signal that Kim has secured what he long sought: China’s tacit acceptance of North Korea as a nuclear power. But as US-China relations have deteriorated amid intensifying strategic rivalry, Beijing has scaled back its cooperation on curbing North Korea’s nuclear ambitions. In 2022, China and Russia jointly vetoed a US-led resolution at the UN Security Council that sought additional sanctions over North Korea’s renewed ballistic missile launches. Some experts have cautioned that the public omission of denuclearization by Xi and Kim might not amount to a shift in China’s official stance.",
         "Kim has long sought recognition as a nuclear power. Xi may have just given it to him",
         "technology",
         "negative",
         "en"
        ],
        [
         "36",
         "Police used live ammunition, water cannons, and tear gas against the protesters, Reuters news agency reported. Crowds of protesters could be seen breaking into the property and destroying furniture before setting it on fire. Meanwhile, a viral online movement against “Nepo Kids” — politicians’ children showing off their lavish lifestyles — is fueling further anger by highlighting the disparities between those in power and regular Nepalis. More than 400 people, including security forces staff, were hospitalized on Monday, according to a report by Nepal’s health ministry.",
         "A social media ban, corruption and ‘Nepo Kids",
         "politics",
         "negative",
         "en"
        ],
        [
         "37",
         "During, his exile Thaksin continued to be a driving force in politics behind the scenes. Thailand’s prime minister removed from office over leaked phone call scandal with Cambodian strongman Many observers feel that the family’s power in Thailand is diminished, and its long dominant political machine could finally be out of steam. Last week, that changed when the Shinawatra’s Pheu Thai Party was ousted from government. The former interior minister who spearheaded Thailand’s legalization of cannabis, and his government took office on Sunday after obtaining a royal endorsement from King Vajiralongkorn.",
         "Thailand’s top court orders famed former prime minister Thaksin Shinawatra to spend one year in jail",
         "politics",
         "negative",
         "en"
        ],
        [
         "38",
         "Owned by Ferrari, Mugello Circuit serves as a testing ground for the Italian manufacturer’s F1 cars. “Mugello is pure passion,” says Fabio Di Giannantonio, one of two Italian riders for the VR46 Ducati team. A passer-by pours pour beer into the funnel, which sprays back gold liquid, along with a puff of smoke as Fuso hoots in delight Given Mugello’s rural location, accommodation can be hard to find for those not camping. About 50 VIPs — including actor Eric Bana, former F1 driver Mark Webber, World Cup-winning soccer captain Fabio Cannavaro, and MotoGP legend Giacomo Agostini — sit at white-clothed tables as Florence-based chef Riccardo Monco serves a multicourse meal.",
         "Wild racing, wild parties and wild boar",
         "sports",
         "neutral",
         "en"
        ],
        [
         "39",
         "This more advanced map was released in 2016, and under South Korean law, cannot be exported to overseas servers without government approval. A big fear is that Google Maps’ dominance could displace competitors like Naver and Kakao, if it was allowed into the country. That could open the door to an enormous amount of information on user behavior, like how people are moving or interacting with online services. After all, Ahn claimed, Google doesn’t request data directly from the government in many other countries where it does have full mapping and navigation services.",
         "Why doesn’t Google Maps work in one of Asia’s most developed, tourist-friendly countries?",
         "technology",
         "negative",
         "en"
        ],
        [
         "40",
         "Layered onto all of this is a political system in which priorities flip every few years, undermining the long-term planning and financing that such megaprojects demand. We take you inside The Trump administration has taken a different approach, demanding that Amtrak focus on improving on-time performance before expanding. Brightline West, a privately owned 218-mile line linking Rancho Cucamonga, east of Los Angeles, with Las Vegas has begun early construction and is expected to ramp up in late 2025. Together with California’s ambitions, should they come to fruition, the line could show that high-speed rail is not only feasible but transformative for American intercity travel.",
         "High-speed rail has come to America. Or has it?",
         "sports",
         "neutral",
         "en"
        ],
        [
         "41",
         "To visitors, Venice is a glorious tapestry of historic buildings, waterways, bell towers, red roofs — and a mighty winged lion, the symbol of the Venetian republic, carved into structures across the city. This, they said, would explain why the 4-meter- (13-foot-) long and 2.2-meter- (7-foot-) high statue, previously thought to have been made locally, in Syria or Anatolia, is stylistically mysterious. Once the Polos sent the statue back to Italy after their visit to the Mongol court, it was probably “discreetly and laboriously refitted” to look like the holy emblem of St. Mark, with horns removed and a “wig” added, they added. “In a puzzling absence of written information, the intention and logistics behind its journey to Venice remain elusive and open to interpretation.",
         "Venice’s famous winged lion statue is actually Chinese, scientists say",
         "technology",
         "negative",
         "en"
        ],
        [
         "42",
         "That was how he got into a Netflix party for the reality show “Next in Fashion” after meeting and photographing its co-host, Alexa Chung, outside. Bassini has observed the circuit of influencers and hopefuls who try a more demanding don’t-you-know-who-I-am approach, only to see them get turned away unceremoniously each time. The actor and director Jemima Kirke once asked him how to fix her Polaroid camera while waiting for her car outside of a Puppets and Puppets show, he recounted, while Klum waxed poetic with him about the feeling of developing film in a lab. But during his first attempt to photograph New York Fashion Week on a wintery day in 2016, he had no connections.",
         "The celebrity photographer who has made a career out of sneaking into fashion shows",
         "politics",
         "negative",
         "en"
        ],
        [
         "43",
         "In preparation for the event, Rivalta will be closed off to tourists and visitors. Armani stores will also be closed in the afternoon as a mark of respect. “We are grateful for having chosen this place; we feel loved and esteemed,” Giuseppe Busani, a parish priest of Rivalta, who is officiating Armani’s private funeral, told the Italian newspaper Corriere della Sera. CNN’s Barbie Latza Nadeau, Sharon Braithwaite and Marianna Cerini contributed to this report.",
         "Italy says goodbye to legendary designer Giorgio Armani",
         "social",
         "positive",
         "en"
        ],
        [
         "44",
         "This was, however, another avant-garde creation by Louis Souvestre, the self-described “hairfreak” who continues to walk a fine line between hairstyling and sculpture. No detail was overlooked, with two thin braids even dangling down and disappearing into the singers’ low-rise burgundy pants, like jack cables. With her forthcoming album “Vie” expected to be heavily 1980s-inspired, the look was, in part, a piece of clever marketing. Styled by Kyle Luu and sporting head-to-toe Dolce & Gabbana, the LA-based “global girl group” Katseye showed precisely how it’s done.",
         "MTV VMAs red carpet",
         "technology",
         "negative",
         "en"
        ],
        [
         "45",
         "Italy’s most famous film festival has drawn to a close. The 82nd edition of the Venice Film Festival, which concluded on September 6, presented a showcase of hotly anticipated films such as “Bugonia” by the Greek director Yorgos Lanthimos, “Frankenstein” by Guillermo Del Toro, and “Jay Kelly” by Noah Baumbach. Italian actor Alba Rohrwacher wore a custom deep blue satin dress designed by Jonathan Anderson for Dior (his first womenswear collection for the brand is scheduled to debut at Paris Fashion Week in October). Similarly, Louise Trotter’s vision for Italian label Bottega Veneta can already be seen on Jacob Elordi and Vicky Krieps, while Ayo Edebiri wore Chanel designed by the French house’s new creative director Matthieu Blazy.",
         "The best looks from the 2025 Venice Film Festival",
         "politics",
         "neutral",
         "en"
        ],
        [
         "46",
         "Nearly three years apart in age, the two sisters were extraordinarily close; so close that their mother once said, “if Cassandra’s head had been going to be cut off, Jane would have hers cut off too.” As Kalika Sands, Sotheby’s Head of Books and Manuscripts New York, notes, they had an “incredibly close emotional bond” as well as a “very strong intellectual bond.” This relationship is evident in the letters they wrote to each other. In this one, Austen rattles through an account of her days in Bath, gossips about their neighbors and relatives, shares news about their friends, pokes fun at Cassandra’s ill health, and laments the family’s diminished social status. It was written about three months after Austen’s father died, Sands told CNN, quoting a passage that shows the changed social circles the family moved in and “how reduced Jane Austen felt.” “Seven years and four months ago, we went to the same riding house to see Miss Lefroy’s performance,” Austen wrote. No letters from the period three or four years before this letter was written have survived, Sands said, pointing out this was a time when Austen wasn’t very productive, struggled with her family’s move to Bath and was perhaps depressed, as some critics have hypothesized.",
         "Long, chatty letter from Jane Austen to sister Cassandra to be auctioned",
         "social",
         "negative",
         "en"
        ],
        [
         "47",
         "A lightning-sparked wildfire in California’s Sierra National Forest burned Tuesday through a grove of giant sequoias and set some of the ancient towering trees on fire. To protect the majestic trees, some estimated to be 3,000 years old, fire crews laid sprinkler lines to increase ground moisture, wrapped the trunks with fire-resistant foil blankets, raked flammable material away from trees and patrolled the area looking for hotspots, he said. The giant trees rely on low-intensity fire to help open their cones to disperse seeds, and flames clear undergrowth so seedlings can take root and get sunlight. The blaze has scorched 85 square miles of grass, chaparral and timber in a remote area known for camping and hiking about 60 miles east of Fresno.",
         "Grove of giant sequoia trees burns in California’s Sierra National Forest",
         "technology",
         "negative",
         "en"
        ],
        [
         "48",
         "The most basic building block is that water temperatures reach their warmest levels after basking in summer’s heat. ﻿The tropical Atlantic has been enveloped in dry, stable air so far this month, which is one of the main reasons it’s unusually quiet. Just two days later, Tropical Storm Chantal triggered destructive and deadly floods in a narrow strip of North Carolina. Last year, Hurricane Helene’s devastating impacts played out from Florida to Georgia, western North Carolina and eastern Tennessee in late September.",
         "Why Atlantic hurricane season has gone silent",
         "politics",
         "negative",
         "en"
        ],
        [
         "49",
         "There were no reports of injuries or deaths from the fire as of Wednesday evening, and multiple structures have been damaged or destroyed, a Cal Fire Tuolumne-Calaveras Unit spokesperson told CNN. The California Gold Rush brought thousands of Chinese miners to the United States, where they faced anti-immigrant sentiments and persecution that included an exorbitant Foreign Miners Tax designed to drive them away from mining. The town, which also served as a backdrop for multiple films , was added to California’s Historical Landmarks list in 1949. Since these produce minimal rain, lightning strikes dry ground with little to prevent a spark from turning into an all-out blaze.",
         "Historic California gold mining town overrun by fast-moving wildfire",
         "politics",
         "negative",
         "en"
        ]
       ],
       "shape": {
        "columns": 5,
        "rows": 1119
       }
      },
      "text/html": [
       "<div>\n",
       "<style scoped>\n",
       "    .dataframe tbody tr th:only-of-type {\n",
       "        vertical-align: middle;\n",
       "    }\n",
       "\n",
       "    .dataframe tbody tr th {\n",
       "        vertical-align: top;\n",
       "    }\n",
       "\n",
       "    .dataframe thead th {\n",
       "        text-align: right;\n",
       "    }\n",
       "</style>\n",
       "<table border=\"1\" class=\"dataframe\">\n",
       "  <thead>\n",
       "    <tr style=\"text-align: right;\">\n",
       "      <th></th>\n",
       "      <th>content</th>\n",
       "      <th>headline</th>\n",
       "      <th>context</th>\n",
       "      <th>sentiment</th>\n",
       "      <th>language</th>\n",
       "    </tr>\n",
       "  </thead>\n",
       "  <tbody>\n",
       "    <tr>\n",
       "      <th>0</th>\n",
       "      <td>Poland’s interior ministry said seven drones a...</td>\n",
       "      <td>NATO shoots down Russian drones in Polish airs...</td>\n",
       "      <td>sports</td>\n",
       "      <td>neutral</td>\n",
       "      <td>en</td>\n",
       "    </tr>\n",
       "    <tr>\n",
       "      <th>1</th>\n",
       "      <td>Appointed by President Emmanuel Macron on Tues...</td>\n",
       "      <td>France hit by protests and disruption as new p...</td>\n",
       "      <td>politics</td>\n",
       "      <td>negative</td>\n",
       "      <td>en</td>\n",
       "    </tr>\n",
       "    <tr>\n",
       "      <th>2</th>\n",
       "      <td>The attack could have a chilling effect in the...</td>\n",
       "      <td>Israel strikes Hamas leadership in Qatar in un...</td>\n",
       "      <td>politics</td>\n",
       "      <td>negative</td>\n",
       "      <td>en</td>\n",
       "    </tr>\n",
       "    <tr>\n",
       "      <th>3</th>\n",
       "      <td>Ukraine’s President Volodymyr Zelensky describ...</td>\n",
       "      <td>Russian aerial bomb kills at least 25 civilian...</td>\n",
       "      <td>politics</td>\n",
       "      <td>negative</td>\n",
       "      <td>en</td>\n",
       "    </tr>\n",
       "    <tr>\n",
       "      <th>4</th>\n",
       "      <td>“There are opportunities everywhere,” he said,...</td>\n",
       "      <td>She was deported nine times. Then, like others...</td>\n",
       "      <td>social</td>\n",
       "      <td>neutral</td>\n",
       "      <td>en</td>\n",
       "    </tr>\n",
       "    <tr>\n",
       "      <th>...</th>\n",
       "      <td>...</td>\n",
       "      <td>...</td>\n",
       "      <td>...</td>\n",
       "      <td>...</td>\n",
       "      <td>...</td>\n",
       "    </tr>\n",
       "    <tr>\n",
       "      <th>1114</th>\n",
       "      <td>Сегодня Центральный банк России установил новы...</td>\n",
       "      <td>Курс юаня к рублю на сегодня 11 сентября 2025 ...</td>\n",
       "      <td>sports</td>\n",
       "      <td>neutral</td>\n",
       "      <td>ru</td>\n",
       "    </tr>\n",
       "    <tr>\n",
       "      <th>1115</th>\n",
       "      <td>Сегодня Центральный банк России установил новы...</td>\n",
       "      <td>Курс тенге к рублю на сегодня 11 сентября 2025...</td>\n",
       "      <td>social</td>\n",
       "      <td>neutral</td>\n",
       "      <td>ru</td>\n",
       "    </tr>\n",
       "    <tr>\n",
       "      <th>1116</th>\n",
       "      <td>Однако настоящая дорога не всегда черно-белая,...</td>\n",
       "      <td>Пересечение сплошной линии</td>\n",
       "      <td>social</td>\n",
       "      <td>neutral</td>\n",
       "      <td>ru</td>\n",
       "    </tr>\n",
       "    <tr>\n",
       "      <th>1117</th>\n",
       "      <td>Неожиданные выводы исследователей: какое молок...</td>\n",
       "      <td>Ученые раскрыли секрет</td>\n",
       "      <td>economy</td>\n",
       "      <td>neutral</td>\n",
       "      <td>ru</td>\n",
       "    </tr>\n",
       "    <tr>\n",
       "      <th>1118</th>\n",
       "      <td>Сегодня Центральным банком России установлен н...</td>\n",
       "      <td>Курс евро к рублю на сегодня 11 сентября 2025 ...</td>\n",
       "      <td>social</td>\n",
       "      <td>neutral</td>\n",
       "      <td>ru</td>\n",
       "    </tr>\n",
       "  </tbody>\n",
       "</table>\n",
       "<p>1119 rows × 5 columns</p>\n",
       "</div>"
      ],
      "text/plain": [
       "                                                content  \\\n",
       "0     Poland’s interior ministry said seven drones a...   \n",
       "1     Appointed by President Emmanuel Macron on Tues...   \n",
       "2     The attack could have a chilling effect in the...   \n",
       "3     Ukraine’s President Volodymyr Zelensky describ...   \n",
       "4     “There are opportunities everywhere,” he said,...   \n",
       "...                                                 ...   \n",
       "1114  Сегодня Центральный банк России установил новы...   \n",
       "1115  Сегодня Центральный банк России установил новы...   \n",
       "1116  Однако настоящая дорога не всегда черно-белая,...   \n",
       "1117  Неожиданные выводы исследователей: какое молок...   \n",
       "1118  Сегодня Центральным банком России установлен н...   \n",
       "\n",
       "                                               headline   context sentiment  \\\n",
       "0     NATO shoots down Russian drones in Polish airs...    sports   neutral   \n",
       "1     France hit by protests and disruption as new p...  politics  negative   \n",
       "2     Israel strikes Hamas leadership in Qatar in un...  politics  negative   \n",
       "3     Russian aerial bomb kills at least 25 civilian...  politics  negative   \n",
       "4     She was deported nine times. Then, like others...    social   neutral   \n",
       "...                                                 ...       ...       ...   \n",
       "1114  Курс юаня к рублю на сегодня 11 сентября 2025 ...    sports   neutral   \n",
       "1115  Курс тенге к рублю на сегодня 11 сентября 2025...    social   neutral   \n",
       "1116                         Пересечение сплошной линии    social   neutral   \n",
       "1117                             Ученые раскрыли секрет   economy   neutral   \n",
       "1118  Курс евро к рублю на сегодня 11 сентября 2025 ...    social   neutral   \n",
       "\n",
       "     language  \n",
       "0          en  \n",
       "1          en  \n",
       "2          en  \n",
       "3          en  \n",
       "4          en  \n",
       "...       ...  \n",
       "1114       ru  \n",
       "1115       ru  \n",
       "1116       ru  \n",
       "1117       ru  \n",
       "1118       ru  \n",
       "\n",
       "[1119 rows x 5 columns]"
      ]
     },
     "execution_count": 42,
     "metadata": {},
     "output_type": "execute_result"
    }
   ],
   "source": [
    "df[['content', 'headline', 'context','sentiment' , 'language']]"
   ]
  },
  {
   "cell_type": "markdown",
   "id": "8f50f059",
   "metadata": {},
   "source": [
    "## Import Data to MongoDB"
   ]
  },
  {
   "cell_type": "code",
   "execution_count": null,
   "id": "ffb6eb9a",
   "metadata": {},
   "outputs": [
    {
     "name": "stdout",
     "output_type": "stream",
     "text": [
      "Inserted 1439 records into MongoDB, IDs 0 → 1438.\n"
     ]
    }
   ],
   "source": [
    "# ==== MongoDB connection ====\n",
    "client = MongoClient(\"mongodb://localhost:27017/\")\n",
    "db = client[\"insightbot\"]\n",
    "collection = db[\"articles\"]\n",
    "\n",
    "# ==== Get last document id from MongoDB ====\n",
    "last_doc = collection.find_one(sort=[(\"id\", -1)])\n",
    "last_id = last_doc[\"id\"] if last_doc else 0\n",
    "\n",
    "# ==== Drop duplicates and reset index ====\n",
    "df = df.drop_duplicates(subset=[\"title\", \"content\"], keep=\"first\")\n",
    "df = df.reset_index(drop=True)\n",
    "\n",
    "# ==== Assign new IDs and prepare for insertion ====\n",
    "df[\"id\"] = range(last_id, last_id + len(df))\n",
    "df = df.drop(columns=[\"_id\"], errors=\"ignore\")\n",
    "\n",
    "# ==== Insert data into MongoDB ====\n",
    "data_dict = df.to_dict(\"records\")\n",
    "if data_dict:\n",
    "    collection.insert_many(data_dict)\n",
    "    print(f\"Inserted {len(data_dict)} records into MongoDB, IDs {last_id} → {last_id + len(df) - 1}.\")\n",
    "else:\n",
    "    print(\"No new records to insert.\")"
   ]
  }
 ],
 "metadata": {
  "kernelspec": {
   "display_name": "Python 3",
   "language": "python",
   "name": "python3"
  },
  "language_info": {
   "codemirror_mode": {
    "name": "ipython",
    "version": 3
   },
   "file_extension": ".py",
   "mimetype": "text/x-python",
   "name": "python",
   "nbconvert_exporter": "python",
   "pygments_lexer": "ipython3",
   "version": "3.13.5"
  }
 },
 "nbformat": 4,
 "nbformat_minor": 5
}
