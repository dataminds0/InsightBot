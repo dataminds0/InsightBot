{
 "cells": [
  {
   "cell_type": "markdown",
   "id": "8308cae4",
   "metadata": {},
   "source": [
    "# Web Articles Data Cleaning\n",
    "\n",
    "This notebook performs data cleaning, preprocessing, and feature engineering on a dataset of web articles to prepare it for analysis like topic modeling or text classification.\n",
    "\n",
    "## Objectives\n",
    "- Remove duplicate articles\n",
    "- Handle missing values\n",
    "- Clean text data (content and titles)\n",
    "- Calculate similarity scores between original and cleaned text\n",
    "- Save the cleaned data to a CSV file\n",
    "\n",
    "## Workflow\n",
    "\n",
    "The notebook is structured as follows:\n",
    "\n",
    "1.  **Data Loading and Initial Exploration**: Load the dataset and examine its structure and basic statistics.\n",
    "2.  **Data Cleaning**:\n",
    "    *   Handle missing values in the dataset.\n",
    "    *   Remove duplicate entries based on article ID, title, and content.\n",
    "3.  **Text Cleaning and Summarization**:\n",
    "    *   Clean the article content by removing unnecessary characters and summarizing the text.\n",
    "    *   Clean the article titles by removing patterns.\n",
    "4.  **Similarity Analysis**:\n",
    "    *   Calculate the cosine similarity between the original and cleaned content and titles using Sentence Transformers.\n",
    "5.  **Final Data Preparation and Export**:\n",
    "    *   Select relevant columns and rename them for clarity.\n",
    "    *   Save the cleaned and preprocessed data to a new CSV file."
   ]
  },
  {
   "cell_type": "markdown",
   "id": "54c3d73d",
   "metadata": {},
   "source": [
    "## Import Libraries and Load Model"
   ]
  },
  {
   "cell_type": "code",
   "execution_count": 1,
   "id": "64f16616",
   "metadata": {},
   "outputs": [],
   "source": [
    "import pandas as pd\n",
    "from sumy.parsers.plaintext import PlaintextParser\n",
    "from sumy.nlp.tokenizers import Tokenizer\n",
    "from sumy.summarizers.lsa import LsaSummarizer\n",
    "import re\n",
    "from sentence_transformers import SentenceTransformer, util\n",
    "\n",
    "\n",
    "# ===================== download model =====================\n",
    "model = SentenceTransformer('all-MiniLM-L6-v2')"
   ]
  },
  {
   "cell_type": "markdown",
   "id": "86880af6",
   "metadata": {},
   "source": [
    "## Simple Data Exploratory And Cleaning"
   ]
  },
  {
   "cell_type": "markdown",
   "id": "6d35897f",
   "metadata": {},
   "source": [
    "### load data and explore it"
   ]
  },
  {
   "cell_type": "code",
   "execution_count": 2,
   "id": "4f451cdd",
   "metadata": {},
   "outputs": [],
   "source": [
    "df = pd.read_csv(r'../data/raw/data1.csv')"
   ]
  },
  {
   "cell_type": "code",
   "execution_count": 3,
   "id": "f0e96a76",
   "metadata": {},
   "outputs": [
    {
     "name": "stdout",
     "output_type": "stream",
     "text": [
      "<class 'pandas.core.frame.DataFrame'>\n",
      "RangeIndex: 1477 entries, 0 to 1476\n",
      "Data columns (total 9 columns):\n",
      " #   Column       Non-Null Count  Dtype  \n",
      "---  ------       --------------  -----  \n",
      " 0   id           1477 non-null   int64  \n",
      " 1   source       1477 non-null   object \n",
      " 2   url          1477 non-null   object \n",
      " 3   title        1477 non-null   object \n",
      " 4   fetched_at   1477 non-null   object \n",
      " 5   t_total_sec  1477 non-null   float64\n",
      " 6   content      1475 non-null   object \n",
      " 7   h1           1475 non-null   object \n",
      " 8   h2           1095 non-null   object \n",
      "dtypes: float64(1), int64(1), object(7)\n",
      "memory usage: 104.0+ KB\n"
     ]
    },
    {
     "data": {
      "text/plain": [
       "(1477, 9)"
      ]
     },
     "execution_count": 3,
     "metadata": {},
     "output_type": "execute_result"
    }
   ],
   "source": [
    "df.info()\n",
    "df.shape"
   ]
  },
  {
   "cell_type": "code",
   "execution_count": 4,
   "id": "1b933b9f",
   "metadata": {},
   "outputs": [
    {
     "data": {
      "text/plain": [
       "Index(['id', 'source', 'url', 'title', 'fetched_at', 't_total_sec', 'content',\n",
       "       'h1', 'h2'],\n",
       "      dtype='object')"
      ]
     },
     "execution_count": 4,
     "metadata": {},
     "output_type": "execute_result"
    }
   ],
   "source": [
    "df.columns"
   ]
  },
  {
   "cell_type": "code",
   "execution_count": 5,
   "id": "eb3cfc9c",
   "metadata": {},
   "outputs": [],
   "source": [
    "df['id'] = pd.to_numeric(df['id'], errors='coerce')"
   ]
  },
  {
   "cell_type": "code",
   "execution_count": 6,
   "id": "16853407",
   "metadata": {},
   "outputs": [],
   "source": [
    "df.drop_duplicates(subset= ['id'],keep='first', inplace=True)"
   ]
  },
  {
   "cell_type": "code",
   "execution_count": 7,
   "id": "4d7c0629",
   "metadata": {},
   "outputs": [
    {
     "data": {
      "application/vnd.microsoft.datawrangler.viewer.v0+json": {
       "columns": [
        {
         "name": "id",
         "rawType": "int64",
         "type": "integer"
        },
        {
         "name": "count",
         "rawType": "int64",
         "type": "integer"
        }
       ],
       "ref": "eabafe2d-1fe1-4b21-a959-a63cc3aba3f2",
       "rows": [
        [
         "1136",
         "1"
        ],
        [
         "1135",
         "1"
        ],
        [
         "1134",
         "1"
        ],
        [
         "1133",
         "1"
        ],
        [
         "1132",
         "1"
        ],
        [
         "1131",
         "1"
        ],
        [
         "1130",
         "1"
        ],
        [
         "1129",
         "1"
        ],
        [
         "1128",
         "1"
        ],
        [
         "1127",
         "1"
        ],
        [
         "1126",
         "1"
        ],
        [
         "1125",
         "1"
        ],
        [
         "1124",
         "1"
        ],
        [
         "1123",
         "1"
        ],
        [
         "1122",
         "1"
        ],
        [
         "1121",
         "1"
        ],
        [
         "32",
         "1"
        ],
        [
         "31",
         "1"
        ],
        [
         "30",
         "1"
        ],
        [
         "29",
         "1"
        ],
        [
         "28",
         "1"
        ],
        [
         "27",
         "1"
        ],
        [
         "26",
         "1"
        ],
        [
         "25",
         "1"
        ],
        [
         "24",
         "1"
        ],
        [
         "23",
         "1"
        ],
        [
         "22",
         "1"
        ],
        [
         "21",
         "1"
        ],
        [
         "20",
         "1"
        ],
        [
         "19",
         "1"
        ],
        [
         "18",
         "1"
        ],
        [
         "17",
         "1"
        ],
        [
         "48",
         "1"
        ],
        [
         "47",
         "1"
        ],
        [
         "46",
         "1"
        ],
        [
         "45",
         "1"
        ],
        [
         "44",
         "1"
        ],
        [
         "43",
         "1"
        ],
        [
         "42",
         "1"
        ],
        [
         "41",
         "1"
        ],
        [
         "40",
         "1"
        ],
        [
         "39",
         "1"
        ],
        [
         "38",
         "1"
        ],
        [
         "37",
         "1"
        ],
        [
         "36",
         "1"
        ],
        [
         "35",
         "1"
        ],
        [
         "34",
         "1"
        ],
        [
         "33",
         "1"
        ],
        [
         "64",
         "1"
        ],
        [
         "63",
         "1"
        ]
       ],
       "shape": {
        "columns": 1,
        "rows": 1152
       }
      },
      "text/plain": [
       "id\n",
       "1136    1\n",
       "1135    1\n",
       "1134    1\n",
       "1133    1\n",
       "1132    1\n",
       "       ..\n",
       "5       1\n",
       "4       1\n",
       "3       1\n",
       "2       1\n",
       "1       1\n",
       "Name: count, Length: 1152, dtype: int64"
      ]
     },
     "execution_count": 7,
     "metadata": {},
     "output_type": "execute_result"
    }
   ],
   "source": [
    "df['id'].value_counts()"
   ]
  },
  {
   "cell_type": "code",
   "execution_count": 8,
   "id": "fa959808",
   "metadata": {},
   "outputs": [],
   "source": [
    "\n",
    "df = df.dropna(subset=['id'])\n",
    "df['id'] = df['id'].astype(int)"
   ]
  },
  {
   "cell_type": "code",
   "execution_count": 9,
   "id": "0e6f1ffc",
   "metadata": {},
   "outputs": [
    {
     "data": {
      "application/vnd.microsoft.datawrangler.viewer.v0+json": {
       "columns": [
        {
         "name": "index",
         "rawType": "int64",
         "type": "integer"
        },
        {
         "name": "id",
         "rawType": "int64",
         "type": "integer"
        },
        {
         "name": "source",
         "rawType": "object",
         "type": "string"
        },
        {
         "name": "url",
         "rawType": "object",
         "type": "string"
        },
        {
         "name": "title",
         "rawType": "object",
         "type": "string"
        },
        {
         "name": "fetched_at",
         "rawType": "object",
         "type": "string"
        },
        {
         "name": "t_total_sec",
         "rawType": "float64",
         "type": "float"
        },
        {
         "name": "content",
         "rawType": "object",
         "type": "string"
        },
        {
         "name": "h1",
         "rawType": "object",
         "type": "string"
        },
        {
         "name": "h2",
         "rawType": "object",
         "type": "unknown"
        }
       ],
       "ref": "0504c204-6ab6-46c3-b3aa-3721b055ba74",
       "rows": [
        [
         "0",
         "1",
         "cnn",
         "https://edition.cnn.com/2025/09/09/europe/poland-scramble-jets-russian-drone-reports-intl-hnk-ml",
         "NATO shoots down Russian drones in Polish airspace, accusing Moscow of being ‘absolutely reckless’ | CNN",
         "2025-09-10T15:13:31.532053Z",
         "1.136",
         "NATO fighter jets shot down multiple Russian drones that violated Polish airspace during an attack on neighboring Ukraine early on Wednesday, as the military alliance denounced Moscow for “absolutely dangerous” behavior that ratcheted up tensions to a new level.\n\nThe operation marked the first time that shots were fired by NATO since the start of the war in Ukraine. Polish and Dutch jets intercepted the drones, with assistance from Italian, German and NATO’s multinational forces, officials said.\n\nAddressing the Polish parliament, Prime Minister Donald Tusk said that while there was no reason to say that Poland was in a state of war, it was closer to a conflict than any time since World War II. He said the country was facing an “enemy that does not hide its hostile intentions.”\n\nTusk also announced that Poland has invoked Article 4 of NATO, meaning the alliance’s main political decision-making body will now meet to discuss the situation and its next steps.\n\nRussia’s defense ministry said in a statement that it had carried out a strike against Ukraine overnight. It said that “no targets on the territory of Poland were planned for destruction,” and that the drones it used in Ukraine have a flight range that of no more than 700 kilometers (435 miles).\n\nThe Russian foreign ministry then said that these “specific facts completely debunk the myths repeatedly spread by Poland in order to escalate the Ukrainian crisis further.”\n\nNATO chief Mark Rutte said, however, that the violation of Poland’s airspace was not an “isolated incident.”\n\nAsked by reporters whether the incursion was deliberate, he said that while a full assessment was ongoing, “whether it was intentionally or not, it is absolutely reckless. It is absolutely dangerous.”\n\nRutte said the alliance’s response was “very successful” and showed that NATO was able to, and will, defend “every inch” of its territory.\n\nHe added that the wider operations involved Polish F-16 and Dutch F-35 jets, an Italian early warning aircraft, German Patriot systems and a NATO refueling aircraft.\n\nTusk said there were 19 intrusions of his country’s airspace, and that a “large proportion” of the drones entered it from Belarus. He called the incident an “unprecedented violation of (its) airspace” and said it lasted all night – from just before midnight local time on Tuesday until 6:30 a.m. on Wednesday.\n\nPoland’s Deputy Prime Minister Radosław Sikorski said that the sheer number of drones that entered Polish airspace makes it clear this was a deliberate act by Russia.\n\n“When one or two drones does it, it is possible that it was a technical malfunction. In this case, there were 19 breaches and it simply defies imagination that that could be accidental,” he said.\n\nSpeaking to the lawmakers, Tusk said that the one piece of “good news” was that nobody was injured.\n\nPoland’s interior ministry said seven drones and parts of one unidentified missile have been found. The locations where the debris was found span the area of hundreds of miles.\n\nMinistry spokesperson Karolina Gałecka said that one of the drones hit a residential building in the village of Wyryki, in eastern Poland, near the border with both Ukraine and Belarus.\n\nPhotographs from the scene geolocated by CNN show extensive damage to a family house there.\n\nAnother piece of a drone was discovered near a cemetery in Cześniki in Zamość County, some 100 kilometers (60 miles) south of Wyryki, according to the local prosecutor’s office.\n\nNATO, the transatlantic defense pact involving the United States, employs the principle that an attack on one is an attack on all.\n\nEuropean faith in the reliability of that alliance has been shaken under US President Donald Trump who, alongside key cabinet members, have called on Europe to lead in its own defense.\n\nThe news of the airspace violation sparked a wave of solidarity – and further calls for stronger defense measures in Europe.\n\nThe White House said that Trump was planning to speak with Polish President Karol Nawrocki on Wednesday. According to the US State Department, some 10,000 US troops are currently stationed in Poland.\n\nSpeaking after a pre-arranged meeting in London, defense ministers from the United Kingdom, France, Germany and Italy denounced the incident, calling it unacceptable provocation. The ministers, who represent Europe’s biggest defense spenders, said they would support Poland.\n\nThey were joined by Poland’s director of international security policy, Marcin Kazmierski, who stepped in for defense minister Władysław Kosiniak-Kamysz after he cut short his visit to London to return to Poland.\n\nGerman defense minister Boris Pistorius said the airspace violation was “deliberate and targeted provocation.”\n\nCanadian Prime Minister Mark Carney said that “Russia’s actions – following a week of brutal attacks on Ukrainian civilians – underscore the importance of our steadfast support for Ukraine.”\n\n“(Russia President Vladimir) Putin is demonstrating once again his total disregard for the path of peace,” Carney said.\n\nThe European Union’s foreign policy chief, Kaja Kallas, called the incident “the most serious European airspace violation by Russia since the war began.” Kallas said that the “indications suggest it was intentional, not accidental,” adding that: “Russia’s war is escalating, not ending.”\n\nUkraine’s President Volodymyr Zelensky called the incident “another step of escalation” by Russia and called for a strong reaction from Kyiv’s allies.\n\n“The Russians must feel the consequences. Russia must feel that the war cannot be expanded and will have to be ended,” he said. Zelensky’s own country endured a Russian attack involving 415 drones and 40 missiles overnight.\n\nThe incursion comes as Trump’s attempts to strike a peace deal between Russia and Ukraine have ground to a halt, with Moscow only scaling up its aerial assaults.\n\nUkrainian Foreign Minister Andrii Sybiha said Putin is “testing the West.”\n\n“Russian drones flying into Poland during the massive attack on Ukraine show that Putin’s sense of impunity keeps growing,” Sybiha said in a post on X.\n\nEdward Arnold, senior research fellow at the Royal United Services Institute, a think tank, said the escalation was “a product of the intensification of Russian drone and missile strikes on Ukrainian political, civilian and energy infrastructure over the past few months.”\n\n“The decision by the Kremlin to escalate is intertwined with the discussions between the Russians and US on a possible ceasefire and peace in Ukraine,” Arnold added.\n\n“Putin wants to demonstrate strength and likely test NATO resolve. However, he is also demonstrating that he has no interest in the war ending.”\n\nEarlier, authorities closed airspace over Warsaw International Airport and other smaller airports “due to unplanned military activity related to ensuring state security,” according to a Notice to Airmen (NOTAM) posted on the US Federal Aviation Administration’s website.\n\nThe Warsaw airport reopened Wednesday morning, Mayor Rafal Trzaskowski said in a post on X.\n\nThe military activity over Poland comes less than a week after Putin was in China, where he met with leader Xi Jinping and North Korean leader Kim Jong Un in show of unity between the authoritarian allies.\n\nSince then, Russia has staged its largest aerial assaults on Ukraine since it fully invaded its neighbor more than three years ago.\n\nThe recent attacks have largely targeted residential areas around the country and in the capital of Kyiv. On Tuesday, 24 civilians were killed in a Russian strike on the village of Yarova in the eastern Donetsk region , Ukrainian officials said.\n\nLast weekend, Russia deployed more than 800 drones in its largest attack to date , striking a government building in Kyiv for the first time.\n\nThe attack hit the Cabinet of Ministers building, which houses the prime minister’s office, as well as some government ministries.\n\nAll these attacks have come less than a month after Putin’s summit with Trump in Alaska that ended without a deal to end the war. Any progress made has long since evaporated with Russia’s expanded aerial attacks.\n\nPoland earlier announced it was closing its eastern border with Russian ally Belarus, due to joint Russian-Belarusian military exercises beginning Friday, Reuters reported.\n\nThe Zapad 25 large-scale exercises, which will take place in western Russia and Belarus, have raised security concerns not only in Poland but also in the neighboring NATO countries on Lithuania and Latvia, according to Reuters.\n\n“On Friday, Russian-Belarusian maneuvers, very aggressive from a military doctrine perspective, begin in Belarus, very close to the Polish border,” Prime Minister Tusk told a government meeting, Reuters reported.\n\n“Therefore, for national security reasons, we will close the border with Belarus, including railway crossings, in connection with the Zapad maneuvers on Thursday at midnight,” Tusk said.\n\nCNN’s Chris Lau, Gianluca Mezzofiore, Victoria Butenko, Daria Tarasova-Markina, Darya Tarasova, Natasha Bertrand, Haley Britzky, Kit Maher and Antonia Mortensen contributed to this report.\n\nThis story has been updated with additional developments. A previous version of this story stated the incorrect location of Rzeszow, a town in eastern Poland.",
         "NATO shoots down Russian drones in Polish airspace, accusing Moscow of being ‘absolutely reckless’",
         "‘Unprecedented violation’ Allies react and a search for downed drones Putin emboldened after China parade"
        ],
        [
         "1",
         "2",
         "cnn",
         "https://edition.cnn.com/2025/09/10/europe/france-protests-new-prime-minister-intl",
         "France hit by protests and disruption as new prime minister takes office | CNN",
         "2025-09-10T15:13:32.937497Z",
         "0.903",
         "Nationwide unrest broke out across France on Wednesday as protesters blocked roads, set fires and clashed with police, who responded with tear gas, as anger grows against the country’s political class.\n\nThe interior ministry said 295 people had been detained so far, with 80,000 police deployed nationwide, including 6,000 in Paris. The education ministry said around 100 schools were disrupted and 27 fully blockaded.\n\nIt comes as the country’s new prime minister , Sébastien Lecornu, enters office.\n\nAppointed by President Emmanuel Macron on Tuesday, former defense minister Lecornu succeeds François Bayrou, who was ousted after losing a confidence vote in parliament over his unpopular plan to tame the deficit.\n\nCritics say appointing a Macron loyalist on such a day amounts to a baptism of fire for Lecornu.\n\nThe protests – called months ago – are aimed at Macron and the political class.\n\nEarly Wednesday, activists launched small but disruptive actions, closing off key ring roads in Bordeaux, Rennes, Nantes and Caen.\n\nIn the capital, a CNN team saw protesters obstructing the road outside Gare du Nord, one of Paris’s busiest train stations. Police quickly contained the situation as around 150 mostly young demonstrators chanted anti-police slogans in a largely calm atmosphere.\n\nAdèle Aubert, 27, joined a rally in Paris, telling CNN that she was demonstrating to “denounce” the new government, which she doesn’t think will change anything for the people.\n\n“But we will continue to do it (protest) because it’s our only way of denouncing it. We try petitions, no one listens to us,” she told CNN.\n\n“We’re angry, we’re very angry,” Anna, a 29 year-old researcher, told CNN.\n\n“What’s the point in voting? We feel like the government isn’t listening to us,” she said, adding that people were fed up with successive governments under Macron that did not include representation from the left.\n\nImpressed with the number of young people at the protest events Wednesday, she said that she thinks next week’s protest in conjunction with French unions will be even bigger.\n\nMuch of the day resembled a game of cat-and-mouse between protesters and police, with flareups like in Rennes, the capital city of Brittany, northwest France, where a bus was ransacked and set on fire.\n\nIn Paris a restaurant in the affluent 1st arrondissement was also set ablaze.\n\nThe “Block Everything” movement – a loose, leaderless coalition born on social media – first surfaced online in May among right-wing groups but has since been taken over by the left and far-left.\n\nA larger nationwide strike and protest is already planned for September 18, when all trade unions are expected to join.\n\nElodie, a 34-year-old kindergarten teacher in Paris, downed tools to join Wednesday’s protest.\n\nShe said she could no longer accept politicians “waving the flag of debt to dismantle the public system, without asking the richest companies and households to contribute.”\n\n“I’m on strike for both social and economic reasons,” she told CNN.\n\n“The 2026 budget is unacceptable: it’s a budget of social destruction and a blow to the French state. Even though Bayrou has been forced out, once again it’s the poorest who are being targeted. That’s why I’m on strike.”",
         "France hit by protests and disruption as new prime minister takes office",
         "‘No one listens to us’"
        ],
        [
         "2",
         "3",
         "cnn",
         "https://edition.cnn.com/2025/09/10/middleeast/israel-strikes-hamas-qatar-explainer-intl-hnk",
         "Israel strikes Hamas leadership in Qatar in unprecedented attack. Here’s what to know | CNN",
         "2025-09-10T15:13:34.092127Z",
         "0.652",
         "Israel launched a series of strikes targeting Hamas’ leadership in the Qatari capital Tuesday, in an unprecedented attack inside the territory of an important US ally and key mediator in the Gaza ceasefire talks.\n\nIsrael took the unusual step of swiftly claiming responsibility for the strikes saying it was part of an operation dubbed “Summit of Fire.”\n\nHamas said six people were killed, including five of its members but the strike failed to assassinate the negotiating delegation.\n\nSeveral nations have condemned the attack, with Qatar calling the strikes “state terrorism.” US President Donald Trump said he was “not thrilled about the whole situation.”\n\nIsrael’s latest attack on the soil of another nation has threatened to derail renewed ceasefire talks as well as efforts to secure the release of the remaining Israeli hostages held in Hamas captivity. The strike came hours after Israel ordered the complete evacuation of Gaza City, where thousands of people are living in man-made famine conditions, ahead of its planned military takeover.\n\nIsrael’s strikes in Doha hit the upscale residential neighbourhood of West Bay Lagoon that, according to Qatar’s foreign ministry spokesperson, housed several members of the Hamas political bureau.\n\nHamas leaders have openly used the Qatari capital as a headquarters outside of Gaza for years, and at the time the militant group said its negotiators were reviewing a recent ceasefire proposal backed by Trump.\n\nOne of the main targets of the strike was Hamas’ chief negotiator Khalil Al-Hayya, but he was not listed among the dead.\n\nFive Hamas officials were killed in the strike, including Al-Hayya’s son and the director of his office, the group said. A Qatari security official died in the strike as well.\n\nThe attack was “months in the making,” and involved more than 10 fighter jets which fired more than 10 munitions, Israeli sources told CNN. Qatar’s Prime Minister said that Israel used weapons that went undetected by radar.\n\nThe jets required mid-air refueling for the long-range strike, an Israeli official said, and they all struck a single target in Doha.\n\nQatar has long history of being neutral territory for thorny diplomatic negotiations, including hosting an office for the Afghan Taliban during secretive talks with the US.\n\nThe emirate is one of only two regional mediators leading the sole diplomatic track trying to bring an end to the war in Gaza and the release of Israeli hostages held by Hamas. It maintains direct channels with the US, Israel and Hamas and has hosted countless rounds of negotiations.\n\nThree reasons Israel’s attack against Hamas in Doha was shocking\n\nQatari foreign ministry spokesperson Majed Al Ansari denied receiving prior notification of the strike, calling reports that suggested otherwise “baseless.”\n\nIsrael’s strikes on Qatar are the first known attack by Israel on a Gulf Arab state. CNN global affairs analyst Brett McGurk said the strike was “against a location known to the US and Israel in the capital of a country that works closely with both.”\n\nQatar is also host to the largest US base in the Middle East and has enjoyed a very strong relationship with the US for decades.\n\nThe attack could have a chilling effect in the region and raises concerns that if a close US ally, such as Qatar, can come under attack by another US ally Israel, who might be next?\n\nIsrael’s strike threatens to derail negotiations to end the war in Gaza which, according to some sources, were reaching an inflection point.\n\nA top Qatari diplomat, Hamad Al-Muftah, said the strike was “clearly designed to undermine the peace negotiations ” in the enclave. Qatari Prime Minister Sheikh Mohammed bin Abdulrahman bin Jassim Al-Thani said the attack has changed the landscape of current ceasefire talks.\n\n“I wouldn’t be surprised if it brings the mediation to a standstill,” Hasan Alhasan, a senior fellow for Middle East Policy at the International Institute for Strategic Studies (IISS) told CNN.\n\nUS puts forward new Mideast ceasefire principles that call for immediate release of all hostages, negotiations\n\nHamas said that the strike would not change its demands for a ceasefire deal.\n\nThis weekend, the US proposed a new ceasefire framework, which Israel has accepted.\n\nMeanwhile, the Hostages and Missing Families Forum said family members were following developments in Doha “with deep concern and heavy anxiety.” The mother of one Israeli hostage said the strike could serve as a death sentence for her son.\n\nPresident Trump has sought to distance himself from Israel’s attack in Qatar. The White House initially said the decision was made by Israel’s leader and that the US learned of it too late to intervene.\n\nTrump was informed of the strike only shortly before it began — and not by Israel itself, but by the Chairman of the Joint Chiefs of Staff, according to a US official.\n\nPress secretary Karoline Leavitt said attacking inside Qatar “does not advance Israel or America’s goals.”\n\n“I’m not thrilled about the whole situation. It’s not a good situation. But I will say this, we want the hostages back, but we are not thrilled about the way that went down,” Trump told reporters this evening outside Joe’s Seafood, Prime Steak & Stone Crab in Washington, DC.\n\nQatar’s Prime Minister Al-Thani was visibly angry as he described the attack, which he called “state terrorism.” He said his country’s tradition of diplomacy “won’t be deterred,” but implied that current talks on Gaza have an uncertain path.\n\n“This attack and this targeting has surpassed not just international law but moral standards,” Al-Thani said.\n\nIsraeli Prime Minister Benjamin Netanyahu, meanwhile, portrayed the attack as a peacemaking action that “can open the door to an end of the war in Gaza.” His office earlier clarified that the strike was “a wholly independent Israeli operation.”\n\nIsrael orders full evacuation of Gaza City as Netanyahu warns ‘this is only the beginning’\n\nGlobally – and in stark contrast to the US response – Israel is facing growing backlash.\n\nUnited Nations chief Antonio Guterres condemned the attack, as did several European leaders and Asian nations. Numerous Arab countries also warned such attacks could undermine regional security . Vice President of the Palestinian Authority Hussein Al Sheikh said the strike “constitutes a serious violation of international law and Qatar’s sovereignty.”\n\nCanadian Prime Minister Mark Carney said that Israel’s attack on Doha “directly imperil” efforts to advance peace and security in the region.\n\nWith a ceasefire agreement now on rocky ground, Israel continues to push ahead with its expanded assault on Gaza , in defiance of domestic and international opposition.\n\nThe strikes came as Israel on Tuesday ordered a complete evacuation of Gaza City, home to around a million Palestinians, ahead of its planned military takeover which it said is key to defeating Hamas.\n\nCNN investigates: How Israeli military actions led to Gaza’s famine\n\nPalestinians in Gaza City are facing further mass displacement as starvation rapidly spreads through the densely-populated city.\n\nThe UN Human Rights Chief Volker Türk has warned that an Israeli escalation in Gaza City would lead to “more massive forced displacement, more killing, more unbearable suffering, senseless destruction and atrocity crimes.”\n\nCNN’s Mostafa Salem, Mohammed Tawfeeq, Max Saltman, Sarah El Sirgany, Abeer Salman, Tal Shalev, Dana Karni, Kristen Holmes, Kevin Liptak, Andrew Potter, Kylie Atwood, Christian Edwards, Paula Newton and Billy Stockwell contributed reporting.",
         "Israel strikes Hamas leadership in Qatar in unprecedented attack. Here’s what to know",
         "What happened? Why was the attack controversial? What will this mean for ceasefire talks and hostages? What has the US said? How has the world reacted? What does this mean for Gaza?"
        ],
        [
         "3",
         "4",
         "cnn",
         "https://edition.cnn.com/2025/09/09/europe/russian-bomb-attack-ukrainian-civilians-yarova-intl",
         "Russian aerial bomb kills at least 25 civilians in rural Ukrainian village, government says | CNN",
         "2025-09-10T15:13:35.474307Z",
         "0.88",
         "A Russian aerial bomb attack on Tuesday killed at least 25 people and wounded 19 more in the rural Ukrainian village of Yarova in the eastern Donetsk region , according to Ukrainian officials.\n\nUkraine’s President Volodymyr Zelensky described the airstrike as “brutally savage” and “directly on people. Ordinary civilians.” He added that “such Russian strikes must not be left without an appropriate response from the world.”\n\nA video from the scene shared by Zelensky shows the horrific aftermath, with a number of lifeless bodies – wearing civilian clothing – lying on the ground. Some of the people in the footage appear to be older adults, and many look like they have suffered catastrophic injuries.\n\nZelensky said the victims were struck as pensions were being handed out in the village, which is only a few miles from the front lines. Pension payments are distributed, among others, by Ukraine’s postal service.\n\nRemnants of a van, which appears to be a mobile branch of the postal service, can also be seen in the video from Yarova, with a children’s playground with two yellow slides visible in the background.\n\n“The Russians attacked people while they were receiving their pensions. This is not warfare – this is pure terrorism,” said the head of the Donetsk regional military administration Vadym Filashkin, adding that rescue workers and medics are still on the scene.\n\nThe head of the local postal office branch was injured in the strike and taken to the hospital, according to the chief executive of the Ukrainian postal service, Igor Smelyansky. He said the service has constantly changed its security procedures to avoid targeted attacks, highlighting that the footage from the scene shows the van was parked under trees “to reduce the risk of being spotted.”\n\nUkraine’s Foreign Minister Andrii Sybiha said the country expects “strong responses” from its allies following the bombing and called for further sanctions on Russia.\n\nTrump’s misreading of Russia has cost Ukraine. Now Putin is making his intentions clearer than ever\n\n“Russian propaganda claims to be ‘saving’ people in the Donetsk region, but in reality, it is dropping massive air bombs on people who came to receive pensions,” Sybiha added.\n\nThe Russian Ministry of Defense has not commented on the attack, but Russian state media TASS cited a Telegram channel claiming that Russia did not carry out the strike, without providing evidence.\n\nThe village of Yarova had a population of around 2,800 people before Russia’s full-scale invasion of Ukraine in February 2022. The village was occupied in June 2022 but Ukrainian forces reclaimed it later that year.\n\nAcross Ukraine, seven people have been killed and at least 22 injured within the last day. In the eastern Zaporizhzhia region, one woman died and another was wounded in a Russian attack, local authorities said early on Tuesday. Six people were killed and 10 were injured in a separate attack on the Donetsk region on Monday, Filashkin said earlier.",
         "Russian aerial bomb kills at least 25 civilians in rural Ukrainian village, government says",
         null
        ],
        [
         "4",
         "5",
         "cnn",
         "https://edition.cnn.com/2025/09/10/americas/american-dream-mexico-deported-migrants-intl-latam",
         "She was deported nine times. Then, like others, she found her American Dream in Mexico | CNN",
         "2025-09-10T15:13:36.747389Z",
         "0.771",
         "Esther Morales lived in the United States for roughly 20 years. Despite being deported several times, she repeatedly returned illegally for a chance at the American Dream.\n\nHer ninth deportation, in 2009, would be her last. Unable to return to the United States because of tougher enforcement, she ended up in Tijuana and decided to stay.\n\n“It was very sad because my daughter is back in the US … So, the family separation obviously affected me a lot,” she told CNN.\n\nAs difficult as it was, Morales had to accept that Tijuana would be her new home, and that the only way to make the best of it was to press forward.\n\nRoughly 16 years later, Morales, originally from the Mexican state of Oaxaca, has established herself in the border city of 2 million people as one of the region’s most prominent activists, now running a nongovernmental organization that supports migrants like her.﻿ The dream she once pursued over the border Morales has found here, on Mexican soil.\n\nJean Bernaud Gelin learned a similar lesson after leaving his home in Haiti and traveling 5,000 miles across 10 countries – though he found his dream without even reaching the US.\n\nICE has deported nearly 200K people since Trump returned to office, on track for highest level in a decade\n\nAfter initially trying to settle in Chile, Gelin set off for the United States, hoping the immigration policies of President Barack Obama would open new doors to him. By the time he reached the US-Mexico border, Donald Trump had become president , and one of Gelin’s cousins had been deported.\n\nFearing he would suffer the same fate, Gelin abandoned his ambition to reach America and decided to stay in the Mexican border city of Mexicali, where he’s become an entrepreneur, Math tutor and all-around Renaissance man.\n\n“There are opportunities everywhere,” he said, adding that finding them was a matter of perseverance and adapting to new situations.\n\nDaniel Ruiz, on the other hand, felt American for all practical purposes. Ruiz, who was born in Mexico, was taken to the United States without documents by his mother when he was just a baby. He was raised in the United States, where he went to school and learned the life lessons that turned him into the person he is today.\n\n“I watched American TV. I grew up in American culture. Basically, I felt like an American citizen,” Ruiz said in English, speaking with a Southern California dialect.\n\nThat happy picture shattered about 24 years ago due to a life mistake Ruiz regrets to this day.\n\nHe was caught on a boat with a large amount of marijuana that he says he intended to sell to friends, a crime that got him detained and later deported.\n\n“I did something that broke the law. I understood that. (But) I didn’t realize the consequences of me being deported. It never crossed my mind,” he told CNN.\n\nHe served three years in prison and was subsequently sent to Tijuana, a city he briefly stayed in as a baby but one that he was never truly connected with.\n\nIt wasn’t an easy transition, but he had little choice. After working different jobs to make a living, he was hired at a call center, climbed his way to management and then started his own business.\n\nLike millions of deported and rejected migrants over the years, including the thousands removed since Trump returned to the White House, Morales, Gelin and Ruiz were all forced to give up their American Dreams. But – also like many others – they have found new dreams to pursue, in a place they least expected.\n\n“What happened to me hurt a lot, but I wasn’t going to remain crying, crying and crying,” she said. “I started to work. To work, work and work.”\n\nShe launched a restaurant in the heart of the city, serving the food of her home state, from traditional tamales to the drink champurrado. She also began providing meals for migrants at shelters.\n\n“I was in a shelter when I was deported. So, I know all the needs of a migrant. I was in a shelter that didn’t have food, freshwater – nothing. So, I decided that when I was able, I would help migrants – and I have,” she said.\n\nShe created an organization called Proyecto Comida Calientita (Warm Food Project), which provides freshly made meals to migrants.\n\n“People bring in sacks of rice, sacks of beans, second-hand clothing, and I distribute all that to one or two shelters a week,” she said.\n\nHer venture has fed thousands of people over the years and received global recognition. From Mexico to Russia, newspapers around the world have told her story, she said, showing off a mural at her organization with newspaper clippings and awards.\n\nShe recalled that when Trump effectively closed off the US to asylum seekers waiting at the border, many of them turned to her for inspiration and rallied behind a mantra she has coined:\n\n“On this side there are also dreams,” she often says, reminding migrants that Mexico can also be a land of opportunities.\n\nGelin decided to leave Haiti nearly 10 years ago after high school due to the country’s political and economic instability. Initially, he settled in Chile, a place with a completely different language to his native creole, and unfamiliar lifestyles and traditions.\n\n“I had never seen monthly rent. In Haiti, rent is for a year or a minimum of six months. So, in Chile, I started to live a new lifestyle that I had never seen before,” he told CNN.\n\nHe eventually found a job but his prospects for a better life were limited; he had to work 12 hours a day just to make ends meet. So, he decided to migrate to the United States.\n\nWhen that plan didn’t work out, he decided to stay in Mexicali instead.\n\nHe realized that the border city, an economic and cultural hub of Baja California , also had a lot to offer, from education to job prospects.\n\nSo he learned the local language – something he struggled with at first but eventually mastered by reading Spanish literature and befriending local Spanish speakers.\n\nHe also sought an education from the Autonomous University of Baja California, one of the country’s top 10 schools. But passing the entrance exam proved challenging. He had to study for weeks while he was still learning Spanish.\n\nAfter a couple of attempts, he passed the exam with high marks and became the first Haitian to enroll at the university, he told CNN, speaking in fluent Spanish.\n\nBy his second semester, he was also working as a tutor, helping other pupils with admission exams and mathematics.\n\nHe soon gained recognition as a reliable instructor and launched his own tutoring business. He also started other entrepreneurial ventures, from buying a local beer-vending franchise to becoming a stock market trader on his days off.\n\nThere were personal victories, too. “I found a girl, we became a couple, and now we have a daughter,” he said.\n\nNow Gelin wants to repay the community for what he sees as his good fortune, by inspiring others.\n\n“If someone has the mentality to grow and reach their goals, it doesn’t matter where it’s at, you’ll do it,” he said.\n\nWhen Ruiz was sent back to Tijuana, he also faced culture shock.\n\n“When I got to Mexico, it was so different because I never knew this culture … They way they celebrate, the way they act, the way they are — it’s a different culture,” he said.\n\nHe said his Spanish at the time was “terrible,” and he experienced a hint of disdain from some Tijuana residents who had unfavorable views of deportees, especially those who had gotten in trouble with the law.\n\nIt wasn’t an easy transition and Ruiz had to work multiple jobs just to make ends meet.\n\nBut he had a breakthrough when he was hired at a call center . There, he earned a steady income and worked his way up to management.\n\nAfter his stint there, he and a coworker launched their own call center that hired fellow deportees, many of whom were also English speakers struggling to fit in. The company, Ruiz said, not only helped them acclimate, but also provided them with a sense of community.\n\n“I was able to talk to people and relate with them and get their stories … Everybody felt good around each other. It was a really nice environment,” he said.\n\nRuiz later established a new call center where he continued to hire deportees and give them opportunities to rebuild their lives ﻿ .\n\nIn 2018, when Tijuana saw a major influx of immigrants from Haiti, Ruiz led grass-roots efforts to provide shelter and legal support to dozens of asylum seekers.\n\nFrom there, he established a nonprofit called Border Line Crisis Center. The organization now provides shelter, food and resources to women and children who’ve been deported or fled from other countries and cities for a fresh start.\n\nCurrently, he’s organizing what he said is the city’s first large-scale concert for deportees, which will bring together different call centers, artists and community members this December.\n\n“What I’m trying to do is unite the deportee community,” he said. “What’s so special about us is our stories. Our stories are pretty much the same.”",
         "She was deported nine times. Then, like others, she found her American Dream in Mexico",
         "‘On this side there are also dreams’ Adapting to new situations Starting over in an unfamiliar ‘home’"
        ],
        [
         "5",
         "6",
         "cnn",
         "https://edition.cnn.com/2025/09/09/europe/france-prime-minister-problem-lecornu-analysis-latam-intl",
         "French prime ministers face an impossible problem. Can this man solve it? | CNN",
         "2025-09-10T15:13:38.124145Z",
         "0.875",
         "For a minister, some might say Sébastien Lecornu has had an easy gig inside French President Emmanuel Macron’s government.\n\nAs France’s defense minister since 2022, he’s enjoyed a booming budget, tens of thousands of patriotic and disciplined employees under his authority and a mission – warding off Russian aggression – that few could challenge.\n\nPlucked out of the cabinet to be the next prime minister, his new job will be significantly more difficult.\n\nHe is the longest serving sitting minister, enjoying rare stability within the French government , but now the freshly announced Prime Minister Lecornu will have to contend with the crushing calculus of a divided parliament and a budget that is seemingly impossible for the French to stomach.\n\nWhen Francois Bayrou, the latest ill-fated inhabitant of  France’s prime ministerial residence, the Matignon, stepped aside after calling for his own doomed confidence vote (leading many commentators to describe it as jumping ship), headlines in France have turned to his successor.\n\nNo knight in shining armor appeared – Macron is now on his seventh  prime minister, so viable candidates are getting harder to find.\n\nFrench President Emmanuel Macron appoints outgoing defense minister Sébastien Lecornu as prime minister\n\nAbove all, Lecornu is, “a minister in whom (Macron) has great trust,” Marc Lazar, professor of history and politics and Paris’ Sciences Po and the LUISS school of government in Rome, told CNN.\n\nUnlike the last two prime ministers, Lecornu has been a loyal lieutenant at the center of the president’s project in government, Lazar said. His defense background may even have been an attraction to the massively unpopular French president, offering a chance to refocus attention at home on the importance of rearming France’s military.\n\nHe’s become a cabinet staple since he was appointed in 2022 as something of a whizz-kid. At the age of 35, he became France’s youngest defense minister in living memory.\n\nBeginning his political career in the traditional party of the French Right, ‘The Republicans,’ he joined Macron’s centrist breakthrough party after being appointed to a junior cabinet position. He subsequently wore several ministerial hats, responsible for ecology, community and then overseas territories.\n\nAs defense minister, he was certainly a survivor. Through two of Macron’s presidential terms, where upheaval has been the norm, Lecornu has been an unusually stable presence around the cabinet table.\n\nThe post has had its challenges. On his watch, the largest war in a century has been burning on the European continent, with France heavily involved in the defense of Ukraine since Russia’s 2022 invasion.\n\nFrance has provided arms large and small, as well as intelligence and training to Kyiv’s embattled forces, largely steered by Lecornu’s unwaveringly pragmatic approach to his day job.\n\nHe’s overseen a doubling in the defense budget, the rollout of a new family of armored vehicles, something  that has proved troublesome for allies like the UK, and flogged French arms to allies far and wide, even in the face of US competition.\n\nFrance is entering crisis mode again. It didn’t have to be this way\n\nIt’s this success overseeing France’s military ramp-up that seemingly kept him in office.\n\nIdeologically, he didn’t paint himself into any corners, which no doubt made him appealing as a prime minister who will have to reach across the aisles from the political center.\n\nUnlike other ministerial colleagues, he kept a low profile around the culture wars and contentious issues of the day, be it immigration or tensions around Islam in France,  bringing a quiet dignity to the cabinet in an era of brash performance politics.\n\nAccording to Lazar, Lecornu offers some compromise – he is a right-wing politician yet still a figure of what the French call, “Social Gaullism,” conservative politicians who aren’t afraid to hike taxes, unlike Macron’s focus on pro-business policies.\n\nA jovial character behind the scenes, he is known to get along with the press and has won the support of the French military community, both of which will surely serve him at the Matignon.\n\nThe arithmetic of the French National Assembly – the key hurdle to getting any budget passed – hasn’t changed with a new prime minister.\n\nMacron’s bloc still holds a weak hand in the French parliament, no longer possessing a majority or even a position as the largest party.\n\nLazar said the key attribute a successful prime minister must now have is the ability to unify the blocs of the National Assembly, which want to avoid another dissolution of parliament. With the far-right the only group expected to benefit from more elections, that means uniting all lawmakers from the far-left through to the traditional right-wing of France’s political spectrum.\n\nSince Emmanuel Macron made the surprise gamble of snap elections last year, French lawmakers have been split between three blocs: the center (Macron’s newly weakened legislative crutch), a left-wing group dominated by the far-left, and a far-right bloc expecting to take power from Macron in the near future.\n\nCoalescing under Macron’s pro-business, austerity-lite budget to tackle the country’s ballooning public debt is not their priority, nor mutual interest.\n\n“All the choices before the president offer a tiny margin of manoeuvre. It’s extraordinarily difficult to find the right person,” politics professor Lazar said.\n\nEven so, given the math, compromise and coalition are the only ways forward if Lecornu hopes to succeed where his predecessors – both appointed for their strengths in these areas – failed.",
         "French prime ministers face an impossible problem. Can this man solve it?",
         "‘Social Gaullism’"
        ],
        [
         "6",
         "7",
         "cnn",
         "https://edition.cnn.com/2025/09/09/africa/ethiopia-launches-massive-hydropower-dam-intl",
         "Ethiopia opens Africa’s largest hydroelectric dam to Egyptian protest | CNN",
         "2025-09-10T15:13:39.478278Z",
         "0.852",
         "Ethiopia officially inaugurated Africa’s largest hydroelectric dam on Tuesday, a project that will provide energy to millions of Ethiopians while deepening a rift with downstream Egypt that has unsettled the region.\n\nEthiopia, the continent’s second most populous nation with a population of 120 million, sees the $5 billion Grand Ethiopian Renaissance Dam (GERD) on a tributary of the Nile as central to its economic ambitions.\n\nThe dam’s output has gradually increased since the first turbine was turned on in 2022, and it reached its maximum 5,150 MW of power on Tuesday. That puts it among the 20 biggest hydroelectric dams in the world, at about one-quarter of the capacity of China’s Three Gorges Dam.\n\nAt a ceremony on Tuesday at the site in Guba, an Ethiopian fighter jet flew low over the mist from the dam’s white waters, which plunge 170 meters (558 feet).\n\nBeneath the canopy of a giant Ethiopian flag, Prime Minister Abiy Ahmed addressed a crowd of dignitaries including the presidents of Somalia, Djibouti and Kenya.\n\n“To our (Sudanese and Egyptian) brothers; Ethiopia built the dam to prosper, to electrify the entire region and to change the history of black people,” Abiy said. “It is absolutely not to harm its brothers.”\n\nAbiy has said the dam will improve access to electricity for the almost half the population who had none as recently as 2022, and export the surplus to the region.\n\nThe dam’s reservoir has flooded an area larger than Greater London, which the government says will provide a steady water supply for irrigation downstream while limiting floods and drought.\n\nEthiopia’s downstream neighbors, however, have watched the project advance with dread since construction began in 2011.\n\nEgypt, which built its own Aswan High Dam on the Nile in the 1960s, fears the GERD could restrict its water supply during droughts, and could encourage the construction of other upstream dams.\n\nIts Foreign Ministry wrote to the UN Security Council saying the inauguration of the dam violated international law.\n\nCairo has bitterly opposed the dam from the start, arguing that it violates water treaties dating back to the early part of the last century and poses an existential threat.\n\nEgypt, with a population of about 108 million, depends on the Nile for about 90% of its fresh water.\n\nEgypt says it reserves the right to “take all the appropriate measures to defend and protect the interests of the Egyptian people.”\n\nWhile Egypt has refrained from any direct reprisals against Ethiopia, it has drawn closer in recent years to Addis Ababa’s rivals in the Horn of Africa, notably Eritrea.\n\nSudan, meanwhile, has joined Egypt’s calls for legally binding agreements on the dam’s filling and operation - but could also benefit from better flood management and access to cheap energy.\n\nEthiopia has been filling the reservoir in phases since 2020, arguing that it would not significantly harm downstream countries.\n\nIndependent research shows that so far, no major disruptions to downstream flow have been recorded, noting favorable rainfall but also the cautious filling of the reservoir during wet seasons over a five-year period.\n\nIn Ethiopia, which has faced years of internal armed conflict, largely along ethnic lines, the GERD has proven a source of national pride, said Mekdelawit Messay, an Ethiopian water researcher at Florida International University.\n\n“It has been a banner to rally under, and it shows what we can achieve when unified.”\n\nLocal media say 91% of funding came from the state, and the remaining 9% from Ethiopians buying bonds or making donations.\n\nSultan Abdulahi Hassan, a farmer who lives near the dam, said the project had brought electricity to his village.\n\n“We now have refrigerators. We can drink cold water. We now use electricity for everything,” he said at the launch.\n\nWhile the extra power will help the country’s burgeoning bitcoin mining industry, most rural Ethiopians may have to wait a little longer to benefit.\n\nAccess to electricity in rural areas is often constrained by underdeveloped transmission networks. While urban areas had a 94% electrification rate as of 2022, just 55% of the overall population had electricity, according to the World Bank.",
         "Ethiopia opens Africa’s largest hydroelectric dam to Egyptian protest",
         "Downstream neighbors fear water shortages Ethiopia says dam is not a threat"
        ],
        [
         "7",
         "8",
         "cnn",
         "https://edition.cnn.com/2025/09/09/europe/frances-government-collapsed-whats-next-intl",
         "France’s government has collapsed again. How did we get here and what’s next? | CNN",
         "2025-09-10T15:13:40.768038Z",
         "0.787",
         "France’s prime minister has quit after losing a confidence vote that toppled his government, plunging the country into a new political crisis.\n\nFrançois Bayrou submitted his resignation to President Emmanuel Macron on Tuesday, who accepted it. A day earlier, 364 out of 573 lawmakers had voted against Bayrou’s government – well above the 280 needed – after his attempt to force through an unpopular plan to tame France’s ballooning budget deficit.\n\nMacron will appoint a successor “in the coming days,” according to the Élysée Palace, his fifth prime minister in less than two years.\n\nBefore he was ousted, Bayrou warned that getting rid of him would not resolve France’s challenges. “You have the power to bring down the government, but you do not have the power to erase reality,” he told lawmakers. “Reality will remain relentless: expenses will continue to rise, and the burden of debt, already unbearable, will grow heavier and more costly.”\n\nMacron now faces the task of steering France out of its financial morass.\n\nThe chaos can be traced back to Macron’s dramatic decision to call a snap poll last year. Piqued by the remarkable successes of the far-right National Rally (RN) in the European elections in June 2024, the president rolled the dice on a parliamentary vote. The gamble backfired and his centrist bloc lost seats to the far right and far left, leaving France with a divided National Assembly and effectively ungovernable.\n\nBut it didn’t have to be this way. France’s Fifth Republic, founded by President Charles de Gaulle in 1958, was designed to end the chronic instability that had plagued the Third and Fourth Republics earlier in the 20th century. The new constitution gave broad powers to the executive and set up a majority system to avoid short-lived governments. As a result, for decades, two mainstream political parties on the left and right alternated in power.\n\nMacron blew up that order in 2017, by becoming the first president elected without the backing of either of the main established parties. Re-elected in 2022, he soon lost his parliamentary majority as voters flocked to the extremes. Two years of fragile rule followed, with Macron repeatedly forced to invoke Article 49.3 of the constitution – pushing legislation through without a vote, to the increasing displeasure of opposition lawmakers and much of the French public.\n\nIn the 2024 snap election, the left won most seats in the second round of voting but still fell short of a majority after the far right dominated the first. But the left’s hopes of forming a minority government collapsed when Macron refused to accept their choice of prime minister. Unlike Germany or Italy, France has no tradition of coalition building, instead its politics have been shaped for more than 60 years by a presidency-dominated system.\n\nThere’s a French saying that goes “Les mêmes causes produisent les mêmes effets” – the same causes produce the same consequences. And for Macron, history does indeed risk repeating itself unless he can find a prime minister able to broker compromise.\n\nThe problem is that, after three failed centrist prime ministers whose tenures ranged from between three to nine months, the opposition parties are in no mood to give another one a chance.\n\nSo Macron is caught in a political vise, with the far left calling for his resignation, the far right demanding a snap election and the mainstream left and right remain unable to reach consensus.\n\nThe frontrunner to replace Bayrou appears to be outgoing Defense Minister Sébastien Lecornu. But by choosing a premier from his own ranks Macron risks sounding tone-deaf, a sign that he has yet to fully accept the reality of his snap election defeat.\n\nThe logic behind Lecornu is that he might strike a deal with the Socialists to make the budget more palatable, the same compromise that Bayrou used to push through this year’s budget with concessions to the left. Yet that path now looks unworkable.\n\nThe Socialists want to tax the rich and roll back Macron’s tax cuts for businesses, demands that are anathema to the right. Bayrou as a centrist barely managed to walk that tightrope, Lecornu, positioned further to the right, may not be as agile.\n\nOne potential saving grace is that neither the left nor the right wants the snap election far-right figurehead Marine Le Pen is pushing for, since both political wings would risk losing seats. This gives them an incentive to cooperate, but not at any price.\n\nAway from politics, wider economic turmoil has rattled French investors. Yields on French government bonds – or the interest rate demanded by investors – have risen above those of Spanish, Portuguese and Greek bonds, which were once at the heart of the e urozone debt crisis. A possible downgrade of France’s sovereign debt rating review Friday would deliver another blow to the country’s economic standing in Europe.\n\nYet, following these turbulent years, the political climate is also bleak. In the event of another snap parliamentary election, a recent Elabe poll suggests that the far-right RN would emerge on top – as the largest single party in the National Assembly – with the left coming in second and Macron’s centrist bloc a distant third.\n\nMany in France now assume the far right will eventually take power – if not now, then after the 2027 presidential election – though few believe such an outcome would solve the country’s problems.\n\nPublic trust in the political class has collapsed and anger is set to spill onto the streets. The far left has called nationwide protests for Wednesday against austerity, under the banner “Bloquons tout” (Let’s block everything), and vow to paralyze the country with roadblocks and civil disobedience.\n\nThe outgoing interior minister has warned of “intense disruptions.” Trade unions are planning another wave of mobilization on September 18 with strikes expected in hospitals and across rail services.\n\nDominique Moïsi, a senior analyst at the Paris-based think tank Institut Montaigne, says he cannot recall a moment of such profound deadlock in the Fifth Republic.\n\n“De Gaulle survived assassination attempts, there was the Algerian war, in May ’68 the slogan was ‘La France s’ennuie,’ (France is bored). But today France is frustrated, furious, full of hatred towards the elite,” he told CNN.\n\n“It sounds as if a regime change is inevitable, yet I can’t see how it will come about and who would do the job. We are in a phase of transition between a system that no longer works and a system no one can imagine.”",
         "France’s government has collapsed again. How did we get here and what’s next?",
         "Why do French governments keep collapsing? What will Macron do next? Who could take over next and will it matter? What’s the mood in the country?"
        ],
        [
         "8",
         "9",
         "cnn",
         "https://edition.cnn.com/2025/09/09/europe/ukraine-russian-missile-us-components",
         "Ukraine says Russian missile that hit government building is packed with US and European parts | CNN",
         "2025-09-10T15:13:42.253569Z",
         "0.984",
         "A Russian cruise missile that hit a government building in central Kyiv on Sunday was filled with dozens of foreign parts, including chips and other electronic components made in the United States, Ukrainian officials said on Tuesday.\n\nThe Iskander 9M727 missile that struck the building did not explode, most likely because it was damaged by Ukrainian air defenses, Vladyslav Vlasiuk, Ukraine’s presidential commissioner for sanctions policy, said on Tuesday.\n\nVlasiuk released photographs of the damaged missile, as well as a list of components that have been previously found in identical missiles.\n\nThe list includes 35 parts manufactured by American companies, including Texas Instruments, Analog Devices, Altera and others, as well as components made by Japanese, British and Swiss companies.\n\nSerial numbers show that some of these parts were manufactured years ago, but some are listed as having been made recently, including after the start of Russia’s unprovoked full-scale invasion of Ukraine in 2022.\n\nMany Western countries, including the four named in the list published by Vlasiuk, have imposed strict sanctions and export controls on such components to stop them from being used by Russia.\n\nCNN has reached out to the companies listed by Vlasiuk for comment.\n\nInfineon Technologies, the German company that now owns American-based Cypress Semiconductor – one of the manufacturers listed – told CNN that it has taken “extensive measures” to ensure its items don’t end up in Russia.\n\nA spokesperson for the company said Infineon Technologies has stopped all direct and indirect shipments to Russia and that it has tools in place to ensure compliance among its customers.\n\n“(If) we get tangible evidence that companies with which we have a business relationship are doing trade with Russia, we terminate the delivery and demand clarification from the company in question,” the spokesperson said.\n\nHowever the company produces around 30 billion chips every year, which the spokesperson said makes it “difficult to control sales throughout the entire lifetime of a product.”\n\nOther companies listed by Vlasiuk did not respond to CNN’s questions.\n\nTexas Instruments has previously said that it stopped selling products into Russia and Belarus in February 2022 and that any shipments of its chips into Russia are illicit and unauthorized.\n\nVlasiuk said that even though this particular missile still included dozens of Western-made parts, it contained fewer such components compared to missiles analyzed earlier in the war.\n\n“There are fewer components from Europe and the US, and more from Russia and Belarus,” he said, adding that the Ukrainian government had informed its allies about the parts discovered “for sanctions response.”\n\nMost of the foreign parts found in the missile are so-called dual use components, meaning they were originally designed for civilian use, but can also be used for military purposes.\n\nThese include American chips made to be used in household electronics, smart devices or gaming gadgets, repurposed for in Russian guided bombs, missiles and drones.\n\nDespite efforts by US firms to prevent Moscow from using their products,  an inquiry by the Senate Permanent Subcommittee on Investigations found last year that US-made components “continue to guide and power the Russian weapons that kill Ukrainians daily.”\n\nThe subcommittee said companies based in other countries, including China, Kazakhstan and others, have been able to purchase these parts and then sell them to Russia.",
         "Ukraine says Russian missile that hit government building is packed with US and European parts",
         null
        ],
        [
         "9",
         "10",
         "cnn",
         "https://edition.cnn.com/2025/09/09/africa/icc-war-crimes-case-joseph-kony-intl",
         "ICC opens war crimes case against Ugandan rebel leader Joseph Kony | CNN",
         "2025-09-10T15:13:43.833194Z",
         "1.077",
         "Prosecutors at the International Criminal Court began presenting evidence Tuesday to support their charges against fugitive Ugandan rebel leader Joseph Kony at the global court’s first ever in absentia hearing, alleging that he inflicted horrors on Ugandan society that still echo two decades later.\n\nKony is facing 39 counts of war crimes and crimes against humanity as the fugitive leader of the Lord’s Resistance Army, or LRA, which terrorized northern Uganda for decades.\n\n“The social and cultural fabric of Northern Uganda has been torn apart and it is still struggling to rebuild itself,” deputy prosecutor Mame Mandiaye Niang said in his opening statements.\n\nThe LRA began its attacks in Uganda in the 1980s, when Kony sought to overthrow the government. After being pushed out of Uganda, the militia went on to attack villages in Congo, Central African Republic and South Sudan. It was notorious for using child soldiers, mutilating civilians and enslaving women.\n\nNiang said that victims were still “scarred in their body and spirit.”\n\nAs part of his presentation to a panel of three black-robed judges, Niang showed multiple graphic videos of the destruction the prosecution says was wrought by the LRA, including a clip from a Uganda police video depicting a body being removed from the rubble of a burned out building.\n\nThe court’s so-called confirmation of charges hearing comes two decades after it issued an arrest warrant for Kony.\n\nThe ICC hearing is not a trial but allows prosecutors to outline their case in court. Kony will be represented in his absence by a defense lawyer. After weighing the evidence, judges can rule on whether or not to confirm the charges against Kony, but he cannot be tried unless he is in the custody of the ICC.\n\nCourt-appointed counsel for Kony argued the proceedings violate their client’s fair trial rights and should not have been held at all.\n\n“The empty chair impacted the preparation of the defense,” lawyer Peter Haynes said, pointing to the courtroom seat where Kony would be if he was present.\n\nThe hearing has been seen as a test case for the court moving forward with other cases where the likelihood of having a suspect detained is considered remote, such as Israeli Prime Minister Benjamin Netanyahu or Russian President Vladimir Putin .\n\n“Everything that happens at the ICC is precedent for the next case,” Michael Scharf, an international law professor at Case Western Reserve University, told The Associated Press.\n\nScharf added that while the whereabouts of Netanyahu and Putin are known, Kony has eluded US special forces and remained at large despite a $5 million reward. He also noted that the warrants for Netanyahu and Putin were issued in recent years, whereas Kony has been wanted since 2005.\n\nKony was thrust into the global spotlight in 2012 when a video about his crimes went viral. Despite the attention and international efforts to capture him, he remains at large.\n\nThe ICC proceedings against Kony will be followed by many in Uganda, where survivors welcome the charges even as they regret the failure to catch him.\n\n“He did many things bad,” said Odong Kajumba, who escaped the LRA after he was captured and forced to carry a sack of sugar to Uganda’s border with Sudan in 1996. If they can arrest Kony, he said, “I am very happy.”\n\n‘We hope the court keeps him in jail for life,’ Survivors react to LRA commander’s guilty verdict\n\n”Why do you want to try a man you can’t get? They should first get him,” said Odonga Otto, a former lawmaker from northern Uganda. “It’s a mockery.” Trying Kony while he is in custody makes court proceedings “more real” for victims and survivors of his alleged crimes, he said.\n\nAnother LRA commander, Dominic Ongwen, was convicted in 2020 of 61 offenses including murders, rapes, forced marriages and recruiting child soldiers. Ongwen was himself abducted by the militia as a 9-year-old boy, transformed into a child soldier and later became a brutal commander in the rebel group.",
         "ICC opens war crimes case against Ugandan rebel leader Joseph Kony",
         null
        ],
        [
         "10",
         "11",
         "cnn",
         "https://edition.cnn.com/2025/09/09/middleeast/israel-gaza-city-evacuation-netanyahu-warning-intl",
         "Israel orders full evacuation of Gaza City as Netanyahu warns ‘this is only the beginning’ | CNN",
         "2025-09-10T15:13:45.260088Z",
         "0.925",
         "Israel on Tuesday ordered a complete evacuation of Gaza City, home to around a million Palestinians, ahead of its controversial military takeover .\n\n“To all residents of Gaza City and all its neighborhoods, from the Old City and Tuffah in the east to the sea in the west. The IDF is determined to defeat Hamas and will operate in the Gaza City area with great force, just as it did throughout the Strip,” Avichay Adraee, the military’s Arabic spokesperson said on Tuesday .\n\n“For your safety, evacuate immediately via the Rashid axis toward the humanitarian zone in Al-Mawasi,” he added.\n\nLeaflets carrying the message, which included a map directing residents across northern Gaza to travel westward to the coast before going south, were also dropped across the north.\n\nIsraeli Prime Minister Benjamin Netanyahu warned Palestinians to evacuate Gaza City on Monday, saying “this is only the beginning of the intensified ground maneuver” there. The warning came hours after the military intensified airstrikes on the urban area.\n\nIsrael has been targeting high-rise towers in the densely populated city in recent days as it moves forward with plans to occupy it in defiance of domestic and international opposition.\n\nThe United Nations’ Human Rights Chief Volker Türk has warned that an Israeli escalation in Gaza City would lead to “more massive forced displacement, more killing, more unbearable suffering, senseless destruction and atrocity crimes.”\n\nHundreds of thousands of Israelis have also taken to the streets to protest the planned takeover of the city, fearing that it would endanger the remaining hostages there and put the lives of soldiers at risk.\n\nThe Israeli military has expanded operations in recent weeks to seize Gaza City, which it says is key to defeating Hamas. It now claims control of about 40% of the enclave’s largest city.\n\nAs of Wednesday, only 70,000 Palestinians – less than 10% of Gaza’s City’s roughly one million residents – had evacuated, a senior Israeli official said, making up less than 10% of the total population.\n\nA source familiar with the matter told CNN earlier that Israel was planning to halt humanitarian airdrops over Gaza City and reduce the entry of aid trucks into the northern part of the strip, a move apparently designed to drive its residents to leave by depriving them of access to food.\n\nLast month, COGAT, the Israeli agency that manages the flow of aid into Gaza, announced that it would be providing Palestinians in Gaza with tents before relocating them to the south of the enclave.\n\nBut only 3,000 tents have entered the entire territory so far, the senior Israeli official said on Tuesday, adding that the goal was to deliver 100,000 tents within three weeks. “We want to flood Gaza with tents,” the official said.\n\nMeanwhile, the United States and Israel plan to expand the number of aid distribution sites run by the controversial Gaza Humanitarian Foundation (GHF) from four to 16, an Israeli official told CNN last month. None of these new sites would be in Gaza City, the official said. There is no indication yet that the new sites have all been established.\n\nWhen plans for the takeover were announced, some Gaza City residents told CNN that they would rather die in their homes than be displaced again.\n\nUm Samed, a 59-year-old mother of five, told Reuters that she had to make the decision whether “to stay and die at home in Gaza City, or follow (Israel’s) orders and leave Gaza and die in the south.”\n\nCNN’s Ibrahim Dahman, Abeer Salman, Eugenia Yosef, Max Saltman and Kareem El Damanhoury contributed to this report.",
         "Israel orders full evacuation of Gaza City as Netanyahu warns ‘this is only the beginning’",
         null
        ],
        [
         "11",
         "12",
         "cnn",
         "https://edition.cnn.com/2025/09/08/americas/mexico-train-bus-collision-intl-latam",
         "Train collides with double-decker bus in Mexico, killing at least 10 people | CNN",
         "2025-09-10T15:13:46.860538Z",
         "1.097",
         "A train collided with a double-decker passenger bus in Mexico on Monday, killing at least 10 people and injuring at least 41, an official at the Civil Protection of the State of Mexico said.\n\nThe cause of the collision is not yet known but a video shared on social media and geolocated by CNN shows a freight train plowing into a double-decker bus that was beginning to cross the tracks in slow-moving traffic. The roof of the bus was torn off as it was carried by the train down the tracks.\n\nThe crash happened on a highway in the Atlacomulco municipality, according to state authorities.\n\nThe driver of the bus has been taken into custody, Civil Protection General Coordinator Adrián Hernández said on Milenio TV.\n\nPhotos of the aftermath showed the front windshield on the roof of the bus shattered and nearly flattened.\n\nA video circulating online also showed people trying to help passengers evacuate from the roof.\n\nA spokesperson for Canadian Pacific Kansas City told CNN that the train was operated by its subsidiary CPKC de Mexico, adding that the company is working with officials in the response efforts and investigation.\n\n“Our most sincere condolences go out to the families of the victims of this tragedy,” the spokesperson said.\n\nThe Atlacomulco City Council said the community was in mourning following the collision. “We express our most sincere solidarity with the affected families at this time,” it said in a statement, promising support.\n\nTraffic is closed in both directions to allow emergency services to respond.",
         "Train collides with double-decker bus in Mexico, killing at least 10 people",
         null
        ],
        [
         "12",
         "13",
         "cnn",
         "https://edition.cnn.com/2025/09/08/europe/czech-allies-break-belarus-spy-network-latam-intl",
         "Czech Republic and allies break up Belarus spy network across Europe | CNN",
         "2025-09-10T15:13:48.288532Z",
         "0.926",
         "A spy network being built in Europe by Belarus was broken up by intelligence services from the Czech Republic, Hungary and Romania, the Czech counterintelligence agency said Monday.\n\nThe Czech agency, also known as BIS, said in a statement that a team of European agents discovered spies in several European countries from Belarus’ KGB security agency. BIS said that a former deputy head of Moldovan intelligence service SIS who handed over classified information to the KGB was among them.\n\nThe Czechs also expelled a Belarusian agent who was operating under the cover of a diplomat. That person was given 72 hours to leave the Czech Republic, the Czech Foreign Ministry said Monday.\n\nThe Czech agency said that Belarus managed to create the network because its diplomats are able to freely travel across European countries.\n\n“To successfully counter these hostile activities in Europe, we need to restrict the movement of accredited diplomats from Russia and Belarus within the Schengen (borderless) area,” BIS head Michal Koudelka said in a statement.\n\nRussia strikes Ukrainian government building, in largest air attack of war\n\nRomania’s anti-organized crime agency, DIICOT, said on Monday that it implemented an arrest warrant for a 47-year-old suspect on treason charges. The suspect had previously held management positions within Moldova’s SIS. The suspect allegedly disclosed state secrets to Belarusian intelligence officers that would likely “endanger national security,” DIICOT stated.\n\nThe Romanian agency added that, between 2024 and 2025, the Moldovan suspect – who wasn’t named – met twice with Belarusian spies in Budapest, Hungary, and that there is “reasonable suspicion” that the meetings involved “transmitting instructions” and exchanging payments for services provided.\n\nThe ongoing international investigation has been supervised by the European Union’s judicial cooperation agency, Eurojust.\n\nBelarus is led by authoritarian President Alexander Lukashenko , who is a close ally of Russian President Vladimir Putin. Lukashenko let Russia use Belarusian territory as a staging ground for Moscow’s full-scale invasion of Ukraine in February 2022, and later allowed the deployment of Russian tactical nuclear missiles.",
         "Czech Republic and allies break up Belarus spy network across Europe",
         null
        ],
        [
         "13",
         "14",
         "cnn",
         "https://edition.cnn.com/2025/09/09/europe/sebastien-lecornu-france-prime-minister-latam-intl",
         "French President Emmanuel Macron appoints outgoing defense minister Sébastien Lecornu as prime minister | CNN",
         "2025-09-10T15:14:00.609508Z",
         "0.912",
         "Beleaguered President Emmanuel Macron has appointed outgoing defense minister Sébastien Lecornu as prime minister, handing him the daunting task of trying to find consensus in a divided parliament and pass the 2026 budget.\n\nEarlier on Monday, outgoing Prime Minister François Bayrou submitted his resignation, which Macron accepted. He was forced out after just nine months in office, undone by his failure to deliver a central promise: pushing through an unpopular plan to tame France’s ballooning deficit.\n\nBefore the confidence vote, Bayrou warned lawmakers that ousting him would not resolve the country’s problems. “You have the power to bring down the government, but you do not have the power to erase reality,” he said. “Reality will remain relentless: expenses will continue to rise, and the burden of debt, already unbearable, will grow heavier and more costly.”\n\nLecornu now faces the dual challenge of steering France out of its financial morass while leading a government braced for mass protests. Nationwide demonstrations and highway blockades are set for Wednesday, followed by a broader union led strike on September 18.\n\nThe French presidency said Macron has tasked Lecornu “with consulting the political forces represented in Parliament with a view to adopting a budget for the nation and building the agreements essential to the decisions that will be taken in the coming months.”\n\nThe chaos can be traced back to Macron’s dramatic decision to call a snap poll last year. Piqued by the remarkable successes of the far-right party, the National Rally (RN), in the European elections in June 2024, the president rolled the dice on a parliamentary vote. The gamble backfired and his centrist bloc lost seats to the far right and far left, leaving France with a divided National Assembly and effectively ungovernable.\n\nBut it didn’t have to be this way. France’s Fifth Republic, founded by President Charles de Gaulle in 1958, was designed to end the chronic instability that had plagued the Third and Fourth Republics earlier in the 20th century. The new constitution gave broad powers to the executive and set up a majority system to avoid short-lived governments. As a result, for decades, two mainstream political parties on the left and right alternated in power.\n\nFrench prime ministers face an impossible problem. Can this man solve it?\n\nMacron blew up that order in 2017, by becoming the first president elected without the backing of either of the main established parties. Re-elected in 2022, he soon lost his parliamentary majority as voters flocked to the extremes. Two years of fragile rule followed, with Macron repeatedly forced to invoke Article 49.3 of the constitution – pushing legislation through without a vote, to the increasing displeasure of opposition lawmakers and much of the French public.\n\nIn the 2024 snap election, the left won the most seats in the second round of voting but still fell short of a majority after the far right dominated the first. But the left’s hopes of forming a minority government collapsed when Macron refused to accept their choice of prime minister. Unlike Germany or Italy, France has no tradition of coalition building, instead its politics have been shaped for more than 60 years by a presidency-dominated system.\n\nBy choosing a premier from his own ranks, Macron risks sounding tone-deaf, a sign that he has yet to fully accept the reality of his snap election defeat.\n\nLecornu, 39, is regarded as a political survivor, the only minister to have served continuously since Macron first took office in 2017. The logic behind his appointment is that Lecornu might be able to strike a deal with the Socialists to make the budget more palatable – the same compromise that Bayrou used to push through this year’s budget with concessions to the left. Yet that path now looks highly unlikely.\n\nThe Socialists want to tax the rich and roll back Macron’s tax cuts for businesses, demands that are anathema to the right. As a centrist, Bayrou barely managed to walk that tightrope. Lecornu, positioned further to the right, may not be as agile.\n\nOne potential saving grace is that neither the left nor the right wants the snap election that far-right figurehead Marine Le Pen is pushing for, since both political wings would risk losing seats. This gives them an incentive to cooperate with Macron’s government, but not at any price.\n\nAway from politics, wider economic turmoil has rattled French investors.\n\nYields on French government bonds – or the interest rate demanded by investors – have risen above those of Spanish, Portuguese and Greek bonds, which were once at the heart of the e urozone debt crisis. A possible downgrade of France’s sovereign debt rating review Friday would deliver another blow to the country’s economic standing in Europe.\n\nFollowing these turbulent years, the political climate is also bleak. In the event of another snap parliamentary election, a recent Elabe poll suggests that the far-right RN would emerge on top, with the left coming in second and Macron’s centrist bloc a distant third.\n\nMany in France now assume the far right will eventually take power – if not now, then after the 2027 presidential election – though few believe such an outcome would solve the country’s challenges.\n\nPublic trust in the political class has collapsed and anger is set to spill onto the streets. The far left has called for nationwide protests on Wednesday against austerity, under the banner “Bloquons tout” (Let’s block everything), and has vowed to paralyze the country with roadblocks and civil disobedience.\n\nThe outgoing interior minister has warned of “intense disruptions.” Trade unions are planning another wave of mobilization on September 18 with strikes expected in hospitals and across rail services.\n\nDominique Moïsi, a senior analyst at the Paris-based think tank Institut Montaigne, said he cannot recall a moment of such profound deadlock in the Fifth Republic.\n\n“De Gaulle survived assassination attempts, there was the Algerian war, in May ’68 the slogan was ‘La France s’ennuie,’ (France is bored). But today France is frustrated, furious, full of hatred towards the elite,” he told CNN.\n\n“It sounds as if a regime change is inevitable, yet I can’t see how it will come about and who would do the job. We are in a phase of transition between a system that no longer works and a system no one can imagine.”",
         "French President Emmanuel Macron appoints outgoing defense minister Sébastien Lecornu as prime minister",
         "Why do French governments keep collapsing? Will Lecornu succeed where others have failed? What’s the mood in the country?"
        ],
        [
         "14",
         "15",
         "cnn",
         "https://edition.cnn.com/2025/09/09/europe/pig-head-paris-mosque-france-intl",
         "Pig heads discovered outside several Paris mosques | CNN",
         "2025-09-10T15:14:01.877698Z",
         "0.766",
         "Pig heads appeared outside several mosques around Paris on Tuesday, authorities said, decrying the insult to Muslims.\n\nFrance has Europe’s largest population of Muslims, over 6 million, for whom pigs are considered impure.\n\n“An inquiry has been immediately opened,” Paris police chief Laurent Nunez said on X. “Everything is being done to find the perpetrators of these despicable acts.”\n\nThe Paris prosecutor’s office said pig heads had been found in front of at least two mosques in Paris and one just outside the city limits.\n\nA pig head was also found in a suitcase outside a mosque in the north of the city, it said.\n\nThe word “Macron” was scrawled in blue at one of the sites, it added, an apparent reference to French President Emmanuel Macron, who is engulfed in a political and fiscal crisis.\n\nA Paris police unit is investigating the incident for suspected incitement to hatred, aggravated by discrimination.\n\n“I want our Muslim compatriots to be able to practice their faith in peace,” he said. “I understand that they feel hurt.”",
         "Pig heads discovered outside several Paris mosques",
         null
        ],
        [
         "15",
         "16",
         "cnn",
         "https://edition.cnn.com/2025/09/08/uk/prince-harry-return-uk-wellchild-intl",
         "Prince Harry returns to the UK, but it’s unclear if he’ll see King Charles | CNN",
         "2025-09-10T15:14:03.467084Z",
         "1.087",
         "Prince Harry has paid tribute to his late grandmother, Queen Elizabeth II, on the third anniversary of her death as he returned to the United Kingdom for a short visit, which has also sparked speculation over whether he might meet his father, King Charles III.\n\nThe Duke of Sussex, who lives in California with wife Meghan and their two children, has come back to England for several charity engagements this week.\n\nHis last trip to the country was in April to challenge the British government’s decision to downgrade his level of taxpayer-funded security.\n\nHarry, 40, made the transatlantic trip to attend the annual WellChild Awards in London on Monday evening. The charity, which the duke has been a patron of for 17 years, supports seriously ill children and their families.\n\n“For two decades, this event has shone a bright spotlight on the needs of children and young people living with complex medical conditions,” Harry said in a speech at the awards ceremony.\n\n“But more than that, it has celebrated something far bigger – your courage, your resilience, and the extraordinary love of the families and carers who never stop showing up,” he said. “Thank you for showing us the light when all too often darkness can consume us.”\n\nAfter arriving on Monday, the duke made his way to Windsor where the late Queen was laid to rest alongside her husband Prince Philip. Harry laid a wreath and flowers at the King George VI Memorial Chapel within St. George’s Chapel in her memory, according to a spokesperson for the Sussexes.\n\nOn Tuesday, he will travel to Nottingham to visit the Community Recording Studio, an organization that teaches film, video and music skills. During the event, he is due to announce a substantial donation to Children in Need to assist the charity’s work tackling violence affecting young people.\n\nHe will also hold a private briefing with Children in Need, the Police and Crime Commission and grassroots community partners. Harry will also informally catch up with some of the young people he has previously met before watching several live performances from the studio’s artists.\n\nIt is not known if the duke will reunite with the British monarch during his short stay. Buckingham Palace has not commented publicly.\n\nKing Charles is currently in Balmoral, Scotland, where he has been spending his summer break, but he has been regularly traveling back down south for cancer treatment. He and the Queen do not have any public engagements scheduled for the week ahead.\n\nPrince Harry says father, King Charles, no longer speaks to him but hopes to reconcile\n\nCharles and Harry’s last encounter was in February 2024 when the duke rushed back to the UK to see his father following the announcement of his cancer diagnosis.\n\nIn July, senior aides to the King and Harry were photographed meeting in the British capital in what multiple British media outlets reported was an initial step towards opening communication channels between the two sides.\n\nMeanwhile, Prince William was joined by his wife, Catherine, Princess of Wales as the couple also marked the anniversary of Queen Elizabeth II’s death. The pair visited the National Federation of Women’s Institutes in Sunningdale, just outside of London.\n\nThe organization was particularly close to the late monarch’s heart as she was a member for 80 years and served as the president of the Sandringham branch from 2003 until her death.\n\nThe Prince of Wales will on Tuesday visit Spiral Skills, a youth organization in south London, which received funding from William’s homelessness initiative, “Homewards,” to expand its operations into a new hub for young people in the area.",
         "Prince Harry returns to the UK, but it’s unclear if he’ll see King Charles",
         null
        ],
        [
         "16",
         "17",
         "cnn",
         "https://edition.cnn.com/2025/09/08/europe/london-heathrow-airport-terminal-4-evacuation-latam-intl",
         "London Heathrow Airport check-in area reopens after police say no hazardous materials found at scene | CNN",
         "2025-09-10T15:14:05.036845Z",
         "1.068",
         "A check-in area at London’s Heathrow airport was briefly evacuated on Monday due to a possible hazardous substance incident, but police later said no harmful substances were found at the scene.\n\n“Service and conducted a thorough search of the area. No trace of any adverse substance was found,” a Metropolitan Police spokesperson said in a statement.\n\n“Around twenty people reported an injury. None were deemed to be life-threatening or life-changing. Enquiries are ongoing,” the police statement said, adding that specialist officers and the London ambulance and fire services attended the scene.\n\nA Heathrow spokesperson told CNN that emergency services ﻿ confirmed the terminal was safe to reopen.\n\nThe London Fire Brigade said in a statement that “the cause of the incident remains under investigation.”\n\n“Firefighters responded to a possible hazardous materials incident at Heathrow Airport,” the statement said. “Specialist crews were deployed to carry out an assessment of the scene, and Terminal 4 check-in was evacuated as a precaution whilst firefighters conducted operations.”\n\nLondon Fire Brigade said it was called about the incident at 5:01 p.m. local time (12:01 p.m. ET) and crews from at least three fire stations in the surrounding area were sent to the airport.\n\nThe London Ambulance Service said its crews treated 21 patients at the airport terminal before taking one patient to the hospital.\n\n“Emergency services have confirmed Terminal 4 is safe to reopen and we are doing everything we can to ensure all flights to depart as planned today,” a Heathrow spokesperson said after the incident concluded. “We are very sorry for the disruption caused, the safety and security of our passengers and colleagues is our number one priority.”\n\n“We encourage passengers to check with their airline for the latest information about their flight this evening and our colleagues will be on hand into the night to assist,” the Heathrow spokesperson added.\n\nTerminal 4 is home to check-in counters for AirFrance, Bulgaria Air, China Southern, Etihad Airways, Korean Air, Qatar Airways, Vueling and WestJet, among others.\n\nThe terminal, situated to the south of the airport’s runways next to the cargo terminal, was closed for two years during the coronavirus pandemic, and it reopened on June 14, 2022. Heathrow said parts of the terminal underwent refurbishment during the closure, including the air-conditioning system, bathrooms and baggage screening machines.\n\nHeathrow has been plagued by a string of recent incidents. The airport completely shut down in March following a fire in an electrical substation a few miles away, which disrupted the local power supply, throwing more than 1,000 flights into disarray and forcing pilots to divert their journeys in midair.",
         "London Heathrow Airport check-in area reopens after police say no hazardous materials found at scene",
         null
        ],
        [
         "17",
         "18",
         "cnn",
         "https://edition.cnn.com/2025/09/08/europe/french-prime-minister-confidence-vote-latam-intl",
         "French government collapses after prime minister loses confidence vote | CNN",
         "2025-09-10T15:14:06.418184Z",
         "0.879",
         "French lawmakers voted to oust Prime Minister François Bayrou Monday, plunging the country into a new political crisis and leaving it without a government at a time of increasing economic strain and geopolitical tensions.\n\nA total of 364 MPs voted against Bayrou and 194 voted for him after he called the vote in a bid to push through an unpopular €44 billion ($51 billion) savings plan that included scrapping two public holidays and freezing government spending. The 364 votes against Bayrou were well above the 280-vote threshold needed to topple the government.\n\nBayrou will now be forced to step down after just nine months in office, following in the footsteps of his predecessor Michel Barnier, who lost a no-confidence vote last December.\n\nFrench President Emmanuel Macron will name a new prime minister in the coming days, according to the Élysée Palace. But Bayrou’s departure leaves Macron with few palatable options.\n\nInvestors have been rattled. Yields on French government bonds – or the interest rate demanded by investors – have risen above those of Spanish, Portuguese and Greek bonds, which were once at the heart of the e urozone debt crisis. A possible downgrade of France’s sovereign debt rating review Friday would deliver another blow to its economic standing in Europe.\n\n“You have the power to bring down the government, but you do not have the power to erase reality,” Bayrou told lawmakers on Monday ahead of the vote. “Reality will remain relentless: expenses will continue to rise, and the burden of debt, already unbearable, will grow heavier and more costly.”\n\n“We broke the social contract” with younger generations, Bayrou added.\n\nThe political instability can be traced back to Macron’s own dramatic decision last year to call a snap election. Piqued by the remarkable results of the far-right National Rally in the European Parliament elections of May 2024, the French president forced a vote in which his party lost seats to the far right and far left, leaving France with a splintered parliament.\n\nBayrou is expected to submit his resignation to Macron on Tuesday morning, according to the Élysée, which also said Macron will name a new prime minister in the coming days.\n\nArmed Forces Minister Sébastien Lecornu and Justice Minister Gérald Darmanin are expected to be among the frontrunners for what is likely to be a poisoned chalice.\n\nEven before the vote, the prospect of Bayrou’s downfall sparked calls for the president to step aside, though he has vowed to serve out his term. Far-right doyenne Marine Le Pen has demanded he dissolve parliament, but fresh elections would almost certainly strengthen her party and fracture the French parliament further.\n\nThe trouble for Macron is that, after three failed centrist prime ministers, the opposition parties are in no mood to give another one a chance. Both the far right and far left have signaled they would immediately call for a vote of no confidence if another such premier were appointed. Naming a prime minister from another political camp is, in theory, an option, but a choice on the right would be blocked by the left, and vice versa.\n\nFor the next prime minister, the budget fight will be just as fraught. The Socialists want to tax the rich and roll back Macron’s tax cuts for businesses – all red lines to Les Republicains, the long-standing conservative party and a key player in the coalition cobbled together after the snap election. The upshot is that France’s fiscal mess is unlikely to be fixed anytime soon.\n\nIn the event of another snap parliamentary election, a recent Elabe poll suggests the National Rally would emerge on top, with the left coming in second and Macron’s centrist bloc a distant third. Many now assume the far right will eventually take power – if not now, then after the 2027 presidential election – though few believe such an outcome would solve the country’s problems.\n\nPublic trust in the political class has collapsed and anger is set to spill onto the streets: the far left has called nationwide protests for Wednesday, under the banner “Bloquons tout” (“Let’s block everything”), with trade unions planning another mobilization on September 18.\n\nAll of this comes at the worst possible geopolitical moment, with wars raging in Ukraine and the Middle East. Instability in Paris is a gift to both Russian President Vladimir Putin and his US counterpart Donald Trump, who share a common delight in mocking Europe’s weaknesses.\n\nCNN’s Joseph Ataman and Lauren Kent contributed to this report.",
         "French government collapses after prime minister loses confidence vote",
         "What comes next?"
        ],
        [
         "18",
         "19",
         "cnn",
         "https://edition.cnn.com/2025/09/08/europe/russia-ukraine-trump-putin-relationships-analysis-intl",
         "Trump’s misreading of Russia has cost Ukraine. Now Putin is making his intentions clearer than ever | CNN",
         "2025-09-10T15:14:07.552729Z",
         "0.632",
         "Call it a valiant, optimistic, perhaps even a calamitous misreading.\n\nUS President Donald Trump’s belief he could somehow, through force of personality, convince his Russian counterpart, Vladimir Putin , that he wanted a peace deal was, at best, overly generous to himself and the Kremlin head.\n\nIt was fed by the strategic hot take that Moscow is an ally-in-waiting for the United States against China, rather than – increasingly – an energy-producing vassal to Beijing.\n\nAnd while this misinterpretation of the situation has cost Ukraine dearly – in terms of the public shakiness of its American support, and by providing a window in which Russia’s forces could coldly plough forward on the front lines – valuable and obvious lessons have been learned, again, by Washington.\n\nIt’s left both sides in this now global and pivotal conflict in starker relief than they have been before.\n\nThe relentless aerial pummelling of Kyiv is, as several European leaders have said, designed to echo the practical outcome of Russia’s stalled diplomacy: that Moscow just does not want peace.\n\nUkraine’s Cabinet of Ministers building, which houses the prime minister’s office as well as some government ministries, was hit Sunday for the first time since the war began and – whether this is by design or from the falling debris of intercepted drones – it comes after another onslaught hit European Union and British Council offices.\n\nRecord attack drone launches are designed to overwhelm Kyiv’s defenses, and the deaths of children in the city (another infant was killed in an apartment building alongside her mother Sunday) are the one thing Trump seems to feel acutely – bar being complimented or shunned by Putin.\n\nRussia’s president is no longer trying to mollify Trump, however, and the US presidential envoy Keith Kellogg correctly deemed these assaults as an “escalation” on Sunday.\n\nThe timing is no coincidence. Putin emerged from Beijing’s bonhomie last week – discussing immortality with his main bankroller, President Xi Jinping, and sharing his limo with wavering US ally, Indian leader Narendra Modi – aware that China wanted to parade its own bloc, unbowed.\n\nThe practical application of this new fervor to support Russia is yet unknown, but it will have simply increased the sense in Moscow they have a lot more road to travel down. They may get money, conventional military arms, souped-up hydrocarbon purchases, or just another 10,000 North Korean special forces. But Putin knows he is not alone now, and won’t be if sanctions cause his country’s economy to falter – the last remaining hope, bar internal political dissent, in the West for Russian defeat.\n\nMeanwhile, Putin is putting to powerful use the time he has already won. Ukrainian officials fear Moscow’s troops are amassing yet again to make a final assault on Pokrovsk, in the east, and might see progress near Kupiansk, farther north.\n\nWe’ve been here before, where battlefield movements prove unpredictable, erratic, even glacial. But the tenacity of Kyiv’s forces in holding back the Russian summer offensive has been a remarkable outlier, and wider Russian progress remains a fierce possibility in the weeks ahead.\n\nGiven this renewed sense of purpose and momentum among Moscow’s allies, Trump finds the ball is rolling back toward him. Europe has done much of its part, pledging higher spending, ongoing commitment, and even ground troops in Ukraine if there is a peace.\n\nTrump pushes Europe to stop Russian oil imports to help end war in Ukraine\n\nTrump threatened “phase two” of sanctions on Russia on Sunday – presumably a widening of the tariffs against India and their introduction in China. But the 50% tariffs against New Delhi have had little effect so far – bar dragging Modi to Beijing and into Putin’s limo – and apparently increasing India’s purchases of Russian oil by 15% to 50% in the coming months, according to sources describing Indian oil markets to CNN.\n\nUS legislators have an oven-ready bill proposing sanctions against Russian banks, and those who work with them, together with up to 500% tariffs against countries that purchase Russian oil.\n\nSo there is more that Trump can do. It would put him, surreally, in a space where his non-military measures against Moscow exceed those of his predecessor Joe Biden.\n\nTrump is permitting Europe to pay for Ukraine to buy weapons – such as longer-range missiles – that Biden once balked at. Any new sanctions might hit Moscow’s increasingly fragile economy at a moment of weakness. But Russia has had plenty of heads-up about what sanctions might be coming, and significant support from allies to evade them. It has proved resilient over the past years in practical terms, and in its domestic tolerance.\n\nTrump’s Treasury secretary, Scott Bessent, said future moves could put the Russian economy “in full collapse, and that will bring President Putin to the table.”\n\nIt is not a forlorn hope, but one that underestimates the existential nature of this war for Russia’s leader. Economic pressure will make him uncomfortable, and might make him seek an earlier ceasefire than he would like.\n\nBut it will not by itself deter him from his main goal: a victory broad enough it justifies the likely hundreds of thousands of Russian war dead, and the vast damage this war has wrought upon Russia itself. Once the war is done, Putin must sell his victory convincingly to his own elite, or risk finding himself defenestrated. Nothing is infinite (not even with the organ transplants he discussed with Xi).\n\nThe prognosis for the months ahead is gloomy. Putin could see some of the pressure his forces have applied in Ukraine’s east translate into territorial gains of strategic import. Trump may struggle to formulate an economic response that is damaging enough to Moscow to change its mind, but also soft enough to keep the channels of diplomacy open.\n\nThis is an impossible task – partly due to Trump’s own muddled thinking – but most importantly, because Putin does not want peace.\n\nThe past eight months have been wasted by the US president in terms of planning for Ukraine’s survival and European security, with needless cozying up to Moscow and undermining of a strategic transatlantic alliance that Washington will still need in the decades to come. But they have provided an invaluable lesson – if one needed to be learned – of who is on which side. Not even Trump can have any illusions now.",
         "Trump’s misreading of Russia has cost Ukraine. Now Putin is making his intentions clearer than ever",
         null
        ],
        [
         "19",
         "20",
         "cnn",
         "https://edition.cnn.com/2025/09/09/middleeast/gaza-flotilla-tunisia-drone-strike-intl",
         "Gaza aid flotilla says boat struck by drone at Tunisian port | CNN",
         "2025-09-10T15:14:08.787486Z",
         "0.732",
         "An activist group seeking to break Israel’s siege on Gaza by sea said one of its main boats was struck by a drone at a port in Tunisia on Monday night, but all six passengers and crew are safe.\n\nTunisia’s National Guard said claims of an attack on the Global Sumud Flotilla (GSF) boat at the Sidi Bou Said port were “not based in truth.” It said an initial investigation found that a fire had broken out on the vessel from a lighter or a cigarette butt.\n\nBut a video of the incident, published by GSF, showed an incendiary object fall from the sky and explode on impact with the boat.\n\nGSF said the vessel struck was known as the “Family Boat,” which has previously carried GSF Steering Committee members. It said the Portuguese-flagged ship had sustained fire damage to its main deck and below-deck storage.\n\nOn Tuesday, the group said another boat in its fleet was attacked by a drone while docked in Tunisian waters.\n\nThe “Alma,” which sails under a British flag, sustained fire damage on its top deck, GSF said in a statement. The fire was extinguished and all passengers and crew were safe, the group said.\n\n“These repeat attacks come during intensified Israeli aggression on Palestinians in Gaza, and are an orchestrated attempt to distract and derail our mission,” GSF said.\n\nThe vessels are two of around 50 in the flotilla attempting to break Israel’s naval blockade and carry aid into Gaza. The flotilla left Barcelona last week and plans to sail across the Mediterranean to the besieged enclave. Its members include Swedish activist Greta Thunberg and the Irish actor Liam Cunningham.\n\nThe “Family Boat” has carried some of the most high-profile members of the flotilla in recent days, including Thunberg, although she was not onboard at the time of the incident, according to Yusuf Omar , an activist who was onboard.\n\nSpeaking at a press conference near the Tunisian port, Miguel Duarte, a Portuguese activist onboard the Family Boat, described how he heard a drone buzzing overhead late Monday evening.\n\n“I came out of the cover of the deck to see a drone hovering about three or four meters above my head,” Duarte said Tuesday.\n\nHe said another person came onto the deck to see the drone, which then “moved to the forward part of the deck” and “dropped the bomb,” causing a fire onboard.\n\n“This is a shameful attack, and we will not be deterred,” Duarte told reporters.\n\nN.R. Jenzen-Jones, a munitions specialist and director of Armament Research Services (ARES), said that available images and video of the remnants found from the second incident on the “Alma” appear to show “what would ordinarily be a hand-thrown munition amongst the remains of a melted synthetic bag or pouch.”\n\n“This may be an incendiary grenade, or possibly a smoke grenade used to ignite an incendiary composition held in the bag,” Jenzen-Jones added.\n\nThe features, he said, were “common, but not exclusive, to some models of Israeli hand grenades,” adding that better images may reveal more details.\n\n“The visual signature of the munitions descending upon the flotilla ships in the two attacks is generally consistent with previously documented incidents in which incendiary munitions have been deployed by what are believed to be Israeli UAVs,” Jenzen-Jones said.\n\nSince Israel imposed a total blockade of Gaza in March, groups like GSF have attempted to sail ships carrying aid into the enclave, although Israel has intercepted them.\n\nIn May, a Gaza-bound aid ship caught fire and issued an SOS, after what its organizers claimed was an Israeli drone attack off the coast of Malta in international waters. The Israeli military declined to comment on the incident.\n\nIn June, a yacht with 12 activists onboard, including Thunberg, was intercepted off the coast of Gaza . Israel dismissed it as a “selfie yacht” carrying “less than a single truckload of aid.”\n\nCNN has asked the Israeli military for comment on Monday’s incident in Tunisia.\n\nIn a statement, GSF said that “acts of aggression aimed at intimidating and derailing our mission will not deter us.”",
         "Gaza aid flotilla says boat struck by drone at Tunisian port",
         null
        ],
        [
         "20",
         "21",
         "cnn",
         "https://edition.cnn.com/2025/09/09/middleeast/qatar-hamas-israel-strike-intl",
         "Israel carries out strike targeting Hamas leadership in Qatar | CNN",
         "2025-09-10T15:14:10.602802Z",
         "1.314",
         "Israel carried out an attack targeting Hamas leadership in Qatar on Tuesday, in an unprecedented strike on a key mediator in the Gaza conflict that threatened to derail renewed peace efforts and further inflame tensions in the region.\n\nA senior Israeli official told CNN that among those targeted was Hamas’ chief negotiator Khalil Al-Hayya . “We are awaiting the results of the strike,” the official said.\n\nHamas said later Tuesday that the strike killed five members but failed to assassinate the negotiating delegation. Al-Hayya was not listed among the dead, but his son and the director of his office were killed in the strike, Hamas said.\n\nQatar and Hamas both said that a Qatari security official died in the strike, as well.\n\nQatar’s prime minister was visibly angry as he described the attack as “state terrorism” at a press conference. “This is a message to the entire region: that there is rogue player in the region,” Sheikh Mohammed bin Abdulrahman bin Jassim Al-Thani said.\n\nThe Qatari foreign ministry’s spokesperson, Majed Al Ansari, said “the cowardly Israeli attack” targeted residential buildings housing several members of the Hamas political bureau in Doha.\n\n“While strongly condemning this attack, the State of Qatar emphasizes that it will not tolerate this reckless and irresponsible Israeli behavior,” Al Ansari said on X.\n\nHours after the strike, Israeli Prime Minister Benjamin Netanyahu announced that Israel accepted a new US ceasefire proposal and that the attack could bring the end of the war closer.\n\n“The days when the heads of terror enjoyed immunity anywhere are over,” Netanyahu said in Hebrew at a US embassy event in Jerusalem. “I will not allow such immunity for the murderers of our people.” An Israeli security official said the operation “could potentially generate a shift” that could bring an end to the war in Gaza, though it’s unclear how targeting the chief Hamas negotiator would lead to such a change.\n\nQatar has been a key mediator in Gaza ceasefire talks , maintaining direct channels with the US, Israel and Hamas. It has also hosted multiple rounds of negotiations, and senior Israeli officials – including the head of the Mossad spy agency and top Israeli negotiators – have visited Doha. Whether such visits will continue remains uncertain.\n\nEinav Zangauker, the mother of an Israeli hostage held in Gaza, said Tuesday’s strike could serve as a death sentence for her son.\n\n“I am trembling with fear. It could be that at this very moment, the prime minister has essentially executed my Matan, sentenced him to death,” Zangauker wrote on X. “Why is he insisting on blowing up every chance for a deal?”\n\nAntonio Guterres, the Secretary-General of the United Nations, condemned the attack, saying “Qatar has been playing a very positive role to achieve a ceasefire and release of all hostages,” according to a UN spokesperson.\n\nThe Israeli strike involved more than 10 fighter jets which fired more than 10 munitions, according to an Israeli official, and they all struck a single target in the Qatari capital.\n\nAn Israeli source who spoke to CNN said the United States was informed ahead of the strike. Two US officials confirmed to CNN that the Trump administration had been notified.\n\nIn a statement, the Israeli Prime Minister’s Office said, “Today’s action against the top terrorist chieftains of Hamas was a wholly independent Israeli operation. Israel initiated it, Israel conducted it, and Israel takes full responsibility.”\n\nThe short missive appeared designed to distance the US from the Israeli attack on a critical American ally in the Middle East.\n\nWhite House press secretary Karoline Leavitt called the strike “unfortunate” and said it ran counter to US President Donald Trump’s goals in the region. “Unilaterally bombing inside Qatar, a sovereign nation and close ally of the United States that is working very hard in bravely taking risks with us to broker peace, does not advance Israel or America’s goals,” she said.\n\nStill, Leavitt’s carefully worded statement made clear that “eliminating Hamas” was a “worthy goal,” and stopped short of condemning Israel’s actions.\n\nLater on Tuesday, Trump sought to further distance himself from the attack, posting an addendum to an earlier statement from the White House that specified the decision was made by Israel’s leader and that the US learned of it too late to intervene.\n\n“This was a decision made by Prime Minister Netanyahu, it was not a decision made by me,” Trump wrote on Truth Social, inserting the line into a statement read earlier from the White House briefing room by Leavitt.\n\nTrump added that by the time his administration learned of the attack and told the Qataris, there was little he could do to stop it. Qatar’s prime minister said earlier that the US contacted Qatar 10 minutes after the attack occurred, and that Israel used weapons that went undetected by radar.\n\nQatar’s Amiri Diwan said in a statement that Trump expressed his solidarity with Qatar following the attack, in a phone call with Qatar’s Emir, Sheikh Tamim bin Hamad Al-Thani.\n\nTrump “stressed that the State of Qatar is a trusted strategic ally of the United States of America, calling on His Highness the Amir to continue Qatar’s mediation efforts to end the war in the Gaza Strip,” the statement said.\n\nTwo Israeli sources said the attack, which the IDF called “Summit of Fire,” had been planned about two or three months ago but was accelerated in recent weeks.\n\nQatar has denied receiving prior notification of the strike, calling reports that suggested otherwise “baseless.”\n\nQatar is one of the US’ closest allies in the Middle East and home to the Al Udeid Air Base , the biggest American military facility in the region. A key security partner of Washington, it was designated a Major Non-NATO Ally in 2022.\n\nAl Udeid came under Iranian attack this year after the US struck nuclear facilities in Iran during Israel’s June campaign.\n\nFollowing Tuesday’s strike, the US embassy in Qatar instituted a shelter-in-place order for its facilities in the country, it said in a post on X.\n\n“We have seen reports of missile strikes occurring in Doha. The US Embassy has instituted a shelter-in-place order for their facilities. US citizens are advised to shelter-in-place,” it said. The order was later lifted but the embassy said it will continue to monitor the situation.\n\nShortly after the explosion in Qatar, the IDF issued a statement saying it had targeted “senior leadership” of Hamas with “a precise strike” in a joint operation with the Shin Bet security agency.\n\n“For years, these members of the Hamas leadership have led the terrorist organization’s operations, are directly responsible for the brutal October 7th massacre, and have been orchestrating and managing the war against the State of Israel,” the IDF said.\n\nQatar presses Hamas to ‘respond positively’ to US ceasefire proposal, official says\n\nOn Monday, Khalil Al-Hayya met with Qatari Prime Minister Sheikh Mohammed bin Abdulrahman Al-Thani in Doha.\n\nDuring the discussion, Al-Thani pressured Hamas to “respond positively” to a US ceasefire proposal for Gaza, according to an official familiar with the meeting. The proposal, which was put forward this week, called on Hamas to release all Israeli hostages in exchange for negotiations to end the war in the enclave.\n\nIt’s not the first time Israel has carried out an attack that undermines US diplomatic efforts. In June, Israel opened a military campaign against Iran while Washington was in talks with Tehran over its nuclear program. Although both the US and Iran had already voiced doubts about making progress, the Israeli strikes effectively ended any chance of an agreement.\n\nCNN’s Kareem Khadder, Jeremy Diamond, Sarah El Sirgany, Abeer Salman, Max Saltman, Billy Stockwell, Abbas Al Lawati, Catherine Nicholls, Mohammed Tawfeeq and Kevin Liptak contributed to this report.",
         "Israel carries out strike targeting Hamas leadership in Qatar",
         "‘Israel takes full responsibility’ ‘Trusted strategic ally’ of the US"
        ],
        [
         "21",
         "22",
         "cnn",
         "https://edition.cnn.com/2025/09/08/middleeast/qatar-hamas-us-ceasefire-proposal-intl-latam",
         "Qatar presses Hamas to “respond positively” to US ceasefire proposal, official says | CNN",
         "2025-09-10T15:14:12.046224Z",
         "0.941",
         "Qatar’s prime minister pressed Hamas to “respond positively” to the new US ceasefire proposal in a meeting in Doha, according to an official familiar with the meeting.\n\nSheikh Mohammed bin Abdulrahman bin Jassim Al-Thani met with Khalil Al-Hayya, Hamas’ chief negotiator, on Monday to discuss the deal.\n\nHamas confirmed late Sunday that it had received the proposal from the US that included “some ideas” toward reaching a comprehensive ceasefire. Israel said it was giving serious consideration to the proposal.\n\nThe plan, according to one Israeli official, calls for the release of all 48 hostages on the first day of the ceasefire. In exchange, a source familiar with the proposal said Israel would release “thousands” of Palestinian prisoners.\n\nUnder the proposal, Israel and Hamas would start immediate negotiations for a comprehensive end to the war, and the fighting would not resume as long as talks continued. US President Donald Trump would ensure the ceasefire holds as long as negotiations persist.\n\nThe coming days are considered crucial in an effort to advance the proposal.\n\nIn response to news of the latest proposal on Sunday, the Hostages and Missing Families Forum issued a strong statement in support of the US effort, calling it a “true breakthrough.”\n\n“We call on the Government of Israel to declare its unequivocal support for the emerging agreement and to provide President Trump with full backing until every hostage returns home - the living for rehabilitation, and the fallen for a dignified burial in their homeland,” the forum said.\n\nFor weeks, Netanyahu did not respond to the ceasefire proposal put forward by Qatar and Egypt, which Hamas accepted. The proposal, which mirrored one Netanyahu had accepted only a month earlier, called for a 60-day ceasefire in exchange for 10 living hostages and 18 deceased hostages. In exchange, Israel would release a number of Palestinian prisoners.\n\nAfter months of insisting Israel would only accept a partial deal that would allow Israel to continue the war, Netanyahu suddenly demanded a comprehensive deal that met his maximalist demands.\n\nHamas has called for a proposal that brings about a comprehensive end to the war in exchange for the release of the hostages.\n\nOne of Hamas’ political bureau members, Basem Naim, criticized the latest US initiative on Monday, saying it amounted to an attempt to secure Hamas’ rejection rather than to end the war.\n\n“What is required is a ‘humiliating peace’ or the continuation of the war,” Naim said in a post on his Telegram page on Monday.\n\n“The Hamas movement and the resistance factions are interested in reaching an agreement that ends the war,” he said. “But we will not sign a humiliating surrender document — and there is no emperor in Hamas’ leadership like Japan’s Hirohito,” Naim added.\n\nCNN’s Tal Shalev, Ibrahim Dahman and Mohammed Tawfeeq contributed to this report.",
         "Qatar presses Hamas to ‘respond positively’ to US ceasefire proposal, official says",
         null
        ],
        [
         "22",
         "23",
         "cnn",
         "https://edition.cnn.com/2025/09/08/middleeast/jerusalem-attack-dozen-injured-intl",
         "At least 6 killed in shooting at Jerusalem bus stop, Israeli officials say, in city’s deadliest attack in 2 years | CNN",
         "2025-09-10T15:14:14.531183Z",
         "1.982",
         "At least six people were killed and several injured on Monday after two attackers opened fire on a busy bus stop in Jerusalem, Israeli officials said, marking the deadliest attack in the city in more than two years.\n\nThe gunmen, who arrived at the junction in a vehicle carrying weapons, ammunition and a knife, shot at dozens of people waiting near buses in the area.\n\n“I saw people falling or getting hurt while trying to escape,” eyewitness Elazar Toledano told Reuters. Toledano said it took people a few seconds to understand what was happening after the first burst of gunfire. “Someone suddenly shouted ‘Terror attack!’ and people started running.”\n\nThe suspected attackers were killed by an Israeli combat soldier and a civilian at the site, prompting calls by far-right ministers for the arming of more civilians in Israel. Police identified the gunmen as Muthanna Omar, 20, and Muhammad Taha, 21, who are both from villages just outside Jerusalem in the occupied West Bank.\n\nOne Spanish national was among the six killed, according to the Spanish Foreign Ministry. Twenty people were injured, according to Israel police.\n\nIsraeli special forces, ambulances and rescue workers rushed to the attack site where bloodstained pavements were littered with shattered glass from bus windows damaged in the shooting.\n\n“When I first came to the area I saw a lot of people laying down in the street bleeding,” Fadi Dekaidek, one of the paramedics for Israel’s emergency services Magen David Adom, told CNN.\n\nPrime Minister Benjamin Netanyahu visited the area after holding a “situational assessment” with his heads of security, where he announced measures against Palestinian villages.\n\n“We are pursuing and encircling the villages from which the murderers came. We will reach everyone who helped them and who sent them – and we will take even harsher measures,” Netanyahu said.\n\nItamar Ben Gvir, the country’s national security minister and a far-right member of Netanyahu’s cabinet, called on Israelis to “arm” themselves and Defense Minister Israel Katz warned of the “most severe and far-reaching consequences” to the attack.\n\nLater Monday, Israeli President Isaac Herzog visited wounded victims of the attack at Shaare Zedek Medical Center. “The people of Israel must be strong and understand that we are going through a difficult period,” he said during the visit.\n\n“In the end, we will emerge from it, just as we have emerged from other difficult times,” he added.\n\nThe shooting marks the deadliest attack in the city in more than two years, when a Palestinian man opened fire killing seven people near a synagogue in January 2023. Ten months later, in November 2023, two Hamas militants killed three people in a shooting at a Jerusalem bus stop during a temporary ceasefire in Gaza. A fourth person was killed when an Israeli reservist shot a civilian who had responded to the attack.\n\nIn October 2024, two Hamas militants opened fire on a popular boulevard in southern Tel Aviv, killing seven people.\n\nHamas did not take responsibility for Monday’s shooting but issued a statement welcoming the attack.\n\nThe attack and its aftermath could heighten tensions in a city already on edge amid Israeli annexation plans and the ongoing conflict with Hamas in Gaza, which was sparked on October 7, 2023, when the militant group launched attacks on southern Israel, killing 1,200 people and kidnapping 250 others.\n\nIsraeli Prime Minister Benjamin Netanyahu warned Palestinians to evacuate Gaza City on Monday, hours after Israel’s military intensified airstrikes on the urban area.\n\n“In just two days, we have taken down 50 terror towers — and this is only the beginning of the intensified ground maneuver in Gaza City. I say to the residents: you have been warned — get out!” Netanyahu said in a video message.\n\nIsrael has been targeting high-rise towers in densely populated Gaza City in recent days as it moves forward with plans to occupy the enclave’s largest city.\n\n“But all of this is just a prelude — just the beginning — to the main intensified action: the ground maneuver by our forces, who are now organizing and assembling on Gaza City,” Netanyahu added.\n\nAn Israeli strike on a women and children’s NGO in Gaza City on Sunday killed one of the clinic’s employees, a pregnant woman and a child, according to the clinic’s partner organization Medical Aid for Palestinians. CNN has reached out to the Israel Defense Forces for comment on the strike.\n\nSince the beginning of the war in Gaza, more than 64,000 Palestinians have so far been killed, according to the Palestinian Ministry of Health in Gaza.\n\nSpain intensifies criticism of Israeli offensive in Gaza. Israel responds with travel bans\n\nIsraeli settlers have also targeted Palestinians in parts of the occupied West Bank in recent months.\n\nLast week, a security assessment presented to Israeli ministers in a meeting with Netanyahu warned of the potential of a flare-up in the occupied West Bank in the coming weeks, two Israeli officials briefed on the discussion told CNN.\n\nThe junction where Monday’s attack took place sits on the green line, which separates Israel from occupied territory in the West Bank. The road leads to Ramot, an area considered a settlement under international law but which Israel annexed into the city of Jerusalem.\n\nOne Israeli security official said a volatile combination of events - Western nations recognizing a Palestinian state , a Palestinian Authority under serious pressure, and Israeli overtures about West Bank annexation - could lead to a “serious escalation.”\n\nThe Palestinian Authority – who envision a future in governing Gaza after the war – issued a statement denouncing all forms of violence and terrorism, regardless of their source” and rejecting “any targeting of Palestinian and Israeli civilians.”",
         "At least 6 killed in shooting at Jerusalem bus stop, Israeli officials say, in city’s deadliest attack in 2 years",
         "Warning to Gaza City"
        ],
        [
         "23",
         "24",
         "cnn",
         "https://edition.cnn.com/2025/09/08/middleeast/spain-pm-pedro-sanchez-israel-travel-ban-intl",
         "Spain intensifies criticism of Israeli offensive in Gaza. Israel responds with travel bans | CNN",
         "2025-09-10T15:14:16.534091Z",
         "1.501",
         "Spanish Prime Minister Pedro Sánchez on Monday ratcheted up his criticism of Israel’s actions in the 23-month Israel-Hamas war , to which Israel responded by banning two left-wing Spanish ministers from the country.\n\nSánchez made the comments while announcing a raft of measures he said his government was taking to pressure Israeli Prime Minister Benjamin Netanyahu’s government to address the humanitarian crisis caused by its military offensive in the Gaza Strip.\n\n“This is not self-defense, it’s not even an attack – it’s the extermination of a defenseless people. It is a violation of all humanitarian laws, and despite that, the international community is failing to stop this tragedy,” Sánchez said.\n\nBesides formalizing an arms embargo, which the Spanish government says has been de facto in effect since October 2023, Spain will ban ships carrying fuel for Israel’s armed forces from passing through Spanish ports, and increase its humanitarian aid toward Gaza in 2026 to reach 150 million euros ($176 million), he said.\n\nOther steps included a pledge to increase aid for the United Nations agency for Palestinian refugees, known as UNRWA, and to impose an embargo on goods made in Israeli settlements in the occupied Palestinian territories.\n\nAdditionally, anyone who directly participates in what Sánchez termed the “genocide” in Gaza would not be allowed to enter Spanish territory, he said.\n\n“We know that all these measures will not be enough to stop the invasion or the war crimes, but we hope that they will serve to add pressure on Prime Minister Netanyahu and his government to alleviate some of the suffering that the Palestinian population is enduring,” Sánchez said.\n\nLeading genocide scholars pass resolution saying Israel's actions in Gaza meet the legal definition of genocide. Israel lambasted the accusation, saying it is based on a \"campaign of lies\" by Hamas. Jeremy Diamond has details.\n\nInternational Association of Genocide Scholars: Israel’s actions meet the legal definition\n\nIn response, Israeli Foreign Minister Gideon Saar said Sánchez was trying to divert attention from the corruption scandals affecting his Socialist Party, and characterized the Spanish government’s actions as “antisemitic.”\n\nSaar said on X that Israel had banned Spain’s labor minister, Yolanda Díaz, and Youth Minister Sira Rego from traveling to the country. Both belong to the government’s left-wing coalition partner Sumar. Saar said the ministers would be prohibited from entering Israel because they had made statements calling Israel a “genocidal state” and supported efforts to sanction or boycott Israel.\n\nSpain’s government has been an outspoken critic of Israel’s war in Gaza, which began after Hamas-led militants killed around 1,200 people, mostly civilians, on October 7, 2023, and abducted 251 hostages. Israel’s offensive has killed more than 64,000 Palestinians, according to the Gaza Health Ministry, which does not say how many were civilians or combatants.\n\nLast year, Spain joined Norway and Ireland to formally recognize a Palestinian state and was the first European country to ask a UN court for permission to join South Africa’s case accusing Israel of genocide in Gaza.\n\nOn Monday, Saar downplayed the effect the Spanish government’s actions would have on Israel.\n\n“If they want to hold or halt defense connections with Israel,” Saar told reporters, “who do you think will lose from that? We don’t need Spain to protect the land of Israel.”",
         "Spain intensifies criticism of Israeli offensive in Gaza. Israel responds with travel bans",
         null
        ],
        [
         "24",
         "25",
         "cnn",
         "https://edition.cnn.com/2025/09/07/middleeast/houthi-drone-hits-ramon-airport-southern-israel-intl",
         "Sirens fail as Houthi drone hits arrivals hall at Ramon Airport in southern Israel, authorities say | CNN",
         "2025-09-10T15:14:18.082140Z",
         "1.046",
         "A drone launched from Yemen by Houthi rebels hit the arrivals hall at Ramon Airport in southern Israel on Sunday, the Israeli military and the Israel Airports Authority said.\n\nNo sirens were sounded, the Israel Defense Forces (IDF) said, adding that the incident was under review.\n\nIt is rare for sirens not to warn of incoming projectiles in Israel, which has a multi-layered system to defend against missiles and drones. The vast majority of drones fired by the Houthis in Yemen have been intercepted before striking Israel.\n\nThe Israeli Air Force said an initial inquiry found that the drone was detected but was not classified as hostile, allowing it to fly through air defenses.\n\n“There is no indication of a technical malfunction in the existing detection systems,” the military said in a statement on Sunday, adding that an “extensive investigation” is expected. Several other drones on Sunday were intercepted, the military said.\n\nA spokesperson for the Israel Airports Authority said the southern airspace over Ramon Airport was closed to air traffic after the incident, but reopened after about 90 minutes.\n\nRamon Airport is one of the few international airports in Israel, primarily serving the city of Eilat at the southern tip of the country on the Red Sea.\n\nVideos shared on social media showed shattered windows and glass-covered floors at the airport’s arrivals hall.\n\nMagen David Adom (MDA), Israel’s emergency response service, said that they received a report at 2:35 p.m. local time about a drone that had come down in the Ramon Airport area. Two people sustained minor injuries as a result of the attack, MDA said.\n\nThe Houthi-controlled Yemeni Armed Forces issued a statement after the attack warning airlines that “the airports inside occupied Palestine are not safe and will be continuously targeted.”\n\nThe rebel group said the drone “directly hit the airport and caused the airport to shut down, halting air traffic.”\n\nIsrael and the Houthis have engaged in an escalating long-range conflict since the Iran-backed rebel group began targeting Israel in what the group’s leaders say is solidarity with Palestinians in Gaza. The Houthis have also targeted shipping in the Red Sea and the Gulf of Aden, some of the world’s most critical waterways.\n\nIn early May, a ballistic missile fired by the Houthis penetrated Israel’s air defenses and struck Ben Gurion international airport near Tel Aviv, halting flights for about 30 minutes. Israel’s long-range Arrow interceptor missile failed to stop the Houthi projectile before it hit. It marked the first time the Houthis had managed to strike such a well-defended target.\n\nIsrael says it has ‘fully’ disabled Yemen’s main airport in escalating strikes on Houthi rebels\n\nAfter the Houthis fired a ballistic missile armed with a new type of cluster warhead in late August, Israel carried out a strike that killed the group’s prime minister and other senior officials. An Israeli security official said the strike, carried out in the Yemeni capital of Sana’a, killed “a majority of the leadership,” including the foreign minister, minister for security affairs, and others.\n\nAsked if the Houthi’s military chief and defense minister were killed, the official said, “If they are not dead, we will continue to hunt them down.”\n\nIsrael has also carried out strikes against Houthi military targets and civilian infrastructure the IDF says is used by the rebel group.",
         "Sirens fail as Houthi drone hits arrivals hall at Ramon Airport in southern Israel, authorities say",
         null
        ],
        [
         "25",
         "26",
         "cnn",
         "https://edition.cnn.com/2025/09/05/world/gallery/photos-this-week-august-28-september-04",
         "Photos this week: August 28-September 4, 2025 | CNN",
         "2025-09-10T15:14:22.140174Z",
         "1.148",
         "US Health and Human Services Secretary Robert F. Kennedy Jr. testified Thursday in what might have been the most combative congressional hearing of the year .\n\nKennedy appeared in front of the Senate Finance Committee and answered questions on a variety of topics , including vaccines, recent staffing changes and increasing calls for him to resign. He often fired back at lawmakers during his testimony, which was praised by the White House . Some of the pointed questioning came from Republicans who confirmed Kennedy.\n\nKennedy’s testimony comes amid a growing storm engulfing his department, including the recent firing of Dr. Susan Monarez , the director at the Centers for Disease Control and Prevention who had been confirmed less than a month earlier. Kennedy has also canceled his department’s funding for future mRNA vaccine developments.\n\nHere are some of the stories that made headlines over the past week, as well as some photos that caught our eye.",
         "The week in 30 photos",
         null
        ],
        [
         "26",
         "27",
         "cnn",
         "https://edition.cnn.com/2025/09/03/world/gallery/in-pictures-chinas-80th-victory-day-parade",
         "Photos: China’s 80th Victory Day parade | CNN",
         "2025-09-10T15:14:23.278136Z",
         "0.635",
         "Xi Jinping oversaw a huge display of China’s military power on Wednesday before some of the world’s most powerful authoritarian leaders, rallying them behind his vision for a new world order as US President Donald Trump wages a global trade war and shakes up American alliances.\n\nRussia’s Vladimir Putin and North Korea’s Kim Jong Un flanked Xi at the start of the parade as the trio stood together publicly for the first time in a historic moment.\n\nThe parade unveiled hundreds of advanced weapons and featured over 10,000 troops, showcasing China’s growing military power under Xi’s push to modernize the world’s largest standing army .",
         "In pictures: China’s 80th Victory Day parade",
         null
        ],
        [
         "27",
         "28",
         "cnn",
         "https://edition.cnn.com/2025/08/28/world/gallery/photos-this-week-august-21-august-28",
         "Photos this week: August 21-28, 2025 | CNN",
         "2025-09-10T15:14:24.293807Z",
         "0.514",
         "Minneapolis is in mourning after a shooter opened fire through the stained-glass windows of a church on Wednesday.\n\nTwo children, ages 8 and 10, were killed in the attack , which took place as students were attending a Mass to mark the first week of class at the Annunciation Catholic School. Eighteen other people were wounded , including 15 children and three adults.\n\nThe shooter, who died of a self-inflicted gunshot wound, was identified as 23-year-old Robin Westman. Westman shared a “manifesto” on social media that is being investigated, police said. The shooter graduated from the school in 2017. Investigators believe Westman likely intended to carry out yesterday’s attack from inside the church.\n\nThis was the 44th school shooting in the United States this year, according to a CNN analysis .\n\nHere are some of the stories that made headlines over the past week, as well as some photos that caught our eye.",
         "The week in 32 photos",
         null
        ],
        [
         "28",
         "29",
         "cnn",
         "https://edition.cnn.com/2025/09/05/africa/ebola-outbreak-dr-congo-intl",
         "New Ebola outbreak in DR Congo suspected of causing 15 deaths | CNN",
         "2025-09-10T15:14:25.588286Z",
         "0.792",
         "A new Ebola outbreak in the Democratic Republic of Congo is suspected of causing 15 deaths among 28 people with symptoms, the health ministry in the central African country said Thursday.\n\nIt’s the 16th outbreak of Ebola in Congo, and Health Minister Samuel-Roger Kamba said the fatality rate, estimated at 53.6%, showed the gravity of the situation.\n\nThe confirmed case was of a 34-year-old pregnant woman in the locality of Boulapé, in southern Kasai province. Research on the suspected cases was ongoing.\n\n“To date, the provisional report shows 28 suspected cases and 15 deaths, including 14 in Boulapé and 1 in Mweka, as well as four health care workers,” Kamba said.\n\nThe suspected cases and deaths presented symptoms such as fever, vomiting, diarrhea and heavy bleeding.\n\nTravelers and health-care providers should be on alert due to Ebola disease outbreak in Uganda, CDC warns\n\nThe World Health Organization said it dispatched its experts alongside Congo’s Rapid Response Team to Kasai province to strengthen disease surveillance, treatment and infection prevention and control in health facilities. It is also delivering supplies including personal protective equipment, mobile laboratory equipment and medical supplies.\n\nCongo has a stockpile of treatments and of the Ervebo Ebola vaccine, WHO said.\n\n“We’re acting with determination to rapidly halt the spread of the virus and protect communities,” said Dr. Mohamed Janabi, WHO regional director for Africa.\n\nThe Ebola virus is highly contagious and can be contracted through bodily fluids such as vomit, blood, or semen. The disease it causes is a rare but severe — and often fatal — illness in people.",
         "New Ebola outbreak in DR Congo suspected of causing 15 deaths",
         null
        ],
        [
         "29",
         "30",
         "cnn",
         "https://edition.cnn.com/2025/09/02/africa/burkina-faso-outlaws-lgbtq-practices-intl",
         "Burkina Faso parliament passes law outlawing LGBTQ practices | CNN",
         "2025-09-10T15:14:27.114930Z",
         "1.024",
         "Burkina Faso’s transitional parliament passed legislation outlawing conduct deemed to promote LGBTQ practices, introducing fines, prison sentences and sanctions for persons convicted, its justice minister said.\n\nThe Persons and Family Code law, making Burkina Faso the latest in a series of African countries to criminalize lesbian, gay, bisexual and transgender activity, also tightens rules on nationality and stateless people.\n\nThe military that took over Burkina Faso in a 2022 coup has grown increasingly intolerant of dissent amid worsening Islamist militant violence in the West African country.\n\nThe legislation was passed unanimously by the unelected, 71-member transitional parliament on Monday and is awaiting the signature of military junta leader Ibrahim Traore.\n\n“The law provides for a prison sentence ranging from two to five years and a fine,” Justice Minister Edasso Rodrigue Bayala said on state television on Monday night.\n\n“A person who (engages in) homosexual practices … will appear before a judge and, in the event of a repeat offence, be deported if you are not a Burkinabe national,” he said.\n\nUganda passed one of the world’s harshest anti-gay laws. LGBTQ people describe living there as ‘hell’\n\nThe government has framed the law as an effort to modernize family law and clarify nationality rules, but rights advocates are likely to call out the restrictions on LGBTQ practices and limits imposed on legal recourse in nationality cases.\n\nAnti-gay laws are in place in various conservative African countries including Senegal, Uganda and Malawi, though some others, including South Africa, Botswana and Angola, have decriminalized LGBTQ practices or enacted protective measures.",
         "Burkina Faso parliament passes law outlawing LGBTQ practices",
         null
        ],
        [
         "30",
         "31",
         "cnn",
         "https://edition.cnn.com/2025/09/09/americas/venezuela-yvan-gil-interview-intl-latam-hnk",
         "Venezuela not seeking conflict with the United States, its foreign minister tells CNN | CNN",
         "2025-09-10T15:14:28.260874Z",
         "0.644",
         "Venezuela is not seeking a military confrontation with the United States or any other regional actor, its Foreign Minister Yván Gil told CNN in a rare interview, as tensions rise with Washington, including over the recent deadly US Navy strike on a vessel allegedly carrying drugs in the Caribbean.\n\n“We are not betting on conflict, nor do we want conflict,” Gil said during the interview from the Casa Amarilla, the Venezuelan Foreign Ministry headquarters in Caracas, on Monday.\n\nThe relationship between the US and Venezuela has long been precarious. But it has become particularly fraught under the two administrations of President Donald Trump who has taken a hardline against his counterpart Nicolas Maduro, including recognizing the country’s opposition leader following a widely criticized election.\n\nCNN interviewed Gil as US military ships deploy to the Caribbean and after Washington announced the doubling of the reward for the arrest of Maduro to $50 million.\n\nAnd on Tuesday 2 September the US carried out a lethal strike on a speedboat it said was carrying drugs in international waters and had departed from Venezuela, fueling suspicions in Caracas that Washington is trying to topple the regime of President Nicolas Maduro.\n\nMaduro has since mobilized some 4.5 million militiamen to defend the country, in response to what he calls US “imperialism .”\n\nAlthough he ruled out a military escalation of tensions, the Venezuelan foreign minister said his country is prepared to deter any possible threat.\n\n“We are denying the possibility of conflict because we are prepared to deter any deployment and we have a clear determination to defend our homeland,” he said.\n\nCNN asked Gil why he was calling for the United Nations human rights council to investigate the targeting of the boat, when Venezuela’s government has called the body “two-faced” over its multiple condemnations of Venezuela’s own human rights record.\n\nIn response Gil said Venezuela had “never questioned” the defense of human rights, but admitted Venezuela had “criticized the actions of some bureaucrats” in the Office of the United Nations High Commissioner for Human Rights (OHCHR).\n\nOHCHR, the US and other countries have accused the Maduro government of frequent repression of its political opponents, human rights abuses in the country, and the undermining of democracy.\n\nIt “would not be appropriate” at this moment to talk about possible military alliances with other Latin American countries and the region since, Gil said, they maintain a “pro-peace” stance.\n\nIn this regard, Gil referred to the position of the Community of Latin American and Caribbean States (CELAC), which recently expressed its “deep concern” about the military deployment in the region.\n\n“The Community of Latin American and Caribbean States (CELAC) issued a firm, categorical statement calling for respect for the peace zone decreed in 2014,” he said.\n\nAmong US assets deployed to the Caribbean is a nuclear-powered submarine – which is not equipped with nuclear weapons – officials previously told CNN.\n\nRegarding the US strike on the boat that the Pentagon said was carrying drugs, Gil said that in his opinion, there was no clarity about what happened.\n\n“They (the US officials) showed a video without clarifying many things. It’s not clear where it was, who was on board, or if it really happened or not. The only thing we’ve seen is a video, nothing else,” said the foreign minister.\n\nUS Secretary of State Marco Rubio has defended President Donald Trump’s order to destroy the boat and warned that this strategy “will happen again,” instead of the alternative of intercepting suspicious vessels.\n\n“The United States has long used established technology to intervene and board drug trafficking boats. But it doesn’t work because these drug cartels know they will lose 2% of their cargo. What will stop them is if they destroy the boats,” the Secretary of State said.\n\n“The same intelligence mechanism was used to determine that a drug trafficking boat was heading to the United States, and instead of intercepting it, by order of the president, it was destroyed. And it will happen again,” he added.\n\nThe Venezuelan foreign minister said Washington’s narrative of the incident “seeks to legitimize an illegal action.”\n\nThe Trump administration has so far ducked lawmakers and provided a mishmash of public justifications that raise serious questions about the legality of the strike, legal experts and congressional sources have previously told CNN.\n\nRubio had previously told CNN: “I’m not going to speak for the White House lawyer; suffice it to say that all those steps were taken in advance.”\n\nGil also rejected recent accusations from the Trump administration that Maduro is the leader of the alleged Cartel of the Suns and, as such, heads purported drug trafficking operations across the continent.\n\n“It is totally false that the Venezuelan state or its leaders have even the slightest relation to drug trafficking,” said Gil, attributing these accusations to political groups in the US seeking to put pressure on Maduro’s government.\n\n“A narrative has been constructed within the United States by the staff surrounding President Trump, trying to link us to drug trafficking. I am concerned, as a Latin American, that this narrative is trying to be imposed,” he said.\n\n“More than 25,000 personnel are deployed on the border with Colombia, in coordination with the Colombian state, combating drug trafficking,” he told CNN.\n\nAny solution to the current US-Venezuela tensions must be political, Gil said, and reiterated that the way forward is dialogue. He also echoed Maduro’s statements about the existence of “damaged” but open communication channels.\n\n“After having sent eight ships to destroy a rock, let them (the US) ask themselves if it’s worth it. We are not going to give up, we will continue here, governing, advancing, building, happily,” he added.\n\n‘Trying to separate Maduro from the presidency’: Analyst on Trump, Venezuela and regime change",
         "Venezuela not seeking conflict with the United States, its foreign minister tells CNN",
         "Venezuela questions the US version of speedboat strike"
        ],
        [
         "31",
         "32",
         "cnn",
         "https://edition.cnn.com/2025/09/06/americas/mexican-south-sudan-returns-latam-intl",
         "South Sudan repatriates Mexican man deported from US | CNN",
         "2025-09-10T15:14:29.471692Z",
         "0.709",
         "A Mexican man deported from the US and sent to South Sudan returned to Mexico on Saturday, according to South Sudanese officials.\n\nAmbassador Apuk Ayuel Mayen, spokesperson for South Sudan’s Ministry of Foreign Affairs, confirmed J. Jesus Muñoz Gutierrez’s “smooth and orderly” departure during a press conference at Juba International Airport on Saturday.\n\nMuñoz  was released into the custody of the Mexican ambassador-designate to South Sudan, Alejandro Estivill, Mayen said. CNN has reached out to Mexico’s Foreign Ministry for comment.\n\nAddressing reporters in Juba before stepping aboard a plane, Muñoz said he “felt kidnapped” by the US when he was sent to South Sudan.\n\nTrump administration plans to deport Kilmar Abrego Garcia to Eswatini\n\n“I was not planning to come to South Sudan, but while I was here, they treated me well,” Muñoz told reporters. “I finished my time in the United States, and they were   supposed to return me to Mexico. Instead, they wrongfully sent me to South Sudan.”\n\nDepartment of Homeland Security spokesperson Tricia McLaughlin disputed Muñoz’s characterization of his deportation, saying Muñoz “received due process and had a final order of removal.”\n\n“All eight sent to South Sudan were egregious criminal illegal aliens,” McLaughlin said. “Aliens who commit these types of crimes are frequently not taken back by their home countries.”\n\nMuñoz was one of eight people deported from the US and sent to east Africa in May. He and the other deportees were initially diverted to Djibouti , where they were held in a converted Conex shipping container on a military base while the Trump administration fought for more than a month in federal court to send them to South Sudan.\n\nLawyers for the eight detainees – who came from Cuba, Laos, Vietnam and other countries, along with Mexico - had argued that they would face dangerous physical conditions in South Sudan, which has struggled with intercommunal violence since its independence in 2011.\n\nBy early July, a Supreme Court ruling and a subsequent interpretation by a federal court in Massachusetts allowed the government to send the eight to the war-torn east African nation.\n\n“Law and order prevails,” McLaughlin said on X following the decision at the time.\n\nSix of the eight original deportees remain in custody in South Sudan, Mayen said, and the South Sudanese government is working with their respective home governments to repatriate them. One deportee, a South Sudanese citizen, was freed earlier, the Associated Press reported Saturday.\n\nBeyond South Sudan, the Trump administration is also coordinating US deportations with other African countries including Rwanda, Uganda and Eswatini . While Rwanda recently reached an agreement to take in up to 250 migrants deported from the US, Uganda has publicly insisted it will only accept limited cases, and Eswatini has already received deportees despite mounting criticism.",
         "South Sudan repatriates Mexican man deported from US",
         null
        ],
        [
         "32",
         "33",
         "cnn",
         "https://edition.cnn.com/2025/09/05/americas/bolivia-devotee-luck-tree-lightning-intl-latam",
         "A lightning-struck ‘miracle tree’ said to fulfill wishes is drawing devotees to a Bolivian cemetery | CNN",
         "2025-09-10T15:14:30.845086Z",
         "0.871",
         "Struck by lightning during a roaring thunderstorm 10 years ago, an ancient pine tree in Bolivia’s capital of La Paz is thriving.\n\nKnown as the “miracle tree,” this giant conifer now draws devotees from across the country to La Paz’s largest public cemetery, founded two centuries ago on a pre-Columbian burial plot. Pilgrims stream through the alleys bearing offerings – coins, flowers, sweets, handwritten disclosures of secret wishes – to stuff into bark crevices.\n\nOn a chilly afternoon last week during the throes of an election season, pilgrims made their way to the miracle tree through the winding alleys of the cemetery packed with over 200,000 graves, many belonging to decorated soldiers and dignitaries.\n\nAs Bolivia is now heralding the end of almost two decades of leftist rule under its first Indigenous president, Evo Morales, and his successor, even electoral drama and economic collapse seemed eclipsed by other concerns for devotees of the miracle tree.\n\n“People ask for love, work, health, children, even to bring back their lost pet,” explained Javier Cordero, who leads funeral prayers at the cemetery. “If the person comes with a lot of faith, the tree will fulfill their wishes.”\n\nSome of the devotees were young, having recently discovered the story of the tree on TikTok.\n\nOthers were regulars, older Bolivians long convinced of the tree’s sacred powers, like 79-year-old prayer leader Ricardo Quispe, who was taking refuge beneath the tree’s sheltering limbs when lightning struck on that stormy afternoon a decade ago. He claims the lightning bolt also gave him psychic powers.\n\nFar from pulverizing the tree, the rogue bolt of lightning left a scar on its trunk that now oozes aromatic resin. The towering tree in the La Paz cemetery now appears healthier than ever.\n\nA study probing how certain trees may benefit from lightning strikes – published earlier this year in the journal New Phytologist – offers some scientific basis for this tree’s surprising transformation. But long before such forest ecology studies, Indigenous Aymara shamans in Bolivia believed lightning strikes bestowed divine powers upon their survivors, whether people or trees.\n\nHis mother buried a coin next to a tree at Augusta as a good luck charm for her son. This is what happened next\n\nSuch rites abound in this Andean nation, where ancient pre-Hispanic beliefs underlay the Catholicism brought by Spanish colonizers.\n\nYatiris, specialists in divining good luck and performing energy cleansings, fill the streets of La Paz and the neighboring Aymara city of El Alto, selling their services to anyone in need of blessings – from women trying to get pregnant to farmers hoping for healthy crops.\n\nAugust, a time of transition from winter to spring in the regional agricultural calendar, is an especially busy time for yatiris in Bolivia, Latin America’s only Indigenous-majority country.\n\nOver the course of the month, Bolivians make offerings to Pachamama (Mother Earth), often hiring shamans to perform rituals in their homes and offices and or making pilgrimages to feed the hungry earth and mountain deities at sacred sites and cemeteries like the one in La Paz.\n\nAncient temple could reveal secrets of a lost society that predates the Inca Empire\n\n“I know people who have been healed from illnesses, they are the most devout,” Cordero said, touching the trunk of the miracle tree with a copper wire to demonstrate its special energetic charge. Within moments, the wire began to rotate in response.\n\n“The lightning transmits the vital energy of the cosmos,” he said.\n\nThe belief in the tree’s powers keeps many of its worshippers coming back.\n\nTania Arce, 60, approached the miracle tree with her arms full of tantalizing chocolates and flowers.\n\n“He likes sweets,” she said, speaking about the tree as if it were her son. “He fulfilled the favor I asked of him, but I haven’t stopped visiting.”",
         "A lightning-struck ‘miracle tree’ said to fulfill wishes is drawing devotees to a Bolivian cemetery",
         null
        ],
        [
         "33",
         "34",
         "cnn",
         "https://edition.cnn.com/2025/09/04/americas/venezuela-us-tensions-warships-intl-latam",
         "As US tensions rise, Venezuelans keep calm and carry on – but whisper hopes of change | CNN",
         "2025-09-10T15:14:32.110870Z",
         "0.763",
         "Work starts early for the fishermen of Chichiriviche de la Costa, a remote village on the Caribbean coast of Venezuela, some two hours of unpaved driving from the capital Caracas.\n\nOn Thursday, Eduard Ulloa, 47, was at the shore before six in the morning, ready to prepare his boat for the day’s catch.\n\nA US strike on a Venezuelan speedboat allegedly carrying drugs that killed 11 people just a couple of days ago has created big waves in the world of geopolitics, fueling suspicions in Caracas that Washington is trying to topple the regime of President Nicolas Maduro – a man accused by the US of trafficking drugs (a charge he vehemently denies) and on whose head a $50 million bounty rests.\n\nThat deadly strike, which followed the deployment of several US warships to the Caribbean on what Washington says is an effort to combat drug cartels, took place on the same seas on which the fishermen of Chichiriviche ply their trade every day.\n\nYet, unlike their president – who has responded to the US deployment by mobilizing some 4.5 million militiamen to defend the country from what he has described as the “biggest threat seen on our continent in the last 100 years” – these fishermen seem untroubled.\n\n“Nothing has changed for us, everyone is chill,” Ulloa told CNN.\n\nJust a few hundred people live in Chichiriviche, and some 70 families depend on fishing for their subsistence, so not taking the boats out is unthinkable. All the fishermen agree: As long as the government doesn’t issue orders to the contrary, they will continue as normal.\n\n“You can be a little worried,” said Ulloa, a father of three, “But one way or another we must go out, otherwise what are we going to eat? This is our daily bread.”\n\nUlloa was among dozens of men that day who boarded their small glass-fiber boats in groups of three, armed with nets and lines to hunt for tuna, snapper and groupers to bring back and sell in Caracas.\n\nFor many Venezuelans, there is a far more immediate concern than their government’s troubles: Millions of them earn just a handful of dollars a month, barely enough to survive.\n\nThe Venezuelan economy has long been troubled by chronic inefficiencies and historically subject to hyperinflationary cycles.\n\nDespite a brief boom in business that followed the pandemic, in recent months a slump has set in once again.\n\nThe minimum wage is now worth less than one US dollar, although the government – which sits on the world’s largest oil reserves – complements it with extra handouts and subsidies.\n\nOn the streets of Caracas, word of the US strike is on everyone’s lips, but beyond being a popular talking point most people here are keeping calm and carrying on – while doing their best to stay afloat.\n\n“Tension is surely there, but I’m busy working and trying to make my products, so I don’t think about it,” says Gilberto Salas, an ice-cream maker in the central Caracas neighborhood of Chacao.\n\n“My mind is set on working and the nation moves forward by working: I simply hope for a future when it’s companies and entrepreneurs who come to our shores,” he added.\n\nBut the prospect of American firms and businessmen coming to Venezuela’s economic aid any time soon – at least, outside the booming oil industry – seems dim.\n\nThe US has imposed financial sanctions on Venezuela, which date back to the Barack Obama administration and have grown under Trump, freezing government assets and prohibiting economic transactions with the country.\n\nThese sanctions, the US claims, are meant to target rampant corruption and human rights abuses in the country, as well as its leaders’ undermining of democracy.\n\nHowever, while the measures have done little to lessen Maduro’s grip on power – he was recently returned for a third consecutive six-year term in office following a widely discredited election – they have deepened the economic problems facing ordinary Venezuelans, with Maduro claiming the sanctions are really part of an “economic war.”\n\nWhat was once the fifth-largest economy in Latin America has suffered chronic shortages of vital goods and soaring inflation under Maduro’s watch – pushing millions to flee, including thousands who have trekked north to the US’ southern border.\n\nTrump claims Venezuela’s Maduro is a drug-trafficking threat to the US. Does the data back him up?\n\nRather than attempt to mend relations with the US, Maduro has dug in his heels by cozying up to one of its biggest competitors, China.\n\nOn Wednesday, just hours after Chinese leader Xi Jinping showed off his country’s military might in a massive military parade in Beijing, Maduro welcomed the Chinese ambassador on to a stage in Venezuela, where he inaugurated a monument to the Chinese victory against Japan in the Second World War before boasting about the close ties between the two countries.\n\nAnd, while Maduro is yet to comment on the boat strike specifically, he did not pull his punches against the US.\n\n“Today, imperialism launches a new offensive. It’s not the first and it’s not going to be the last. Just another offensive, but Venezuela is standing (…) We are good people, people of peace, but let it be known: We are warriors, fierce when they mess with our land, our history and our rights,” he said, fists in the air.\n\nTwelve months after Maduro’s disputed victory in the presidential election – a vote in which the government did not publish a final vote count, and which prompted a vast international outcry – the government’s repressive machinery continues.\n\nThe Maduro government cracked down heavily on the protests that broke out following the vote, as it has in previous bouts of unrest, using security forces that have long supported Maduro and his predecessor, the late Hugo Chavez.\n\nThey have repeatedly detained dissenting voices, including protesters, activists and a former presidential candidate .\n\nIn Caracas today, military police in balaclavas and without insignia regularly patrol the streets.\n\nOn Thursday morning, opposition party Vente Venezuela denounced the detention of Julio Velazco, a local activist involved with the campaign of Maria Corina Machado, the main opposition leader who is still in hiding after the authoritarian push that followed the election.\n\nVelazco’s whereabouts are still unknown; authorities often wait days to address reports of what are popularly known in Venezuela as “forced disappearances,” a spokesperson for the party told CNN. CNN contacted the authorities regarding Velazco’s case and received no answer. The government routinely fails to respond to media inquiries about “forced disappearances.”\n\nAccording to PROVEA, a human rights group that has been active in the country for more than 30 years, such “forced disappearances” have become so common they’ve become “institutionalized.”\n\nBetween September last year and May, the group documented 23 cases in which community leaders and opposition activists had been in hidden detention for months before either being released or presented to a court to formalize an arrest.\n\nAmid such a backdrop, many in Venezuela are understandably reluctant to comment when asked for their views in front of a rolling camera.\n\n“If the Marines would land on the beach and take Maduro out?” a young Venezuelan man whispered to CNN as he looked to the sea, “We are going to welcome them with open arms.”",
         "As US tensions rise, Venezuelans keep calm and carry on – but whisper hopes of change",
         "A more pressing concern Dissenting voices"
        ],
        [
         "34",
         "35",
         "cnn",
         "https://edition.cnn.com/2025/09/10/asia/nepal-protests-gen-z-outcome-intl-hnk",
         "A parliament in flames, a leader toppled. Nepal Gen-Z protesters ask: what comes next? | CNN",
         "2025-09-10T15:14:33.834281Z",
         "1.221",
         "What began as a Gen Z-led social media movement against the lavish lifestyles of “Nepo Kids” led to the ousting of a Prime Minister and the deadliest social unrest Nepal has seen in years.\n\nPlumes of dark smoke towered above soldiers enforcing a curfew on the quiet streets of Kathmandu Wednesday morning as rumors swirled about a possible meeting between the leaderless Gen Z movement, the army and the president.\n\nAn uneasy calm, after two nights of chaos that saw tens of thousands of people pour out into the streets to vent their fury, setting fire to parliament and the Supreme Court – key symbols of state – and clashing with the government forces sent to keep them under control.\n\nThe unrest started in early September, when a group of young Nepalis, fed up with seeing politicians’ children posting about their designer handbags and luxury travel while most people struggle to make ends meet, organized a peaceful protest.\n\nAnger had been brewing for years about the country’s worsening youth unemployment crisis and lack of economic opportunities, exacerbated by what many viewed as a growing disparity between the country’s elite and regular people.\n\nWord quickly spread in the Himalayan country of 30 million. Then, a government ban last week on more than two dozen social media platforms including Instagram, Facebook and WhatsApp added fuel to the fire.\n\n“The buildup of the frustration was what led to this movement,” Sareesha Shrestha, who attended the protests told CNN, describing the social media ban as the “last straw.”\n\nThe unemployment rate for youth aged 15-24 in Nepal was 20.8% in 2024, according to the World Bank, forcing many young people to move abroad to find work. More than a third (33.1%) of Nepal’s GDP came from personal remittances, according to the World Bank, a number that has steadily risen over the past three decades.\n\n“Social media is the only platform where we can talk and share and follow the global media,” said Pramin, a filmmaker in Nepal who attended the protests. “Most of our friends, our families, our brothers, are outside the country so that was the medium of communication.”\n\nOn Monday morning, thousands of young people, including many dressed in school uniforms, gathered at Maitighar Mandala, a monument in the heart of Kathmandu near the federal parliament building.\n\nBut the protests quickly spiraled out of control when some of the protesters surged towards the parliament building and began climbing up the gate, clashing with police. Police used live ammunition, water cannons, and tear gas against the protesters, according to Reuters news agency.\n\nNearly 19 people were killed and hundreds were wounded in the clashes Monday, according to Nepali authorities.\n\n“We all felt very hopeless and helpless at that point,” Shrestha said.\n\nSeveral government ministers, including the home minister, resigned in the wake of the violence, which sparked widespread outrage, both within Nepal and internationally.\n\nOn Tuesday, the protests ballooned as people of all ages defied curfews and came out into the streets to protest the government’s bloody crackdown.\n\n“(Gen Z) demanded accountability and fair investigation for this corruption, the luxury lifestyle of this, all these corrupted politicians’ kids,” said Shree Gurung, who went to the protests after seeing reports that young people were being killed.\n\n“But unfortunately, what we saw (was) the government using excessive forces and killing, murdering these youths.”\n\nProtesters smashed windows and looted local businesses and set government buildings on fire. The country’s main international airport shut because of the violence, according to a notice posted Tuesday afternoon. The Supreme Court and the Singha Durbar, a sprawling palace complex in Kathmandu which houses Nepal’s government ministries, were both set on fire.\n\nPhotos showed protesters standing atop Singa Durbar waving the Nepali flag, in scenes reminiscent of a student-led uprising that toppled a government in neighboring Bangladesh last year.\n\nVideo also appeared to show demonstrators ransacking Prime Minister KP Sharma Oli’s private residence on Tuesday, Reuters reported. Crowds of protesters could be seen breaking into the property and destroying furniture before setting it alight.\n\nThe protests, which are led by people ages 13 to 28 – the cohort known as Generation Z – are Nepal’s worst unrest in years.\n\nGen Z protesters who spoke to CNN distanced themselves from the chaos that followed, which they blamed on opportunists who infiltrated the movement.\n\n“They destroyed everything,” said Sahadev Khatry, a lawyer who attended Monday’s protest but lamented the destruction.\n\n“They’re not just buildings, they’re not just bricks,” Shrestha said. “They carry our history, our legacy.”\n\nOli announced his resignation on Tuesday in a letter that cited “the extraordinary situation” in the country, according to copy of the note posted on social media by a top aide.\n\nA dark cloud of smoke hung over Kathmandu as the city burned, a sign of the turmoil that had overtaken the country.\n\nIn the hours after Oli stepped down, the Nepali Army appealed for a peaceful solution through dialogue, urging “all citizens to exercise restraint to prevent further loss of life and property in this critical situation.”\n\nEven as protesters celebrated the toppling of a leader they regard as a symbol of deep-rooted problems, many were still reeling over the young lives lost and the cost of this week’s turmoil to their city.\n\nBy Wednesday, the streets in Kathmandu, many littered with piles of charred debris, were largely quiet. Some buildings still smoldered from the fires of the day before, and soldiers carrying rifles enforced a nationwide curfew.\n\nNepal’s President Ramchandra Paudel has urged demonstrators to “cooperate for a peaceful resolution” and called on youth protesters to “come to talk.”\n\nIt was unclear as of Wednesday whether any talks were scheduled between authorities and the decentralized, leaderless youth-led protest movement.\n\nSeveral protesters who spoke to CNN said they want to see new leadership with more Gen Z representation.\n\n“I think Nepal is ready to see the young faces along with the experienced ones,” Khatry said.\n\nOthers were worried about the response from a governing class that has just been rattled by its biggest challenge in years.\n\n“This is very chaotic. All WhatsApp groups are exploding with discussions and fears,” a 24-year-old law student from Kathmandu told CNN, requesting anonymity.\n\n“We are scared that students who protested peacefully will also be targeted.”\n\nIsaac Yee, Teele Rebane, Aishwarya S. Iyer and Nishant Khanal contributed reporting.",
         "A parliament in flames, a leader toppled. Nepal’s Gen-Z protesters ask: what comes next?",
         "Escalation"
        ],
        [
         "35",
         "36",
         "cnn",
         "https://edition.cnn.com/2025/09/10/asia/kim-xi-beijing-summit-denuclearization-intl-hnk",
         "Kim has long sought recognition as a nuclear power. Xi may have just given it to him | CNN",
         "2025-09-10T15:14:35.951731Z",
         "1.615",
         "Of the more than two dozen foreign leaders invited to Xi Jinping’s massive military parade in Beijing last week, no one reaped a bigger diplomatic windfall than Kim Jong Un.\n\nThe reclusive North Korean leader seized the global spotlight with a high-profile debut in multilateral diplomacy, standing shoulder to shoulder with Xi and Russia’s Vladimir Putin in a defiant demonstration to the West that he enjoys the backing of the world’s two most powerful autocrats – and a central role in the alternative global order they are shaping.\n\nOn the sidelines, Kim underscored his bond with Putin, who vowed to “never forget” the sacrifices of North Korean troops fighting for Russia against Ukraine. He also held his first summit with Xi in six years , restoring ties with a longtime patron strained by Pyongyang’s growing military alliance with Moscow.\n\nTo cap it off, Kim was hosted by Xi for tea and a banquet at his residence in Zhongnanhai, the walled leadership compound at the heart of Chinese political power. That privilege was granted to none of the other 26 foreign guests at the parade, except Putin.\n\nFor a young leader who had long been treated as a junior partner by both Beijing and Moscow, the elevated treatment was a resounding propaganda coup.\n\nYet his most consequential victory may not have been what was staged for the cameras, but what was left unsaid.\n\nFor the first time, official readouts of the Xi-Kim summit made no mention of the denuclearization of the Korean Peninsula – a striking departure from the language of the five summits they held between 2018 and 2019.\n\nAnalysts say the omission could signal that Kim has secured what he long sought: China’s tacit acceptance of North Korea as a nuclear power.\n\nThat would mark a stunning turn for Beijing, which had long championed the goal of a denuclearized Korean Peninsula, even as Pyongyang accelerated its illegal nuclear and missiles programs under Kim.\n\n“With the denuclearization goal now formally removed from the official readout of the Xi-Kim meeting, a significant shift in China’s long-term policy is confirmed,” said Tong Zhao, a senior fellow at the Carnegie Endowment for International Peace.\n\n“Reluctantly but significantly, North Korea’s most powerful ally has abandoned the pursuit of a nuclear-free Korean Peninsula.”\n\nEmboldened by his trip to Beijing, Kim on Monday watched a test of North Korea’s new high-thrust rocket engine, which state media said would be used to power Pyongyang’s newest intercontinental ballistic missile, the Hwasong-20.\n\n“North Korea has been given justification to continue holding onto its nuclear power,” said Lim Eul-chul, a professor at Kyungnam University’s Institute for Far Eastern Studies in Seoul, noting that both leaders pledged to strengthen relations “no matter how the international situation changes.”\n\nYang Moo-jin, a professor at the University of North Korean Studies in Seoul, said Kim was the biggest winner from Beijing’s Victory Day parade.\n\n“Kim’s international standing was significantly elevated,” he said, adding that “restored ties with China through economic cooperation could be leveraged in (future) negotiations with the US.”\n\nUS President Donald Trump has signaled his willingness to re-engage diplomatically with Kim, despite the collapse of his first-term attempt to strike a denuclearization deal with the North Korean leader.\n\nBut the US president is already beset by a host of foreign policy headaches: his attempt to end Russia’s war on Ukraine is getting nowhere, and Israel’s unprecedented strike on Hamas officials in Qatar, an American ally, has dealt another blow to his international credibility.\n\nAs North Korea’s main ally and economic lifeline, China has long been central to global efforts to rein in Pyongyang’s nuclear ambitions – at times working in tandem with the United States. Beijing has played an instrumental role in bringing the Kim regime to the negotiating table and, at multiple junctures, voted in favor of United Nations sanctions.\n\nBut as US-China relations have deteriorated amid intensifying strategic rivalry, Beijing has scaled back its cooperation on curbing North Korea’s nuclear ambitions. So has Russia – once a staunch advocate of nuclear nonproliferation – since its invasion of Ukraine.\n\nIn 2022, China and Russia jointly vetoed a US-led resolution at the UN Security Council that sought additional sanctions over North Korea’s renewed ballistic missile launches.\n\nThe last time China reaffirmed its commitment to a nuclear-free Korean Peninsula was at a trilateral summit with Japan and South Korea in 2024. It drew a blistering response from Pyongyang, which denounced the joint declaration as a “grave political provocation” and a violation of its sovereignty.\n\nSince then, Beijing has refrained from referencing that goal in its official statements or documents, Zhao noted.\n\nMeanwhile, Russia’s growing military ties with North Korea – capped with the signing of a mutual defense treaty last year – have raised concerns that in exchange for arms and troops, Putin may assist Pyongyang in enhancing its missile technology and nuclear weapons delivery systems.\n\nIn public, Russian officials have edged closer to openly endorsing North Korea’s nuclear program. Last September, Russian Foreign Minister Sergey Lavrov declared that Moscow considered the denuclearization of North Korea a “closed issue,” saying it understood Pyongyang’s reliance on nuclear weapons as the foundation of its defense. By July, Lavrov went a step further, saying Russia “respects” North Korea’s nuclear ambitions.\n\nWhile Beijing hasn’t gone as far as Moscow, its quiet abandonment of the denuclearization goal marks a subtle yet consequential shift – one that could open the door to closer China-North Korea ties, or even bolster momentum for trilateral cooperation with Russia, Zhao said.\n\nDespite their unprecedented joint appearance atop Beijing’s Gate of Heavenly Peace during the military parade, Xi, Putin and Kim were not reported to have convened a trilateral summit on the sidelines.\n\nWu Qiang, an independent political analyst in Beijing, said acceptance of North Korea’s nuclear status may well form part of Xi and Putin’s vision for a world order no longer dominated by the US and its allies.\n\n“At the very least, China’s indulgence of Pyongyang and the nuclear threat it poses to Asia-Pacific security suggest that such disruption is considered to serve China’s strategic interests. So long as the undermining of the existing order aligns with its goals, Beijing may be willing to shield it,” he said.\n\nThat marks a stark contrast to less than a decade ago, when China and Russia voted with the US at the UN Security Council to tighten sanctions against North Korea in 2016 and 2017.\n\nIn fact, in 2015 it was South Korea’s then President Park Geun-hye  – not Kim Jong Un – who stood beside Xi and Putin on the Tiananmen rostrum to review the military parade marking 70 years since the end of World War II.\n\nSome experts have cautioned that the public omission of denuclearization by Xi and Kim might not amount to a shift in China’s official stance.\n\nShuxian Luo, an assistant professor of Asian studies at the University of Hawaii, Mānoa, said although the usual call for denuclearization was dropped at the summit, Beijing is unlikely to have abandoned this position in private discussions with North Korean officials, given its longstanding concern about a “nuclear domino effect” in East Asia.\n\nBeijing has long viewed Pyongyang as both a strategic asset and a destabilizing liability.\n\nWhile North Korea has served as a geopolitical buffer against the US and its allies in East Asia, its pursuit of nuclear weapons and ballistic missiles has undermined regional security and handed Washington a justification to expand its military presence on China’s doorstep. It also risks triggering a chain reaction, provoking other regional powers like South Korea and Japan to develop their own nuclear arsenals – especially amid doubts over the reliability of the US nuclear umbrella under Trump.\n\nAlready, South Korea is facing growing calls at home for a long-term security solution – potentially including an indigenous nuclear deterrent, Zhao said. “While unlikely under the current progressive government, the overall likelihood of such a development has increased,” he added.\n\nChina’s tacit acceptance of North Korea’s nuclear status may also have been influenced by signals from senior officials in the Trump administration expressing tolerance for allied nuclear proliferation, as well as Beijing’s concerns about AUKUS – a program through which the US and UK will assist Australia in building nuclear-powered submarines, Zhao said. China has portrayed AUKUS as a step toward transferring nuclear weapons materials.\n\n“By interpreting these actions as evidence that Washington is drifting away from a principled nonproliferation stance, Beijing may thus feel justified in prioritizing its geopolitical interests over global nonproliferation norms,” Zhao said. “This sends a troubling signal that could embolden other would-be nuclear states to exploit great-power rivalry for their own proliferation ambitions.”",
         "Kim has long sought recognition as a nuclear power. Xi may have just given it to him",
         "Tacit acceptance ‘Troubling signal’"
        ],
        [
         "36",
         "37",
         "cnn",
         "https://edition.cnn.com/2025/09/09/asia/nepal-protests-social-media-ban-explainer-intl-hnk",
         "A social media ban, corruption and ‘Nepo Kids:’ What we know about the deadly protests that ousted Nepal’s leader | CNN",
         "2025-09-10T15:14:37.630896Z",
         "1.177",
         "Nepali protesters, angered by a bloody crackdown, defied a police curfew and took over the streets of the capital Kathmandu on Tuesday, setting fire to the Supreme Court, parliament and other government buildings in the latest day of Gen Z-led protests that have toppled the Himalayan country’s prime minister.\n\nOfficials said at least 22 have people have been killed and hundreds wounded in the clashes in Kathmandu sparked by a government ban on social media platforms but driven by deep-rooted resentment at rampant corruption by the country’s political elite and a lack of economic opportunities for regular Nepalis.\n\nPolice used live ammunition, water cannons, and tear gas against the protesters, Reuters news agency reported. On Tuesday, smoke clouded the sky above the capital, photos by Reuters showed. The country’s main international airport shut because of the violence, according to a notice posted Tuesday afternoon. Later that evening, the Nepal Army sent troops into Kathmandu “to control the situation for the security of Nepal and Nepalis,” according to its chief.\n\nNepal, a Himalayan country of 30 million people, is known for its turbulent politics and has seen more than a dozen governments since it transitioned to a republic after abolishing its 239-year-old monarchy in 2008 following a decade-long civil war.\n\nStill, the latest protests, which are led by people ages 13 to 28 – the cohort known as Generation Z – are Nepal’s worst unrest in decades.\n\nNepali Prime Minister KP Sharma Oli announced his resignation on Tuesday in a letter that cited “the extraordinary situation” in the country, according to copy of the note posted on social media by a top aide.\n\nVideo appeared to show demonstrators ransacking Oli’s private residence on Tuesday, Reuters reported. Crowds of protesters could be seen breaking into the property and destroying furniture before setting it on fire.\n\nAnger against the government for what many view as rampant, decades-long corruption was already simmering, and it spilled into the streets of the capital last week after the government blocked social media platforms including Facebook, Instagram, WhatsApp, YouTube and X, in a move that was widely criticized by rights groups.\n\nOrganizers say the protests are not only about the social media ban but also reflect generational frustration at poor economic opportunities.\n\n“While the main trigger for the protest was the recent social media ban, the long history of corruption and bad governance is the main reason that thousands of people have come out on the streets to protest,” a 28-year-old who attended the protests on Monday and Tuesday told CNN.\n\n“It was overwhelming to see such a huge turnout and the energy and anger of the people,” said the protester, who asked not to be named out of fear of government retribution.\n\nThe unemployment rate for youth aged 15-24 in Nepal was 20.8% in 2024, according to the World Bank.\n\nMeanwhile, a viral online movement against “Nepo Kids” — politicians’ children showing off their lavish lifestyles — is fueling further anger by highlighting the disparities between those in power and regular Nepalis.\n\nNepal’s economy is heavily reliant on money sent home by Nepalis living abroad. More than a third (33.1%) of Nepal’s GDP came from personal remittances, according to the World Bank , a number that has steadily risen over the past three decades.\n\nThe protests escalated just hours after they began Monday as protesters clashed with police at the parliament complex in Kathmandu.\n\nAt least 22 people have been killed, Dr. Mohan Regmi, the executive director at Civil Service Hospital in Kathmandu, told CNN on Tuesday after a second day of demonstrations.\n\nMore than 400 people, including security forces staff, were hospitalized on Monday, according to a report by Nepal’s health ministry.\n\nThe Kathmandu Post newspaper said its servers were down Tuesday after its building was set on fire.\n\nUN Secretary General António Guterres called for a “thorough investigation” and “restraint to avoid further escalation of violence” in a statement to X Tuesday.\n\n“I call on the authorities to comply with human rights law. Protests must take place in a peaceful manner, respecting life & property,” Guterres said.\n\n“The use of lethal force against protesters not posing an imminent threat of death or serious injury is a grave violation of international law,” Amnesty International said in a statement.\n\nThe US State Department “strongly advised” all US citizens in Nepal to shelter in place until further notice and to avoid travel.\n\nThe resignation of Prime Minister Oli on Tuesday came after a string of other officials quit over the government’s response to the protests. Home Minister Ramesh Lekhak resigned Monday following the violence, with the ministers for agriculture, water and health a day later.\n\nIn the hours after Oli stepped down, the Nepali Army appealed for a peaceful solution through dialogue, urging “all citizens to exercise restraint to prevent further loss of life and property in this critical situation.”\n\nLater Tuesday, Nepal President Ramchandra Paudel urged demonstrators to “cooperate for a peaceful resolution” and called on youth protesters to “come to talk.”\n\nBinay Mishra, a Nepal-based public policy analyst, told CNN that “once the prime minister steps down, the president calls the parliament to form the government.”\n\nAs there is currently no party with a clear majority, lawmakers are more likely to form an interim government with some Gen Z organizations potentially involved in discussions over who could lead in the short term, said Mishra, an assistant professor of public policy at Kathmandu University School of Management.\n\nIn a statement before his resignation, Oli said his government was “not negative toward the demands raised by the Gen Z generation” and said he was “deeply saddened” by the incidents on Monday. He blamed “infiltration by various vested interest groups” for the violence, without elaborating on who those groups were.",
         "A social media ban, corruption and ‘Nepo Kids:’ What we know about the deadly protests that ousted Nepal’s leader",
         "What sparked the protests? Protests turn deadly Government under pressure"
        ],
        [
         "37",
         "38",
         "cnn",
         "https://edition.cnn.com/2025/09/09/asia/thailand-thaksin-hospital-detention-verdict-intl-hnk",
         "Thailand’s top court orders famed former prime minister Thaksin Shinawatra to spend one year in jail | CNN",
         "2025-09-10T15:14:40.003302Z",
         "1.87",
         "Thailand’s top court ordered the influential former prime minister and billionaire Thaksin Shinawatra to prison for one year on Tuesday in a dramatic turn of events for the embattled political titan.\n\nThaksin, 76, a towering and divisive figure, served as prime minister from 2001 until he was ousted in a military coup in 2006. He made a dramatic return to Thailand in 2023 after 15 years in self-imposed exile, and was sentenced to eight years in prison for conflict of interest, abuse of power and corruption during his time in power.\n\nDespite the sentence, Thaksin – who once owned Manchester City Football Club –﻿ never spent a night in a prison cell. He served his time in a luxury suite at Bangkok’s Police General Hospital after complaining of tightness in his chest, high blood pressure and low oxygen levels.\n\nThailand’s King Maha Vajiralongkorn then reduced Thaksin’s prison sentence to one year, before he was released on parole six months later in February 2024.\n\nOn Tuesday the Supreme Court ruled that Thaksin’s prolonged hospital stay last year was unlawful and ordered him to serve his sentence at Bangkok Remand Prison, according to the court. Video from the Reuters news agency showed a convoy of vehicles it said was carrying Thaksin arriving at the prison later on Tuesday.\n\nThe nature of Thaksin’s detention raised questions that he received special treatment.\n\nAnd many analysts believe Thaksin struck a deal with the country’s powerful conservative and royalist establishment for his return in exchange for a reduced jail term, lenient treatment, or a possible pardon. Thaksin returned on the same day his family’s political party took up the reins of government once again.\n\nOn Tuesday, the Supreme Court determined that Thaksin’s time in hospital did not count as time served.\n\nThe court ruled that Thaksin knew or was aware that his medical conditions could have been managed as an outpatient, “without the need for prolonged inpatient care.”\n\n“The defendant benefited from remaining in the hospital without having to return to custody at Bangkok Remand Prison until his eventual release,” the court statement said.\n\nIn June, Thailand’s medical council suspended two doctors who enabled Thaksin to spend his sentence in hospital, ruling they issued documents that contained false medical information, Reuters reported. A prison doctor was also cautioned for failing to meet medical standards in referring Thaksin for hospital treatment.\n\nIn a social media post after the verdict, Thaksin said he accepted the court’s decision.\n\n“Today I choose to look forward, letting all past matters come to a resolution,” he said. “Though I may lack physical freedom, I still have the freedom of thought for the benefit of the nation and people.”\n\nSpeaking to reporters outside court, Thaksin’s daughter and former prime minister Paetongtarn Shinawatra, said “My father and our family remain holding high spirits.”\n\nShe added that the Shinawatras’ Pheu Thai political party “will carry on doing (our) political duty as the opposition party.”\n\nFormer leader leaves Thailand in private jet days before court ruling that could see him imprisoned\n\nA crowd of Thaksin’s supporters had also gathered outside the court.\n\n“I am so sad today,” Oy, 64, told CNN while wiping away tears. Oy, who gave only her nickname, said that without Thaksin’s universal healthcare initiative, her husband wouldn’t have received life-saving heart surgery.\n\nThaksin was present at court to hear the verdict. On Thursday, he flew to Dubai — where he spent much of his time in exile — on his private jet for “a health check-up,” prompting many in the kingdom to speculate that he had fled the country.\n\nThe verdict was the final of three judgements against the powerful Shinawatra family, which has dominated Thailand’s turbulent and often violent political scene for more than 20 years.\n\nThe political patriarch recently survived a lese majeste case against him that could have seen him jailed for up to 15 years.\n\nHis daughter did not get off so lightly. Former Prime Minister Paetongtarn Shinawatra was removed from office by the Constitutional Court less than two weeks ago over a leaked phone call she had with Cambodia’s former leader that breached ethics rules.\n\nOver the past 25 years, Thaksin has built one of the country’s most famous and successful political dynasties, with allied candidates winning almost every election since 2001.\n\nBut that dynasty has long been loathed by the Thai establishment which, with the help of both the military and courts, has frequently toppled or tied up Shinawatra-run governments.\n\nDuring, his exile Thaksin continued to be a driving force in politics behind the scenes.\n\nHis sister Yingluck ran a government until a court ruling ended her tenure followed by a 2014 military coup, while Thaksin’s brother-in-law was also in charge of Thailand briefly during his absence.\n\nThailand’s prime minister removed from office over leaked phone call scandal with Cambodian strongman\n\nMany observers feel that the family’s power in Thailand is diminished, and its long dominant political machine could finally be out of steam.\n\nThailand is at a crucial juncture. Over the past two decades the kingdom has largely been ruled by the Shinawatras or their proxies, or the military.\n\nLast week, that changed when the Shinawatra’s Pheu Thai Party was ousted from government.\n\nAnutin Charnvirakul, a veteran of Thai politics, won a vote in parliament to replace Paetongtarn and become Thailand’s next prime minister — the country’s third in two years.\n\nThe former interior minister who spearheaded Thailand’s legalization of cannabis, and his government took office on Sunday after obtaining a royal endorsement from King Vajiralongkorn.",
         "Thailand’s top court orders former prime minister Thaksin Shinawatra to spend one year in jail",
         "Blow to a dynasty"
        ],
        [
         "38",
         "39",
         "cnn",
         "https://edition.cnn.com/2025/09/10/travel/mugello-circuit-italian-motorcycle-grand-prix",
         "Wild racing, wild parties and wild boar: Why no one sleeps in Italy’s Mugello | CNN",
         "2025-09-10T15:14:41.606275Z",
         "1.101",
         "It is a sultry Friday night in high summer on a rolling, cypress tree-lined hillside near the little town of Scarperia e San Piero, in the heart of Italy’s Tuscany region. A bearded man in red fishnet tights and a matching vinyl minidress sways with a beer can in one hand and a smile on his face.\n\nBehind him, beside a rainbow-colored paddling pool, another man in a tank top and shorts wields something that looks like a chainsaw crossed with a trumpet, which he revs and waves around.\n\nAround them, disco lights spill out from beneath a motorhome, piercing the haze from flares and exhaust fumes. A procession of people glides by, some on foot, others riding motorcycles of every shape and size. Music booms out into the night air, blending with the incessant roar of engines.\n\nYou could be forgiven for thinking you’d wandered into an avant-garde music festival or the set of a “Mad Max” sequel. But this is Mugello, home to the Italian Motorcycle Grand Prix — and one of the biggest parties in motorsport.\n\nFormula 1 has Monaco, with its ostentation and air of exclusivity. Mugello, in perhaps Italy’s most idyllic region, offers something no less iconic, but altogether more visceral – and arguably, a lot more fun.\n\n“They say al Mugello non si dorme , at Mugello you don’t sleep,” says Davide Tardozzi, Ducati’s MotoGP manager, grinning. “It’s true… Because there are crowds and fans that are enjoying the night – a long night.”\n\nJustin Marks, owner of both the Trackhouse MotoGP and NASCAR teams, likens it to the Daytona 500. “I don’t think there’s a cooler race in the world than the Daytona 500,” he told CNN in Austin this year.  “When you go to the Daytona 500 and there’s 200,000 people on the ground, and it’s this great American motorsport event, it’s really special; but when I went to the Italian grand prix at Mugello and the hills of Tuscany, and the fans, it had that same special sort of feel to it.”\n\nThe appeal begins with the location. North from Florence, the roads twist through rolling hills and ancient villages, past rippling streams and the dappled shade from oak trees. Forty-five minutes later, the racetrack appears almost without warning — coiled like a basking viper in the Tuscan countryside.\n\nOwned by Ferrari, Mugello Circuit serves as a testing ground for the Italian manufacturer’s F1 cars. A bright red helmet-shaped booth, adorned with the company’s famous prancing horse logo, stands at the main entrance. The track’s curves are painted in the green, white and red of the Italian flag, grandstands are embedded into the landscape and campsites sprawl into the distance.\n\n“Mugello is pure passion,” says Fabio Di Giannantonio, one of two Italian riders for the VR46 Ducati team. “For sure, it’s our home race here in Italy, where family, friends, fans come to see the race; we see this unbelievable place transforming day by day with all the fans coming. It’s like a stadium, with all the hills around the track, and it’s just an unbelievable place to (experience).”\n\nCrowds begin gathering before race weekend, as MotoGP’s multimillion-dollar traveling circus rolls into town.\n\nAmong the arrivals is Paolo Campinoti, principal of the Prima Pramac team, with whom world champion Jorge Martín clinched the premier-class title in 2024.\n\nThese Los Angeles-based lawyers renovated a 16th-century Tuscan farmhouse into a luxury villa. Here’s how they did it\n\n“Everything is special about Mugello,” Campinoti tells CNN.  “I actually get here by Vespa from my house in Florence, which says it all. There’s a deep history behind the track; it’s a true symbol of Italianità — an Italian circuit through and through. The fans bring an incredible atmosphere, full of passion, color and energy. It’s not just a race — it’s a celebration.”\n\nCampinoti and his wife spend the race weekend in the team’s two-story motor home, parked in the paddock. “I love sleeping at the track because it allows me to really feel part of the MotoGP community and soak in the atmosphere of this special weekend,” he says. “Most riders sleep at the track as well, so after dinner it’s usually nice to catch up and chat with them — away from all the chaos that happens during the day. Waking up here, having breakfast with the team, and being right in the middle of the action from the very start — it’s something truly meaningful.”\n\nDominika Grnova, a motorsports reporter covering the Red Bull Rookies Cup — a proving ground for top riders of the future — is equally enamored with Mugello. “The vibes, the Tuscan hills, these incredible colors, weather — this year it’s been really hot and it can be quite unpredictable; we don’t mind a little bit of showers and thunderstorms — but obviously the Italian vibes are just incredible, you’re always going to have fun here.”\n\nA keen rider, Grnova often takes a motorcycle into the hills during race weekend. But there are hazards. On one excursion for pizza, “They warned us ‘be careful because there are wild boars in the mountains,’ and literally five minutes after leaving the restaurant, (my colleague) hit a wild boar. Luckily, he didn’t crash, but we saw the wild boar spinning and squeaking, so it was really scary.”\n\nDi Giannantonio’s teammate, Franco Morbidelli, first came to the track as a toddler. “Actually, the first time I came here I can’t remember, because I was one, or one and half, and I was on the hills with my parents,” he tells CNN.  “But definitely I remember the first time I came here as a kid with my father, enjoying Mugello and the race. But I also had the chance to come here and stay on the hills watching the racing and enjoying the environment of the hills; it was 2013 and I came here with a couple of friends (…) and it was great.”\n\nArchitect Alexis Cogul traveled from Miami with his friend Manny Azeri. They’d just been in Monaco for the Formula 1 Grand Prix. Azeri was making his Mugello debut. “It lived up to all my expectations and more,” he tells CNN excitedly.  “Everybody knows everybody, especially in the paddock. It’s like a big family, and the fans are just crazy.”\n\nThe craziness is visceral — a combination of pounding music, billowing smoke, crackling barbecues and revving engines. “The noise that you’re hearing is not motorcycles,” Cogul says, gesturing up to the hills. “It’s actually people with chainsaws; they take off the chain and they basically modify the motor to imitate the bikes, they stay here for the whole weekend, and they create like a party.”\n\nBrandishing one of these infernal machines is Italian Michele Fuso, camping with friends. “You take a normal chainsaw, and you cut it here,” he says, pointing to a red box with a handle and a flared exhaust. “Then you weld something like this on,” he adds, pointing at the trumpet-like attachment.  Asked why, Fuso and his friends shout in unison, “Rumore !”  It’s the Italian word for noise — an end in itself around here.\n\nFuso fires it up. A passer-by pours pour beer into the funnel, which sprays back gold liquid, along with a puff of smoke as Fuso hoots in delight\n\nGiven Mugello’s rural location, accommodation can be hard to find for those not camping. “We’re 45 mins from the center of Florence,” Cojul says. “You normally stay in a house or a small hotel, there’s nothing fancy around here. But that’s what makes it even more fun. There’s no civilization or much around here, there’s not a big city apart from Florence.”\n\nBy Saturday night, the hilltop party reaches a crescendo: DJs on a huge stage play to thousands, fairground rides twirl against the sky amid revelers dancing, drinking and revving engines in a sea of limbs, lights and smoke.\n\nDown in the pitlane, sophistication replaces chaos. Campinoti hosts a dinner outside the Prima Pramac Yamaha team garage. About 50 VIPs — including actor Eric Bana, former F1 driver Mark Webber, World Cup-winning soccer captain Fabio Cannavaro, and MotoGP legend Giacomo Agostini — sit at white-clothed tables as Florence-based chef Riccardo Monco serves a multicourse meal.\n\n“We wanted to do something truly special to celebrate our home race,” Campinoti tells CNN. “We wanted our guests to feel immersed in the spirit of racing — and the pitlane felt like the perfect place. It’s where so many crucial moments of the weekend happen, so turning it into a dinner setting creates something both unique and deeply meaningful.”\n\nMidway through the meal, a mechanic wheels out KTM rider Pedro Acosta’s bike and revs it hard, drowning out the piano-led band. The drummer playfully taps out a beat to match the roaring engine.  Once again, rumore rules over all, to the amusement of the diners.\n\nIt’s easy to forget, amid the partying, that Mugello is primarily about racing, on MotoGP’s fastest track, with bikes topping 220 miles per hour in elbow-to-elbow battles for one of racing’s biggest prizes.\n\nThis year’s event drew 166,000 spectators over three days, with Keanu Reeves among the 84,625 in attendance for Sunday’s race. Ducati’s Marc Márquez took victory, much to the dismay of the Italian fans cheering for local hero, Francesco “Pecco” Bagnaia. But few seemed to leave unhappy.\n\nWhich is better — Formula 1, or MotoGP?  “Oh MotoGP, absolutely,” says Cogul, without hesitation. “MotoGP is all about racing, if you basically look at the race. Obviously, the danger factor in MotoGP is at another level. It’s a much more extreme sport than Formula One, which is more about statistics and characters behind the scenes.\n\n“MotoGP is a rider and a bike and two wheels and the chances to fall or something to happen. It’s much more action-packed racing; at the end of the day, when you’re seeing that live, even the noise is louder, they’re completely raw bikes with nothing else, and that basically crawls your skin, so that’s why I recommend to see it.”",
         "Wild racing, wild parties and wild boar: Why no one sleeps in Italy’s Mugello",
         "‘At Mugello you don’t sleep’ Ferrari connection Passion, color and energy Wild boar encounter Chainsaws and ‘rumore’ A more genteel affair ‘A rider and a bike and two wheels’"
        ],
        [
         "39",
         "40",
         "cnn",
         "https://edition.cnn.com/2025/09/05/travel/south-korea-google-maps-intl-hnk-dst",
         "Why doesn’t Google Maps work in one of Asia’s most developed, tourist-friendly countries? | CNN",
         "2025-09-10T15:14:43.189152Z",
         "1.08",
         "When Taiwanese traveler Eric Weng goes to South Korea , he resigns himself to toggling between three different map applications to navigate his way around.\n\nThat’s because Google Maps, ubiquitous in much of the world, doesn’t fully work in South Korea. So each year, millions of visitors like Weng must download alternative Korean apps like Kakao Map and Naver Map , which lack the detailed functions they’ve come to expect from Google.\n\n“It’s tiring because you need to download three apps, then juggle three to find a way to where you want to go,” said Weng.\n\nBy all other measures, South Korea is a tech-savvy tourist haven. Most overseas platforms have no such issue operating, including other Google products like Gmail and YouTube.\n\nWhile it’s not the only country where Google Maps doesn’t fully work, South Korea stands out in stark contrast to other nations like China, Russia or Cuba, which have long had fractious relationships with the United States. By contrast, South Korea is a longtime US ally with American troops stationed in the country, as well as one of Asia’s most developed economies.\n\nAt the heart of this issue lies a set of map data owned by the South Korean government – which Google says it needs to create a comprehensive map of the country, complete with navigation instructions. For nearly 20 years, Google has asked South Korea to export that data and authorities have repeatedly refused, citing national security concerns.\n\nThis decades-long struggle began over geopolitical tensions, they say, and has since expanded to larger questions of “digital sovereignty” and market dominance. In other words: who gets to control a country’s data? Who benefits, and at what cost? What happens to local companies when a multinational tech giant enters the scene?\n\nThese are the questions now being debated by South Korean authorities, who are expected to approve or deny Google’s latest export request in early October.\n\nFor tourists like Weng, the decision brings the hope that Google Maps may finally come to South Korea – which would “make life much easier,” he said.\n\nThe beef between South Korea and Google began in 2008, when Google Maps labeled some Korean locations by their Japanese names, according to Soyun Ahn, an assistant professor of communications at Boston College who specializes in global platform governance.\n\nThe disputed names are a highly sensitive topic in South Korea, which was colonized by Japan for more than three decades in the early 1900s. Though the two nations have since normalized relations, tensions often flare, especially regarding unresolved historical disputes.\n\nSouth Korean authorities repeatedly asked Google to change the location names – but Google resisted and became embroiled in several other South Korean map-labeling controversies in the following years, Ahn wrote in a paper about the topic.\n\n“The two entities have been in a power struggle for two decades,” she told CNN. “They’ve had a rocky relationship from the very beginning.”\n\nBy the early 2010s, South Korea had created a 1:25,000 scale satellite map – which means each unit on the map corresponds to 25,000 units on the ground (for example, one inch on the map could represent 25,000 inches on a road). It was made freely available online, including to users overseas.\n\nBut Google says it needs South Korea’s more detailed 1:5,000 map – where each unit on the map represents 5,000 units on the ground. This more advanced map was released in 2016, and under South Korean law, cannot be exported to overseas servers without government approval.\n\nGoogle currently uses a version of this 1:5,000 map provided by local company T Map, which does not need exporting, to offer a “simple electronic map display” in South Korea, it said in a blog post.\n\nThat’s why when you look at the country on the app, it shows a lot of basic geography including city locations, roads and streets, even many attractions and train lines.\n\nBut what it doesn’t show are detailed walking or driving instructions. When you try to plot a route, Google Maps will simply show a message that reads: “Can’t seem to find a way there.”\n\nTo provide navigation instructions, Google claims it needs government export approval. It submitted the first of several formal requests to export the data in 2016.\n\nAfter a series of hearings and closed-door meetings that at times turned heated (“Congresspeople were almost shouting,” Ahn said), South Korea firmly rejected the request, citing the fact that Google had declined to remove sensitive military data from its existing satellite maps.\n\nIn a blog post published in early August, Google said the satellite images used in its maps are captured by other companies then sold through open markets – so even if Google Maps blurred sensitive locations in South Korea, they would still be visible in the original satellite imagery, which anyone can buy.\n\n“Nevertheless, to address the Korean government’s concerns, Google will take additional security measures, including blurring sensitive facilities on Google Maps and Google Earth,” it said in the blog post.\n\nBut disagreements continue roiling over whether Google should be given the more detailed map data – and, some experts argue, whether it needs it at all.\n\nOn the surface, the main issue is national security; South Korea lawmakers argue that exporting its 1:5,000 map could reveal military bases and government facilities.\n\n“The national security concern is probably overstated, because the maps are available widely,” said Scott McQuire, a professor of media and communications at the University of Melbourne, who researches the use of media technologies in cities.\n\nGoogle made the same argument, writing in its blog post that the 1:5,000 map “has already undergone a rigorous government security review, with sensitive information removed.” It pointed out that domestic Korean mapping apps like Kakao and Naver are “also based on this data.”\n\nCNN has reached out to South Korea’s National Geographic Information Institute, which produces and distributes the maps in question.\n\nA big fear is that Google Maps’ dominance could displace competitors like Naver and Kakao, if it was allowed into the country.\n\n“I think that there is a kind of interest in having homegrown mapping platforms,” said McQuire, pointing to family-run conglomerates like Samsung and LG that have dominated the economy for decades.\n\nNaver and Kakao have also publicly protested against allowing Google Maps to use the data, arguing it’s not fair to Korean companies that pay taxes and follow local regulations, Ahn said.\n\nThe sentiment is widespread; a recent survey of 239 spatial information companies in South Korea found that 90% opposed exporting the map data to Google, citing potential harm to sales and job losses.\n\nThere’s also just no real incentive for South Korea to accept Google’s request, Ahn said. It wouldn’t bring a significant economic boost; there’s no public demand, since all residents use Naver and Kakao anyway; and the impact on tourists is negligible compared to their other concerns.\n\nMost of South Korea’s 51 million residents use smartphones and have big digital footprints, which could allow Google to use the map data for other lucrative purposes, experts say.\n\nFor example, Google could potentially replace local providers on platforms that rely on online maps – like Airbnb and Uber, which do work in South Korea but use Korean mapping tools. The number of apps relying on Korean mapping tools – like rideshare platform Kakao T – could dwindle with Google on the scene.\n\nThat could open the door to an enormous amount of information on user behavior, like how people are moving or interacting with online services.\n\n“I think there (would) be that level of concern – that it’s not just the availability of the map as a map, but the map becomes a baseline for a whole lot of other services,” McQuire said.\n\nOpinions are split on whether Google even needs the data, as it claims.\n\nBoth Ahn and McQuire argued that Google has enough other tools at its disposal that it could create its own detailed map of South Korea if it wanted – suggesting the company may be hoping to avoid the cost and labor of doing so. After all, Ahn claimed, Google doesn’t request data directly from the government in many other countries where it does have full mapping and navigation services.\n\nIn a statement to CNN, however, Google insisted that the 1:25,000 map is “fundamentally insufficient for the precision required for modern turn-by-turn navigation, especially for densely populated urban areas, or for features like detailed walking and cycling guidance on narrow roads and alleyways.”\n\nIt uses both 1:25,000 and 1:5,000 maps in other countries, with the less detailed version suitable for “areas with no buildings, such as deserts, oceans, and mountain ranges,” it said.\n\nGoogle said when it buys map data from third-party providers in other nations, it requires the data to be “legally compliant in their respective countries.”\n\n“We have not experienced issues with data export approvals in this process so far,” it said.\n\nVivian Chen, a Taiwanese traveler who goes to South Korea three or four times a year, says the translations on the South Korean apps are often confusing.\n\nWhile the Korean apps offer an English interface, it can be clunky and hard to use. She can’t find the live navigation tool that, in Google Maps, would give real-time directions as she walks. And addresses often don’t translate well, requiring a second or third app to help find the right location.\n\nLarger attractions like shopping malls or famous palaces are easier to find quickly, “but it’s very hard to find the English names for smaller stores,” she said – making her reluctant to venture off the beaten path or explore lesser-known locations.\n\nThis could all change in the coming months when an inter-government council – representing the ministries of trade, foreign affairs, national defense, intelligence and security and others – makes its decision.\n\n“It’s very likely they will reject the (request) again” unless Google makes major concessions or shows a willingness to cooperate with the government on their concerns, said Ahn.\n\nHowever, she added, it’s possible South Korea could approve the request as a strategic move to win other concessions from the US – especially in trade.\n\nThe two countries struck a trade deal in late July, which calls for 15% tariffs on goods from South Korea, but the finer details are still being hammered out in ongoing talks. “With the new Trump administration, I can only imagine the pressure will be so much more,” Ahn said.\n\nEven beyond this decision, Google is facing challenges in other parts of the world – with a major federal antitrust case ongoing in the US, lodged by the Department of Justice , and reports of another antitrust probe targeting Google Maps specifically.\n\n“For a long time, people thought about Google as a public service – it’s all free, we don’t pay, it’s ‘do no evil,’” said McQuire. “Well, the attitude’s changing now, and people can see Google more clearly for what it is – which is a very, very large enterprise, which produces some really clever products, but is enormously intrusive in its data gathering capacities.”\n\nThose implications are front of mind for South Korea – with Google standing to potentially gain a lot if the government decides in their favor in October. For tourists, the confusion is likely to continue until then – or perhaps until local apps get a lot more visitor-friendly.\n\nChen, who’s due to return to South Korea in December, says the lack of clear directions is “so frustrating and irritating that it makes me almost not want to come.”\n\n“How can it be so inconvenient?” she said. Seoul is “such a modern city, how can it have such a terrible shortcoming?”\n\nCorrection: This article has been updated to reflect that Google currently uses a 1:5,000 map from a local provider in South Korea.",
         "Why doesn’t Google Maps work in one of Asia’s most developed, tourist-friendly countries?",
         "How we got here Why won’t South Korea give up the map? Data concerns What comes next?"
        ],
        [
         "40",
         "41",
         "cnn",
         "https://edition.cnn.com/2025/09/08/travel/high-speed-rail-america-acela-trains-california-texas",
         "High-speed rail has come to America. Or has it? | CNN",
         "2025-09-10T15:14:44.205844Z",
         "0.515",
         "America’s fastest train has arrived. ‘NextGen Acela’ made its public debut on August 27, delivering modern design, more seats and an enhanced passenger experience. Hailed as a leap forward for high-speed rail in America, it is, in truth, more of a half-step.\n\nThe new trains — siblings to France’s iconic TGVs — can reach 160 miles per hour. But on American tracks that’s rarely possible. For now, passengers will only experience a few short bursts at top speed, which is still far short of what is standard in Europe and Asia.\n\nStill, the new trains are expected to be a welcome improvement for travelers on the busy Northeast Corridor, even if the broader prospects for high-speed rail in the United States remain dim.\n\nDecades of underinvestment have left the country with congested highways, crumbling bridges, crowded airports — and a disjointed passenger rail network that is underfunded and unreliable.\n\nGlobally, more than 40,000 miles of modern high-speed railway are now in operation, used to make three billion passenger journeys per year, according to the International Union of Railways. Another 12,400 miles of track is under construction, while China alone has opened 1,200 miles this year.\n\nHopes of a rail revolution that three years ago was poised to transform connectivity between major cities seem to have faltered. Only three truly high-speed rail projects are in development — and two of these have recently had government funding withdrawn.\n\nPart of the problem is structural. The country has become a difficult place to build large-scale infrastructure. Land, materials and labor are costly. Experienced engineers are retiring faster than they can be replaced. Environmental reviews and permitting can stretch on for years. Land ownership is fiercely protected, making right-of-way acquisition expensive and contentious.\n\nPerhaps most consequentially, the nation remains deeply devoted to the car. Layered onto all of this is a political system in which priorities flip every few years, undermining the long-term planning and financing that such megaprojects demand.\n\nHigh speed trains are racing across the world. But not in America\n\nThe most ambitious project, California High-Speed Rail, was meant to connect San Francisco and Los Angeles across up to 500 miles of track in under three hours, with possible future extensions north to Sacramento and south to San Diego.\n\nIn July, that vision suffered a major setback when the Federal Railroad Administration (FRA) pulled $4 billion in funding allocated by the Biden administration, saying the project had breached multiple commitments.\n\nTransportation Secretary Sean Duffy pointed to missed deadlines, including a pledge to have the first 170 miles in operation by 2033. Failing to meet self-imposed goals along the way means that won’t happen, he said.\n\n“After 16 years and roughly $15 billion spent, not one high-speed track has been laid,” he said, commenting on a June government report on the project. “This report exposes a cold, hard truth: California High Speed Rail Authority has no viable path to complete this project on time or on budget.”\n\nThe report said the project had lost control of contractors and finances, failed to procure trains on schedule, lacked funding for electrification and had “no credible plan” to close a $7-billion funding gap needed to finish the initial 170-mile Central Valley segment.\n\nDuffy has also instructed regulators to review other grants with the aim of clawing back additional federal funds. Just a day before Amtrak unveiled its new Acela trains, his department withdrew another $175 million earmarked for California rail projects.\n\n“The waste ends here,” Duffy said . “As of today, the American people are done investing in California’s failed experiment. Instead, my Department will focus on making travel great again by investing in well-managed projects that can make projects like high-speed rail a reality.”\n\nState officials insist the project is far from over. The California High Speed Rail Authority has sued the Trump administration, calling the funding cuts “petty, political retribution” driven by the president’s “personal animus towards California and the high-speed project, not by facts on the ground.” Its chief executive, Ian Choudri, has accused the FRA of distorting data .\n\nMeanwhile, construction is progressing on the first 170-mile stretch between Merced and Bakersfield. The CHSRA says 70 miles of trackbed and more than 50 bridges and overpasses are complete, with tracklaying about to begin. Only last week, however, questions were raised over whether that initial stretch should divert from Merced to Gilroy, roughly 60 miles west, to save money.\n\nThe obstacles remain daunting. Of the $36.3 billion needed for the Central Valley section, just $28.2 billion has been secured, with another $1 billion a year expected to come from state emissions taxes.\n\nEven when completed, the initial line will only connect secondary cities, limiting its appeal until it reaches San Francisco and Los Angeles. A later phase could extend tracks to reach Sacramento and San Diego taking the total system to 776 miles, although this is still in the early stages of planning.\n\nThe entire project could cost up to $135 billion depending on its final extent and the route it takes. Phase one, of which the Merced-Bakersfield section forms the core, will connect six of California’s 10 largest cities — San Francisco, San Jose, Fresno, Bakersfield, Los Angeles and Anaheim.\n\nA completed network would carry the equivalent capacity of 4,200 miles of new highway lanes, 91 additional airport gates and two new runways — infrastructure that would likely cost far more.\n\nWith California’s population expected to exceed 45 million by 2050, backers see high-speed rail as the most efficient solution to prevent the state from grinding to a halt. A recent poll found two-thirds of Californians still support the project , but each new legal skirmish and delay adds to the cost of what is already one of the most expensive railway projects in history.\n\nCalifornia isn’t the only state to get its federal high-speed railway funding slashed. The Texas Central Railway, a privately funded plan to link Dallas and Houston in 90 minutes with Japanese-built Shinkansen trains, was greenlit by the first Trump administration.\n\nBut land acquisition and political opposition have stalled progress. The federal government has now withdrawn $64 million in funding, with Secretary Duffy calling the project “a waste of taxpayer funds.”\n\nBackers say the project is “ready to go,” with station sites and a quarter of land needed along the route already acquired, but without billions in fresh investment, construction cannot begin.\n\nTransportation policy, like much else in Washington, has become sharply partisan. President Biden, nicknamed “Amtrak Joe” for his love of commuting by train, secured $170 billion for rail improvements in his 2021 infrastructure law. Much of that money is flowing into the Northeast Corridor to repair ageing tunnels and bridges, with some funds set aside to restore services to cities long abandoned by passenger rail.\n\nIs Amtrak’s new high-speed train worth the price? We take you inside\n\nThe Trump administration has taken a different approach, demanding that Amtrak focus on improving on-time performance before expanding. Only 72% of trains arrived on time in early 2025. One long-distance route between Virginia to Florida had just a 34% on-time arrival rate. Freight trains, which have priority on shared tracks, are a persistent obstacle.\n\nEven with the billions promised by Biden, the United States remains far behind other countries. China will have 31,000 miles of high-speed rail by the end of this year, all built since 2008, with plans for more than 43,000 miles by 2035.\n\nThe lone bright spot for high-speed rail in the United States may be taking shape in the Mojave Desert. Brightline West, a privately owned 218-mile line linking Rancho Cucamonga, east of Los Angeles, with Las Vegas has begun early construction and is expected to ramp up in late 2025. The future sibling to Brightline — the privately owned and operated Miami-Orlando railroad, which has operated successfully in Florida since its 2018 debut, although at a maximum 125mph it is not true high-speed rail — Brightline West was first mooted in 2018.\n\nThe $10.4 billion project secured a $3-billion federal grant in October 2024, making it the only high-speed rail venture in the country to retain its federal support.\n\nThe line will run along the Interstate 15 corridor, slicing through the San Bernardino Mountains and across the desert. Once complete, it promises to cut journey times to just over an hour — a vast improvement on the four-plus hours by car or bus. It will also mark the return of passenger trains to Las Vegas for the first time in three decades; Amtrak cancelled its Desert Wind route in 1997.\n\nYet timing remains uncertain. Originally scheduled to open in 2027, the line is now projected for 2028 or early 2029. Brightline hopes to capture around 12 million of the roughly 50 million annual one-way trips between Las Vegas and LA, 85% of which are  made by road.\n\nThe trains themselves — 10 Siemens-built electric sets from the Velaro family, the same used by Eurostar and Germany’s Deutsche Bahn — are designed to reach 217 miles per hour, placing them firmly in the international high-speed category.\n\nWhy Britain’s royal train is coming to the end of the line after 180 years of service\n\nIf Brightline West succeeds, it could serve as a template for future privately financed high-speed rail projects elsewhere in the country. Together with California’s ambitions, should they come to fruition, the line could show that high-speed rail is not only feasible but transformative for American intercity travel.\n\nFor now, though, such examples remain the exception. With few credible projects elsewhere, and with legal and political battles still hampering California, the outlook isn’t good.\n\nWhich is why — despite its relatively low average speeds and its reliance on ageing tracks — even the modest debut of Amtrak’s new Acela is being greeted by rail advocates as a small but welcome victory.",
         "High-speed rail has come to America. Or has it?",
         "Railway California Texas hold ups It’s all politics Bright out west"
        ],
        [
         "41",
         "42",
         "cnn",
         "https://edition.cnn.com/2025/09/08/travel/venetian-lion-st-mark-chinese-intl-scli",
         "Venice’s famous winged lion statue is actually Chinese, scientists say | CNN",
         "2025-09-10T15:14:45.215926Z",
         "0.508",
         "To visitors, Venice is a glorious tapestry of historic buildings, waterways, bell towers, red roofs — and a mighty winged lion, the symbol of the Venetian republic, carved into structures across the city.\n\nPossibly the most famous version of the lion is a bronze statue standing atop a column in the Piazzetta adjoining St. Mark’s Square — and now, researchers think the statue was made in China.\n\nAfter studying samples from the metal lion using lead isotope analysis, researchers from northern Italy’s University of Padua found that the copper used to create the bronze alloy (which is a mix of copper and tin) on the original bronze work came from the Yangtze river in China, according to a study published in the journal Antiquity on Thursday.\n\nThis, they said, would explain why the 4-meter- (13-foot-) long and 2.2-meter- (7-foot-) high statue, previously thought to have been made locally, in Syria or Anatolia, is stylistically mysterious.\n\nAlthough it was installed in St. Mark’s Square in the 13th century, the lion more closely resembles work produced in China during the Tang Dynasty — 618 to 907 AD — than that found in medieval Mediterranean Europe, the researchers argue, citing the shape of its snout and scars from the removal of earlier horns.\n\n‘Haunted’ Venice island to become a locals-only haven where tourists are banned\n\nThe column on which the lion stands is from Anatolia (part of modern-day Turkey), and the lion itself has been repaired several times, with the earliest recorded instance in 1293.\n\n“It is possible that Marco Polo’s father and uncle, during the four years they spent at the court of Kublai Khan during their first journey, were responsible for the acquisition of the sculpture,” the researchers said, adding that the visit likely took place between 1264 and 1268.\n\nThe animal was originally a zhènmùshòu, a monumental, fierce, lion-like tomb guardian from the Tang Dynasty, the authors speculate.\n\nOnce the Polos sent the statue back to Italy after their visit to the Mongol court, it was probably “discreetly and laboriously refitted” to look like the holy emblem of St. Mark, with horns removed and a “wig” added, they added.\n\n“In a puzzling absence of written information, the intention and logistics behind its journey to Venice remain elusive and open to interpretation. If the installation of the ‘Lion’ was meant to send a strong, defensive political message, we can now also read it as a symbol of the impressive connectedness of the medieval world,” they added.",
         "Venice’s famous winged lion statue is actually Chinese, scientists say",
         null
        ],
        [
         "42",
         "43",
         "cnn",
         "https://edition.cnn.com/2025/09/09/style/nyfw-celebrity-photography-dan-bassini",
         "The celebrity photographer who has made a career out of sneaking into fashion shows | CNN",
         "2025-09-10T15:14:46.255478Z",
         "0.537",
         "The best way to sneak into a fashion show is to be confident and friendly — at least according to Dan Bassini, who has been photographing New York Fashion Week for almost a decade, without being on the guest lists.\n\nYou might catch the New Jersey-based photographer on the street taking celebrity portraits of the likes of Heidi Klum, Doja Cat or Dove Cameron, but he also makes his way inside shows, snapping front-row pictures despite being unaccredited — which is how this writer met him, at an Elena Velez runway last year. Once, he even managed to snag a spot behind the familiar sleek bob of Anna Wintour at a Coach show.\n\n“I’ve never really broken the law to go in — I’ve never climbed in a bathroom window,” he joked in a video call. Though he has found the odd side door, left open and unmonitored, or he gauges the flow of the crowd at the door and blends himself into a VIP group.\n\n“I probably look like the help in most situations, but I use being as non-descript as possible to get in there,” he added, noting the neutral Carhartt t-shirt he often wears. “I’m never going to be mistaken for some high-fashion influencer.”\n\nOccasionally, Bassini tries his luck at the door with a loose story, such as a manager who forgot to add him to the list. That was how he got into a Netflix party for the reality show “Next in Fashion” after meeting and photographing its co-host, Alexa Chung, outside. Bassini has observed the circuit of influencers and hopefuls who try a more demanding don’t-you-know-who-I-am approach, only to see them get turned away unceremoniously each time.\n\n“Kindness goes so much further than arrogance in these situations,” he noted.\n\nHis celebrity transformations are bizarre and the process is captivating\n\nSince 2017, Bassini has published a selection of his photos in his ongoing zine series “No Invite,” with the most recent, No. 12, publishing earlier this summer with an accompanying  gallery exhibition in New York’s SoHo neighborhood. The intimacy of his quick, typically posed captures stands apart from the  images on the wires during each fashion season. Bassini’s vibrant 35mm film portraits often feel as if he’s in conversation with his subjects, or saying goodbye to a friend, a camera lens that celebrities seem to engage with rather than avoid.\n\nSometimes, that’s because he has been chatting them up, often about photography. Bassini totes around point-and-shoot cameras, lately a Yashica T4 or Contax T2, that are compact enough to go unnoticed in his pocket but draw a nostalgic reaction from models and actors. The actor and director Jemima Kirke once asked him how to fix her Polaroid camera while waiting for her car outside of a Puppets and Puppets show, he recounted, while Klum waxed poetic with him about the feeling of developing film in a lab.\n\nDuring a Carolina Herrera show in 2023 inside The Plaza Hotel (a venue that Bassini noted has always proved easy to infiltrate), the actor Melissa Barrera pulled him aside when she was done with an interview, he said.\n\n“I’m like, ‘Am I in trouble? What’s going on here?’” he recalled. “And she goes, ‘I need to know where I can get my film developed in New York.’”\n\nToday, Bassini travels alongside a crew of fellow photographers who collect information about each show; some of them from fashion week assignments or connections within the industry. They keep information flowing across group chats and spreadsheets, and Bassini enjoys the camaraderie of it all — though he’s known to disappear at any moment if he spots a way to get inside, he said.\n\nBut during his first attempt to photograph New York Fashion Week on a wintery day in  2016, he had no connections. At the time, most shows were hosted in Skylight Clarkson Square by the West Side Highway, unlike the official schedule’s decentralized sprawl across various sites today.\n\n“I was walking around Soho, asking people where fashion week was. It was embarrassing, and it was so cold,” he said. Directed toward the main venue, he went to the wrong side of the building and soon gave up.\n\n“If I had just gone around it, I would have found it, but who knows what I would have done if I did,” he said.\n\nThe following September, while visiting the Whitney Museum of American Art, he happened to run into a New York Fashion Week party and his interest was renewed when he began taking street-style photos of attendees. His real breakthrough, came, however, when he got a lead on the location of Kanye West’s (now known as Ye) show for Yeezy Season 5 at Pier 59 the following year; he snapped the incoming fashionable guests, including the former Victoria’s Secret model Georgia Fowler, whose portrait was the cover of his first volume of “No Invite.”\n\nNowadays, Bassini’s favorite show to sneak into has become Eckhaus Latta, the contemporary fashion label known for its gender-neutral appeal — with its 10th anniversary show at the abandoned, dilapidated Essex Street Market being among the highlights. To date, he has yet to be kicked out of any show, he claims, though once he was caught by a publicist who had denied him entry to a Puppets and Puppets show. When she spotted him photographing first looks inside, he had to evade her until the show began.\n\nAnd, despite the number of celebrities Bassini has photographed over the years, he said he doesn’t take portraits based on fame, but instead on their attitude and style. Unnamed guests fill his pages, too, while outtakes of Zendaya or Natasha Lyonne didn’t quite make the cut. He is flattered, though, when he finds out that his subjects are using his portraits as their social media profile pictures. Such was the case with Alexa Chung he said, who used his portrait of her on Instagram for years.\n\nHowever, “she never did hit me with the follow back,” he said, laughing.",
         "This photographer has been sneaking into fashion shows for a decade",
         null
        ],
        [
         "43",
         "44",
         "cnn",
         "https://edition.cnn.com/2025/09/08/style/giorgio-armani-funeral-rivalta-italy",
         "Italy says goodbye to legendary designer Giorgio Armani | CNN",
         "2025-09-10T15:14:47.241810Z",
         "0.483",
         "Giorgio Armani, the visionary Italian designer who redefined modern elegance and tailoring on the world’s stage, became a mainstay at red carpets and award shows after launching his eponymous brand in 1975. But despite his global dominance, Armani — who died at age 91 on September 4 — will be honored for the last time in a private funeral ceremony away from the spotlight and near his birthplace.\n\nArmani was born in 1934, in the town of Piacenza, northern Italy. His intimate funeral will take place in Rivalta, a small village nearby. Business owners in the area remembered the designer’s patronage fondly. “Our tortelli reminded him so much of the ones his mother always made,” one restaurateur told the Italian news site IlPiacenza.\n\nIn preparation for the event, Rivalta will be closed off to tourists and visitors. Armani stores will also be closed in the afternoon as a mark of respect.\n\nWith around 20 guests expected to attend, the event stands in stark contrast to the weekend’s proceedings. Across Saturday and Sunday, approximately 16,000 people lined up in Milan to visit the designer’s funeral chamber at his headquarters, Armani Teatro, and pay their respects. There, his body lay in state surrounded by 300 lanterns.\n\n“I decided to come today to pay tribute to a great man who made Italy great in the world,” Giulia Ponzi, a member of the public, told CNN. Donatella Versace, Milan’s mayor Giuseppe Sala and film directors Gabriele Salvatores and Giuseppe Tornatore were also among the crowds of people mourning.\n\nIn June 2025, Armani was absent from his runway show at Milan’s Men’s Fashion Week — the first time in his career. The company released a statement at the time that he was “currently recovering at home” without specifying his health condition. Up until his passing, Armani was working on a retrospective exhibition and a runway show to celebrate 50 years of being in business. Both events are still expected to go ahead.\n\nThe ceremony today will be held at the San Martino church. Officials have declared a day of mourning in both Piacenza and Milan.\n\n“We are grateful for having chosen this place; we feel loved and esteemed,” Giuseppe Busani, a parish priest of Rivalta, who is officiating Armani’s private funeral, told the Italian newspaper Corriere della Sera. “Many Armani family events have been celebrated here.” While the Armani Group has kept details of the funeral under wraps, local papers report the designer will be laid to rest in the family chapel next to his parents and older brother Sergio, who died in 1985.\n\nCNN’s Barbie Latza Nadeau, Sharon Braithwaite and Marianna Cerini contributed to this report.",
         "Italy says goodbye to legendary designer Giorgio Armani",
         null
        ],
        [
         "44",
         "45",
         "cnn",
         "https://edition.cnn.com/2025/09/08/style/mtv-vma-red-carpet-fashion",
         "MTV VMAs red carpet: Most talked-about looks | CNN",
         "2025-09-10T15:14:48.486249Z",
         "0.741",
         "The MTV Video Music Awards have a rich history of outlandish — and, at times, outright bizarre — fashion. Even without Lady Gaga’s meat dress or Britney Spears’ python, the annual ceremony is guaranteed to deliver over-the-top styling, playful accessories and tributes to icons of VMAs past.\n\nSunday night was no exception. From underwear-baring sheer gowns to throwbacks from the fashion archives, the event’s red carpet was, this year, fun and risqué in equal measure.\n\nHere are some of the most memorable looks from New York’s UBS Arena.\n\nWearing headphones to block out the red-carpet din would not have been entirely out of character for nonconformist singer FKA Twigs. This was, however, another avant-garde creation by Louis Souvestre, the self-described “hairfreak” who continues to walk a fine line between hairstyling and sculpture.\n\nThe man behind Twigs’ part-shaven “skullet” not only arranged the singer’s braids into the shape of over-ear headphones — he also used the contrast between cornrows (at the front) and spikes (at the back) to amplify the illusion.\n\nNo detail was overlooked, with two thin braids even dangling down and disappearing into the singers’ low-rise burgundy pants, like jack cables. Twigs’ torso-baring bandeau top, meanwhile, perfectly framed her artful hair between padded shoulders.\n\nSabrina Carpenter has made halter necks and strapless gowns her red-carpet staples of late. So, it was both surprising and refreshing to see her arrive in a long-sleeved, high-necked and floor-length gown in a shade that almost perfectly matched the red carpet itself.\n\nThis isn’t to say Valentino’s creation was overly demure: its strategically placed beadwork and floral embroidery combined with sheer red fabric to offer hints of skin beneath. Yet, the dress was also among the most elegant looks at an event traditionally considered among the least formal in the fashion calendar.\n\nCarpenter kept things fun with a lilac boa, bringing some additional showgirl glam on a night she took home three VMAs, including Best Pop Artist and Best Album.\n\n“KPop Demon Hunters” is now the most watched title in Netflix’s history, with the song “Golden” even nominated in the VMAs’ Song of the Summer category. So, despite being animated (and fictional), it seemed fitting that the movie’s central girl group, Huntr/x, made an appearance on the red carpet.\n\nEjae, Rei Ami and Audrey Nuna, who provide the band’s singing voices, broke the fourth wall in complementary, Huntr/x-style ensembles.\n\nBut it was Nuna’s life-imitates-art puffy jacket — an almost literal nod to her character Mira wearing a sleeping bag to the Met Gala — that sent the movie’s fans into meltdown on social media.\n\nThe leather pants, heavy boots and goth styling were very much on brand Yungblud. And while his shirtless appearance was divisive on social media, there was only one part of the British singer’s outfit that really mattered: the bejeweled cross necklace gifted to him by hero and mentor, Ozzy Osbourne, who died in July.\n\nIn a moving moment between two generations of rock stars, Osbourne famously gave Yungblud the cross in 2022, during filming for the latter’s video “The Funeral.” The 28-year-old says he has worn it ever since — and has also pledged to perform Black Sabbath’s “Changes” at every show he ever plays. Yungblud later revealed that, by complete coincidence, the cross had been made by his girlfriend Jesse Jo Stark’s father (Richard Stark of Chrome Hearts) in the early 1990s.\n\nArriving at the VMAs ahead of a tribute to Osbourne performed alongside Extreme guitarist Nuno Bettencourt and Aerosmith’s Steven Tyler and Joe Perry, Yungblud ripped off his fur-trimmed jacket to give the necklace full, bare-chested prominence.\n\nThe VMAs red carpet is no place for prudes. Sheer fabric — and consequently, visible underwear — reigned large this year, with Zara Larsson and Nikki Glaser among those leaving little to the imagination in semi-transparent gowns. But Tate McRae’s white silk chiffon outfit was, perhaps, the sheerest of them all.\n\nOnline, the ethereal gown saw McRae compared to a “Greek Goddess” (though the pleated bra top and matching underwear were hardly plucked from antiquity). It took 134 hours to produce, by hand, according to Parisian label Ludovic de Saint Sernin.\n\nSernin has emerged as a favorite for celebrities looking to elevate lingerie- and BDSM-inspired looks for the red carpet. He is no one-trick pony, though: McRae’s custom dress comes from the very Spring-Summer 2026 collection that spawned the structured leather mini-dress Olivia Rodrigo wore to headline this year’s Glastonbury festival.\n\nDoja Cat was a picture of ‘80s glamour in a voluminous blonde wig and embroidered, harlequin-patterned dress by Balmain. With her forthcoming album “Vie” expected to be heavily 1980s-inspired, the look was, in part, a piece of clever marketing.\n\nSo, too, was what happened next: In one of the evening’s viral moments, the singer took a MAC lipstick out of her lipstick-shaped clutch and began applying it in front of the cameras before taking a hearty bite. Moments later, she was revealed as the new face of MAC.\n\nConfirming the appointment, a spokesperson for the cosmetics firm revealed that Doja Cat’s red carpet snack was, in fact, an edible trompe l’oeil chocolate prop made by the TikTok pastry chef and chocolatier Amaury Guichon.\n\nThe first time Tyla’s dress appeared in public (at Paris Fashion Week, almost a decade before the South African singer was born) it wasn’t a dress at all, but a shirt. And it was worn by Claudia Schiffer.\n\nFor the VMAs, double-nominee Tyla put a creative spin on archival fashion by transforming a sleeveless top from Chanel’s Spring-Summer 1993 collection. Helped by being significantly shorter than the statuesque Schiffer, the singer was able to — just about — re-style it into a skintight minidress.\n\nAnd as a brand ambassador for Pandora, it was perhaps little surprise that Tyla accessorized with jewels from the brand’s Talisman collection, rather than the gold Chanel chain belt worn by Schiffer.\n\nThick, heavy and water-absorbent — denim is, frankly, a sailor’s nightmare. But for a nautical-themed VMAs ensemble with matching hat? Why not.\n\nKnown for gender fluidity and red carpet risk-taking, Conan Gray arrived in one of the evening’s boldest looks. His theatrical maritime outfit, created by womenswear designer Erik Charlotte, featured exaggerated puff sleeves, a cinched corset waist and a ruffled skirt, as well as a pair of towering white platform shoes.\n\nOn Instagram, Charlotte gave the singer “major flowers” for navigating the red carpet in an outfit that, he said, weighed 30 pounds. “So happy this denim behemoth got to make it onto the carpet!” he added.\n\nEffective ensemble dressing balances individuality with creative cohesion. Styled by Kyle Luu and sporting head-to-toe Dolce & Gabbana, the LA-based “global girl group” Katseye showed precisely how it’s done.\n\nFresh off the back of the band’s viral Gap ad, there was no denim in sight. There were, however, clear overriding themes: satiny black fabrics and doses of sparkle. Within the brief, each member’s outfit stood apart from — but somehow spoke to — the others.\n\nManon Bannerman and Megan Meiyok Skiendiel put differing spins on conical bras as outerwear, one peeking from under a blazer and the other over a figure-hugging dress. Lara Raj’s bejeweled headpiece and shoes offset the more immediate shimmer of Daniela Avanzini’s crystal-adorned tulle dress. And Yoonchae Jeung’s knee-high boots and sweetheart neckline almost inverted the proportions of Sophia Laforteza’s structured dress.\n\nScroll through the gallery below to see more of the evening’s looks.",
         "The most talked-about red carpet looks at MTV’s Video Music Awards 2025",
         "FKA Twigs’ illusion braids Sabrina Carpenter’s showgirl twist A Huntr/x ‘sleeping bag’ breaks the fourth wall Yungblud’s Ozzy tribute Tate Mcrae embraces the sheer trend Doja Cat brings ‘80s glamour — and an edible prop Tyla turns to (and reworks) archival Chanel Conan Gray’s ‘denim behemoth’ Katseye’s lesson in ensemble dressing And for the rest…"
        ],
        [
         "45",
         "46",
         "cnn",
         "https://edition.cnn.com/2025/08/29/style/the-best-looks-from-venice-film-festival-2025",
         "The best looks from the 2025 Venice Film Festival | CNN",
         "2025-09-10T15:14:49.674318Z",
         "0.685",
         "Italy’s most famous film festival has drawn to a close. The 82nd edition of the Venice Film Festival, which concluded on September 6, presented a showcase of hotly anticipated films such as “Bugonia” by the Greek director Yorgos Lanthimos, “Frankenstein” by Guillermo Del Toro, and “Jay Kelly” by Noah Baumbach. Sofia Coppola’s first-ever documentary “Marc by Sofia,” which chronicles the life and career of the fashion designer Marc Jacobs, also made its debut at the biennale, although it did not compete for a prize.\n\nThe red carpet has given us a sneak peek of the new creative direction of several luxury brands, too. Italian actor Alba Rohrwacher wore a custom deep blue satin dress designed by Jonathan Anderson for Dior (his first womenswear collection for the brand is scheduled to debut at Paris Fashion Week in October). Julia Roberts — and later, Amanda Seyfried — wore the first pieces by Versace’s new designer Dario Vitale, who will present his first collection in Milan at the end of the month. Similarly, Louise Trotter’s vision for Italian label Bottega Veneta can already be seen on Jacob Elordi and Vicky Krieps, while Ayo Edebiri wore Chanel designed by the French house’s new creative director Matthieu Blazy.",
         "The best looks from the 2025 Venice Film Festival",
         null
        ],
        [
         "46",
         "47",
         "cnn",
         "https://edition.cnn.com/2025/09/05/style/jane-austen-letter-sister-cassandra-auction-intl-scli",
         "Long, chatty letter from Jane Austen to sister Cassandra to be auctioned | CNN",
         "2025-09-10T15:14:50.999217Z",
         "0.822",
         "While Jane Austen is best known for skewering the vagaries of romantic love in her novels, there is another, equally complicated and meaningful type of relationship that runs through them, too — that of siblings.\n\nSisters, in particular, influence the thoughts, opinions and actions of many of Austen’s heroines, acting as confidantes or foils. Elinor Dashwood has Marianne — the “sensibility” to her “sense;” Elizabeth Bennet has four sisters in “Pride and Prejudice,” each of whom has a different experience of courtship and marriage; in “Persuasion,” Anne Elliot has the vain Elizabeth and the highly strung Mary.\n\nSisterhood defined Austen’s own life, too, as underlined by a long, chatty letter she wrote to her elder sister, Cassandra, which is expected to fetch up to $400,000 at a Sotheby’s auction in New York in October.\n\nNearly three years apart in age, the two sisters were extraordinarily close; so close that their mother once said, “if Cassandra’s head had been going to be cut off, Jane would have hers cut off too.”\n\nAs Kalika Sands, Sotheby’s Head of Books and Manuscripts New York, notes, they had an “incredibly close emotional bond” as well as a “very strong intellectual bond.”\n\nThis relationship is evident in the letters they wrote to each other. In this one, Austen rattles through an account of her days in Bath, gossips about their neighbors and relatives, shares news about their friends, pokes fun at Cassandra’s ill health, and laments the family’s diminished social status.\n\nIt was written about three months after Austen’s father died, Sands told CNN, quoting a passage that shows the changed social circles the family moved in and “how reduced Jane Austen felt.”\n\n“Seven years and four months ago, we went to the same riding house to see Miss Lefroy’s performance,” Austen wrote. “What a different set we are now moving in, but seven years, I suppose, are enough to change every pore of one’s skin and every feeling of one’s mind.”\n\nNeither of the Austen sisters ever married and they remained each other’s closest confidante until Jane’s death at age 41. “I had not a thought concealed from her,” Cassandra wrote two days after her sister’s death.\n\nThese close, sisterly relationships crop up again and again in Austen’s novels, which, “in so many ways, are about economics and survival,” Sands said. “And when you think about these relationships with sisters and other women, they’re really your allies.”\n\nJane and Cassandra’s relationship even shapes our understanding of Austen today. It was Cassandra who painted the only surviving portrait of Austen during her lifetime and who destroyed many of her sister’s letters following her death. Only 161 of the roughly 3,000 letters Austen wrote have survived, Sands said.\n\nAlthough this has rendered Austen a somewhat elusive historical figure, “if we take a big step back, it’s actually an incredibly generous gesture of a sister protecting a legacy,” Sands said.\n\nNo letters from the period three or four years before this letter was written have survived, Sands said, pointing out this was a time when Austen wasn’t very productive, struggled with her family’s move to Bath and was perhaps depressed, as some critics have hypothesized.\n\n“If that’s the case, we can understand why Cassandra would have destroyed some of the evidence of this,” Sands said. “Do we want the letters or the emails or the texts that expose the most difficult times in our life left for public consumption?”\n\nOther Austen memorabilia will also feature at the auction held online between October 1 and October 15, taking the combined estimated value of the lots up to $1.3 million.\n\nA copy of “Emma” that Austen sent to Irish novelist Maria Edgeworth in 1816 — the only known surviving work Austen sent to a fellow writer — is expected to sell for up to $350,000. Meanwhile, a short poem Austen wrote in 1811 satirizing the medical practices at the time could fetch up to $150,000.",
         "Long, chatty letter from Jane Austen to sister Cassandra to be auctioned",
         null
        ],
        [
         "47",
         "48",
         "cnn",
         "https://edition.cnn.com/2025/09/09/weather/california-sequoias-burning-sierra-national-forest-hnk",
         "Grove of giant sequoia trees burns in California’s Sierra National Forest | CNN",
         "2025-09-10T15:14:52.440046Z",
         "0.938",
         "A lightning-sparked wildfire in California’s Sierra National Forest burned Tuesday through a grove of giant sequoias and set some of the ancient towering trees on fire.\n\nWildland firefighters with tree-climbing experience were being sent in to put out the fire burning in the canopies of the beloved trees, said Jay Tracy, a spokesperson for the Garnet Fire ablaze in Fresno County.\n\nTo protect the majestic trees, some estimated to be 3,000 years old, fire crews laid sprinkler lines to increase ground moisture, wrapped the trunks with fire-resistant foil blankets, raked flammable material away from trees and patrolled the area looking for hotspots, he said.\n\nSequoias grow naturally only in a 260-mile belt of forest on the western slopes of the Sierra Nevada mountains in California. They have massive trunks and can grow over 300 feet tall.\n\nGiant Sequoias are nearly impossible to kill. Climate change is changing that (2021)\n\nThe sequoia is the world’s largest tree by volume and closely related to the redwood, the world’s tallest.\n\n“These trees are near and dear to the forest and to our community and we want to do our best to protect them,” Tracy said.\n\nThe Garnet Fire, which started on Aug. 24, reached the southeast side of the 100-acre McKinley Grove sometime Sunday night or Monday morning, he said.\n\nThe giant trees rely on low-intensity fire to help open their cones to disperse seeds, and flames clear undergrowth so seedlings can take root and get sunlight. The Garnet Fire, however, is more intense, Tracy said.\n\nThe blaze has scorched 85 square miles of grass, chaparral and timber in a remote area known for camping and hiking about 60 miles east of Fresno. It was about 14% contained as of Tuesday.",
         "Grove of giant sequoia trees burns in California’s Sierra National Forest",
         null
        ],
        [
         "48",
         "49",
         "cnn",
         "https://edition.cnn.com/2025/09/09/weather/hurricane-season-peak-atlantic-quiet-climate",
         "Why Atlantic hurricane season has gone silent | CNN",
         "2025-09-10T15:14:53.737819Z",
         "0.795",
         "Atlantic hurricane season has hit a September speed bump. The season’s peak will pass this week with no active storms for the first time in nearly a decade.\n\nJune is when the six-month-long season begins, but the true bulk of hurricane activity occurs from mid-August through September and into the first half of October. Right in the middle is September 10, the statistical high point of the season.\n\nAn active tropical storm or hurricane has roamed somewhere in the Atlantic on that date in roughly three-fourths of the 76 years tracked by NOAA.\n\nThe Atlantic is pitching a shut out on its official peak this year – a feat that last happened in 2016. The season’s last storm was Tropical Storm Fernand, which fizzled out far from land on August 28.\n\nThe National Hurricane Center expects the Atlantic to remain quiet for at least the next week.\n\nIf that happens, it would be the farthest into September the Atlantic has gone without a named storm forming since 1992, according to the National Weather Service in New Orleans . Bonnie was the first September storm that year, forming on September 18.\n\nSeptember is when the most real estate is open for hurricanes to form in the Atlantic thanks to a collision of weather ingredients.\n\nThe most basic building block is that water temperatures reach their warmest levels after basking in summer’s heat.\n\nRight now, much of the Atlantic basin has plenty of warmer-than-average water for prospective storms to tap into. These temperatures aren’t at the record levels set in 2023 and 2024 , but they’re still warmer than they should be, driven higher in a world warming due to fossil fuel pollution.\n\nHurricane Erin took advantage of that warmth, becoming one of the fastest-strengthening Atlantic hurricanes on record when it hit Category 5 status in mid-August.\n\nHowever, warm water is only one piece of the puzzle, as September is showing us right now.\n\n﻿The tropical Atlantic has been enveloped in dry, stable air so far this month, which is one of the main reasons it’s unusually quiet. Dry air can squash a storm’s ability to generate rainfall, and it’s typically less abundant at this time of year than earlier in the season. An area of stormy weather the hurricane center tracked for development between Africa and the Caribbean last week succumbed to this hostile factor.\n\nWind shear – changes in wind speed and direction at different levels of the atmosphere – also tends to be lowest at this point. Shear can rip apart fully developed hurricanes and tropical storms, as well as systems still in formative stages, though it wasn’t a huge obstacle for last week’s failed system.\n\nSeptember is also when areas of showers and thunderstorms from western Africa make the trek west toward the Caribbean. These seeds for development, known as tropical waves, can spin-up storms when ingredients in the atmosphere and ocean cooperate.\n\nThis season seems to be running closer to empty at a time of year it should be firing on all cylinders: Six named storms have formed so far, which is two fewer than the average by September 9, according to 1991 to 2020 data .\n\nMost of those storms have been short-lived, with Hurricane Erin’s more than 10-day-long journey being the exception. Erin remains the only hurricane so far this season, behind the typical pace of three forming by early September.\n\nOf course, impacts matter more than any numbers and several storms this year have already had dangerous outcomes.\n\nThe leftover moisture from what once was Tropical Storm Barry helped fuel the devastating July 4 Texas floods . Just two days later, Tropical Storm Chantal triggered destructive and deadly floods in a narrow strip of North Carolina.\n\nIn August, Hurricane Erin brought heavy rain and strong winds to the northeast Caribbean before growing in size and churning up high surf and dangerous rip currents along the East Coast.\n\nLooking forward, just over 50% of the entire hurricane season’s activity occurs after the September 10 peak, according to one measure .\n\nAnd we’ve seen a number of hurricanes pack a huge punch in the back end of recent seasons.\n\nLast year, Hurricane Helene’s devastating impacts played out from Florida to Georgia, western North Carolina and eastern Tennessee in late September. That was followed by Hurricane Milton’s strike on the Florida Peninsula in early October.\n\nIn late September 2022, Category 4 Hurricane Ian delivered a catastrophic storm surge to southwest Florida. Destructive winds and flooding rain also pummeled the state’s peninsula.\n\nThe bottom line is there’s still a long way to go before the season ends. It’s important to stay prepared, especially for those living in hurricane-prone areas.",
         "Why Atlantic hurricane season has gone silent",
         "September’s special sauce How the season stacks up so far and what lies ahead"
        ],
        [
         "49",
         "50",
         "cnn",
         "https://edition.cnn.com/2025/09/03/weather/california-wildfire-chinese-camp-mining-town-hnk",
         "Historic California gold mining town overrun by fast-moving wildfire | CNN",
         "2025-09-10T15:14:54.989925Z",
         "0.749",
         "Firefighters are battling a fast-moving wildfire in Central California that’s already burned through thousands of acres and damaged and destroyed multiple buildings in a historic Gold Rush town after igniting in a lightning storm Tuesday.\n\nThe blaze, known as the 6-5 Fire, forced the evacuation of more than 300 people in and near the small town of Chinese Camp in Tuolumne County as it continued to burn out of control Wednesday, officials said.\n\nNearly 350 additional people were told to be ready to evacuate at a moment’s notice, a spokesperson for the Tuolumne County Office of Emergency Services told CNN Wednesday.\n\nThe fire tore through the equivalent of eight football fields every minute on average in its first 10 hours Tuesday. It had scorched nearly 7,000 acres as of Wednesday evening with 0% containment, according to the California Department of Forestry and Fire Protection.\n\nThere were no reports of injuries or deaths from the fire as of Wednesday evening, and multiple structures have been damaged or destroyed, a Cal Fire Tuolumne-Calaveras Unit spokesperson told CNN.\n\nAt least five homes burned Tuesday in the rural town about 57 miles east of Stockton, which has a mix of freestanding and mobile homes, the Associated Press reported.\n\nOutside one house on Tuesday evening, seven people quickly moved large tree branches away from the structure and shoveled sand onto the fire in a desperate attempt to keep the blaze from spreading from the house next door, according to the AP. They worked for about 30 minutes until firefighters arrived. An RV on the property was damaged by the fire.\n\nParts of nearby highways 120 and 49 were closed Wednesday due to the blaze, according to the California Department of Transportation .\n\nThe area the 6-5 Fire is burning through has an important place in US history.\n\nThe California Gold Rush brought thousands of Chinese miners to the United States, where they faced anti-immigrant sentiments and persecution that included an exorbitant Foreign Miners Tax designed to drive them away from mining. Chinese miners settled in the town in 1849 , after being driven out of another nearby mining camp, according to Visit Tuolumne County . Originally called Camp Washington, it was soon renamed as Chinese Camp.\n\nThe fire destroyed the town’s historic post office building, CNN affiliate KCRA reported Wednesday. Originally built in 1854, the post office – which was made of stone and brick – had been operating up until it was burned, according to California State Parks .\n\nChinese Camp also has a number of abandoned buildings in various states of disrepair, many of which have been “reclaimed by nature with overgrown greenery,” according to Visit Tuolumne County. That greenery is bad news when it comes to the destructive fire.\n\nThe town, which also served as a backdrop for multiple films , was added to California’s Historical Landmarks list in 1949.\n\nLightning sparked the fire now tearing through the historic town, according to Cal Fire. The 6-5 blaze is one of more than a dozen wildfires that erupted Tuesday across California after thunderstorms set off thousands of lightning strikes in the state.\n\nMany of these storms were dry thunderstorms — storms in which much of the rain evaporates before it reaches the ground. Since these produce minimal rain, lightning strikes dry ground with little to prevent a spark from turning into an all-out blaze. These storms also produce gusty winds that drive erratic fire behavior.\n\nLightning sparked so many wildfires on Tuesday that Cal Fire has grouped 22 individual fires – including the 6-5 Fire – into the Cal Fire TCU September Lightning Complex. More than 600 fire personnel are assigned to the complex, according to Cal Fire’s Tuolumne-Calaveras Unit.\n\nChallenging weather conditions will persist for fire crews through at least Thursday with dry conditions and high temperatures in the 90s expected in the area of the fire complex.\n\nCNN Meteorologists Briana Waxman and Chris Dolce contributed to this report.",
         "Historic California gold mining town overrun by fast-moving wildfire",
         null
        ]
       ],
       "shape": {
        "columns": 9,
        "rows": 100
       }
      },
      "text/html": [
       "<div>\n",
       "<style scoped>\n",
       "    .dataframe tbody tr th:only-of-type {\n",
       "        vertical-align: middle;\n",
       "    }\n",
       "\n",
       "    .dataframe tbody tr th {\n",
       "        vertical-align: top;\n",
       "    }\n",
       "\n",
       "    .dataframe thead th {\n",
       "        text-align: right;\n",
       "    }\n",
       "</style>\n",
       "<table border=\"1\" class=\"dataframe\">\n",
       "  <thead>\n",
       "    <tr style=\"text-align: right;\">\n",
       "      <th></th>\n",
       "      <th>id</th>\n",
       "      <th>source</th>\n",
       "      <th>url</th>\n",
       "      <th>title</th>\n",
       "      <th>fetched_at</th>\n",
       "      <th>t_total_sec</th>\n",
       "      <th>content</th>\n",
       "      <th>h1</th>\n",
       "      <th>h2</th>\n",
       "    </tr>\n",
       "  </thead>\n",
       "  <tbody>\n",
       "    <tr>\n",
       "      <th>0</th>\n",
       "      <td>1</td>\n",
       "      <td>cnn</td>\n",
       "      <td>https://edition.cnn.com/2025/09/09/europe/pola...</td>\n",
       "      <td>NATO shoots down Russian drones in Polish airs...</td>\n",
       "      <td>2025-09-10T15:13:31.532053Z</td>\n",
       "      <td>1.136</td>\n",
       "      <td>NATO fighter jets shot down multiple Russian d...</td>\n",
       "      <td>NATO shoots down Russian drones in Polish airs...</td>\n",
       "      <td>‘Unprecedented violation’ Allies react and a s...</td>\n",
       "    </tr>\n",
       "    <tr>\n",
       "      <th>1</th>\n",
       "      <td>2</td>\n",
       "      <td>cnn</td>\n",
       "      <td>https://edition.cnn.com/2025/09/10/europe/fran...</td>\n",
       "      <td>France hit by protests and disruption as new p...</td>\n",
       "      <td>2025-09-10T15:13:32.937497Z</td>\n",
       "      <td>0.903</td>\n",
       "      <td>Nationwide unrest broke out across France on W...</td>\n",
       "      <td>France hit by protests and disruption as new p...</td>\n",
       "      <td>‘No one listens to us’</td>\n",
       "    </tr>\n",
       "    <tr>\n",
       "      <th>2</th>\n",
       "      <td>3</td>\n",
       "      <td>cnn</td>\n",
       "      <td>https://edition.cnn.com/2025/09/10/middleeast/...</td>\n",
       "      <td>Israel strikes Hamas leadership in Qatar in un...</td>\n",
       "      <td>2025-09-10T15:13:34.092127Z</td>\n",
       "      <td>0.652</td>\n",
       "      <td>Israel launched a series of strikes targeting ...</td>\n",
       "      <td>Israel strikes Hamas leadership in Qatar in un...</td>\n",
       "      <td>What happened? Why was the attack controversia...</td>\n",
       "    </tr>\n",
       "    <tr>\n",
       "      <th>3</th>\n",
       "      <td>4</td>\n",
       "      <td>cnn</td>\n",
       "      <td>https://edition.cnn.com/2025/09/09/europe/russ...</td>\n",
       "      <td>Russian aerial bomb kills at least 25 civilian...</td>\n",
       "      <td>2025-09-10T15:13:35.474307Z</td>\n",
       "      <td>0.880</td>\n",
       "      <td>A Russian aerial bomb attack on Tuesday killed...</td>\n",
       "      <td>Russian aerial bomb kills at least 25 civilian...</td>\n",
       "      <td>NaN</td>\n",
       "    </tr>\n",
       "    <tr>\n",
       "      <th>4</th>\n",
       "      <td>5</td>\n",
       "      <td>cnn</td>\n",
       "      <td>https://edition.cnn.com/2025/09/10/americas/am...</td>\n",
       "      <td>She was deported nine times. Then, like others...</td>\n",
       "      <td>2025-09-10T15:13:36.747389Z</td>\n",
       "      <td>0.771</td>\n",
       "      <td>Esther Morales lived in the United States for ...</td>\n",
       "      <td>She was deported nine times. Then, like others...</td>\n",
       "      <td>‘On this side there are also dreams’ Adapting ...</td>\n",
       "    </tr>\n",
       "    <tr>\n",
       "      <th>...</th>\n",
       "      <td>...</td>\n",
       "      <td>...</td>\n",
       "      <td>...</td>\n",
       "      <td>...</td>\n",
       "      <td>...</td>\n",
       "      <td>...</td>\n",
       "      <td>...</td>\n",
       "      <td>...</td>\n",
       "      <td>...</td>\n",
       "    </tr>\n",
       "    <tr>\n",
       "      <th>95</th>\n",
       "      <td>96</td>\n",
       "      <td>bbc</td>\n",
       "      <td>https://www.bbc.com/news/videos/c1edl9qppelo?a...</td>\n",
       "      <td>More than a dozen robbers storm jewellery shop...</td>\n",
       "      <td>2025-09-10T15:16:21.728079Z</td>\n",
       "      <td>0.450</td>\n",
       "      <td>An 88-year-old jewellery store owner in San Jo...</td>\n",
       "      <td>More than a dozen robbers storm jewellery shop...</td>\n",
       "      <td>Watch: BBC interviews man who helped rescue ch...</td>\n",
       "    </tr>\n",
       "    <tr>\n",
       "      <th>96</th>\n",
       "      <td>97</td>\n",
       "      <td>bbc</td>\n",
       "      <td>https://www.bbc.com/news/videos/crl5ngr2069o?a...</td>\n",
       "      <td>VMAs: Ariana Grande, Lady Gaga and Sabrina Car...</td>\n",
       "      <td>2025-09-10T15:16:23.026879Z</td>\n",
       "      <td>0.798</td>\n",
       "      <td>The MTV Video Music Awards (VMAs) have taken p...</td>\n",
       "      <td>Watch: Glitz, glamour and emotional speeches a...</td>\n",
       "      <td>'He doesn't follow trends': How celebrities de...</td>\n",
       "    </tr>\n",
       "    <tr>\n",
       "      <th>97</th>\n",
       "      <td>98</td>\n",
       "      <td>nytimes</td>\n",
       "      <td>https://www.nytimes.com/2025/09/10/world/europ...</td>\n",
       "      <td>NATO Says It Scrambled Fighter Jets to Shoot D...</td>\n",
       "      <td>2025-09-10T15:16:26.723700Z</td>\n",
       "      <td>2.013</td>\n",
       "      <td>More than a dozen Russian drones entered Polan...</td>\n",
       "      <td>NATO Says It Scrambled Fighter Jets to Shoot D...</td>\n",
       "      <td>Related Content Site Index Site Information Na...</td>\n",
       "    </tr>\n",
       "    <tr>\n",
       "      <th>98</th>\n",
       "      <td>99</td>\n",
       "      <td>nytimes</td>\n",
       "      <td>https://www.nytimes.com/2025/09/10/world/middl...</td>\n",
       "      <td>Israel’s Attack on Qatari Soil Leads Gulf Powe...</td>\n",
       "      <td>2025-09-10T15:16:30.468179Z</td>\n",
       "      <td>3.242</td>\n",
       "      <td>Qatar hosts the largest American military base...</td>\n",
       "      <td>Gulf Powers Question U.S. Protection After Isr...</td>\n",
       "      <td>Related Content Site Index Site Information Na...</td>\n",
       "    </tr>\n",
       "    <tr>\n",
       "      <th>99</th>\n",
       "      <td>100</td>\n",
       "      <td>nytimes</td>\n",
       "      <td>https://www.nytimes.com/2025/09/10/world/europ...</td>\n",
       "      <td>France Braces for Protests</td>\n",
       "      <td>2025-09-10T15:16:32.506019Z</td>\n",
       "      <td>1.536</td>\n",
       "      <td>France’s newest prime minister took office on ...</td>\n",
       "      <td>France and a New Prime Minister Face a Day of ...</td>\n",
       "      <td>Related Content Site Index Site Information Na...</td>\n",
       "    </tr>\n",
       "  </tbody>\n",
       "</table>\n",
       "<p>100 rows × 9 columns</p>\n",
       "</div>"
      ],
      "text/plain": [
       "     id   source                                                url  \\\n",
       "0     1      cnn  https://edition.cnn.com/2025/09/09/europe/pola...   \n",
       "1     2      cnn  https://edition.cnn.com/2025/09/10/europe/fran...   \n",
       "2     3      cnn  https://edition.cnn.com/2025/09/10/middleeast/...   \n",
       "3     4      cnn  https://edition.cnn.com/2025/09/09/europe/russ...   \n",
       "4     5      cnn  https://edition.cnn.com/2025/09/10/americas/am...   \n",
       "..  ...      ...                                                ...   \n",
       "95   96      bbc  https://www.bbc.com/news/videos/c1edl9qppelo?a...   \n",
       "96   97      bbc  https://www.bbc.com/news/videos/crl5ngr2069o?a...   \n",
       "97   98  nytimes  https://www.nytimes.com/2025/09/10/world/europ...   \n",
       "98   99  nytimes  https://www.nytimes.com/2025/09/10/world/middl...   \n",
       "99  100  nytimes  https://www.nytimes.com/2025/09/10/world/europ...   \n",
       "\n",
       "                                                title  \\\n",
       "0   NATO shoots down Russian drones in Polish airs...   \n",
       "1   France hit by protests and disruption as new p...   \n",
       "2   Israel strikes Hamas leadership in Qatar in un...   \n",
       "3   Russian aerial bomb kills at least 25 civilian...   \n",
       "4   She was deported nine times. Then, like others...   \n",
       "..                                                ...   \n",
       "95  More than a dozen robbers storm jewellery shop...   \n",
       "96  VMAs: Ariana Grande, Lady Gaga and Sabrina Car...   \n",
       "97  NATO Says It Scrambled Fighter Jets to Shoot D...   \n",
       "98  Israel’s Attack on Qatari Soil Leads Gulf Powe...   \n",
       "99                         France Braces for Protests   \n",
       "\n",
       "                     fetched_at  t_total_sec  \\\n",
       "0   2025-09-10T15:13:31.532053Z        1.136   \n",
       "1   2025-09-10T15:13:32.937497Z        0.903   \n",
       "2   2025-09-10T15:13:34.092127Z        0.652   \n",
       "3   2025-09-10T15:13:35.474307Z        0.880   \n",
       "4   2025-09-10T15:13:36.747389Z        0.771   \n",
       "..                          ...          ...   \n",
       "95  2025-09-10T15:16:21.728079Z        0.450   \n",
       "96  2025-09-10T15:16:23.026879Z        0.798   \n",
       "97  2025-09-10T15:16:26.723700Z        2.013   \n",
       "98  2025-09-10T15:16:30.468179Z        3.242   \n",
       "99  2025-09-10T15:16:32.506019Z        1.536   \n",
       "\n",
       "                                              content  \\\n",
       "0   NATO fighter jets shot down multiple Russian d...   \n",
       "1   Nationwide unrest broke out across France on W...   \n",
       "2   Israel launched a series of strikes targeting ...   \n",
       "3   A Russian aerial bomb attack on Tuesday killed...   \n",
       "4   Esther Morales lived in the United States for ...   \n",
       "..                                                ...   \n",
       "95  An 88-year-old jewellery store owner in San Jo...   \n",
       "96  The MTV Video Music Awards (VMAs) have taken p...   \n",
       "97  More than a dozen Russian drones entered Polan...   \n",
       "98  Qatar hosts the largest American military base...   \n",
       "99  France’s newest prime minister took office on ...   \n",
       "\n",
       "                                                   h1  \\\n",
       "0   NATO shoots down Russian drones in Polish airs...   \n",
       "1   France hit by protests and disruption as new p...   \n",
       "2   Israel strikes Hamas leadership in Qatar in un...   \n",
       "3   Russian aerial bomb kills at least 25 civilian...   \n",
       "4   She was deported nine times. Then, like others...   \n",
       "..                                                ...   \n",
       "95  More than a dozen robbers storm jewellery shop...   \n",
       "96  Watch: Glitz, glamour and emotional speeches a...   \n",
       "97  NATO Says It Scrambled Fighter Jets to Shoot D...   \n",
       "98  Gulf Powers Question U.S. Protection After Isr...   \n",
       "99  France and a New Prime Minister Face a Day of ...   \n",
       "\n",
       "                                                   h2  \n",
       "0   ‘Unprecedented violation’ Allies react and a s...  \n",
       "1                              ‘No one listens to us’  \n",
       "2   What happened? Why was the attack controversia...  \n",
       "3                                                 NaN  \n",
       "4   ‘On this side there are also dreams’ Adapting ...  \n",
       "..                                                ...  \n",
       "95  Watch: BBC interviews man who helped rescue ch...  \n",
       "96  'He doesn't follow trends': How celebrities de...  \n",
       "97  Related Content Site Index Site Information Na...  \n",
       "98  Related Content Site Index Site Information Na...  \n",
       "99  Related Content Site Index Site Information Na...  \n",
       "\n",
       "[100 rows x 9 columns]"
      ]
     },
     "execution_count": 9,
     "metadata": {},
     "output_type": "execute_result"
    }
   ],
   "source": [
    "df.head(100)"
   ]
  },
  {
   "cell_type": "code",
   "execution_count": 10,
   "id": "d250a7e6",
   "metadata": {},
   "outputs": [
    {
     "data": {
      "application/vnd.microsoft.datawrangler.viewer.v0+json": {
       "columns": [
        {
         "name": "index",
         "rawType": "int64",
         "type": "integer"
        },
        {
         "name": "id",
         "rawType": "int64",
         "type": "integer"
        },
        {
         "name": "source",
         "rawType": "object",
         "type": "string"
        },
        {
         "name": "url",
         "rawType": "object",
         "type": "string"
        },
        {
         "name": "title",
         "rawType": "object",
         "type": "string"
        },
        {
         "name": "fetched_at",
         "rawType": "object",
         "type": "string"
        },
        {
         "name": "t_total_sec",
         "rawType": "float64",
         "type": "float"
        },
        {
         "name": "content",
         "rawType": "object",
         "type": "string"
        },
        {
         "name": "h1",
         "rawType": "object",
         "type": "string"
        },
        {
         "name": "h2",
         "rawType": "object",
         "type": "unknown"
        }
       ],
       "ref": "5630fdf4-5001-4575-ab19-6d772df972ba",
       "rows": [
        [
         "1377",
         "1053",
         "meduza",
         "https://meduza.io/en/feature/2025/03/19/new-meduza-merch-hits-the-shelves",
         "New Meduza merch hits the shelves — Meduza",
         "2025-09-11T10:50:21.118934Z",
         "0.264",
         "In late 2024, to mark Meduza’s 10th anniversary, we released new merch for the first time in years. The full-scale invasion of Ukraine and the Kremlin’s decision to outlaw our newsroom made it dangerous to wear our stuff in Russia, let alone manufacture it. To bring it back, we had to set up production in Europe and start from scratch. After Meduza’s first merch drop sold out in just four days, we got a bunch of emails asking for another batch. Well, folks, round two is ready to go. And we’ve even added some new items this time.\n\nWe styled the print like a death metal band logo because everything that’s happened in the last few years has been brutal and hardcore. But it’s also meant to be indecipherable to the uninitiated, so outsiders can’t immediately see “Meduza” in its tangled design. For the same reason, we picked an unconventional color: black on black. Order now before they sell out again.\n\nYes, in addition to black hoodies, we now have white long-sleeve shirts . You’ll find the same “Meduza” lettering on the chest, styled like a death metal band logo. The print? White on white. Wear it with pride, and remember that there is light despite all of the darkness.\n\nFor us, merch is another way to tell stories. So, in every new drop, we embed a message.\n\nThis time, we’ve cooked up caps bearing the word “ No .” It encapsulates our right to reject what we find wrong, unjust, or unacceptable. We say no to war, dictatorship, and fear. You can add to that list.\n\n“No” is also the name of a new, very unexpected project that Meduza has been developing for months. More on that soon.\n\nHoodies, T-shirts, caps, long-sleeve shirts, and original books … You’re gonna need a big, stylish tote bag for all that. We’ve got you covered.\n\nOne side features a secret Meduza print. Turn it inside out, and you’ll see our classic “m” logo. Yes, it’s reversible. And by the way, both prints are made with reflective ink.\n\nA sleek all-black combo : black hoodie + black tote for a discounted €75. Treat yourself or surprise a loved one.\n\nUnderreported stories. Fresh perspectives. From Budapest to Bishkek. Protected by reCAPTCHA and the Google Privacy Policy and Terms of Service apply.",
         "New Meduza merch hits the shelves",
         "Site Index Newsletters"
        ],
        [
         "1378",
         "1054",
         "meduza",
         "https://meduza.io/en/feature/2024/11/26/investigations-long-reads-and-open-data-analysis",
         "Investigations, long reads, and open-data analysis A selection of Meduza’s best English-language reporting — Meduza",
         "2025-09-11T10:50:21.918743Z",
         "0.299",
         "Meduza has published tens of thousands of feature stories in the decade since its founding. Our journalists have reported from the scenes of historic events, recorded eyewitness accounts, exposed the activities of Kremlin-linked organizations, and analyzed open data to estimate key figures, such as the number of Russians who have died in the war in Ukraine. We’ve also translated thousands of our most important stories into English. Below, we’re sharing a small selection of the work that gives us pride as journalists.\n\nIn 2022, in collaboration with colleagues at Mediazona, Meduza analyzed open data to estimate the approximate number of Russians killed during the invasion of Ukraine up to that point. As the war has dragged on, so has the counting. In July 2024, journalists estimated Russia’s losses at roughly 120,000 people.\n\nAnother major investigation from Meduza’s journalists focused on Russia’s 2024 presidential election, in which Vladimir Putin secured a fifth term, officially winning 87 percent of the vote. However, our analysis revealed that the election was almost certainly the most fraudulent in the country’s history.\n\nSince the start of Russia’s full-scale invasion of Ukraine in February 2022, Russia has abducted thousands of Ukrainian civilians, from volunteers and journalists to former soldiers and officials, and locked them up in Russian prisons. Meduza spoke with Ukrainians who have been released from the facilities, as well as with their relatives and lawyers, to find out how this clandestine prison system works.\n\nIn 2019, the Moscow authorities created a nonprofit organization called Dialog, which officials billed as a means to facilitate better communication with the public. The team of “pseudo-hipsters” soon became a crucial part of the Russian government’s propaganda campaigns, especially during the invasion of Ukraine. Together with other outlets, Meduza investigated Dialog’s background.\n\nWhile the previous story explored how the Russian authorities use Telegram for their own purposes, this report looks at how individuals with government ties leverage their police connections against Russia’s homegrown tabloid industry: anonymous Telegram channels. Meduza’s investigation focuses on how officials at Rostec, the Russian military’s industrial supplier, play this high-stakes game.\n\nRussian businessman Mikhail Kovalchuk believes in the existence of a U.S.-made “subspecies of human,” claims there are biological weapons that only affect Russians, and is obsessed with the idea of immortality. He’s also one of the few people who has Vladimir Putin’s ear.\n\nIn early 2023, a worker from a Russian government organization traveled to several occupied towns in Ukraine’s Kherson region. During the trip, this person recorded his candid conversations with locals and took photographs of what he saw — and then shared all of these materials with Meduza. This story weaves together his observations and the firsthand accounts from locals, offering insights into the fears, thoughts, and experiences of Ukrainians living under Russian occupation.\n\nIn the aftermath of World War II, Moscow set out to build a cascade of hydroelectric power stations in Soviet-occupied Latvia. However, popular opposition to losing natural monuments along the Daugava River proved to be a stumbling block — one that grew increasingly insurmountable as the decades-long project inched forward. For The Beet, Meduza photo editor Katya Balaban recounts how the fight to save the Daugava River’s natural riches kick-started Latvia’s independence movement.\n\nIn September 2016, eight firefighters were killed while responding to a blaze at a warehouse in East Moscow. It was the deadliest fire for Moscow firefighters in the last 70 years. Meduza reconstructed the day’s events and explored the disaster’s aftermath.\n\nUnderreported stories. Fresh perspectives. From Budapest to Bishkek. Protected by reCAPTCHA and the Google Privacy Policy and Terms of Service apply.",
         "Investigations, long reads, and open-data analysis A selection of Meduza’s best English-language reporting Investigations, long reads, and open-data analysis A selection of Meduza’s best English-language reporting",
         "Site Index Newsletters"
        ],
        [
         "1379",
         "1055",
         "meduza",
         "https://meduza.io/en/pages/codex",
         "Meduza’s code of conduct — Meduza",
         "2025-09-11T10:50:23.347228Z",
         "0.927",
         "Meduza is an international Russian- and English-language publication. Every day, our correspondents and editors create content about events in Russia and around the world, reporting as accurately, objectively, and impartially as possible. We act consciously and responsibly, amplifying overlooked communities, while being careful not to harm vulnerable individuals and groups. We thoroughly examine any claims against our journalism, and we respect our readers.\n\nIn our daily work, Meduza strives to meet international professional standards, and we hold as core values the rights and freedoms set forth in the Universal Declaration of Human Rights. We devote special attention to the freedom of speech and the free flow of information.\n\nThe principles and rules that guide Meduza ’s daily operations are laid out in this code of ethics. We consider all staff contributing to the creation of our editorial product, including developers and designers, to be journalists, and their work is also subject to this code of ethics.\n\nMeduza ’s journalists should endeavor to avoid conflicts of interest in all circumstances.\n\nThe editorial office does not support any one political party (including movements and platforms) or any one politician, and we do not accept help from either in any form. Meduza also does not support social movements, commercial enterprises, or state agencies at any level of government, and we do not accept help from these groups. We reserve the right to report any attempts to pressure our editorial office. We devote equal attention to everyone and treat all with respect.\n\nMeduza always covers its own costs. Whenever preparing a story, the editorial office does not accept money from outsiders, and refuses all offers to pay for or provide free transportation, housing, or food, and these same restrictions apply to all full-time and freelance correspondents and staff. This rule does not apply to free press events (like press conferences, concerts, performances, book presentations, and so on). Any exceptions to this rule are permitted only with the approval of Meduza ’s editor-in-chief, and the reasons must be made clear to readers when the story is published.\n\nThe editorial office does not permit journalists who are biased toward or against the subject of a story to participate in its preparation. If this conflict of interest is somehow unavoidable, readers must be warned in the published product.\n\nThe editorial office can veto the publication of any promoted content. In all disputes, the final decision belongs to the editorial office’s authorized representative.\n\nMeduza does not pay sources for information or reward them in any other way.\n\nMeduza is a publication founded on fact-based journalism. No story can omit or conceal from readers any fact of public significance. Every side must be given the chance to express themselves. At the same time, we purposefully seek to amplify the voices of those who often go overlooked.\n\nMeduza ’s staff cannot engage in activism while at work (except in cases of professional solidarity). Employees must inform Meduza about any civic, political, or human-rights activism conducted outside work, in order to prevent possible conflicts of interest. Meduza ’s journalists should strive to report the news, not become the news.\n\nMeduza does not use “hate speech,” and we refuse to spread, incite, or justify hatred against any group of people. We do not divide the subjects of our reporting along a dichotomy of “us versus them.” We use neutral language that does not discriminate against people on any basis.\n\nWe endeavor to ensure that our reporting is based on information from named sources (two or more), though working in countries with significant legal restrictions means this is not always entirely possible. In cases when revealing a source’s identity could threaten their safety, we reserve the right to publish their comments anonymously, recognizing that we assume the reputation and legal risks associated with the information’s credibility. We also protect our sources using other legal means.\n\nMeduza ’s journalists are required to verify the facts in their stories. Our journalists are prohibited from intentionally misleading or deceiving readers. Meduza ’s journalists are also forbidden from using the publication as a platform to promote their own views.\n\nMeduza ’s journalists must collect information openly, identifying themselves by their real names and the nature of their occupation. “Undercover” work is permitted in exceptional cases and only with the editor-in-chief’s approval. When publishing such reporting, we are required to inform readers about this methodology and explain why it was necessary. Recording any conversations must be carried out openly, and sources should be warned in advance.\n\nThough it is common in Russia to allow subjects to revise their remarks after an interview, we consider this practice to be wrong and endeavor to avoid it. Meduza 's editors reserve the right to determine the conditions of interviews, and persons interviewed must be notified in advance of these terms.\n\nOur journalists’ lives and safety are our paramount concern. In the event of pressure, threats, or harassment, Meduza ’s editorial office will defend its staff by all means available. The editorial office reserves the right to protect staff even in cases when this pressure is not related to employees’ activities as journalists.\n\nRegarding vulnerable and persecuted groups, Meduza observes the principle of “do no harm.” Reporting on members of these groups should be scrutinized to identify all the ways Meduza ’s stories might impact these individuals, in order to prevent any negative consequences. Staff’s careful approach cannot affect the objectivity or completeness of reporting on events that involve members of vulnerable groups.\n\nOur main goal is to inform readers honestly about the heart of any issue, avoiding blindspots, innuendo, and omissions. Any event that is significant to the public can and should be described as truthfully as possible. We are required, however, to warn our audience when content included in a story might shock them.\n\nMeduza does not delete published content. Rare exceptions are made only as an extreme solution after a critically large number of errors are discovered in an article. Only the editor-in-chief can approve the deletion of published content, and in these cases a detailed explanation for the decision must appear in place of the original article.\n\nIf factual or semantic errors are found in published content, they should be corrected as soon as possible. In these cases, readers should be told what changes were made and why.\n\nMeduza operates in different countries, though we write mainly about events in Russia for Russian- and English-speaking audiences. We strive to observe the laws of both Latvia and the Russian Federation. Wherever one country’s laws contradict the other’s, as well as in cases where regulations directly or indirectly violate the freedom of speech, Meduza will act in accordance with our readers’ best interests, our code of ethics, and the Universal Declaration of Human Rights.\n\nMeduza ’s employees will respect the private lives, preferences, beliefs, and tastes of their colleagues, regardless of their position. Discrimination on any grounds is prohibited.\n\nWe do not interfere in the personal lives of our staff and we welcome any kind of relationship among coworkers, while considering it unacceptable to impose any kind of communication on colleagues that is unrelated to work. Meduza is a space completely free from any form of violence.\n\nThe public views each Meduza employee as an official representative for the publication. When acting publicly, including speech on personal platforms like social media, each staff member should weigh the possible consequences for Meduza ’s reputation. All conflict situations at Meduza are resolved in accordance with the rules and procedures adopted by the editorial office.\n\nMeduza 's code of conduct was written between September and October 2019 by its founders and approved by Meduza 's editorial and supervisory boards on November 8, 2019.\n\nUnderreported stories. Fresh perspectives. From Budapest to Bishkek. Protected by reCAPTCHA and the Google Privacy Policy and Terms of Service apply.",
         "Meduza’s code of conduct",
         "Site Index Newsletters"
        ],
        [
         "1380",
         "1056",
         "meduza",
         "https://meduza.io/en/feature/2018/05/25/how-we-process-your-personal-data-stored-by-meduza",
         "How we process your personal data stored on Meduza — Meduza",
         "2025-09-11T10:50:24.627672Z",
         "0.779",
         "In some cases, “Meduza” (more precisely, the Latvian company Medusa Project LLC, or simply “we”) receives personal data from readers and processes it. In this document, we describe what and how we process. We apply these principles if readers agree to use Meduza's services.\n\nThe Reader is any individual who uses any of the services provided by Meduza.\n\nReader data are any information that Meduza knows about the Reader.\n\nPersonal data are any information related to the Reader (first name, last name, any other identifier used).\n\nProcessing – collection, storage, modification, provision of access, transfer of personal data of the Reader.\n\nMeduza means any public service of Medusa Project SIA available at meduza.io, amp.meduza.io, special.meduza.io, including the Meduza mobile app (iOS, Android).\n\nPayment data are information available to Meduza on the basis of payments made and information specified independently by the Reader for making a payment.\n\nWe ensure the confidentiality of personal data and apply all necessary organizational and technical measures to protect them. In some cases, in order to process personal data, Meduza works with partners and transfers these data to them. In these cases, we ensure that appropriate security measures are followed. This means that we do not share data with partners if we have doubts about their data retention practices or if we know that these practices are significantly different from those described in this document.\n\nOur advertising and payment partners may collect additional data. Details on the data collected and controls over them are described on the Cookies consent pop-up window. You can read about our Cookies policy here .\n\nWe do not store your bank card or other payment instrument details on our servers. All debits are processed by the secure payment service Stripe and are transmitted only in encrypted form. In addition, there are no scripts on the payment page that we usually use on other pages (even Google Analytics).\n\nWe do not store information used for personalized advertising and do not use it for other purposes. All data is received and processed by our partner Azerion Technology B.V. in accordance with their Privacy Notice .\n\nThe data that we collect from you (e.g. email address) we use only in accordance with the principles of data processing specified in this document.\n\nWe could also be asked by law enforcement authorities in the Republic of Latvia to provide Reader data (though we regard this scenario to be highly unlikely).\n\nPersonal data are processed within the area of the European Union and (or) the European Economic Area (EU/EEA), but in some cases may be transferred and processed in countries outside the EU/EEA. A transfer of data outside the EU/EEA can only happen if there is a legal justification for doing so and we can ensure an adequate level of data protection.\n\nThe personal data we store are not used to personalize anything at Meduza (in legal terms: we do not make automatic decisions and do not profile anything or anyone based on these data).\n\nAt any time, we may unilaterally change the principles described above. But not in a secret way! We will warn readers on this page about this no later than a month before any changes come into force.\n\nThe Reader is any individual who uses any of the services provided by “Meduza”.\n\nReader data are any information that “Meduza” knows about the Reader.\n\nPersonal data are any information related to the Reader (first name, last name, any other identifier used).\n\nProcessing – collection, storage, modification, provision of access, transfer of personal data of the Reader.\n\n“ Meduza ” means any public service of Medusa Project LLC available at meduza.io, amp.meduza.io, special.meduza.io, including the Meduza mobile app (iOS, Android).\n\nThe User is a reader who, using “Meduza” services, has independently created a profile.\n\nPayment data are information available to “Meduza” on the basis of payments made and information specified independently by the User for making a payment.\n\nWe ensure the confidentiality of personal data and apply all necessary organisational and technical measures to protect them. In some cases, in order to process personal data, “Meduza” works with partners and transfers these data to them. In these cases, we ensure that appropriate security measures are followed. This means that we do not share data with partners if we have doubts about their data retention practices or if we know that these practices are significantly different from those described in this document.\n\nWe do not store your bank card or other payment instrument details on our servers. All debits are processed by the secure payment service Stripe and are transmitted only in encrypted form. In addition, there are no scripts on the payment page that we usually use on other pages (even Google Analytics or Yandex). Metrica services are not connected.\n\nThe data that we collect from you (name and surname, mailing address) we use only in accordance with the principles of data processing specified in this document.\n\nWe could also be asked by law enforcement authorities in the Republic of Latvia to provide user data (though we regard this scenario to be highly unlikely).\n\nPersonal data are processed within the area of the European Union and (or) the European Economic Area (EU/EEA), but in some cases may be transferred and processed in countries outside the EU/EEA. A transfer of data outside the EU/EEA can only happen if there is a legal justification for doing so and we can ensure an adequate level of data protection.\n\nThe personal data we store are not used to personalise anything at Meduza (in legal terms: we do not make automatic decisions and do not profile anything or anyone based on these data).\n\nAt any time, we may unilaterally change the principles described above. But not in a secret way! We will warn readers on this page about this no later than a month before any changes come into force.\n\nUnderreported stories. Fresh perspectives. From Budapest to Bishkek. Protected by reCAPTCHA and the Google Privacy Policy and Terms of Service apply.",
         "How we process your personal data stored on Meduza",
         "Site Index Newsletters"
        ],
        [
         "1381",
         "1057",
         "meduza",
         "https://meduza.io/en/feature/2018/05/25/how-meduza-uses-cookies",
         "How Meduza uses cookies Keeping it as simple as possible — Meduza",
         "2025-09-11T10:50:25.810291Z",
         "0.681",
         "Just like most websites, Meduza (or Medusa Project SIA services) uses cookies, which give us the opportunity to render services to our readers, see that our services are available and have not failed, as well as analyze data and understand what we are doing wrong, and how we should proceed with developing our editorial and advertising products. In this document, we explain how we use cookies, and what readers can do about it (if they want).\n\nFor some reason, the British call them “biscuits.” But Internet cookies are slightly different. A cookie is a data fragment from a website you have visited that is stored on your computer.\n\nYou can disable them on a pop-up window that appears on a page when you first visit Meduza. An important note: the settings should be applied to all browsers you use (both on your computer and smartphone). If you choose to disable cookies, please note that some Meduza services will no longer be available to you, or may operate unpredictably.\n\nUnderreported stories. Fresh perspectives. From Budapest to Bishkek. Protected by reCAPTCHA and the Google Privacy Policy and Terms of Service apply.",
         "How Meduza uses cookies Keeping it as simple as possible",
         "Site Index Newsletters"
        ],
        [
         "1382",
         "1058",
         "meduza",
         "https://meduza.io/en/podcasts/the-naked-pravda",
         "The Naked Pravda — Meduza",
         "2025-09-11T10:50:29.055676Z",
         "1.003",
         "Meduza’s English-language podcast, The Naked Pravda highlights how our top reporting intersects with the wider research and expertise that exists about Russia. The broader context of Meduza’s in-depth, original journalism isn’t always clear, which is where this show comes in. Here you’ll hear from the world’s community of Russia experts, activists, and reporters about issues that are at the heart of Meduza’s stories and crucial to major events in and around Russia.\n\nJournalist Joshua Yaffa discusses his June 2025 New Yorker article, “Collective Punishment: Why is Donald Trump upending America’s commitment to NATO?” and how the looming threats of Russian aggression and U.S. withdrawal pressure Europe.\n\nHistorian Benjamin Nathans joins The Naked Pravda to discuss his latest book, “To the Success of Our Hopeless Cause: The Many Lives of the Soviet Dissident Movement” (Princeton University Press, August 2024).\n\nAnthropologist Jeremy Morris joins The Naked Pravda to discuss his latest book, “Everyday Politics in Russia: From Resentment to Resistance” (Bloomsbury, March 2025).\n\nThe Naked Pravda interviews journalist and author Jill Dougherty about her new memoir, “My Russia: What I Saw Inside the Kremlin.”\n\nWith help from financial transparency expert Ilya Shumanov, Meduza breaks down the squabbling and criminal stakes at the heart of the scandal involving Probusinessbank, the Anti-Corruption Foundation, and activist Maxim Katz.\n\nThe Naked Pravda talks to journalist and writer Paula Erizanu and Ecaterina Locoman, a senior lecturer in international studies at the University of Pennsylvania’s Lauder Institute, about Moldova’s 2024 presidential election and constitutional referendum.\n\nMeduza spoke to disinformation expert Renée DiResta about Russian propaganda, how it’s evolved over the years, and how American social networks are responding (and not responding) ahead of the November 2024 vote.\n\nFor a crash course in Russian-North Korean relations and a hard look at recent claims from the Ukrainian and South Korean governments of thousands of North Korean soldiers flooding the battlefield in Ukraine, Meduza spoke to Dr. Fyodor Tertitsky.\n\nThe Naked Pravda talks to Carnegie Russia Eurasia Center fellow Alexandra Prokopenko about Russia’s 2025 draft budget, focusing on planned allocations to the military.\n\nThe Naked Pravda speaks to Ilya Shumanov, the general director of Transparency International-Russia in exile, about the clan conflict at the heart of a merger between the online marketplace Wildberries and the outdoor advertising company Russ Group.\n\nTo discuss the recent explosion of American police and diplomatic activity targeting RT and Russian covert influence operations in the U.S., The Naked Pravda spoke to RFE/RL journalist Mike Eckel.\n\nTo find out where the Russian-Iranian partnership is headed and what, if anything, changes in the Ukraine War with Tehran sending ballistic missiles to Moscow, The Naked Pravda spoke to non-proliferation expert Dr. Nicole Grajewski.\n\nTo unpack the tools that restrict and monitor the modern-day RuNet, Meduza speaks to experts Sarkis Darbinyan and Philipp Dietrich. This week’s episode focuses on Russia’s recent YouTube throttling and Telegram access disruptions.\n\nThe Naked Pravda welcomes RFE/RL journalists Mark Krutov and Sergey Dobrynin discuss the course of Ukraine’s Kursk incursion and to understand why sending conscripts into Russia’s new conflict zone is so tricky.\n\nFinancial Times Russia correspondent Anastasiia Stognei explains how the Russian economy manages surprisingly resilience in the face of Western sanctions, despite a more bleak long-term outlook.\n\nInternational Crisis Group senior Ukraine analyst Simon Schlegel joins Meduza to talk about the lessons Kyiv and its allies must learn from the war so far if they hope to hold the line against Russia.\n\nMeduza asks political scientist Colleen Wood, human rights activist Dinara Smailova, and journalist Aleksandra Akanaeva about the repercussions in Kazakhstan of the murder conviction of former Economic Minister Kuandyk Bishimbayev.\n\nTo learn about Russia’s targeting of evangelical Christians in occupied Ukraine, Meduza speaks to Steven Moore and Anna Shvetsova from the Ukraine Freedom Project and Catherine Wanner, a professor of history and religious studies at Penn State University.\n\nScholar David Szakonyi speaks to Meduza about his new article, “Corruption and Co-Optation in Autocracy: Evidence from Russia,” exploring what it could reveal about the future of politics in Moscow.\n\nMeduza speaks to cyber, tech, and propaganda expert Gavin Wilde about his recent writings on the dangers of “overhyping” the threat of Russian disinformation in the United States.\n\nMeduza interviews scholars Samuel Charap and Sergey Radchenko about their Foreign Affairs article, “The Talks That Could Have Ended the War in Ukraine: A Hidden History of Diplomacy That Came Up Short — but Holds Lessons for Future Negotiations.”\n\nMeduza speaks to Novaya Gazeta Europe editor-in-chief Kirill Martynov to dig into his outlet’s recent investigation into Chechen dictator Ramzan Kadyrov and learn more about the predicament of Russia’s second-worst autocrat.\n\nTo learn about Russia’s migration policy under Putin and the xenophobic backlash to the Crocus City Hall attack, Meduza speaks to journalist Leyla Latypova, policy expert Temur Umarov, and political scientist Caress Schenk.\n\nForeign intelligence services expert Dr. Kevin Riehle joins The Naked Pravda to talk about the past, present, and future of Russia’s Federal Security Service, or FSB.\n\nMeduza speaks to Oscar-winning filmmaker Daniel Roher and journalist Julia Ioffe, one of America’s foremost voices on Russia-U.S. relations, for a look back at Alexey Navalny’s career in politics and ahead to the political future of his widow, Yulia.\n\nUnderreported stories. Fresh perspectives. From Budapest to Bishkek. Protected by reCAPTCHA and the Google Privacy Policy and Terms of Service apply.",
         "The Naked Pravda",
         "Site Index Newsletters"
        ],
        [
         "1383",
         "1059",
         "echo",
         "https://echo.msk.ru/magnitnye-buri/",
         "Магнитные бури сегодня и завтра по часам в таблице",
         "2025-09-11T10:51:02.947653Z",
         "1.119",
         "Магнитные бури — это возмущения геомагнитного поля Земли, вызванные активностью Солнца. Они могут влиять на самочувствие людей, особенно метеозависимых. В этом материале мы расскажем, как отслеживать магнитные бури, какие симптомы они могут вызывать и как минимизировать их воздействие.\n\nБлижайшая сильная магнитная буря ожидается 15 сентября . Ее сила составит 4 балла . Возможны легкие головные боли и перепады настроения.\n\nМагнитные бури возникают, когда потоки заряженных частиц от Солнца достигают Земли и взаимодействуют с ее магнитосферой. Это явление может длиться от нескольких часов до нескольких дней.\n\nМногие люди чувствительны к изменениям геомагнитного фона. Среди возможных симптомов:\n\nНа нашем сайте вы можете получить самую актуальную и точную информацию о геомагнитной обстановке. Мы предлагаем несколько удобных способов отслеживания магнитных бурь:\n\nВсе данные на нашем сайте обновляются регулярно и поступают из проверенных научных источников. Мы собираем информацию с мировых обсерваторий и метеорологических центров, чтобы предоставить вам наиболее точный прогноз. Хотите знать о магнитных бурях первым? Добавьте наш сайт в закладки и заходите регулярно — мы всегда держим руку на пульсе геомагнитных изменений!\n\nЕсли вы чувствительны к геомагнитным колебаниям, попробуйте следующие методы: ✔ Пейте больше воды — это помогает организму легче адаптироваться. ✔ Избегайте стрессов и перегрузок — в неблагоприятные дни снизьте физическую и эмоциональную активность. ✔ Соблюдайте режим сна — полноценный отдых уменьшает влияние магнитных бурь. ✔ Принимайте контрастный душ — это улучшает кровообращение. ✔ Используйте натуральные успокаивающие средства — травяные чаи, валериану, пустырник.",
         "Магнитные бури сейчас — расписание прогноза в таблице по дням и часам",
         "Магнитные бури сегодня Ближайшая сильная магнитная буря Как магнитные бури влияют на здоровье? Прогноз геомагнитной обстановки на 3 дня Где и как узнать о магнитных бурях? Как защититься от воздействия магнитных бурь? Магнитные бури на месяц по дням и часам"
        ],
        [
         "1384",
         "1060",
         "echo",
         "https://echo.msk.ru/news/feliks-dzerzhinskiy-sila-i-miloserdie-zheleznogo-feliksa-v-istorii-rossii/",
         "Феликс Дзержинский: сила и милосердие «Железного Феликса» в истории России",
         "2025-09-11T10:51:09.891339Z",
         "1.316",
         "11 сентября 1877 года в маленьком селе Дзержиново (на территории современной Беларуси) появился на свет Феликс Эдмундович Дзержинский — личность, чья жизнь стала символом непоколебимой воли, преданности идеалам и в то же время искренней человечности.\n\nОн вырос в семье учителя Эдмунда Дзержинского и Елены Янушевской, где царили уважение и поддержка. С юных лет Феликс проявлял живой интерес к обучению. Хотя изначально он не знал русского языка и учился с особым рвением, уже в Виленской гимназии он увлекся философией, работами Канта, Гегеля, теорией Дарвина и марксизмом. Эти идеи привели его в социал-демократический кружок в 1894 году, определив его дальнейший путь — путь борьбы не ради славы, а во имя справедливости.\n\nПосле революции 1917 года Дзержинский стал одним из основателей ВЧК — организации, созданной для защиты новой власти. Однако именно в этот период ярко проявилась и его гуманная сторона. Он активно занимался судьбой беспризорных детей, организуя вместе с педагогами, такими как Антон Макаренко, сеть детских домов, коммун и приёмников. Тысячи обездоленных детей получили не только кров и еду, но и возможность на достойное будущее. «Эти грязные — мои лучшие друзья… сколько бы талантов пропало, если бы мы их не подобрали!» — говорил Дзержинский, и в этих словах ощущалась искренняя забота.\n\nЕщё одним важным вкладом стало создание по его инициативе спортивного общества «Динамо», которое быстро стало одной из главных спортивных сил страны и продолжает оставаться её символом.\n\nС 1924 года Дзержинский возглавлял Высший совет народного хозяйства СССР, выступая за сбалансированную экономическую политику, ориентированную не только на промышленный рост, но и на улучшение жизни людей. Он выступал за развитие, основанное на эффективности и заботе о человеке, а не на голой силовой риторике.\n\nТаким образом, за образом «Железного Феликса» скрывалась глубокая и противоречивая личность — не только революционер и создатель системы безопасности, но и человек, стремившийся принести в мир конкретную помощь, понимание и добро. Он видел за цифрами — судьбы людей, а за задачами государства — его будущее. Его наследие — это напоминание о том, что даже в трудные эпохи находятся место воле и милосердию",
         "Феликс Дзержинский: сила и милосердие «Железного Феликса» в истории России",
         null
        ],
        [
         "1385",
         "1061",
         "echo",
         "https://echo.msk.ru/news/zapret-na-perevody-deneg-druzyam-i-rodstvennikam-kak-izbezhat-blokirovki-bankovskoy-karty/",
         "Запрет на переводы денег друзьям и родственникам: как избежать блокировки банковской карты",
         "2025-09-11T10:51:11.076454Z",
         "0.684",
         "Переводы через карты уже давно стали распространённым способом перевода денег — на праздник другу, возврата долга или оплаты услуг.\n\nОднако многие не догадываются, что комментарий к переводу может стать источником серьёзных проблем. Банки всё чаще блокируют счета из-за «неправильных» описаний в назначении платежа. Это связано с усилением контроля в рамках борьбы с отмыванием денег и налоговыми нарушениями.\n\nВ большинстве случаев поле «сообщение получателю» можно оставить пустым — особенно, если переводите средства родственникам или друзьям.\n\nТем не менее, если вы оплачиваете услуги индивидуального предпринимателя, самозанятого или официальные счета, правильная формулировка поможет избежать недоразумений и станет доказательством в случае налоговых споров. Для возврата долгов или безвозмездных переводов краткая и ясная подпись также может быть полезной: она демонстрирует законность и прозрачность операции.\n\nБанковские учреждения автоматически анализируют комментарии и ищут «небезопасные» слова и фразы. Особое внимание вызывают:\n\nДаже неверные данные получателя, если они не соответствуют владельцу карты, могут привести к блокировке.\n\nГлавное — избегать двусмысленностей и по возможности предоставить максимум подтверждающей информации.\n\nТакой подход поможет безопасно переводить деньги и снизит риск неожиданной блокировки счета",
         "Запрет на переводы денег друзьям и родственникам: как избежать блокировки банковской карты",
         null
        ],
        [
         "1386",
         "1062",
         "echo",
         "https://echo.msk.ru/news/putin-uvelichit-dostupnost-meditsinskih-uslug-sroki-zapisi-k-vrachu-izmenyatsya/",
         "Путин увеличит доступность медицинских услуг: сроки записи к врачу изменятся",
         "2025-09-11T10:51:12.289311Z",
         "0.712",
         "Президент России Владимир Путин дал поручение правительству рассмотреть возможность продления сроков записи на прием к врачам через портал Госуслуги. Это часть комплексной реформы в здравоохранении, включающей также внедрение системы оценки деятельности медицинских работников.\n\nПродление сроков записи для получения медицинской помощи через Госуслуги\n\nСоздание системы оценки удовлетворенности работой врачей на платформе «Здоровье»\n\nПроведение регулярных опросов для оценки качества медицинских услуг\n\nРазработка новых методик для расчета потребности в медицинских специалистах\n\nДополнительные меры: До конца года правительство проведет анализ применения методик расчета потребности в медицинских специалистах и предложит пути улучшения системы здравоохранения.\n\nНапомним, что ранее президент подписал закон об ужесточении ответственности за продажу вейпов несовершеннолетним — штрафы были увеличены с 40-60 до 200-300 тысяч рублей",
         "Путин увеличит доступность медицинских услуг: сроки записи к врачу изменятся",
         null
        ],
        [
         "1387",
         "1063",
         "echo",
         "https://echo.msk.ru/news/turisticheskiy-skandal-v-sankt-peterburge-kak-turagentstvo-friendly-club-obmanulo-klientov-i-chto-delat-dalshe/",
         "Туристический скандал в Санкт-Петербурге: как турагентство Friendly Club обмануло клиентов и что делать дальше",
         "2025-09-11T10:51:13.436972Z",
         "0.647",
         "Множество туристов выразили недовольство в отношении петербургского турагентства Friendly Club. Они утверждают, что руководитель компании оставил их без туров и денег. О своих проблемах пострадавшие клиенты пишут в социальных сетях.\n\nОдна из туристок рассказала, что в июне купила тур в Турцию через Friendly Club и заплатила полную стоимость – около 200 тыс. руб. В августе ей необходимо было уточнить детали поездки по телефону, но дозвониться так и не удалось. Генеральный директор компании Шевченко Иван и его супруга перестали выходить на связь.\n\n«Стало ясно, что нас обманули. Число пострадавших стало расти. Мы писали заявления в полицию, но там находят странные отговорки, дело не открывают», – объяснила девушка.\n\nПо ее словам, агентство отправляло клиентам поддельные брони отелей и билетов. Средства до туроператоров не дошли. Пострадавшие боятся, что открытие дела в полиции намеренно откладывается из-за «связей владельца компании».\n\nТем временем в соцсетях Friendly Club появилось сообщение о технических работах и скором возврате средств клиентам.\n\n«В связи с временными техническими трудностями мы ускорили все процессы возвратов. Проводится работа по восстановлению заявок. Обязательства компании будут выполнены. Для нас важно ваше спокойствие. Также предупреждаем, что в отношении тех, кто занимается угрозами, преследованием и распространением личных данных и коммерческой тайны компании, будут приняты соответствующие меры», – говорится в объявлении.\n\nПо информации от юристов, представляющих туристов, в настоящее время рассматривается вопрос о возбуждении уголовного дела.",
         "Туристический скандал в Санкт-Петербурге: как турагентство Friendly Club обмануло клиентов и что делать дальше",
         null
        ],
        [
         "1388",
         "1064",
         "echo",
         "https://echo.msk.ru/tests/tolko-znatoki-sovetskogo-kinematografa-vspomnyat-film-po-tryom-aktyoram-ispytayte-sebya-test/",
         "Только знатоки советского кинематографа вспомнят фильм по трём актёрам! Испытайте себя — ТЕСТ",
         "2025-09-11T10:51:14.704277Z",
         "0.766",
         "Фильмы , созданные в Советском Союзе, стали настоящими шедеврами, вызывая интерес и любовь не только в СССР , но и далеко за его пределами. В каждой семье, на каждой улице, любого города можно было услышать обсуждения новых фильмов и восхищение актёрским мастерством. Именно поэтому игра «Угадайте советский фильм по трем актерам» может стать отличным способом вспомнить те замечательные времена, когда кино было важной частью нашей жизни.\n\nЭти картины переносили зрителей в мир, где правят честь, достоинство, доблесть, и, конечно же, любовь. Любовь в кино СССР — это особая тема, к которой режиссёры возвращались вновь и вновь, создавая настоящие шедевры. Фильмы о любви показывали самые тонкие грани человеческих чувств, передавая все нюансы отношений, от нежной влюблённости до сильнейших страстей, и именно это делало их такими близкими и понятными каждому зрителю.\n\nВ каждом кадре чувствовалось тепло и душа, которые вкладывали в свои работы режиссёры и актёры. Эти фильмы говорили с нами на языке эмоций, затрагивая самые тонкие струны человеческой души. Они показывали, как важны любовь, дружба, честность и верность. Эти темы были близки каждому, и именно поэтому советское кино нашло отклик в сердцах миллионов.\n\nСоветское кино было богато на жанры: комедии, драмы, мелодрамы, фантастика и исторические фильмы — каждый мог найти что-то по своему вкусу. Однако, независимо от жанра, главное в этих фильмах — их человечность. Советские фильмы всегда оставляли пространство для размышлений, они учили, вдохновляли и развлекали.\n\nСоветское кино продолжает жить и сегодня, благодаря тому, что в нём отразилась душа народа, его стремления и мечты. Каждый фильм — это не просто история, а маленькая жизнь, прожитая вместе со зрителем. Эти картины стали культурным кодом, который передаётся из поколения в поколение. Тест «Угадайте советский фильм по трем актерам» — это возможность прикоснуться к истории, вспомнить великие произведения искусства и насладиться мастерством актеров.\n\nИгра «Угадайте советский фильм по трем актерам» — это не только способ проверить свою память, но и возможность окунуться в атмосферу тех лет, вспомнить любимых героев и их истории. Это шанс ещё раз пережить все те эмоции, которые дарили нам советские фильмы.",
         "Только знатоки советского кинематографа вспомнят фильм по трём актёрам! Испытайте себя — ТЕСТ",
         "Угадайте советский фильм по трем актерам — ТЕСТ"
        ],
        [
         "1389",
         "1065",
         "echo",
         "https://echo.msk.ru/news/uborka-na-chuzhih-mogilah-mnenie-rpts-i-rekomendatsii-po-etiketu/",
         "Уборка на чужих могилах: мнение РПЦ и рекомендации по этикету",
         "2025-09-11T10:51:15.917552Z",
         "0.712",
         "Многие считают, что заботиться о месте захоронения незнакомого человека — это серьезный запрет. Говорят, что это может принести несчастья. Однако такое мнение не совсем обоснованно.\n\n«Это неправда, которую не поддерживает православная Церковь. На самом деле, ранние христиане заботились о могилах незнакомцев, даже не зная их имен. Они часто молились, наведывались и поддерживали чистоту захоронений», — пояснили в РПЦ.\n\nТаким образом, Церковь не только допускает такую помощь, но и одобряет ее. Если это делать с уважением и молитвой, то это даже лучше любой милостыни. Часто некому ухаживать за захоронениями. В христианстве считается, что забота о заброшенных могилах сохраняет память о покойном, отмечает дзен-канал «Торжество православия»",
         "Уборка на чужих могилах: мнение РПЦ и рекомендации по этикету",
         null
        ],
        [
         "1390",
         "1066",
         "echo",
         "https://echo.msk.ru/news/druzya-posle-50-mudrye-sovety-natali-behterevoy-kotorye-budut-polezny-molodezhi/",
         "Друзья после 50: мудрые советы Натальи Бехтеревой, которые будут полезны молодежи",
         "2025-09-11T10:51:17.138614Z",
         "0.72",
         "Пятидесятилетие — это важный этап для многих. Постепенно насыщенные события и яркие впечатления отходят на второй план, а внутреннее спокойствие и гармония становятся более ценными.\n\nТихие радости приходят на смену вечеринкам и насыщенным поездкам: глубокомысленные беседы за чаем, теплые встречи и умение наслаждаться моментами уединения.\n\nНейрофизиолог Наталья Бехтерева подчеркивает, что в этом возрасте многие начинают задумываться о том, насколько важны друзья и постоянное общение. Нужно ли продолжать привычные встречи и делиться повседневными мелочами?\n\nОна убеждена, что настоящие, проверенные временем друзья в зрелом возрасте имеют особое значение. Они становятся отражением вашего жизненного пути — с его победами, ошибками и опытом. И в этом отражении нет места осуждению.\n\n«Настоящая дружба — это также форма терапии, — говорит Бехтерева. — С возрастом тревоги не исчезают, а иногда даже усиливаются. В такие моменты особенно важно услышать: “Я это пережил, ты не один”. Друг, который выслушает без спешки, не станет говорить “не переживай”, а просто будет рядом. Такая поддержка — не роскошь, а настоящая необходимость».",
         "Друзья после 50: мудрые советы Натальи Бехтеревой, которые будут полезны молодежи",
         null
        ],
        [
         "1391",
         "1067",
         "echo",
         "https://echo.msk.ru/news/voditeley-mogut-lishit-prav-bez-preduprezhdeniya-proverte-chto-skryvaetsya-v-vashem-bagazhnike/",
         "Водителей могут лишить прав без предупреждения: проверьте, что скрывается в вашем багажнике",
         "2025-09-11T10:51:18.324479Z",
         "0.685",
         "В ГАИ предупредили, что у всех водителей могут забрать права, если в багажнике обнаружат эти предметы\n\nВ России стали более строгими правила перевозки грузов. Эту информацию следует учитывать всем водителям, управляющим автомобилем. Нарушение может повлечь за собой штраф, а в некоторых случаях – конфискацию груза и даже уголовную ответственность.\n\nМногие водители продолжают хранить в багажниках различные «запрещенные» предметы. Уже на ближайшем посту ДПС их запасливость может обернуться крупным штрафом, а иногда и лишением прав и изъятием груза.\n\nВо-первых, следует обратить внимание на правила транспортировки оружия. Его разрешено перевозить лишь в разобранном состоянии и в специализированных чехлах. Патроны необходимо хранить отдельно.\n\nВо-вторых, химические вещества – их можно перемещать только в оригинальной упаковке с сохранением всех маркировок.\n\nВ-третьих, алкоголь. Небольшие объемы для личного пользования по-прежнему допустимы, однако крупные партии могут привлечь внимание контролирующих органов.\n\nЭксперты объяснили, что введенные меры направлены на повышение безопасности на дорогах. Таким образом, сотрудники ДПС намерены предотвращать незаконные перевозки. Поэтому водителям крайне важно иметь все сопроводительные документы на груз.",
         "Водителей могут лишить прав без предупреждения: проверьте, что скрывается в вашем багажнике",
         null
        ],
        [
         "1392",
         "1068",
         "echo",
         "https://echo.msk.ru/news/5-rasprostranennyh-oshibok-novichkov-pri-sbore-chemodana-dlya-otdyha-v-turtsii-chto-vzyat-s-soboy-a-chto-ostavit-doma/",
         "5 распространенных ошибок новичков при сборе чемодана для отдыха в Турции: что взять с собой, а что оставить дома",
         "2025-09-11T10:51:19.548432Z",
         "0.723",
         "Путешественники, впервые посещающие Турцию, зачастую упаковывают множество ненужных вещей, в то время как что-то действительно важное может остаться позабытой. Мы все это проходили. Я сама изучила пол-Турции и теперь точно знаю, что стоит положить в чемодан, а от чего можно отказаться.\n\nДелюсь своим списком — добавляйте в комментариях свои рекомендации, чтобы помочь новичкам собраться и не превышать нормы багажа (слышала, некоторые авиакомпании теперь разрешают всего 10 кг!)\n\nКлассическая ситуация — собрать кучу платьев и обуви. Прилетаешь в Турцию и осознаёшь, что вечерние наряды и каблуки тут просто неуместны. Лучше взять что-то стильное, но удобное и практичное.\n\nНе рекомендую брать с собой утюг (да, некоторые так поступают!). Если его нет в номере, можно всегда попросить у администрации. В общем, лучше всего выбирать вещи из тканей, которые не мнутся.\n\nТо же касается чайника, фена и полотенец — в отелях это обычно имеется.\n\nЯ редко пользуюсь косметикой, предоставляемой отелем, но мой чемодан от этого не становится легче. Всё просто: я беру твердые шампуни и бальзамы — они размером с кусочек мыла. Если еду на долго, то докупаю всё на месте, турецкие средства отличные и по доступной цене.\n\nДля крема, мицеллярной воды и прочего использую маленькие флакончики. Что касается декоративной косметики, на море она почти не нужна. Я крашусь только если выхожу вечером, а многие предпочитают дать коже отдохнуть.\n\nБольшой флакон духов я оставляю дома. В отпуске он лишь занимает место. Вместо него я беру Aroma Box — это коробочка с восемью маленькими ароматами. Несколько можно положить в сумку, так каждый день можно менять запах.\n\nЕсли нужен один любимый аромат, есть миниатюры по 8 мл. Они компактные, но хватает их надолго. Я люблю собрать несколько таких — получается мой личный дорожный парфюмерный набор.\n\nС звукоизоляцией в отелях часто бывают проблемы. А если ещё и шумные соседи попадутся, то о спокойном отдыхе можно забыть. Да, спать в берушах не всегда комфортно, но это лучше, чем не спать всю ночь. Поверьте, это одна из самых необходимых мелочей в чемодане!\n\nМногие берут с собой еду «на всякий случай». Мол, вдруг в отеле будет плохое питание? Я и сама раньше брала чай, кофе, сладости. Знаю людей, которые везут каши, мюсли-батончики и орехи.\n\nНо не стоит переживать — даже в недорогих отелях обычно кормят нормально, и всего хватает. А если вдруг захочется шоколадки или чего-то особенного, рядом с отелем всегда найдётся супермаркет — Migros, Bim, Sok, A101 или Carrefour. Там можно купить всё что угодно.\n\nМы стараемся не брать ничего лишнего, но этот предмет я рекомендую взять. Он лёгкий и занимает мало места (особенно если брать пластины, а не жидкость). Он особенно пригодится, если отель расположен рядом с рекой или в зелёной зоне. И особенно если вы любите спать с открытым окном. Москитных сеток в номерах часто нет, а фумигаторы предоставляют далеко не всегда",
         "5 распространенных ошибок новичков при сборе чемодана для отдыха в Турции: что взять с собой, а что оставить дома",
         "Лишние вещи Много косметики Не взять беруши Еда Фумигатор"
        ],
        [
         "1393",
         "1069",
         "echo",
         "https://echo.msk.ru/news/afonskiy-starets-paisiy-svyatogorets-predskazal-neozhidannyy-konets-voyny/",
         "Афонский старец Паисий Святогорец предсказал неожиданный конец войны",
         "2025-09-11T10:51:20.679894Z",
         "0.627",
         "Пророчество старца Паисия Святогорца о том, что завершение войны произойдет там, где этого не ожидают, вспоминается спустя 100 лет.\n\nИзвестный святой с Афона часто высказывался о России и её уникальной роли. В своих пророчествах он говорил о неком «двухсотмиллионном войске с востока». Многие интерпретаторы рассматривают это как намек на Китай.\n\nВ своих предсказаниях Аристоклий четко указывает на Поднебесную. За десять дней до своей кончины старец успел заявить, что окончание войны произойдет «там, где не ждали».\n\n«А конец будет через Китай. Будет какой-то необычный взрыв, и произойдет чудо Божие», — утверждает Паисий Святогорец.\n\nЭто может показаться удивительным, так как сто лет назад Китай не представлял никакой значимости в геополитическом контексте. Однако сейчас эта страна является одной из ведущих экономик мира. У нее есть свои интересы и ценности",
         "Афонский старец Паисий Святогорец предсказал неожиданный конец войны",
         null
        ],
        [
         "1394",
         "1070",
         "echo",
         "https://echo.msk.ru/news/tselitelnitsa-dzhuna-predskazala-sobytiya-dlya-rossii-kotorye-uzhe-nachinayut-sbyvatsya/",
         "Целительница Джуна предсказала события для России, которые уже начинают сбываться",
         "2025-09-11T10:51:21.941543Z",
         "0.761",
         "Предсказания Джуны о России продолжают вызывать интерес – она была женщиной, чья жизнь окутана тайной советской эпохи и целительством.\n\nЕе высказывания о будущем страны актуальны даже после ее ухода, поскольку многие события совпадают. Она беспокоилась о судьбе России и часто делилась мрачными предсказаниями.\n\n«Помним, как в Союзе все было в дефиците – это снова вернётся. Но не из-за нас, а по причине внешнего вмешательства», — предупреждала Джуна, считая, что мощная Россия вызывает страх у многих и, следовательно, окажется под давлением.\n\nОна утверждала, что обычные граждане смогут выдержать трудности – только они способны терпеть как никто другой, с глубокой верой в свою страну. А те, кто нажил богатство нечестным путем, столкнутся с последствиями первыми.\n\n«Россия будет вынуждена защищать свои интересы. Возможно, с применением силы. Ей будут указывать, забывая, что это не та страна, с которой можно так обращаться. Но Россия напомнит», — говорила предсказательница.\n\nТакже упоминалось о времени жестоких репрессий: в Сети появилось пророчество матушки Сепфоры о России, Европе и СВО",
         "Целительница Джуна предсказала события для России, которые уже начинают сбываться",
         null
        ],
        [
         "1395",
         "1071",
         "echo",
         "https://echo.msk.ru/news/rossiyskiy-general-opublikoval-zagadochnyy-rolik-s-muzhchinoy-v-trusah-obraschayuschimsya-za-pomoschyu/",
         "Российский генерал опубликовал загадочный ролик с мужчиной в трусах, обращающимся за помощью",
         "2025-09-11T10:51:23.135321Z",
         "0.693",
         "Командующий «Ахматом» не разъяснил причины, по которым проводится поиск незнакомца.\n\nГенерал-лейтенант Апти Алаудинов разместил в Telegram необычное видео. В этот же момент он обратился к подписчикам с просьбой о помощи.\n\nНа кадрах изображен коротко подстриженный, полуголый мужчина.\n\nСудя по качеству изображения, съемка велась с экрана монитора.\n\nСложно не заметить, что он в состоянии опьянения, его движения не совсем скоординированы. Сидя, он едва удерживает равновесие.\n\nНа фоне видно, что рядом с мужчиной находятся военные тактические рюкзаки, ящики, окрашенные в армейский зеленый цвет, а также предмет, напоминающий укупорочный ящик для снарядов.\n\nНеясно, в какой обстановке и с какой целью было снято исходное видео. Контекст видео по звуку установить не удалось.\n\n«Ого! Ты видео снимаешь? Смотри, он даже выпил, братан. Посмотри, сколько их!» — звучат голоса за кадром.\n\nПо одной из версий, в ролике запечатлен боец отряда «Ахмат», которым руководит Алаудинов. Однако достоверность этой версии не подтверждена.\n\n«Всех, кто узнает этого человека, просим срочно сообщить», — подписал видео сам генерал.",
         "Российский генерал опубликовал загадочный ролик с мужчиной в трусах, обращающимся за помощью",
         null
        ],
        [
         "1396",
         "1072",
         "echo",
         "https://echo.msk.ru/news/posolstvo-rf-evakuatsiya-rossiyan-iz-nepala-ne-planiruetsya-v-blizhayshee-vremya/",
         "Посольство РФ: эвакуация россиян из Непала не планируется в ближайшее время",
         "2025-09-11T10:51:24.615404Z",
         "0.979",
         "Эвакуационные рейсы для российских граждан из Непала в настоящее время не предусмотрены – посольство РФ\n\nПредставитель российской дипломатической миссии Александр Ивашев сообщил РИА Новости, что вопрос эвакуационных рейсов для россиян из Непала не стоит на повестке дня.\n\n«Мы с самого начала подчеркивали, что эвакуационные рейсы возможны исключительно в случае дальнейшей дестабилизации обстановки в стране. Ситуация остается напряженной, но есть основания полагать, что намечен курс на стабилизацию», – отметил дипломат.\n\nОн добавил, что более 100 россиян обратились в посольство РФ в Непале из-за беспорядков. Все они находятся в безопасности, уточнил Ивашев. По его словам, первая группа российских туристов уже успешно покинула страну, направившись в Индию. Дипломат подчеркнул, что авиасообщение между государствами практически восстановлено.\n\n«Мы ждем, когда это повлияет на другие авиакомпании, которые осуществляют рейсы в страны Залива, Ближнего Востока, Китай и другие направления. Однако те россияне, которые собирались в Индию, уже покинули Непал», – добавил пресс-секретарь российской миссии.\n\nБеспорядки начались 8 сентября в нескольких городах Непала из-за запрета на деятельность крупных мировых социальных сетей на территории страны.\n\nПротесты привели к массовым грабежам, поджогам и вандализму, которые вышли из-под контроля. В результате беспорядков погибли как минимум 34 человека. Лечение проходят 1 338 человек, из которых 949 уже выписаны. В связи с этим местные вооруженные силы развернули войска в сотрудничестве с другими правоохранительными органами.\n\nПремьер-министр Шарма Оли и все 42 члена оппозиционной Национал-демократической партии подали в отставку. Новым премьером согласилась стать экс-председатель Верховного суда Непала Сушила Карки. Во время переговоров о ее назначении в штабе армии Непала произошло столкновение различных групп, которые называют себя представителями движения «Поколение Z».",
         "Посольство РФ: эвакуация россиян из Непала не планируется в ближайшее время",
         null
        ],
        [
         "1397",
         "1073",
         "echo",
         "https://echo.msk.ru/news/navodneniya-na-ostrove-bali-14-zhertv-i-posledstviya-dlya-mestnyh-zhiteley/",
         "Наводнения на острове Бали: 14 жертв и последствия для местных жителей",
         "2025-09-11T10:51:26.220482Z",
         "1.104",
         "Наводнения на индонезийском острове Бали привели к смерти 14 человек\n\nЧисло жертв в результате наводнений на острове Бали возросло до 14. Об этом сообщает Jakarta Globe, ссылаясь на местные власти\n\nПо сведениям издания, еще два человека числятся пропавшими без вести. Среди погибших есть иностранка, ее тело было найдено в городе Денпасар\n\nВ настоящее время более 560 человек находятся в временных приютах. Наводнения затронули различные объекты, включая дороги, мосты и здания\n\nКак отметили в Национальном агентстве по борьбе с ЧС Индонезии, угроза дальнейшего повышения уровня воды миновала\n\nВ российском посольстве в стране также подтвердили, что наводнения на Бали повредили линии электропередач\n\n«В связи с интенсивными осадками в провинции Бали 9–10 сентября текущего года в некоторых районах острова было зафиксировано повышение уровня воды до 1,5 метров, подтопление частных домов и повреждение линий электропередач», – сообщается в телеграм-канале посольства\n\nЗагранучреждения РФ в Индонезии поддерживают связь с местными компетентными органами. В данный момент ситуация контролируется властями, туристические районы не пострадали\n\nКроме того, нет никаких сведений о запрете властей Бали на посещение туристических мест\n\nВ августе как минимум 344 человека погибли на северо-западе Пакистана из-за наводнений и оползней, вызванных сильными дождями. Наибольшее количество жертв было зарегистрировано в провинции Хайбер-Пахтунхва\n\nТакже в результате природных катастроф были разрушены или повреждены сотни жилых домов",
         "Наводнения на острове Бали: 14 жертв и последствия для местных жителей",
         null
        ],
        [
         "1398",
         "1074",
         "echo",
         "https://echo.msk.ru/news/chislo-pogibshih-v-besporyadkah-v-nepale-vozroslo-do-34-poslednie-novosti-ot-khabarhub/",
         "Число погибших в беспорядках в Непале возросло до 34: последние новости от Khabarhub",
         "2025-09-11T10:51:27.845921Z",
         "1.125",
         "По меньшей мере 34 человека стали жертвами массовых беспорядков, произошедших в Непале, согласно данным министерства здравоохранения и народонаселения страны.\n\nВ настоящее время лечение получают 1 338 человек, при этом 949 из них уже выписаны. Больница гражданской службы Катманду и Национальный травматологический центр приняли наибольшее количество пациентов. В общей сложности пострадавшие были размещены в 28 медицинских учреждениях по всей стране.\n\nБеспорядки начались в нескольких районах Непала 8 сентября из-за введенного запрета на деятельность крупных мировых социальных сетей в стране.\n\nПротесты привели к масштабным грабежам, поджогам и актам вандализма, которые вышли из-под контроля. В связи с этим местные власти развернули войска в сотрудничестве с другими силовыми структурами.\n\nПремьер-министр Шарма Оли и все 42 члена оппозиционной Национал-демократической партии подали в отставку. Экс-председатель Верховного суда Непала Сушила Карки согласилась занять пост нового премьер-министра. Во время переговоров о ее назначении между различными группами, которые называют себя представителями движения «Поколение Z», произошло столкновение у штаба армии Непала",
         "Число погибших в беспорядках в Непале возросло до 34: последние новости от Khabarhub",
         null
        ],
        [
         "1399",
         "1075",
         "echo",
         "https://echo.msk.ru/news/zhurnal-time-vypustil-oblozhku-posvyaschennuyu-ubitomu-aktivistu-kirku-vazhnye-fakty-i-analiz-sobytiy/",
         "Журнал Time выпустил обложку, посвященную убитому активисту Кирку: важные факты и анализ событий",
         "2025-09-11T10:51:29.353002Z",
         "1.006",
         "Американский журнал Time представил обложку, посвященную убийству активиста Чарли Кирка, как сообщается в газете «Известия» на странице журнала в Х.\n\nНа обложке, выполненной в красных тонах, изображена фотография с выступлением Кирка, на которой написано: «Довольно. Убийство Чарли Кирка и эпидемия политического насилия в Америке».\n\nИздание предположило, что гибель активиста станет не только трагическим событием, но и будет способствовать радикализации еще большего количества американцев.\n\nНеизвестный стрелял в Кирка во время его выступления в университете штата Юта. По сообщениям СМИ, в этот момент активист обсуждал проблему огнестрельного насилия в США.\n\nСостояние пострадавшего оценивалось как критическое, и позже президент США Дональд Трамп сообщил о его смерти, распорядившись приспустить флаги по всей стране до конца недели.\n\nНападающий был задержан, однако после допроса его освободили. По предварительным данным, выстрел был сделан с крыши на значительном расстоянии.\n\nКомиссар департамента общественной безопасности штата Бо Мэйсон отметил, что нападение на Кирка было преднамеренным. Губернатор Юты Спенсер Кокс не исключил возможность участия второго лица в стрельбе.",
         "Журнал Time выпустил обложку, посвященную убитому активисту Кирку: важные факты и анализ событий",
         null
        ],
        [
         "1400",
         "1076",
         "echo",
         "https://echo.msk.ru/news/odinochestvo-kak-put-k-schastyu-vazhnye-uroki-ot-omara-hayyama-kotorye-pomogut-izbezhat-sozhaleniy/",
         "Одиночество как путь к счастью: важные уроки от Омара Хайяма, которые помогут избежать сожалений",
         "2025-09-11T10:51:30.977163Z",
         "1.123",
         "Как только звучит имя Омара Хайяма — сразу возникает образ восточного мудреца с бокалом вина, размышляющего о вечности.\n\nОднако эта картина слишком упрощена. Настоящий Хайям был не только поэтом, но и математиком, астрономом, философом. Его труды по-прежнему изучаются учеными. Тем не менее, в памяти людей остались не таблицы и формулы, а рубаи — короткие четверостишия, в которых заключена целая философская мысль. В них содержится ирония, вызов и простота, а также ключ к вечному вопросу: как жить, не обманувшись собственными иллюзиями.\n\nХайям появился на свет в XI веке в Персии. Уже тогда его ум считался выдающимся. Его работы по алгебре были настолько революционными, что Европа познакомилась с ними лишь спустя сотни лет. Но именно стихи сделали его имя бессмертным.\n\nИроничные, дерзкие рубаи позволяли обсуждать то, что обычно оставалось за закрытыми дверями. За такие вольности Хайям рисковал обвинениями в ереси. Поразительно, что почти тысячу лет спустя его стихи звучат как комментарии к современности: те же вопросы, те же искушения, те же ошибки.\n\nОсновная мысль Хайяма проста: жизнь коротка. Но за этой простотой скрыта глубокая мудрость. Он словно говорит: хватит стремиться к богатству и славе, достаточно копаться в прошлом и строить бесконечные планы. Радость рядом — в каждом мгновении, пока оно не стёрто.\n\nИрония заключается в том, что человек часто осознаёт это слишком поздно, когда годы уже ушли. Хайям напоминает: счастье не в конечной цели, а в умении прожить сегодняшний день.\n\nДля Хайяма друг — это не тот, кто разделяет веселье, а тот, кто остаётся рядом в трудные времена. Истинная поддержка и бескорыстие делают отношения ценными. В мире, где всё измеряется выгодой, его слова звучат как вызов: богатство исчезает, статус меняется, а верная дружба остаётся опорой.\n\nТолпа всегда была для Хайяма символом опасности. Массовое мнение и коллективное безумие разрушают индивидуальность. Его философия ближе к эпикурейскому «живи незамеченным»: выбирай тихое, простое счастье, не требующее чужих аплодисментов. В эпоху социальных сетей этот совет звучит как инструкция к выживанию. Лайки не заменят настоящей свободы.\n\nХайям учит: мудрость — это не умение блистать в споре. Настоящая мудрость мягка, терпелива и слушает. Рядом с ней спокойно. Никому не нужен собеседник, который лишь ищет возможность продемонстрировать свою эрудицию. Ценность заключается в умении поддержать, а не поучать.\n\nОмар Хайям жил тысячу лет назад, но его мысли остаются актуальными. Четверостишия не устаревают, потому что обращены не к эпохе, а к человеку. Их суть — напоминание: счастье не зависит от внешних обстоятельств, оно возникает внутри, когда есть свобода, дружба и умение радоваться моменту.\n\nВ следующий раз, когда будет казаться, что жизнь уходит сквозь пальцы, вспомните слова Хайяма. Они не решат все проблемы, но точно заставят улыбнуться и обратить внимание на то, что важно в данный момент",
         "Одиночество как путь к счастью: важные уроки от Омара Хайяма, которые помогут избежать сожалений",
         null
        ],
        [
         "1401",
         "1077",
         "echo",
         "https://echo.msk.ru/news/effektivnye-metody-borby-s-myshami-uksus-protiv-nauchnyh-resheniy/",
         "Эффективные методы борьбы с мышами: уксус против научных решений",
         "2025-09-11T10:51:32.169532Z",
         "0.691",
         "Познайте, какие методы борьбы с грызунами действительно эффективны.\n\nСпециалисты в области дератизации оценили известный народный способ борьбы с мышами с помощью столового уксуса и пришли к выводу, что его результативность вызывает сомнения.\n\nДля борьбы с мышами предлагается размещать ёмкости с 9% уксусом вдоль плинтусов и в углах, а также обрабатывать подвалы и погреба (приблизительно 3 литра на помещение). Резкий аромат должен отпугнуть грызунов.\n\nСпециалисты полагают, что уксус может обеспечить лишь временный эффект, так как его запах исчезает в течение 5–7 дней. Более того, этот метод может быть эффективен лишь против отдельных особей, а при сильном голоде мыши способны адаптироваться к запаху. Также следует учитывать потенциальные риски для здоровья: пары уксуса вредны для дыхательной системы.\n\nТаким образом, уксус может служить лишь дополнительной временной мерой, но не заменяет комплексного подхода к защите от грызунов",
         "Эффективные методы борьбы с мышами: уксус против научных решений",
         null
        ],
        [
         "1402",
         "1078",
         "echo",
         "https://echo.msk.ru/news/rossiyskie-turisty-stolknulis-s-ogranicheniyami-na-dostup-k-agoda-chto-proishodit/",
         "Российские туристы столкнулись с ограничениями на доступ к Agoda: что происходит?",
         "2025-09-11T10:51:33.782768Z",
         "1.112",
         "Туристы начали замечать сложности с доступом к известному сервису бронирования Agoda, который является частью корпорации Booking Holdings. Как показывает практика, проблема не носит повсеместный характер и часто зависит от интернет-провайдера. По словам подписчиков телеграм-канала «Крыша ТурДома», у некоторых пользователей сайт работает, а у других возникают трудности.\n\n«На Ростелекоме с понедельника сайт не загружается», – сообщил один из туристов. Проблемы наблюдаются и у пользователей мобильного интернета от Билайна, где утром сайт работал с перебоями. «Могу подтвердить, загружается только первая страница, дальше появляется сообщение – «Не удается получить доступ к сайту ERR_TIMED_OUT», – отметил подписчик.\n\nОднако, по отзывам пользователей, проблема не имеет массового характера. Некоторые клиенты Ростелекома могут без проблем зайти на сайт Agoda, а пользователи МТС, Т2 (ранее Теле2) и SevenSky открывают его без затруднений. «У меня Alcatel – московский провайдер. Пока всё работает. Однако при использовании сотовой связи множество сайтов, которые он загружал, не открывались», – поделился подписчик.\n\nРедакция отправила запросы с просьбой разъяснить ситуацию в представительства провайдеров, где наблюдались сбои, в компанию Agoda, а также в пресс-службу Роскомнадзора.\n\nОтечественные туристические агрегаторы стремятся получить поддержку от государства, чтобы развиваться как на внутреннем рынке, так и за рубежом. По мнению директора Ассоциации туристических агрегаторов (АТАГ) Александра Брагина, конкурировать с международными гигантами, такими как Booking или Ctrip, в финансовом плане крайне сложно.",
         "Российские туристы столкнулись с ограничениями на доступ к Agoda: что происходит?",
         null
        ],
        [
         "1403",
         "1079",
         "echo",
         "https://echo.msk.ru/news/novosibirskaya-turistka-stala-zhertvoy-moshennikov-pri-pokupke-biletov-na-match-s-krishtianu-ronaldu/",
         "Новосибирская туристка стала жертвой мошенников при покупке билетов на матч с Криштиану Роналду",
         "2025-09-11T10:51:35.353088Z",
         "1.069",
         "Жительница Новосибирска стремилась выполнить желание сына и показать ему матч с участием Криштиану Роналду, но столкнулась с двойным мошенничеством при приобретении билетов на игру между сборными Армении и Португалии в Ереване. Женщина потратила 100 тыс. руб., но не смогла попасть на стадион.\n\nКак сообщает издание «Инфо24», в августе Мария приобрела две входные проходки на специализированном сайте за 70 тыс. руб. Её предупредили, что билеты будут разосланы в день матча, чтобы защитить их от перекупщиков. Однако по прибытии в Ереван её ожидало разочарование: представители сервиса объяснили, что не смогли обеспечить нужную квоту, и пообещали только возврат денег.\n\nКомпания предложила россиянке места на другой, более дешевой трибуне без компенсации за разницу в цене. Не желая отказываться от желания сына, Мария решила рискнуть и обратилась к другому продавцу через мессенджер Телеграм. После перевода 30 тыс. руб. неизвестный просто заблокировал её, и связь пропала.\n\nПо словам потерпевшей, аналогичное произошло с примерно 150 болельщиками из России, которые также остались без билетов. Общие расходы новосибирской семьи, включая перелет, проживание и питание, достигли около 240 тыс. руб.\n\nНесмотря на неудачу, женщина не теряет надежды. Вернувшись домой, она планирует новую поездку, теперь в Казахстан, где в конце сентября состоится матч между «Кайратом» и мадридским «Реалом»",
         "Новосибирская туристка стала жертвой мошенников при покупке билетов на матч с Криштиану Роналду",
         null
        ],
        [
         "1404",
         "1080",
         "echo",
         "https://echo.msk.ru/news/chto-zhdat-ot-myuzikla-v-chetvertom-sezone-vedmaka/",
         "Что ждать от мюзикла в четвертом сезоне \"Ведьмака\"",
         "2025-09-11T10:51:36.461665Z",
         "0.607",
         "Команда, работающая над четвертым сезоном сериала «Ведьмак», подготовила для зрителей неожиданный сюрприз. Согласно информации от портала Redanian Intelligence, один из эпизодов будет включать в себя крупномасштабную музыкальную сцену с участием барда Лютика. Создатели решили творчески интерпретировать один из ключевых моментов книги «Крещение огнем» Анджея Сапковского. В оригинальной истории Геральт и его спутники — Лютик, Мильва, Каир и Регис — делают остановку, чтобы приготовить уху. Этот, казалось бы, обыденный момент в сериале станет основой для целого эпизода. Какие темы затронет Лютик в четвертом сезоне «Ведьмака»? Во время этой остановки Лютик углубится в воспоминания о своем прошлом, что даст зрителям возможность наконец-то понять причины его давнего конфликта с коллегой-бардом Вальдо Марксом. Воспоминание будет представлено в виде мини-мюзикла, где не только Лютик, но и другие герои будут исполнять песни и участвовать в танцевальных номерах. Более того, в эпизоде будут представлены молодые версии других важных персонажей саги. Это предоставит возможность более подробно изучить их прошлое и мотивацию. Таким образом, сцена с приготовлением рыбного супа, которая в книге была моментом отдыха и демонстрацией дружеских связей между персонажами, в сериале станет масштабным событием, объединяющим элементы мюзикла и драмы. Четвертый сезон «Ведьмака» сейчас находится на этапе постпродакшена и его премьера запланирована на 2025 год на стриминговых сервисах\n\nКоманда, работающая над четвертым сезоном сериала «Ведьмак», подготовила для зрителей неожиданный сюрприз. Согласно информации от портала Redanian Intelligence, один из эпизодов будет включать в себя крупномасштабную музыкальную сцену с участием барда Лютика.\n\nСоздатели решили творчески интерпретировать один из ключевых моментов книги «Крещение огнем» Анджея Сапковского. В оригинальной истории Геральт и его спутники — Лютик, Мильва, Каир и Регис — делают остановку, чтобы приготовить уху. Этот, казалось бы, обыденный момент в сериале станет основой для целого эпизода.\n\nВо время этой остановки Лютик углубится в воспоминания о своем прошлом, что даст зрителям возможность наконец-то понять причины его давнего конфликта с коллегой-бардом Вальдо Марксом. Воспоминание будет представлено в виде мини-мюзикла, где не только Лютик, но и другие герои будут исполнять песни и участвовать в танцевальных номерах.\n\nБолее того, в эпизоде будут представлены молодые версии других важных персонажей саги. Это предоставит возможность более подробно изучить их прошлое и мотивацию. Таким образом, сцена с приготовлением рыбного супа, которая в книге была моментом отдыха и демонстрацией дружеских связей между персонажами, в сериале станет масштабным событием, объединяющим элементы мюзикла и драмы.\n\nЧетвертый сезон «Ведьмака» сейчас находится на этапе постпродакшена и его премьера запланирована на 2025 год на стриминговых сервисах",
         "Что ждать от мюзикла в четвертом сезоне «Ведьмака»",
         "Известный персонаж Лютик раскроет свое прошлое через музыкальные композиции Какие темы затронет Лютик в четвертом сезоне «Ведьмака»?"
        ],
        [
         "1405",
         "1081",
         "echo",
         "https://echo.msk.ru/news/geran-pochemu-etot-populyarnyy-domashniy-tsvetok-mozhet-prinosit-neschaste-i-konflikt-v-dom/",
         "Герань: почему этот популярный домашний цветок может приносить несчастье и конфликт в дом",
         "2025-09-11T10:51:37.941548Z",
         "0.979",
         "Герань, также известная как пеларгония, занимает важное место среди комнатных растений, став неотъемлемой частью многих домов и сердец. С давних времен ей приписывали магические качества, что породило множество примет и суеверий, как положительных, так и предостерегающих.\n\nДля большинства народов герань ассоциируется с защитой, благосостоянием и процветанием. К числу наиболее распространенных примет можно отнести следующие:\n\n• Герань в доме – к достатку и финансовому благосостоянию. Цветок притягивает денежную энергию, улучшая материальное состояние семьи.\n\n• Подаренная герань обещает долгую жизнь и счастье. Такой дар символизирует крепкое здоровье и долгий век.\n\n• Цветущая герань приносит в дом гармонию и мир. Ее цветение служит знаком благоприятной атмосферы и спокойствия в жилище.\n\n• Хорошо растущая герань – признак семейного благополучия и гармонии. Здоровое растение свидетельствует о процветании и отсутствии конфликтов между домочадцами.\n\nСреди негативных примет также имеются менее оптимистичные поверья, связанные с этим цветком:\n\n• Герань, подаренная на день рождения, может стать причиной несчастий. Такой дар предвещает неприятности и проблемы.\n\n• Увядающая герань – знак болезни или кончины кого-то из родных. Вянущее растение служит тревожным сигналом о возможных проблемах со здоровьем.\n\n• Пышное цветение герани предвещает семейные проблемы и конфликты. Чрезмерное цветение рассматривается как признак будущих разногласий и ссор.\n\n• Срывать герань в чужом доме – к неприятностям для его хозяев. Такое действие может привести к конфликтам и недоразумениям между жильцами.\n\n• Некоторые считают, что аромат герани вызывает семейные ссоры, сплетни и разногласия. Резкий запах цветка может вызывать раздражительность и напряжение в отношениях.\n\nГерань – это не просто декоративный цветок, а растение, обладающее богатой символикой и множеством значений. Верить или не верить в приметы, связанные с ней, – это исключительно личное дело. Тем не менее, стоит помнить, что суеверия являются частью народного фольклора и не всегда имеют научное обоснование.",
         "Герань: почему этот популярный домашний цветок может приносить несчастье и конфликт в дом",
         null
        ],
        [
         "1406",
         "1082",
         "echo",
         "https://echo.msk.ru/news/zima-2023-goda-sinoptiki-preduprezhdayut-dachnikov-o-surovyh-pogodnyh-usloviyah/",
         "Зима 2023 года: синоптики предупреждают дачников о суровых погодных условиях",
         "2025-09-11T10:51:39.112555Z",
         "0.67",
         "Зима 2025-2026 обещает быть непредсказуемой: наиболее всего пострадают дачники и пожилые люди.\n\nСогласно прогнозам, декабрь может стартовать с раннего снега. Тем не менее, стабильный снежный покров образуется лишь к середине месяца. Существуют вероятности осадков в виде мокрого снега, что может привести к образованию гололеда на дорогах – передвижение для пешеходов будет затруднено.\n\nЯнварь ожидается теплее обычного – средние показатели будут выше на 2–3 градуса. Из-за повышенной влажности и частых колебаний температур люди могут ощущать себя плохо. Особенно ощутят это на себе метеозависимые и лица с хроническими заболеваниями.\n\nЧто касается февраля, то он будет богат обильными осадками. Прогнозируется резкое изменение температур: днем может быть плюсовая температура, а ночью столбик термометра может опуститься до -15 °C. Возможны ледяные дожди, которые могут вызвать массовые отключения электроэнергии.\n\nМетеорологи рекомендуют жителям Москвы и области, а также других регионов готовиться к частым оттепелям, мокрому снегу и гололеду. Эти факторы увеличивают риск сбоев в работе общественного транспорта и электроснабжения. Возможны задержки как авиарейсов, так и наземного транспорта.",
         "Зима 2023 года: синоптики предупреждают дачников о суровых погодных условиях",
         null
        ],
        [
         "1407",
         "1083",
         "echo",
         "https://echo.msk.ru/news/lunnoe-zatmenie-i-ego-vliyanie-chto-nuzhno-sdelat-kazhdomu-znaku-zodiaka-do-21-sentyabrya/",
         "Лунное затмение и его влияние: что нужно сделать каждому знаку зодиака до 21 сентября",
         "2025-09-11T10:51:40.749182Z",
         "1.136",
         "В начале сентября произойдут два астрономических события — полное лунное затмение и частичное солнечное, которые откроют коридор затмений.\n\nАстролог Наталья Андрианова подчеркивает, что это период значительных перемен, когда происходят изменения в привычной жизни, и важно не упустить эту возможность. Коридор начнется с новолуния в августе, а его воздействие продлится месяц и более, хотя результаты станут заметны уже в сентябре.\n\nЛунное затмение 7 сентября произошло в знаке Рыб и затронуло вопросы заботы о семье, поддержки близких, восстановления старых связей с родными. Особенно насторожились Рыбы, Девы, Стрельцы и Близнецы, рожденные в середине своего знака — возможны утраты или неожиданные изменения.\n\nВ то же время Тельцы, Скорпионы, Раки и Козероги середины знака получили поддержку судьбы. Для Водолеев, Львов, Овнов и Весов это время проявилось скорее внутренними состояниями — напряжением или, наоборот, приливом сил.\n\nСолнечное затмение 21 сентября произойдет на последнем градусе Девы и станет моментом завершения предыдущих этапов. Сложностям и испытаниям на прочность будут особенно подвержены Девы, Рыбы, Стрельцы и Близнецы конца знака, а также Овны, Раки, Весы и Козероги первой декады — это период изменения привычного уклада жизни и вопросов, связанных со здоровьем и работой.\n\nВ то же время Раки, Скорпионы, Тельцы и Козероги, а также Львы, Водолеи, Близнецы и Стрельцы первой декады могут получить новые возможности или проявить себя в другом контексте. Перед затмениями и в их течение не рекомендуется начинать важные проекты, менять место работы или вступать в брак — лучше отложить эти решения, так как последствия необдуманных действий могут иметь длительные последствия.\n\nПериод затмений является подходящим для медитаций и загадывания желаний — на лунное затмение их стоит связывать с семейными ценностями и внутренней гармонией, а на солнечное — с карьерными амбициями и личными успехами.",
         "Лунное затмение и его влияние: что нужно сделать каждому знаку зодиака до 21 сентября",
         null
        ],
        [
         "1408",
         "1084",
         "echo",
         "https://echo.msk.ru/interesnoe/ribbentrop-vdrug-nervno-vyskazal-chto-dumaet-o-vyhodke-gitlera-chto-poslu-sssr-otvetili-v-noch-na-22-06-1941-na-vopros-chto-proishodit/",
         "«Риббентроп вдруг нервно высказал что думает о выходке Гитлера!» - что послу СССР ответили в ночь на 22.06.1941 на вопрос \"Что происходит?\"",
         "2025-09-11T10:51:41.935989Z",
         "0.686",
         "В четыре часа утра двадцать второго июня министр иностранных дел Третьего Рейха Рибентроп сообщил советскому послу в Берлине Деканозову о том, что что час назад вермахт перешел границы Советского Союза, после чего зачитал и вручил ноту с детальным объяснением причин, по которым Германия приняла решение о нападении.\n\nДля наших дипломатов это оказалось полной неожиданностью, к такому повороту событий они были не готовы. Об этом свидетельствуют мемуары непосредственных участников этой встречи, официальных переводчиков Валентина Бережкова с советской стороны и Пауля-Отто Шмидта с немецкой.\n\nТак что же происходило в ночь с двадцать первого на двадцать второе в советском посольстве в Берлине и кабинете рейсминистра в МИДе Германии на Вильгельмштрассе?\n\nКак вспоминает Валентин Михайлович Бережков, Деканозов несколько дней по поручению правительства пытался добиться встречи с Риббентропом. Двадцать первого июня в посольство поступило распоряжение немедленно передать руководителям Германии важное сообщение.\n\nНо за весь день не удалось добиться встречи ни с Рибентропом, ни с его первым заместителем, дипломатам сообщали, что в МИДе их нет, и когда появятся неизвестно. Из Москвы же постоянно шли звонки с требованиями немедленного выполнения поручения.\n\nВ итоге ему пришлось остаться в своем кабинете после завершения рабочего дня и каждые полчаса созваниваться с Вильгельмштрассе. Когда в три часа ночи по московскому времени в советском посольстве в Берлине раздался телефонный звонок, он был у телефона.\n\n«Какой-то незнакомый голос сообщил, что рейхс-министр Иоахим фон Риббентроп ждет советских представителей в своем кабинете в министерстве иностранных дел на Вильгельмштрассе. Уже от этого лающего незнакомого голоса, от чрезвычайно официальной фразеологии повеяло чем-то зловещим», вспоминает Бережков.\n\nОщущения тревоги усилилось, когда возле здания министерства они увидели толпу журналистов и фотографов, что было весьма странным в такое раннее утро. Далее идет описание, как он с Деканозовым прошли в кабинет Рибентропа.\n\nУ него создалось впечатление, что рейхсминистр был сильно выпившим. Обменявшись с советским послом рукопожатием Рибентроп пригласил их за круглый стол. Деканозов попытался огласить текст заявления, которое они взяли с собой (в некоторых источниках говорится, что в нем содержались претензии о нарушении немецкими самолетами государственной границы), но Рибентроп оборвал его, сказав, что разговор будет не об этом и зачитал ноту.\n\nДеканозов попытался протестовать, заявив, что обвинения безосновательны и вторжение будет расценено как агрессия, за которую Гемания ответит. Рибентроп в ответ вдруг сказал, что он сделал все что мог, чтобы не допустить такого развития событий, был против этого и даже отговаривал Гитлера, но его мнение не приняли во внимание. Деканозов направился к выходу, но встреча закончилась неожиданно. Риббентроп вдруг нервно высказал что думает о выходке Гитлера!\n\n«Риббентроп, семеня, поспешил за нами. Он стал скороговоркой, шепотком уверять, будто лично он был против этого решения фюрера. Он даже якобы отговаривал Гитлера от нападения на Советский Союз. Лично он, Риббентроп, считает это безумием. Но он ничего не мог поделать. Гитлер принял это решение, он никого не хотел слушать…\n\n— Передайте в Москве, что я был против нападения, — услышали мы последние слова рейхсминистра, когда уже выходили в коридор…» закончил свой рассказ Валентин Михайлович.\n\nСобственно говоря, то, что советские дипломаты хотя и были обеспокоены, но до самого последнего момента ничего не подозревали подтверждают и мемуары Пауля-Отто Шмидта. Его тоже срочно вызвали в эту ночь в министерство, предписав явиться в парадной форме при кортике.\n\nНачальник протокольного отдела Штрак поставил его в известность, что принято решение объявить войну русским и поручил связаться с советским посольством. Как пишет Шмидт, он сильно волновался, даже в голосе появилась хрипота. Возможно поэтому Бережков его не узнал, хотя они периодически общались уже больше полугода. Шмидт заметил, что от такого неурочного звонка со срочным вызовом к рейхминистру заволновался и Бережков:\n\n«Я заметил, что у моего собеседника на другом конце провода перехватило дыхание. В столь ранний час даже Риббентроп, известный тем, что работает по ночам, не вызывал к себе ни одного дипломата. Бережков быстро пришел в себя и спросил, идет ли речь о встрече, которой советский посол добивается уже несколько дней. Я честно ответил, что мне об этом ничего не известно… Голос Бережкова тоже дрожал, когда он подтвердил, что посол будет готов к отъезду через пятнадцать минут» рассказал немецкий переводчик.\n\nЗа советскими дипломатами был отправлен представительский мерседес МИДа, сопровождающими были Штрак и Шмидт. У посольства их уже ожидали Деканозов и Бережков. По дороге Деканозов показал на начинающийся ясный рассвет и заметил, что он предвещает хороший день. Тем не менее, Шмидт отметил, что оба советских представителя сильно нервничали, словно предчувствовали что-то плохое.\n\nКстати, в своей книге он упомянул и то, что, когда зашел в кабинет рейхсминистра на пять минут раньше, чем туда был приглашен Деканозов с сопровождающим, увидел, что и Рибентроп крайне возбужден. В таком состоянии до этого момента ему видеть рейсминистра еще не доводилось. Он нервно ходил по кабинету и разговаривал сам с собой, повторяя, что нападение мера вынужденная, и совершенно необходимая, словно хотел себя успокоить.\n\nДальнейшее описание встречи практически ничем не отличается от описания Бережкова. Советский посол пытался озвучить свой документ, но был прерван Рибентропом.\n\nНота зачитывалась около двадцати минут, но после оглашения преамбулы, когда началось конкретное перечисление отдельных инцидентов, Деканозов сделал знак Бережкову, что дальше переводить не надо, чем закончится ему стало понятно. Деканозов заявил, что сожалеет о таком решении немецкого правительства основанном на крайне ошибочной позиции в отношениях с СССР.\n\nТем не менее, Шмидт не заметил, чтобы Рибентроп после окончания встречи пытался еще что-либо донести до Деканозова. По его словам, после завершения процедуры оглашения и вручения рейхсминистр остался на месте, а посол отправился к выходу, прощальным рукопожатием они не обменялись. На обратном пути в посольство в машине царила полная тишина, а Штрак и Деканозов попрощались сухими короткими кивками.",
         "«Риббентроп вдруг нервно высказал что думает о выходке Гитлера!» — что послу СССР ответили в ночь на 22.06.1941 на вопрос «Что происходит?»",
         null
        ],
        [
         "1409",
         "1085",
         "echo",
         "https://echo.msk.ru/news/tramp-otreagiroval-na-intsident-s-dronami-v-polshe-chto-eto-znachit-dlya-mezhdunarodnoy-politiki/",
         "Трамп отреагировал на инцидент с дронами в Польше: что это значит для международной политики",
         "2025-09-11T10:51:43.543617Z",
         "1.106",
         "Каллас отметила, что конфликт в Украине может затянуться еще на два года.\n\nГубернатор Белгородской области Вячеслав Гладков рассказал о сложной ситуации в регионе на 10 сентября, вызванной новыми масштабными атаками БПЛА со стороны ВСУ.\n\nВ результате, крупные торговые центры не смогли функционировать, а школы продолжат занятия в дистанционном формате.\n\nКак отметил глава региона в своем Telegram-канале, в Белгороде и округе сейчас наблюдается тяжелая обстановка.\n\n«Очередная масштабная атака беспилотных летательных аппаратов», — сообщил он.\n\nГладков рекомендовал родителям оставить детей дома или отвести их в учебные заведения, которые будут работать с повышенными мерами безопасности.\n\nПо словам губернатора, учителя «находятся на своих местах в школах и детских садах», а «вся информация будет предоставлена как можно быстрее и оперативнее».\n\nВ ночь на 11 сентября российские системы ПВО сбили 17 украинских дронов самолетного типа над шестью регионами России.\n\nПо данным оборонного ведомства, над Воронежской областью было ликвидировано шесть беспилотников, а над Белгородской — пять.\n\nДва БПЛА были сбиты в Брянской и Курской областях, а один — в Липецкой и Тамбовской.\n\nПрезидент США Дональд Трамп в социальных сетях высказался по поводу инцидента в Польше, куда пересекли границу российские дроны.\n\n«Что происходит с нарушением Россией воздушного пространства Польши дронами? Началось!» — резюмировал Трамп.\n\nПо информации Reuters, Белый дом внимательно следит за развитием ситуации в Польше.\n\nТакже сообщалось, что в ближайшее время состоится телефонный разговор между Трампом и главой Польши Каролем Навроцким.\n\nПольский МИД выразил надежду на то, что заявления Трампа о поддержке безопасности страны будут подкреплены конкретными действиями. Ожидается, что это будет связано с введением нового пакета санкций против России.\n\nПодоляка объяснил отказ НАТО считать инцидент с дронами над Польшей атакой\n\nВоенный блогер Юрий Подоляка в своем Telegram-канале объяснил, почему НАТО не считает инцидент с БПЛА над Польшей атакой на страну — альянс не желает участвовать в войне за Украину.\n\nИзвестно, что боевые самолеты Польши были подняты в воздух по тревоге в ночь на 10 сентября из-за предполагаемой активности ВС РФ на Украине.\n\nУтром премьер Туск сообщил, что армия применила оружие против российских дронов, нарушивших воздушное пространство страны.\n\n«Воздушное пространство Польши было нарушено множеством российских беспилотников», — отметил он.\n\nПо его словам, реально угрожавшие безопасности Польши БПЛА были уничтожены.\n\nКак сообщало агентство Reuters, Альянс не рассматривает инцидент с БПЛА в небе над Польшей как атаку.\n\nКаллас заявила, что конфликт на Украине продлится еще пару лет\n\nВысший представитель Евросоюза Кая Каллас сделала прогноз относительно сроков окончания конфликта в Украине, предполагая, что он может продолжаться еще два года.\n\nГлава дипломатии ЕС представила два сценария развития событий.\n\n«Думаю, что наиболее реалистичный сценарий — это продолжение войны еще на пару лет. К сожалению, усилия по достижению мира, включая действия президента Трампа, не принесли результатов», — цитирует ее агентство EFE.\n\nВторой сценарий подразумевает, что Украине придется отдать часть своих территорий.\n\nКаллас также упомянула «китайскую проблему», связанную с поддержкой России в конфликте на Украине и «принудительными экономическими практиками».\n\n«Мы не готовы выступать как глобальный игрок, когда речь идет о Китае, потому что у нас нет единого понимания, как действовать», — заявила она.\n\nТанк ВС РФ уничтожил группу грузинских наемников с луками и арбалетами\n\nКомандир танка с позывным «Депутат» рассказал СМИ, что экипаж Т-72 Б3М из группировки войск «Днепр» смог нейтрализовать ДРГ ВСУ.\n\nПо словам военного, в группу входили грузинские наемники, вооруженные арбалетами и луками.\n\n«Они пытались зайти через посты, со стороны Орехова, ДРГ противника, грузинские наемники. Они были с арбалетами, кортиками и луками. Начали заходить в посадку, где наши БПЛА их обнаружили», — цитирует его РИА «Новости».\n\nПротивника уничтожили огнем с закрытых позиций, артиллерия поддерживала действия с воздуха.\n\nВоенный полагает, что на этом направлении формирования ВСУ деморализованы и предпочитают действовать небольшими группами.\n\nС российской стороны их позиции постоянно контролируются, поэтому ВСУ не способны продвигаться вперед с какого-либо направления.\n\nКарта боевых действий на Украине на сегодня 11 сентября 2025 года",
         "Трамп отреагировал на инцидент с дронами в Польше: что это значит для международной политики",
         null
        ],
        [
         "1410",
         "1086",
         "echo",
         "https://echo.msk.ru/news/ataka-vsu-na-shkolnye-avtobusy-chto-proizoshlo-v-zaporozhskoy-oblasti/",
         "Атака ВСУ на школьные автобусы: что произошло в Запорожской области",
         "2025-09-11T10:51:45.126719Z",
         "1.082",
         "Вооруженные силы Украины нанесли удар с использованием беспилотников по двум школьным автобусам и территории образовательного учреждения в Васильевке Запорожской области\n\nВ момент нападения на территории школы не находились ни дети, ни работники учебного заведения. Пострадавших в результате инцидента нет, отметил глава Запорожской области. Тем не менее, после атаки учебное заведение перешло на дистанционное обучение\n\nРанее здание правительства Белгородской области стало целью атаки беспилотников. В результате взрыва были повреждены фасад и окна здания. Более того, обломки сбитого дрона упали на частный дом, что привело к возгоранию\n\nПо предварительным данным, в результате инцидента никто не пострадал. Позже власти региона временно приостановили работу крупных торговых центров в Белгороде и Белгородском районе из-за текущей оперативной ситуации в области\n\nГубернатор Белгородской области Вячеслав Гладков оценил ситуацию в регионе как сложную после массовой атаки беспилотников. Он также сообщил, что возобновление работы крупных торговых центров в ближайшее время невозможно. Кроме того, школы продолжают проводить занятия в онлайн-формате. В связи с этим Гладков призвал родителей оставлять детей дома, включая тех, кто посещает детские сады",
         "Атака ВСУ на школьные автобусы: что произошло в Запорожской области",
         null
        ],
        [
         "1411",
         "1087",
         "echo",
         "https://echo.msk.ru/news/szhiganie-lavrovogo-lista-v-dome-poleznye-svoystva-i-udivitelnye-sekrety-kotorye-znayut-nemnogie/",
         "Сжигание лаврового листа в доме: полезные свойства и удивительные секреты, которые знают немногие",
         "2025-09-11T10:51:46.625181Z",
         "0.997",
         "Лавровый лист известен как распространенная пряность, но его преимущества простираются далеко за пределами кулинарии.\n\nНародные целители, ароматерапевты и даже медики утверждают: дым лаврового листа способствует очищению воздуха в помещении и улучшению самочувствия всей семьи.\n\nПри тлении лавровый лист выделяет эфирные масла — цинеол, камфору и лимонен. Эти вещества разжижают слизь, облегчают её выведение и снижают раздражение дыхательных путей.\n\nЭто особенно полезно в сезон простуд, гриппа и респираторных вирусных инфекций, когда заложенность носа и кашель затрудняют дыхание.\n\nКроме пользы для дыхательной системы, аромат лавра успокаивает нервную систему, снижает уровень стресса и может даже уменьшать головную боль.\n\nЛавровый лист — это простой, доступный и экологически чистый способ заботы о здоровье семьи. Он поддерживает лёгкие, успокаивает нервную систему, очищает воздух и создает тёплую атмосферу в доме, защищая от насекомых без использования химических средств",
         "Сжигание лаврового листа в доме: полезные свойства и удивительные секреты, которые знают немногие",
         null
        ],
        [
         "1412",
         "1088",
         "echo",
         "https://echo.msk.ru/news/verhovnyy-sud-razreshil-davniy-spor-obgon-traktora-ili-ekskavatora-cherez-sploshnuyu-razreshen/",
         "Верховный суд разрешил давний спор: обгон трактора или экскаватора через сплошную разрешен?",
         "2025-09-11T10:51:48.055981Z",
         "0.93",
         "Верховный суд разрешил давний спор: можно ли обгонять трактор или экскаватор через сплошную\n\nОбгон медленно движущихся транспортных средств остается одной из самых сложных тем для водителей.\n\nПравила дорожного движения не всегда однозначны, а штрафы достаточно значительны: за пересечение сплошной линии при обгоне предусмотрен штраф в размере 5000 рублей или лишение водительских прав на срок от 4 до 6 месяцев. Разберем, как действовать верно и безопасно.\n\nДорожный знак 3.20 «Обгон запрещен». Сплошная линия разметки (1.1, 1.3 или 1.11). Эти элементы могут встречаться как вместе, так и отдельно, и толкование правил в каждом варианте будет различным.\n\nОпределение тихохода К медленно движущимся транспортным средствам относятся машины, конструктивная скорость которых не превышает 30 км/ч. Обычно это:\n\n-тракторы и строительные машины, -мопеды, -иногда легкие мотоциклы, -гужевые повозки, -другие транспортные средства с соответствующим знаком. Главный признак — опознавательный знак «Тихоходное транспортное средство»: красный треугольник с желтой или красной окантовкой.\n\nКогда обгон разрешается Обгон медленно движущегося транспортного средства может быть выполнен, если:\n\n-Транспортное средство по техническим характеристикам не способно двигаться быстрее 30 км/ч. -На нем есть знак «Тихоход». Если есть знак 3.20, но отсутствует разметка — обгонять тихоход со знаком можно.\n\nСамая противоречивая ситуация На дороге присутствует и знак 3.20, и сплошная линия, а впереди движется трактор с «треугольником». Согласно правилам дорожного движения, знак имеет приоритет над разметкой: знак разрешает обгон тихохода. Формально такой маневр является законным. Однако инспекторы ГИБДД часто интерпретируют ситуацию иначе. В таком случае подтвердить свою правоту можно только при наличии знака «Тихоход» на обгоняемом транспортном средстве.\n\nКогда обгон категорически запрещен У медленно движущегося транспортного средства отсутствует опознавательный знак. Даже если оно движется медленно, без «треугольника» обгонять нельзя. Пересечение двойной сплошной или обычной сплошной линии без исключений. Верховный суд четко указал: обгон через сплошную всегда считается нарушением.\n\n-Медленно движущееся транспортное средство без знака «Тихоход» → обгон запрещен. -Транспортное средство со знаком «Тихоход», а на дороге только знак 3.20 → обгон разрешен. -На дороге и знак 3.20, и сплошная линия, а у транспортного средства есть знак «Тихоход» → формально можно, но высок риск спора с инспектором. Вывод: право на обгон в «запрещенной» зоне дает только красный треугольник на задней части тихохода. Без этого знака — лучше не рисковать водительским удостоверением",
         "Верховный суд разрешил давний спор: обгон трактора или экскаватора через сплошную разрешен?",
         null
        ],
        [
         "1413",
         "1089",
         "echo",
         "https://echo.msk.ru/news/vesti-efir-ot-11-09-2025-09-00-posledniy-vypusk-smotret-onlayn/",
         "Вести: Эфир от 11.09.2025 (09:00) последний выпуск смотреть онлайн",
         "2025-09-11T10:51:49.485825Z",
         "0.928",
         "Вести — главный новостной выпуск на телеканале «Россия 1». Смотреть Вести Россия 1 онлайн можно в прямом эфире или прошлые выпуски Вестей. Зрители ищут «Вести Россия 1 сегодня» и «Вести Россия 1 последний выпуск», чтобы быть в курсе актуальных событий.\n\nСегодняшний выпуск называется: Вести: Эфир от 11.09.2025 (09:00).\n\nПрограмма охватывает новости политики, экономики, общества и региональные события: местные Вести Россия 1. Все выпуски доступны для просмотра онлайн и бесплатно, включая сегодняшний выпуск Вестей и последние новости на Россия 1. Также можно смотреть Вести Россия 1 прямой эфир, вечерние и утренние выпуски, а архив прошлых программ помогает всегда быть в курсе важных событий.",
         "Вести: Эфир от 11.09.2025 (09:00) последний выпуск смотреть онлайн",
         null
        ],
        [
         "1414",
         "1090",
         "echo",
         "https://echo.msk.ru/news/rossiyskim-turistam-na-kube-stoit-byt-gotovymi-k-pereboyam-s-elektrichestvom-iz-za-energokrizisa/",
         "Российским туристам на Кубе стоит быть готовыми к перебоям с электричеством из-за энергокризиса",
         "2025-09-11T10:51:53.270664Z",
         "3.284",
         "Туристам из России на Кубе рекомендуется держать мобильные устройства заряженными. С этим призывом выступило Посольство РФ в Гаване на фоне нового энергетического кризиса в стране, вызванного поломкой одной из крупнейших теплоэлектростанций Кубы.\n\nТелеграм-канал российского диппредставительства сообщает, что специалисты уже начали ремонтные работы, однако сроки полного восстановления электроснабжения пока неизвестны. В связи с этим российским туристам настоятельно советуют поддерживать заряд мобильных телефонов, экономить батарею и следовать указаниям местных властей.\n\nВ экстренных ситуациях, когда существует угроза жизни или здоровью, можно обратиться на горячую линию генерального консульства России в Гаване: +53 5 263 02 77. В посольстве напоминают, что звонки принимаются только при непосредственной угрозе жизни или здоровью.\n\nСогласно информации от Министерства энергетики Кубы, перебои в системе произошли из-за аварии на ТЭС «Антонио Гутьеррас». Президент Кубы Мигель Диас-Канель заявил, что все службы активно работают над восстановлением энергосистемы.\n\nОтметим, что такие ситуации на Кубе не редкость. В стране периодически случаются отключения электроэнергии, и многие отели имеют собственные генераторы для обеспечения комфортного пребывания туристов.",
         "Российским туристам на Кубе стоит быть готовыми к перебоям с электричеством из-за энергокризиса",
         null
        ],
        [
         "1415",
         "1091",
         "echo",
         "https://echo.msk.ru/news/kak-dzhon-sina-stal-mirotvortsem-udivitelnaya-istoriya-kastinga/",
         "Как Джон Сина стал Миротворцем: удивительная история кастинга",
         "2025-09-11T10:51:54.830916Z",
         "1.059",
         "Режиссер и сценарист Джеймс Ганн, создатель фильма «Отряд самоубийц 2: Миссия Навылет» и последующего сериала «Миротворец», сделал неожиданное открытие: изначально он не планировал Джона Сину на роль Кристофера Смита, известного как Миротворец. В разговоре на шоу Говарда Стерна Ганн поделился, что задумывал эту роль для Дэйва Батисты, с которым он работал в серии фильмов «Стражи Галактики» из вселенной Marvel, где Батиста исполнил роль Дракса Разрушителя. «Я создавал этого персонажа под него и предложили ему сыграть, — пояснил Ганн. — Однако это предложение касалось двух фильмов, и мы не могли предложить большую оплату, поэтому он выбрал другие проекты с более выгодными условиями». Таким образом, Батиста отказался от роли из-за несовпадения расписаний и финансовых условий. Это дало возможность Ганну обратить внимание на другого известного рестлера — Джона Сину. Ганн подчеркнул, что всегда восхищался актерским мастерством Сины. Их личная встреча окончательно убедила режиссера. «Мы встретились, пообщались и сразу нашли общий язык, — вспоминает Ганн. — С тех пор я сотрудничал с ним чаще, чем с любым другим актером. Он потрясающий человек и актер». В настоящее время Сина тесно связан с образом этого персонажа, который будет продолжать свое развитие в обновленной Вселенной DC (DCU) под руководством Джеймса Ганна.\n\nРежиссер и сценарист Джеймс Ганн, создатель фильма «Отряд самоубийц 2: Миссия Навылет» и последующего сериала «Миротворец», сделал неожиданное открытие: изначально он не планировал Джона Сину на роль Кристофера Смита, известного как Миротворец.\n\nВ разговоре на шоу Говарда Стерна Ганн поделился, что задумывал эту роль для Дэйва Батисты, с которым он работал в серии фильмов «Стражи Галактики» из вселенной Marvel, где Батиста исполнил роль Дракса Разрушителя.\n\n«Я создавал этого персонажа под него и предложили ему сыграть, — пояснил Ганн. — Однако это предложение касалось двух фильмов, и мы не могли предложить большую оплату, поэтому он выбрал другие проекты с более выгодными условиями».\n\nТаким образом, Батиста отказался от роли из-за несовпадения расписаний и финансовых условий. Это дало возможность Ганну обратить внимание на другого известного рестлера — Джона Сину.\n\nГанн подчеркнул, что всегда восхищался актерским мастерством Сины. Их личная встреча окончательно убедила режиссера. «Мы встретились, пообщались и сразу нашли общий язык, — вспоминает Ганн. — С тех пор я сотрудничал с ним чаще, чем с любым другим актером. Он потрясающий человек и актер».\n\nВ настоящее время Сина тесно связан с образом этого персонажа, который будет продолжать свое развитие в обновленной Вселенной DC (DCU) под руководством Джеймса Ганна.",
         "Как Джон Сина стал Миротворцем: удивительная история кастинга",
         "Джеймс Ганн раскрыл, что планировал пригласить звезду Marvel"
        ],
        [
         "1416",
         "1092",
         "echo",
         "https://echo.msk.ru/news/prorochestvo-matushki-sepfory-chto-zhdat-rossii-evrope-i-svo-v-blizhayshie-gody/",
         "Пророчество матушки Сепфоры: что ждать России, Европе и СВО в ближайшие годы",
         "2025-09-11T10:51:58.091498Z",
         "2.76",
         "Старца Сепфора предсказала ряд изменений в 2025 году, которые ожидают Россию и Европу.\n\nПосле принятия схимы, матушка начала видеть будущее. Хотя некоторые её видения были положительными, большинство из них вызывали беспокойство. Она предсказывала нечто значительное, сопоставимое с третьей мировой войной.\n\n«Ядерной войны не будет. Россия будет сражаться со всем Западом. Третья мировая не подразумевает ядерную войну. Будет другое мощное оружие», — отвечала на вопросы заинтересованных старица Сепфора.\n\nКогда речь шла о том, кто выйдет победителем в этом конфликте, матушка называла Россию. Она утверждала, что «русские захватят Европу и почти уничтожат европейцев». При этом она видела, что всё начнется с Украины. Боевые действия затронут и Россию, но лишь на её окраинах.\n\n«Везде, везде в Европе будет Россия. Европейцев останется немного, остальное будет Россия», — произнесла старица.\n\nКроме того, матушка говорила, что в России «трон займет православный царь, но также произойдет приход Антихриста». Несмотря на все испытания, Россия останется единственной страной, которая не поддастся ему, сообщает дзен-канал «ЦГ»",
         "Пророчество матушки Сепфоры: что ждать России, Европе и СВО в ближайшие годы",
         null
        ],
        [
         "1417",
         "1093",
         "echo",
         "https://echo.msk.ru/news/zharenyy-tvorog-na-skovorode-legkiy-i-vkusnyy-desert-kotoryy-ne-zapekanka-i-ne-syrniki/",
         "Жареный творог на сковороде: легкий и вкусный десерт, который не запеканка и не сырники",
         "2025-09-11T10:52:01.499835Z",
         "2.907",
         "Представляем вам оригинальный способ применения творога — создание десерта, напоминающего домашний шербет! Замените привычные сырники и запеканки.\n\nДостаточно немного изменить рецепт и обжарить творог на сковороде, чтобы получить это удивительное лакомство.\n\n• Творог: Используйте свежий, жирный творог для наилучшего результата.\n\n• Сливочное масло: Небольшой кусочек, чтобы обеспечить мягкость десерта.\n\n1. Начните с подготовки творога. Выложите его на сухую, разогретую сковороду и, постоянно помешивая, подсушите в течение нескольких минут. Ваша цель — выпарить лишнюю влагу, чтобы творожная масса стала рассыпчатой.\n\n2. Введите к подсушенному творогу сахар и ванилин. Продолжайте обжаривать, регулярно перемешивая, пока смесь не приобретет красивый золотистый оттенок и не начнет источать аппетитный аромат. Будьте внимательны, чтобы сахар не подгорел! Обычно на это уходит около 10 минут.\n\n3. Как только творог достиг нужного цвета, добавьте сливочное масло. Оно сделает десерт более нежным и тающим во рту.\n\n4. На этом этапе можно добавить орехи или семечки, если вы решили их использовать. Тщательно перемешайте все ингредиенты.\n\n5. Переложите готовую творожную массу в заранее подготовленную форму и дайте ей остыть. Это можно сделать при комнатной температуре или, для ускорения, поместить в морозильник.\n\n6. После охлаждения десерт легко нарезается на аккуратные кусочки.\n\nПолучившееся угощение отлично хранится в холодильнике и станет замечательным дополнением к чаю или кофе. Наслаждайтесь.",
         "Жареный творог на сковороде: легкий и вкусный десерт, который не запеканка и не сырники",
         null
        ],
        [
         "1418",
         "1094",
         "echo",
         "https://echo.msk.ru/news/idealnoe-mesto-v-platskarte-sovety-opytnogo-puteshestvennika-kotorye-stoit-zapomnit/",
         "Идеальное место в плацкарте: советы опытного путешественника, которые стоит запомнить",
         "2025-09-11T10:52:03.965831Z",
         "1.965",
         "Опытный путешественник поделился мнением о самом оптимальном месте в плацкарте, которое стоит всегда бронировать.\n\nРечь идет о 38 месте – многие пассажиры смотрят на эту цифру с настороженностью, поскольку это верхняя боковая полка у туалета. Наперекор распространенному мнению, у данного места есть свои поклонники, знающие, чем оно может быть выгодно.\n\nВо-первых, это экономия. Обычно на это место часто действуют скидки, что делает его более доступным по цене, чем другие.\n\nВо-вторых, многие удивляются, но это место предлагает неожиданный простор и свободу. Полка не пользуется большим спросом, и, как следствие, есть высокая вероятность, что полка под ней останется свободной – так можно получить доступ к двум пространствам сразу.\n\nНекоторые пассажиры говорят, что их пугает близость к туалету, но в современных вагонах это уже не является проблемой. Двери плотно закрываются, вентиляция функционирует исправно. Скоплений людей рядом с туалетом не наблюдается. Более того, есть и плюсы – это место всегда под рукой.\n\nТакже путешественник отметил, что это место называют «уголком уединения», так как в некоторых вагонах есть перегородка, создающая ощущение личного пространства. Кроме того, верхнее размещение обеспечивает лучшую вентиляцию – свежий воздух поступает сверху.\n\nПутешественники признают, что они рады выбирать это место, которое делает их поездку более комфортной.",
         "Идеальное место в плацкарте: советы опытного путешественника, которые стоит запомнить",
         null
        ],
        [
         "1419",
         "1095",
         "echo",
         "https://echo.msk.ru/news/zloy-rok-sudby-volodina-predskazyvaet-tyazhelye-vremena-dlya-treh-znakov-zodiaka-s-12-sentyabrya/",
         "Злой рок судьбы: Володина предсказывает тяжелые времена для трех знаков зодиака с 12 сентября",
         "2025-09-11T10:52:05.512606Z",
         "1.046",
         "Известный астролог Василиса Володина отмечает, что начиная с 12 сентября 2025 года Скорпионам, Близнецам и Львам предстоят сложные дни, связанные с рабочими вопросами, финансами и личной жизнью.\n\nВолодина рекомендует обращать внимание на детали и принимать взвешенные решения в этот период.\n\nСкорпионам следует быть настороже на работе: возможны замечания от начальства или задержки в выполнении задач, требующих внимательного подхода. Финансовые вопросы также могут вызвать стресс — рекомендуется отложить крупные траты и инвестиции до конца месяца. Важно сохранять бдительность и не спешить с важными решениями.\n\nУ Близнецов может возникнуть напряженность в отношениях — Венера может вызвать недопонимание или ссоры с близкими. Следует следить за своим эмоциональным состоянием, чтобы избежать последствий стресса. Лучше уделить больше времени отдыху, чтобы снизить напряжение в семье и сохранить гармонию.\n\nЛьвы будут сталкиваться с множеством задач одновременно. Под влиянием Сатурна им предстоит решать рабочие вопросы, сталкиваться с неожиданными расходами и вести переговоры с семьей. Иногда помощь может понадобиться не только близким, но и самим Львам — важно не стесняться просить о поддержке.\n\nКак подчеркивает Володина, в десятидневный период после 12 сентября особенно важно избегать конфликтов и отложить поспешные действия — улучшение ситуации ожидается ближе к октябрю.",
         "Злой рок судьбы: Володина предсказывает тяжелые времена для трех знаков зодиака с 12 сентября",
         null
        ],
        [
         "1420",
         "1096",
         "echo",
         "https://echo.msk.ru/news/tayna-zerkal-pochemu-ierey-ermolin-sovetuet-ne-zaveshivat-ih-pri-nalichii-pokoynika-v-dome/",
         "Тайна зеркал: почему иерей Ермолин советует не завешивать их при наличии покойника в доме",
         "2025-09-11T10:52:07.109217Z",
         "1.095",
         "Священник Александр Ермолин объяснил, откуда возникла традиция закрывать зеркала, если в доме находится покойник.\n\nСуществует множество суеверий, связанных с похоронами и визитом на кладбище, отметил иерей. Одним из самых известных является завешивание зеркал в доме с покойником. Эту практику соблюдают как верующие, так и те, кто не имеет отношения к религии.\n\n«Если спросить у людей, зачем они это делают, ответов не будет. Когда я прихожу в дом, я прошу снять ткань с зеркал. Возможно, после моего ухода они снова завешивают», — делится своими наблюдениями Александр Ермолин.\n\nПо словам священника, подобные суеверия имеют корни с советских времен. В то время Церковь испытывала трудные времена и подвергалась гонениям. Недостаток священнослужителей был компенсирован деятельностью пожилых женщин, которые создавали «народное православие», согласно словам священника, переданным в дзен-канале «Смотри в себя».",
         "Тайна зеркал: почему иерей Ермолин советует не завешивать их при наличии покойника в доме",
         null
        ],
        [
         "1421",
         "1097",
         "echo",
         "https://echo.msk.ru/news/ubiytsa-kirka-sbezhavshiy-s-kryshi-popal-na-video-posle-strelby-v-politika/",
         "Убийца Кирка, сбежавший с крыши, попал на видео после стрельбы в политика",
         "2025-09-11T10:52:08.578976Z",
         "0.969",
         "Полиция разыскивает снайпера, который выстрелил в сторонника Трампа.\n\nАмериканские правоохранительные органы ведут поиски стрелка в черной одежде, которого заметили на крыше здания в момент, когда консервативный активист Чарли Кирк получил смертельное ранение в шею.\n\nКамеры запечатлели фигуру на крыше здания напротив места происшествия в Университете Юта-Вэлли.\n\n31-летний политический комментатор и отец двоих детей стал жертвой одного выстрела во время своего выступления, посвященного проблеме массовых расстрелов.\n\nВсего за мгновение до рокового выстрела неподвижная фигура в темной одежде была замечена на крыше Лоси-центра, находящегося примерно в 200 ярдах от сцены.\n\nСпустя секунды камеры зафиксировали, как этот человек поспешно покинул крышу, сливаясь с паникой толпы.\n\nФБР присоединилось к расследованию вместе с местными правоохранительными органами. Губернатор Юты Спенсер Кокс заявил, что виновный понесет строгое наказание: «Кто бы это ни сделал, мы тебя найдем. Мы будем судить тебя и привлечем к ответственности по всей строгости закона».\n\nВ первые часы после инцидента полиция задержала двух мужчин, одного из которых обозначили как «лицо, представляющее интерес». Однако вскоре их обоих отпустили без предъявления обвинений.\n\nОрганизация мероприятия теперь подвергается жесткой критике. Свидетели утверждают, что охрана была минимальной, а проверка документов отсутствовала. На встрече Кирка, на которую пришли около трех тысяч человек, дежурили лишь шесть сотрудников кампусной полиции.\n\n«Когда я пришел сюда, я ожидал, что мне придется проходить через какие-то меры безопасности, но этого просто не произошло. Никто не проверил штрих-код или QR-код… Там не было контрольно-пропускного пункта. Буквально любой мог войти, если бы захотел», — признался один из зрителей, Тайлер Макгеттиган в интервью NBC News.\n\nДжастин Хикенс, находившийся в двадцати ярдах от Кирка, также высказал подобное мнение, отметив, что на входе не было металлодетекторов, а единственная охрана состояла из нескольких человек возле сцены.\n\nДругой участник, Райдон Дешен, заметил, что проверка сумок отсутствовала полностью.\n\n«Это показалось мне странным», — выразил он свое мнение в интервью CNN.\n\nНачальник университетской полиции Джефф Лонг признал наличие недостатков в организации охраны.\n\n«Мы готовились к таким ситуациям. И вы думаете, что у вас всё под контролем. Но, к сожалению, такие вещи происходят… Сегодня мы этого не сделали, и из-за этого произошел этот трагический инцидент», — заявил он.\n\nФрагменты видео, сделанные из зданий кампуса, также показывают человека, бегущего по крыше. Эти кадры стали единственной зацепкой следствия.\n\n«У нас есть данные, которые мы анализируем, но это записи с камер наблюдения, так что вы понимаете, какого они качества. Мы знаем, что он был одет во всё темное. Лучшего описания у нас нет», — отметил комиссар по общественной безопасности штата Бо Мейсон.\n\nВыстрел прозвучал вскоре после полудня. Кирк отвечал на второй вопрос аудитории о массовых расстрелах, когда пуля прервала его речь.\n\n«Мы только что видели, как шея Чарли Кирка повернулась в сторону, и оказалось, что ему выстрелили в шею. Там была кровь, сразу же появилось много крови», — рассказала журналистка The Guardian Эмма Питтс.\n\nТолпа студентов и гостей, ставших свидетелями трагедии, в панике разбежалась.\n\nЗакари Моррис, пришедший с трехлетней дочерью, вспоминает: «Все, о чем я мог думать, это о том, что я должен вытащить свою дочь оттуда».\n\nСтудентка Сара Тьюэлл, оказавшаяся в центре событий, описала хаос в беседе с ABC News: «Кровь лилась повсюду. Мы с подругой вбежали в здание и выбежали на улицу, просто пытаясь оказаться в безопасном месте».\n\nПрезидент США Дональд Трамп назвал погибшего «мучеником за правду и свободу». По его словам, «Чарли был лучшим в Америке, а чудовище, напавшее на него, напало на всю нашу страну».\n\nВ память о Кирке по распоряжению президента флаги на правительственных зданиях, включая Белый дом, были приспущены.\n\nСторонника Трампа Чарли Кирка застрелили во время выступления, и момент покушения попал на видео.",
         "Убийца Кирка, сбежавший с крыши, попал на видео после стрельбы в политика",
         null
        ],
        [
         "1422",
         "1098",
         "echo",
         "https://echo.msk.ru/news/tamara-globa-raskryla-tri-znaka-zodiaka-kotorye-poymayut-udachu-v-sentyabre-2025-goda/",
         "Тамара Глоба раскрыла три знака Зодиака, которые поймают удачу в сентябре 2025 года",
         "2025-09-11T10:52:09.833189Z",
         "0.738",
         "Известный астролог предсказывает, что первый месяц осени не всем будет по нраву.\n\nРоссийский астролог Тамара Глоба утверждает, что осень принесет множество изменений, и не все они окажутся приятными для знаков Зодиака.\n\nПо её мнению, некоторые получат то, что давно ждали, но большинство будет недовольно небольшим беспорядком, который сентябрь внесет в их жизнь.\n\nСпециалист подчеркивает, что в течение месяца настанет время, когда знакам придется подводить итоги, исключая всё лишнее и устаревшее из своей жизни.\n\nЭтот процесс затронет все области, от личных отношений до карьеры и даже социального статуса. Вдобавок три знака окажутся в выигрышной ситуации, хотя не сразу это осознают. Глоба называет удачливыми сентябрьскими знаками Овнов, Раков и Козерогов.\n\nДля огненного знака начало осени станет временем подтверждения их удачи. Звезды предсказывают успешный исход для их планов. Однако Овнам необходимо проявить изобретательность.\n\nПо мнению Глобы, перед представителями знака откроются новые бизнес-возможности, некоторые из которых они уже обдумывали ранее.\n\nВ личной жизни у знака появится шанс на счастье, ожидается прибавление в семье, новый роман или развитие старых отношений до нового уровня.\n\nГлоба рекомендует в начале месяца уделить внимание своему здоровью и избегать экстремальных развлечений. Ближе к октябрю стоит действовать осмотрительно, тщательно взвешивая каждое решение.\n\nВ сентябре, по мнению Глобы, окружающие наконец-то оценят профессиональные навыки и знания этого водного знака. Раки окажутся в центре внимания своих работодателей, которые, вероятно, предложат им более высокую должность.\n\nОсобый успех ожидает предпринимателей, которые смогут привлечь инвестора для финансирования нового проекта.\n\nГлоба советует Ракам, планирующим дальние поездки, быть особенно внимательными в пути. Она рекомендует тщательно проверить все необходимые документы и билеты.\n\nКороткие поездки, например, на природу или в лес, будут крайне благоприятными как для духа, так и для тела.\n\nСентябрь станет для земного знака временем активного развития как в личной, так и в профессиональной сферах, считает Глоба. Она полагает, что такие изменения особенно коснутся представителей знака, связанных с творчеством и командной работой.\n\nКроме того, изменится окружение Козерогов, что поможет им вернуться с перспективными идеями.\n\nВо второй половине сентября знаку стоит быть осторожным в поездках, особенно если они путешествуют не в одиночку.\n\nГлоба рекомендует Козерогам внимательно следить за своим окружением, кому-то может понадобиться помощь. Поддержку следует ожидать от близких, которые проявят заботу.",
         "Тамара Глоба раскрыла три знака Зодиака, которые поймают удачу в сентябре 2025 года",
         null
        ],
        [
         "1423",
         "1099",
         "echo",
         "https://echo.msk.ru/news/eks-gubernator-kurskoy-oblasti-raskryl-fakt-polucheniya-vzyatok/",
         "Экс-губернатор Курской области раскрыл факт получения взяток",
         "2025-09-11T10:52:11.336494Z",
         "1.002",
         "Алексей Смирнов сделал признание в рамках сделки со следствием.\n\nЭкс-глава Курской области Алексей Смирнов, подписав сделку со следствием, признался в получении взяток от бизнесменов.\n\nПо информации, взятка в размере 30 млн рублей была получена им за заключение контрактов на строительство фортификационных сооружений на российско-украинской границе.\n\nСмирнов сообщил, что его бывший заместитель Алексей Дедов «также принимал взятки».\n\nПрокуратура ранее отметила, что Смирнов является фигурантом уголовного дела по ч. 6 ст. 290 УК РФ — «Получение взятки в особо крупном размере».\n\nКроме того, обвинение полагает, что Смирнов и Дедов также организовали крупное мошенничество в процессе строительства тех же сооружений.\n\nСМИ сообщают, что оба экс-чиновника активно сотрудничают со следствием, в результате чего раскрываются все эпизоды их преступной деятельности. По их показаниям выявляются иные обвиняемые.\n\nСмирнов, занимавший пост губернатора Курской области с мая по декабрь 2024 года, был арестован в апреле текущего года.\n\nСумма, которую, по версии следствия, похитили глава региона и его заместитель, превышает 1 млрд рублей.\n\nСреди подозреваемых в этом деле — экс-руководитель Корпорации развития региона Владимир Лукин и другие лица.\n\nТакже сообщалось, что близким родственникам Смирнова и другим участникам уголовного дела могла быть предоставлена государственная защита.\n\nОтмечалось, что обвиняемый в хищении 1 млрд экс-замгубернатора Курской области Дедов расплакался в суде.",
         "Экс-губернатор Курской области раскрыл факт получения взяток",
         null
        ],
        [
         "1424",
         "1100",
         "echo",
         "https://echo.msk.ru/news/ubityy-aktivist-kirk-kto-on-i-pochemu-vystupal-protiv-voennoy-pomoschi-ukraine/",
         "Убитый активист Кирк: кто он и почему выступал против военной помощи Украине",
         "2025-09-11T10:52:12.903149Z",
         "1.066",
         "Убитый американский активист Чарли Кирк не поддерживал идею предоставления военной помощи Украине со стороны США. Об этом стало известно из шоу активиста the Charlie Kirk Show.\n\n«Безусловно, я на стороне президента (США Дональда Трампа. – Прим. ред.) на все 100%. Он обладает знанием, которого у меня нет. Мне не нравится концепция поставок оружия в Украину. Это просто различие во мнениях. Понимаете, люди могут не соглашаться», – подчеркивал Кирк.\n\nОн также отмечал, что продолжение финансирования «активного конфликта против России» не является задачей американцев.\n\nНеизвестный открыл огонь по Кирку во время его выступления в университете штата Юта. СМИ сообщали, что нападение произошло в момент, когда активист обсуждал проблемы огнестрельного насилия в Соединенных Штатах.\n\nВ результате мероприятие было остановлено, а пострадавшего вывела охрана. Состояние активиста оценивалось как критическое.\n\nСпустя некоторое время президент США Дональд Трамп сообщил о смерти Кирка. Глава Белого дома распорядился приспустить флаги по всей стране до конца недели.\n\nЗлоумышленник был арестован, но был освобожден после допроса. По предварительным данным, выстрел был произведен с крыши на значительном расстоянии.\n\nКомиссар департамента общественной безопасности штата Бо Мэйсон сообщил, что нападение на Кирка было целенаправленным. Губернатор Юты Спенсер Кокс не исключил возможности участия второго человека в стрельбе.\n\nТрамп заявил, что власти найдут «всех и каждого», кто причастен к убийству. Он отметил, что это касается и организаций, поддерживающих такие преступления. Президент подчеркнул, что Кирк играл крайне важную роль в привлечении молодежи в политику.",
         "Убитый активист Кирк: кто он и почему выступал против военной помощи Украине",
         null
        ],
        [
         "1425",
         "1101",
         "echo",
         "https://echo.msk.ru/news/zakrytie-universiteta-gde-byl-ubit-amerikanskiy-aktivist-kirk-chto-eto-znachit-i-do-kakogo-chisla-prodlitsya-priostanovka-obucheniya/",
         "Закрытие университета, где был убит американский активист Кирк: что это значит и до какого числа продлится приостановка обучения",
         "2025-09-11T10:52:14.411055Z",
         "1.007",
         "Университет долины Юта, на территории которого произошло убийство американского блогера и активиста Чарли Кирка, будет закрыт до понедельника, 15 сентября. Эта информация размещена на веб-сайте учебного заведения.\n\n«Мы потрясены и опечалены трагической утратой Чарли Кирка, который был гостем нашего кампуса. Наши сердца с его семьей. Кампусы Университета долины Юта будут закрыты с 11 по 14 сентября», – отметили в университете.\n\nВ университете уточнили, что все занятия, мероприятия и работа администрации будут приостановлены на указанный период. В частности, экзамены будут перенесены, а сроки выполнения заданий продлены.\n\nНеизвестный открыл огонь по Кирку во время его выступления в университете штата Юта. В результате мероприятие было прервано, а пострадавшего унесла охрана. Состояние активиста было оценено как критическое.\n\nПозже президент США Дональд Трамп сообщил о кончине Кирка. Глава государства распорядился приспустить флаги по всей стране до конца недели.\n\nЗлоумышленник был задержан, однако после допроса его освободили. По предварительным данным, выстрел был произведен с крыши с значительного расстояния.\n\nКомиссар департамента общественной безопасности штата Бо Мэйсон заявил, что атака на Кирка была целенаправленной. Губернатор Юты Спенсер Кокс в свою очередь не исключил возможность участия второго лица в стрельбе.\n\nТрамп пообещал, что власти найдут «всех и каждого», кто имеет отношение к убийству. Он подчеркнул, что это касается и организаций, финансирующих такие преступления. Президент отметил, что Кирк играл крайне важную роль в привлечении молодежи в политику.",
         "Закрытие университета, где был убит американский активист Кирк: что это значит и до какого числа продлится приостановка обучения",
         null
        ],
        [
         "1426",
         "1102",
         "echo",
         "https://echo.msk.ru/news/oblomki-12-bpla-naydeny-na-territorii-polshi-chto-eto-znachit-dlya-bezopasnosti-strany/",
         "Обломки 12 БПЛА найдены на территории Польши: что это значит для безопасности страны?",
         "2025-09-11T10:52:15.966158Z",
         "1.054",
         "На территории Польши были обнаружены обломки 12 БПЛА, нарушивших воздушное пространство страны\n\nВ Люблинской прокуратуре представлены результаты анализа сбитых дронов. Отмечается, что взрывные вещества на одном из беспилотников не были найдены.\n\nНочью 10 сентября четыре аэропорта в Польше приостановили работу из-за непредвиденной военной активности. Позже премьер-министр Дональд Туск сообщил о нарушении воздушного пространства, охарактеризовав данный инцидент как «значительную провокацию».\n\nПо словам политика, «российские дроны впервые были сбиты над территориями стран НАТО». Их фрагменты были найдены в 10 населенных пунктах Польши.\n\nВ связи с этим временный поверенный в делах России Андрей Ордаш был вызван в МИД страны, где ему указали на отсутствие доказательств, подтверждающих связь сбитых дронов с Россией.\n\nКроме того, по запросу Польши Североатлантический альянс активировал статью 4 Договора о НАТО и начал консультации.\n\nМинистерство обороны России сообщило, что в ночь на 10 сентября российские вооруженные силы нанесли значительный удар по предприятиям военно-промышленного комплекса Украины. При этом объекты на польской территории не были целью, а дальность полета использованных БПЛА, которые якобы пересекли границу с Польшей, не превышала 700 километров. Также было отмечено, что министерство готово провести консультации по этому вопросу с польским оборонным ведомством.\n\nПосле произошедшего президент Польши Кароль Навроцкий собрал заседание Совета национальной безопасности и запросил экстренное собрание Совета безопасности ООН. Кроме того, он обсудил инцидент с БПЛА с американским лидером Дональдом Трампом.",
         "Обломки 12 БПЛА найдены на территории Польши: что это значит для безопасности страны?",
         null
        ]
       ],
       "shape": {
        "columns": 9,
        "rows": 100
       }
      },
      "text/html": [
       "<div>\n",
       "<style scoped>\n",
       "    .dataframe tbody tr th:only-of-type {\n",
       "        vertical-align: middle;\n",
       "    }\n",
       "\n",
       "    .dataframe tbody tr th {\n",
       "        vertical-align: top;\n",
       "    }\n",
       "\n",
       "    .dataframe thead th {\n",
       "        text-align: right;\n",
       "    }\n",
       "</style>\n",
       "<table border=\"1\" class=\"dataframe\">\n",
       "  <thead>\n",
       "    <tr style=\"text-align: right;\">\n",
       "      <th></th>\n",
       "      <th>id</th>\n",
       "      <th>source</th>\n",
       "      <th>url</th>\n",
       "      <th>title</th>\n",
       "      <th>fetched_at</th>\n",
       "      <th>t_total_sec</th>\n",
       "      <th>content</th>\n",
       "      <th>h1</th>\n",
       "      <th>h2</th>\n",
       "    </tr>\n",
       "  </thead>\n",
       "  <tbody>\n",
       "    <tr>\n",
       "      <th>1377</th>\n",
       "      <td>1053</td>\n",
       "      <td>meduza</td>\n",
       "      <td>https://meduza.io/en/feature/2025/03/19/new-me...</td>\n",
       "      <td>New Meduza merch hits the shelves — Meduza</td>\n",
       "      <td>2025-09-11T10:50:21.118934Z</td>\n",
       "      <td>0.264</td>\n",
       "      <td>In late 2024, to mark Meduza’s 10th anniversar...</td>\n",
       "      <td>New Meduza merch hits the shelves</td>\n",
       "      <td>Site Index Newsletters</td>\n",
       "    </tr>\n",
       "    <tr>\n",
       "      <th>1378</th>\n",
       "      <td>1054</td>\n",
       "      <td>meduza</td>\n",
       "      <td>https://meduza.io/en/feature/2024/11/26/invest...</td>\n",
       "      <td>Investigations, long reads, and open-data anal...</td>\n",
       "      <td>2025-09-11T10:50:21.918743Z</td>\n",
       "      <td>0.299</td>\n",
       "      <td>Meduza has published tens of thousands of feat...</td>\n",
       "      <td>Investigations, long reads, and open-data anal...</td>\n",
       "      <td>Site Index Newsletters</td>\n",
       "    </tr>\n",
       "    <tr>\n",
       "      <th>1379</th>\n",
       "      <td>1055</td>\n",
       "      <td>meduza</td>\n",
       "      <td>https://meduza.io/en/pages/codex</td>\n",
       "      <td>Meduza’s code of conduct — Meduza</td>\n",
       "      <td>2025-09-11T10:50:23.347228Z</td>\n",
       "      <td>0.927</td>\n",
       "      <td>Meduza is an international Russian- and Englis...</td>\n",
       "      <td>Meduza’s code of conduct</td>\n",
       "      <td>Site Index Newsletters</td>\n",
       "    </tr>\n",
       "    <tr>\n",
       "      <th>1380</th>\n",
       "      <td>1056</td>\n",
       "      <td>meduza</td>\n",
       "      <td>https://meduza.io/en/feature/2018/05/25/how-we...</td>\n",
       "      <td>How we process your personal data stored on Me...</td>\n",
       "      <td>2025-09-11T10:50:24.627672Z</td>\n",
       "      <td>0.779</td>\n",
       "      <td>In some cases, “Meduza” (more precisely, the L...</td>\n",
       "      <td>How we process your personal data stored on Me...</td>\n",
       "      <td>Site Index Newsletters</td>\n",
       "    </tr>\n",
       "    <tr>\n",
       "      <th>1381</th>\n",
       "      <td>1057</td>\n",
       "      <td>meduza</td>\n",
       "      <td>https://meduza.io/en/feature/2018/05/25/how-me...</td>\n",
       "      <td>How Meduza uses cookies Keeping it as simple a...</td>\n",
       "      <td>2025-09-11T10:50:25.810291Z</td>\n",
       "      <td>0.681</td>\n",
       "      <td>Just like most websites, Meduza (or Medusa Pro...</td>\n",
       "      <td>How Meduza uses cookies Keeping it as simple a...</td>\n",
       "      <td>Site Index Newsletters</td>\n",
       "    </tr>\n",
       "    <tr>\n",
       "      <th>...</th>\n",
       "      <td>...</td>\n",
       "      <td>...</td>\n",
       "      <td>...</td>\n",
       "      <td>...</td>\n",
       "      <td>...</td>\n",
       "      <td>...</td>\n",
       "      <td>...</td>\n",
       "      <td>...</td>\n",
       "      <td>...</td>\n",
       "    </tr>\n",
       "    <tr>\n",
       "      <th>1472</th>\n",
       "      <td>1148</td>\n",
       "      <td>echo</td>\n",
       "      <td>https://echo.msk.ru/news/exchange-cny-11-senty...</td>\n",
       "      <td>Курс юаня к рублю на сегодня 11 сентября 2025 ...</td>\n",
       "      <td>2025-09-11T10:53:31.215272Z</td>\n",
       "      <td>1.030</td>\n",
       "      <td>Сегодня Центральный банк России установил новы...</td>\n",
       "      <td>Курс юаня к рублю на сегодня 11 сентября 2025 ...</td>\n",
       "      <td>Основные причины изменения курса юаня Практиче...</td>\n",
       "    </tr>\n",
       "    <tr>\n",
       "      <th>1473</th>\n",
       "      <td>1149</td>\n",
       "      <td>echo</td>\n",
       "      <td>https://echo.msk.ru/news/exchange-kzt-11-senty...</td>\n",
       "      <td>Курс тенге к рублю на сегодня 11 сентября 2025...</td>\n",
       "      <td>2025-09-11T10:53:32.701359Z</td>\n",
       "      <td>0.985</td>\n",
       "      <td>Сегодня Центральный банк России установил новы...</td>\n",
       "      <td>Курс тенге к рублю на сегодня 11 сентября 2025...</td>\n",
       "      <td>Анализ динамики курса тенге Советы для путешес...</td>\n",
       "    </tr>\n",
       "    <tr>\n",
       "      <th>1474</th>\n",
       "      <td>1150</td>\n",
       "      <td>echo</td>\n",
       "      <td>https://echo.msk.ru/news/peresechenie-sploshno...</td>\n",
       "      <td>Пересечение сплошной линии: 5 ситуаций, когда ...</td>\n",
       "      <td>2025-09-11T10:53:34.190308Z</td>\n",
       "      <td>0.988</td>\n",
       "      <td>Для большинства автомобилистов сплошная размет...</td>\n",
       "      <td>Пересечение сплошной линии: 5 ситуаций, когда ...</td>\n",
       "      <td>NaN</td>\n",
       "    </tr>\n",
       "    <tr>\n",
       "      <th>1475</th>\n",
       "      <td>1151</td>\n",
       "      <td>echo</td>\n",
       "      <td>https://echo.msk.ru/news/uchenye-raskryli-sekr...</td>\n",
       "      <td>Ученые раскрыли секрет: какое молоко идеально ...</td>\n",
       "      <td>2025-09-11T10:53:35.649328Z</td>\n",
       "      <td>0.952</td>\n",
       "      <td>Неожиданные выводы исследователей: какое молок...</td>\n",
       "      <td>Ученые раскрыли секрет: какое молоко идеально ...</td>\n",
       "      <td>NaN</td>\n",
       "    </tr>\n",
       "    <tr>\n",
       "      <th>1476</th>\n",
       "      <td>1152</td>\n",
       "      <td>echo</td>\n",
       "      <td>https://echo.msk.ru/news/exchange-euro-11-sent...</td>\n",
       "      <td>Курс евро к рублю на сегодня 11 сентября 2025 ...</td>\n",
       "      <td>2025-09-11T10:53:37.094861Z</td>\n",
       "      <td>0.945</td>\n",
       "      <td>Сегодня Центральным банком России установлен н...</td>\n",
       "      <td>Курс евро к рублю на сегодня 11 сентября 2025 ...</td>\n",
       "      <td>NaN</td>\n",
       "    </tr>\n",
       "  </tbody>\n",
       "</table>\n",
       "<p>100 rows × 9 columns</p>\n",
       "</div>"
      ],
      "text/plain": [
       "        id  source                                                url  \\\n",
       "1377  1053  meduza  https://meduza.io/en/feature/2025/03/19/new-me...   \n",
       "1378  1054  meduza  https://meduza.io/en/feature/2024/11/26/invest...   \n",
       "1379  1055  meduza                   https://meduza.io/en/pages/codex   \n",
       "1380  1056  meduza  https://meduza.io/en/feature/2018/05/25/how-we...   \n",
       "1381  1057  meduza  https://meduza.io/en/feature/2018/05/25/how-me...   \n",
       "...    ...     ...                                                ...   \n",
       "1472  1148    echo  https://echo.msk.ru/news/exchange-cny-11-senty...   \n",
       "1473  1149    echo  https://echo.msk.ru/news/exchange-kzt-11-senty...   \n",
       "1474  1150    echo  https://echo.msk.ru/news/peresechenie-sploshno...   \n",
       "1475  1151    echo  https://echo.msk.ru/news/uchenye-raskryli-sekr...   \n",
       "1476  1152    echo  https://echo.msk.ru/news/exchange-euro-11-sent...   \n",
       "\n",
       "                                                  title  \\\n",
       "1377         New Meduza merch hits the shelves — Meduza   \n",
       "1378  Investigations, long reads, and open-data anal...   \n",
       "1379                  Meduza’s code of conduct — Meduza   \n",
       "1380  How we process your personal data stored on Me...   \n",
       "1381  How Meduza uses cookies Keeping it as simple a...   \n",
       "...                                                 ...   \n",
       "1472  Курс юаня к рублю на сегодня 11 сентября 2025 ...   \n",
       "1473  Курс тенге к рублю на сегодня 11 сентября 2025...   \n",
       "1474  Пересечение сплошной линии: 5 ситуаций, когда ...   \n",
       "1475  Ученые раскрыли секрет: какое молоко идеально ...   \n",
       "1476  Курс евро к рублю на сегодня 11 сентября 2025 ...   \n",
       "\n",
       "                       fetched_at  t_total_sec  \\\n",
       "1377  2025-09-11T10:50:21.118934Z        0.264   \n",
       "1378  2025-09-11T10:50:21.918743Z        0.299   \n",
       "1379  2025-09-11T10:50:23.347228Z        0.927   \n",
       "1380  2025-09-11T10:50:24.627672Z        0.779   \n",
       "1381  2025-09-11T10:50:25.810291Z        0.681   \n",
       "...                           ...          ...   \n",
       "1472  2025-09-11T10:53:31.215272Z        1.030   \n",
       "1473  2025-09-11T10:53:32.701359Z        0.985   \n",
       "1474  2025-09-11T10:53:34.190308Z        0.988   \n",
       "1475  2025-09-11T10:53:35.649328Z        0.952   \n",
       "1476  2025-09-11T10:53:37.094861Z        0.945   \n",
       "\n",
       "                                                content  \\\n",
       "1377  In late 2024, to mark Meduza’s 10th anniversar...   \n",
       "1378  Meduza has published tens of thousands of feat...   \n",
       "1379  Meduza is an international Russian- and Englis...   \n",
       "1380  In some cases, “Meduza” (more precisely, the L...   \n",
       "1381  Just like most websites, Meduza (or Medusa Pro...   \n",
       "...                                                 ...   \n",
       "1472  Сегодня Центральный банк России установил новы...   \n",
       "1473  Сегодня Центральный банк России установил новы...   \n",
       "1474  Для большинства автомобилистов сплошная размет...   \n",
       "1475  Неожиданные выводы исследователей: какое молок...   \n",
       "1476  Сегодня Центральным банком России установлен н...   \n",
       "\n",
       "                                                     h1  \\\n",
       "1377                  New Meduza merch hits the shelves   \n",
       "1378  Investigations, long reads, and open-data anal...   \n",
       "1379                           Meduza’s code of conduct   \n",
       "1380  How we process your personal data stored on Me...   \n",
       "1381  How Meduza uses cookies Keeping it as simple a...   \n",
       "...                                                 ...   \n",
       "1472  Курс юаня к рублю на сегодня 11 сентября 2025 ...   \n",
       "1473  Курс тенге к рублю на сегодня 11 сентября 2025...   \n",
       "1474  Пересечение сплошной линии: 5 ситуаций, когда ...   \n",
       "1475  Ученые раскрыли секрет: какое молоко идеально ...   \n",
       "1476  Курс евро к рублю на сегодня 11 сентября 2025 ...   \n",
       "\n",
       "                                                     h2  \n",
       "1377                             Site Index Newsletters  \n",
       "1378                             Site Index Newsletters  \n",
       "1379                             Site Index Newsletters  \n",
       "1380                             Site Index Newsletters  \n",
       "1381                             Site Index Newsletters  \n",
       "...                                                 ...  \n",
       "1472  Основные причины изменения курса юаня Практиче...  \n",
       "1473  Анализ динамики курса тенге Советы для путешес...  \n",
       "1474                                                NaN  \n",
       "1475                                                NaN  \n",
       "1476                                                NaN  \n",
       "\n",
       "[100 rows x 9 columns]"
      ]
     },
     "execution_count": 10,
     "metadata": {},
     "output_type": "execute_result"
    }
   ],
   "source": [
    "df.tail(100)"
   ]
  },
  {
   "cell_type": "code",
   "execution_count": 11,
   "id": "2c9d6658",
   "metadata": {},
   "outputs": [],
   "source": [
    "df[['content', 'title']] = df[['content', 'title']].astype(str)\n",
    "\n",
    "df = df.dropna(subset=['content', 'title'])"
   ]
  },
  {
   "cell_type": "code",
   "execution_count": 12,
   "id": "f28d7c45",
   "metadata": {},
   "outputs": [
    {
     "name": "stdout",
     "output_type": "stream",
     "text": [
      "Series([], Name: title, dtype: object)\n"
     ]
    }
   ],
   "source": [
    "duplicated_values = df[df.title.duplicated(keep=False)].title\n",
    "print(duplicated_values)"
   ]
  },
  {
   "cell_type": "code",
   "execution_count": 13,
   "id": "caefe7c3",
   "metadata": {},
   "outputs": [],
   "source": [
    "df.drop_duplicates(subset=['title'], keep='first', inplace=True)"
   ]
  },
  {
   "cell_type": "code",
   "execution_count": 14,
   "id": "52828741",
   "metadata": {},
   "outputs": [
    {
     "data": {
      "application/vnd.microsoft.datawrangler.viewer.v0+json": {
       "columns": [
        {
         "name": "index",
         "rawType": "int64",
         "type": "integer"
        },
        {
         "name": "content",
         "rawType": "object",
         "type": "string"
        }
       ],
       "ref": "6c8734fc-3e2d-40da-a378-1ba22974f8a9",
       "rows": [
        [
         "103",
         "Israel attempted to kill senior members of Hamas’s leadership in an airstrike on Tuesday in Qatar, a primary mediator to end the war in Gaza and a U.S. ally.\n\nThe Israeli attack on Qatari soil could complicate ties between the nations and undermine cease-fire negotiations.\n\nPrime Minister Benjamin Netanyahu and Defense Minister Israel Katz said in a statement on Tuesday that they had ordered the attack on Qatari soil “in light of an operational opportunity” and “given the fact that it was this Hamas leadership that initiated and organized the October 7 massacre,” as well as subsequent attacks on Israel.\n\n“Over are the days when leaders of terror enjoy immunity anywhere,” Mr. Netanyahu said in a speech later on Tuesday, in reference to the strike.\n\nA Qatari Foreign Ministry spokesman, Majed al-Ansari, said that the attack in the capital, Doha, had targeted a residential building where senior Hamas politicians lived. The area hit was near schools and foreign embassies. The strike killed a member of Qatar’s internal security forces and injured others, the Interior Ministry said in a statement ."
        ],
        [
         "124",
         "President Trump announced on Tuesday that the Iran-backed militia Kataib Hezbollah had freed Elizabeth Tsurkov, a Russian-Israeli graduate student taken hostage in Iraq, ending more than two years of captivity for her.\n\nMs. Tsurkov has been released and is “now safely in the American Embassy in Iraq,” Mr. Trump said on social media.\n\nThe Israeli and Iraqi governments confirmed that she had been freed, without giving detail about the circumstances. Iraq’s prime minister, Mohammed Shia al-Sudani, wrote on social media that Ms. Tsurkov had been released after “extensive efforts exerted by our security services.” Prime Minister Benjamin Netanyahu of Israel confirmed her release and said he had spoken to her family.\n\nThere was no immediate comment from Kataib Hezbollah. It was unclear what, if anything, the militant group had received in exchange for freeing Ms. Tsurkov, and why she had been freed now.\n\nA doctoral candidate at Princeton University, Ms. Tsurkov disappeared while on a research trip to Baghdad in March 2023. The Israeli government publicly announced in July 2023 that she had been abducted by Kataib Hezbollah.\n\nUntil Mr. Trump’s announcement, repeated efforts by Israeli and U.S. officials to secure her freedom had seemingly met dead ends. The Iraqi government said it had also been looking for Ms. Tsurkov, and was handling communications with Kataib Hezbollah."
        ],
        [
         "260",
         "Connections is the one of the most popular New York Times word games that's captured the public's attention. The game is all about finding the \"common threads between words.\" And just like Wordle , Connections resets after midnight and each new set of words gets trickier and trickier—so we've served up some hints and tips to get you over the hurdle.\n\nIf you just want to be told today's puzzle, you can jump to the end of this article for today's Connections solution. But if you'd rather solve it yourself, keep reading for some clues, tips, and strategies to assist you.\n\nThe NYT 's latest daily word game has become a social media hit. The Times credits associate puzzle editor Wyna Liu with helping to create the new word game and bringing it to the publications' Games section. Connections can be played on both web browsers and mobile devices and require players to group four words that share something in common.\n\nEach puzzle features 16 words and each grouping of words is split into four categories. These sets could comprise of anything from book titles, software, country names, etc. Even though multiple words will seem like they fit together, there's only one correct answer.\n\nIf a player gets all four words in a set correct, those words are removed from the board. Guess wrong and it counts as a mistake—players get up to four mistakes until the game ends.\n\nPlayers can also rearrange and shuffle the board to make spotting connections easier. Additionally, each group is color-coded with yellow being the easiest, followed by green, blue, and purple. Like Wordle, you can share the results with your friends on social media.\n\nWant a hint about the categories without being told the categories? Then give these a try:\n\nNeed a little extra help? Today's connections fall into the following categories:\n\nLooking for Wordle today? Here's the answer to today's Wordle.\n\nReady for the answers? This is your last chance to turn back and solve today's puzzle before we reveal the solutions.\n\nDon't feel down if you didn't manage to guess it this time. There will be new Connections for you to stretch your brain with tomorrow, and we'll be back again to guide you with more helpful hints.\n\nIf you're looking for more puzzles, Mashable's got games now! Check out our games hub for Mahjong, Sudoku, free crossword, and more.\n\nNot the day you're after? Here's the solution to yesterday's Connections."
        ],
        [
         "261",
         "Oh hey there! If you're here, it must be time for Wordle . As always, we're serving up our daily hints and tips to help you figure out today's answer.\n\nIf you just want to be told today's word, you can jump to the bottom of this article for today's Wordle solution revealed. But if you'd rather solve it yourself, keep reading for some clues, tips, and strategies to assist you.\n\nOriginally created by engineer Josh Wardle as a gift for his partner, Wordle rapidly spread to become an international phenomenon, with thousands of people around the globe playing every day. Alternate Wordle versions created by fans also sprang up, including battle royale Squabble , music identification game Heardle , and variations like Dordle and Quordle that make you guess multiple words at once .\n\nWordle eventually became so popular that it was purchased by the New York Times , and TikTok creators even livestream themselves playing .\n\nThe best Wordle starting word is the one that speaks to you. But if you prefer to be strategic in your approach, we have a few ideas to help you pick a word that might help you find the solution faster. One tip is to select a word that includes at least two different vowels, plus some common consonants like S, T, R, or N.\n\nIt might feel like Wordle is getting harder, but it actually isn't any more difficult than when it first began . You can turn on Wordle 's Hard Mode if you're after more of a challenge, though.\n\nGet your last guesses in now, because it's your final chance to solve today's Wordle before we reveal the solution.\n\nDon't feel down if you didn't manage to guess it this time. There will be a new Wordle for you to stretch your brain with tomorrow, and we'll be back again to guide you with more helpful hints .\n\nAre you also playing NYT Strands? See hints and answers for today's Strands .\n\nReporting by Chance Townsend, Caitlin Welsh, Sam Haysom, Amanda Yeo, Shannon Connellan, Cecily Mauran, Mike Pearl, and Adam Rosenberg contributed to this article.\n\nIf you're looking for more puzzles, Mashable's got games now! Check out our games hub for Mahjong, Sudoku, free crossword, and more.\n\nNot the day you're after? Here's the solution to yesterday's Wordle."
        ],
        [
         "263",
         "If you're reading this, you're looking for a little help playing Strands , the New York Times ' elevated word-search game.\n\nStrands requires the player to perform a twist on the classic word search. Words can be made from linked letters — up, down, left, right, or diagonal, but words can also change direction, resulting in quirky shapes and patterns. Every single letter in the grid will be part of an answer. There's always a theme linking every solution, along with the \"spangram,\" a special, word or phrase that sums up that day's theme, and spans the entire grid horizontally or vertically.\n\nBy providing an opaque hint and not providing the word list, Strands creates a brain-teasing game that takes a little longer to play than its other games, like Wordle and Connections .\n\nIf you're feeling stuck or just don't have 10 or more minutes to figure out today's puzzle, we've got all the NYT Strands hints for today's puzzle you need to progress at your preferrined pace.\n\nLooking for other daily online games? Mashable's Games page has more hints, a nd if you're looking for more puzzles, Mashable's got games now!\n\nCheck out our games hub for Mahjong, Sudoku, free crossword, and more.\n\nNot the day you're after? Here's the solution to yesterday's Strands."
        ],
        [
         "298",
         "If you like playing daily word games like Wordle , then Hurdle is a great game to add to your routine.\n\nThere are five rounds to the game. The first round sees you trying to guess the word, with correct, misplaced, and incorrect letters shown in each guess. If you guess the correct answer, it'll take you to the next hurdle, providing the answer to the last hurdle as your first guess. This can give you several clues or none, depending on the words. For the final hurdle, every correct answer from previous hurdles is shown, with correct and misplaced letters clearly shown.\n\nAn important note is that the number of times a letter is highlighted from previous guesses does necessarily indicate the number of times that letter appears in the final hurdle.\n\nIf you find yourself stuck at any step of today's Hurdle, don't worry! We have you covered.\n\nIf you're looking for more puzzles, Mashable's got games now! Check out our games hub for Mahjong, Sudoku, free crossword, and more."
        ],
        [
         "315",
         "Save now on essential digital access to quality FT journalism on any device. Saving based on monthly annualised price.\n\nFT Digital Edition: today’s FT, cover to cover on any device. This subscription does not include access to ft.com or the FT App.\n\nComplete digital access to quality FT journalism with expert analysis from industry leaders. Pay a year upfront and save 20%.\n\nCheck whether you already have access via your university or organisation.\n\nDigital access for organisations. Includes exclusive features and content.\n\nSee why over a million readers pay to read the Financial Times."
        ],
        [
         "682",
         "Israel attempted to kill senior members of Hamas’s leadership in an airstrike on Tuesday in Qatar, a primary mediator to end the war in Gaza and a U.S. ally.\n\nThe Israeli attack on Qatari soil could complicate ties between the nations and undermine cease-fire negotiations.\n\nPrime Minister Benjamin Netanyahu and Defense Minister Israel Katz said in a statement on Tuesday that they had ordered the attack on Qatari soil “in light of an operational opportunity” and “given the fact that it was this Hamas leadership that initiated and organized the October 7 massacre,” as well as subsequent attacks on Israel.\n\n“Over are the days when leaders of terror enjoy immunity anywhere,” Mr. Netanyahu said in a speech later on Tuesday, in reference to the strike.\n\nA Qatari Foreign Ministry spokesman, Majed al-Ansari, said that the attack in the capital, Doha, had targeted a residential building where senior Hamas politicians lived. The area hit was near schools and foreign embassies. The strike killed a member of Qatar’s internal security forces and injured others, the Interior Ministry said in a statement ."
        ],
        [
         "699",
         "President Trump announced on Tuesday that the Iran-backed militia Kataib Hezbollah had freed Elizabeth Tsurkov, a Russian-Israeli graduate student taken hostage in Iraq, ending more than two years of captivity for her.\n\nMs. Tsurkov has been released and is “now safely in the American Embassy in Iraq,” Mr. Trump said on social media.\n\nThe Israeli and Iraqi governments confirmed that she had been freed, without giving detail about the circumstances. Iraq’s prime minister, Mohammed Shia al-Sudani, wrote on social media that Ms. Tsurkov had been released after “extensive efforts exerted by our security services.” Prime Minister Benjamin Netanyahu of Israel confirmed her release and said he had spoken to her family.\n\nThere was no immediate comment from Kataib Hezbollah. It was unclear what, if anything, the militant group had received in exchange for freeing Ms. Tsurkov, and why she had been freed now.\n\nA doctoral candidate at Princeton University, Ms. Tsurkov disappeared while on a research trip to Baghdad in March 2023. The Israeli government publicly announced in July 2023 that she had been abducted by Kataib Hezbollah.\n\nUntil Mr. Trump’s announcement, repeated efforts by Israeli and U.S. officials to secure her freedom had seemingly met dead ends. The Iraqi government said it had also been looking for Ms. Tsurkov, and was handling communications with Kataib Hezbollah."
        ],
        [
         "773",
         "If you like playing daily word games like Wordle , then Hurdle is a great game to add to your routine.\n\nThere are five rounds to the game. The first round sees you trying to guess the word, with correct, misplaced, and incorrect letters shown in each guess. If you guess the correct answer, it'll take you to the next hurdle, providing the answer to the last hurdle as your first guess. This can give you several clues or none, depending on the words. For the final hurdle, every correct answer from previous hurdles is shown, with correct and misplaced letters clearly shown.\n\nAn important note is that the number of times a letter is highlighted from previous guesses does necessarily indicate the number of times that letter appears in the final hurdle.\n\nIf you find yourself stuck at any step of today's Hurdle, don't worry! We have you covered.\n\nIf you're looking for more puzzles, Mashable's got games now! Check out our games hub for Mahjong, Sudoku, free crossword, and more."
        ],
        [
         "775",
         "Connections is the one of the most popular New York Times word games that's captured the public's attention. The game is all about finding the \"common threads between words.\" And just like Wordle , Connections resets after midnight and each new set of words gets trickier and trickier—so we've served up some hints and tips to get you over the hurdle.\n\nIf you just want to be told today's puzzle, you can jump to the end of this article for today's Connections solution. But if you'd rather solve it yourself, keep reading for some clues, tips, and strategies to assist you.\n\nThe NYT 's latest daily word game has become a social media hit. The Times credits associate puzzle editor Wyna Liu with helping to create the new word game and bringing it to the publications' Games section. Connections can be played on both web browsers and mobile devices and require players to group four words that share something in common.\n\nEach puzzle features 16 words and each grouping of words is split into four categories. These sets could comprise of anything from book titles, software, country names, etc. Even though multiple words will seem like they fit together, there's only one correct answer.\n\nIf a player gets all four words in a set correct, those words are removed from the board. Guess wrong and it counts as a mistake—players get up to four mistakes until the game ends.\n\nPlayers can also rearrange and shuffle the board to make spotting connections easier. Additionally, each group is color-coded with yellow being the easiest, followed by green, blue, and purple. Like Wordle, you can share the results with your friends on social media.\n\nWant a hint about the categories without being told the categories? Then give these a try:\n\nNeed a little extra help? Today's connections fall into the following categories:\n\nLooking for Wordle today? Here's the answer to today's Wordle.\n\nReady for the answers? This is your last chance to turn back and solve today's puzzle before we reveal the solutions.\n\nDon't feel down if you didn't manage to guess it this time. There will be new Connections for you to stretch your brain with tomorrow, and we'll be back again to guide you with more helpful hints.\n\nIf you're looking for more puzzles, Mashable's got games now! Check out our games hub for Mahjong, Sudoku, free crossword, and more.\n\nNot the day you're after? Here's the solution to yesterday's Connections."
        ],
        [
         "776",
         "Oh hey there! If you're here, it must be time for Wordle . As always, we're serving up our daily hints and tips to help you figure out today's answer.\n\nIf you just want to be told today's word, you can jump to the bottom of this article for today's Wordle solution revealed. But if you'd rather solve it yourself, keep reading for some clues, tips, and strategies to assist you.\n\nOriginally created by engineer Josh Wardle as a gift for his partner, Wordle rapidly spread to become an international phenomenon, with thousands of people around the globe playing every day. Alternate Wordle versions created by fans also sprang up, including battle royale Squabble , music identification game Heardle , and variations like Dordle and Quordle that make you guess multiple words at once .\n\nWordle eventually became so popular that it was purchased by the New York Times , and TikTok creators even livestream themselves playing .\n\nThe best Wordle starting word is the one that speaks to you. But if you prefer to be strategic in your approach, we have a few ideas to help you pick a word that might help you find the solution faster. One tip is to select a word that includes at least two different vowels, plus some common consonants like S, T, R, or N.\n\nIt might feel like Wordle is getting harder, but it actually isn't any more difficult than when it first began . You can turn on Wordle 's Hard Mode if you're after more of a challenge, though.\n\nGet your last guesses in now, because it's your final chance to solve today's Wordle before we reveal the solution.\n\nDon't feel down if you didn't manage to guess it this time. There will be a new Wordle for you to stretch your brain with tomorrow, and we'll be back again to guide you with more helpful hints .\n\nAre you also playing NYT Strands? See hints and answers for today's Strands .\n\nReporting by Chance Townsend, Caitlin Welsh, Sam Haysom, Amanda Yeo, Shannon Connellan, Cecily Mauran, Mike Pearl, and Adam Rosenberg contributed to this article.\n\nIf you're looking for more puzzles, Mashable's got games now! Check out our games hub for Mahjong, Sudoku, free crossword, and more.\n\nNot the day you're after? Here's the solution to yesterday's Wordle."
        ],
        [
         "778",
         "If you're reading this, you're looking for a little help playing Strands , the New York Times ' elevated word-search game.\n\nStrands requires the player to perform a twist on the classic word search. Words can be made from linked letters — up, down, left, right, or diagonal, but words can also change direction, resulting in quirky shapes and patterns. Every single letter in the grid will be part of an answer. There's always a theme linking every solution, along with the \"spangram,\" a special, word or phrase that sums up that day's theme, and spans the entire grid horizontally or vertically.\n\nBy providing an opaque hint and not providing the word list, Strands creates a brain-teasing game that takes a little longer to play than its other games, like Wordle and Connections .\n\nIf you're feeling stuck or just don't have 10 or more minutes to figure out today's puzzle, we've got all the NYT Strands hints for today's puzzle you need to progress at your preferrined pace.\n\nLooking for other daily online games? Mashable's Games page has more hints, a nd if you're looking for more puzzles, Mashable's got games now!\n\nCheck out our games hub for Mahjong, Sudoku, free crossword, and more.\n\nNot the day you're after? Here's the solution to yesterday's Strands."
        ],
        [
         "924",
         "Then $75 per month. Complete digital access to quality FT journalism on any device. Cancel or change your plan anytime during your trial.\n\nSave now on essential digltal access to quality FT journalism on any device. Saving based on monthly annualised price.\n\nComplete digital access to quality FT journalism with expert analysis from industry leaders. Pay a year upfront and save 20%.\n\nCheck whether you already have access via your university or organisation.\n\nDigital access for organisations. Includes exclusive features and content.\n\nSee why over a million readers pay to read the Financial Times."
        ],
        [
         "926",
         "Save now on essential digital access to quality FT journalism on any device. Saving based on monthly annualised price.\n\nThen $75 per month. Complete digital access to quality FT journalism on any device. Cancel or change your plan anytime during your trial.\n\nFT Digital Edition: today’s FT, cover to cover on any device. This subscription does not include access to ft.com or the FT App.\n\nComplete digital access to quality FT journalism with expert analysis from industry leaders. Pay a year upfront and save 20%.\n\nCheck whether you already have access via your university or organisation.\n\nDigital access for organisations. Includes exclusive features and content.\n\nSee why over a million readers pay to read the Financial Times."
        ],
        [
         "927",
         "Then $75 per month. Complete digital access to quality FT journalism on any device. Cancel or change your plan anytime during your trial.\n\nSave now on essential digltal access to quality FT journalism on any device. Saving based on monthly annualised price.\n\nComplete digital access to quality FT journalism with expert analysis from industry leaders. Pay a year upfront and save 20%.\n\nCheck whether you already have access via your university or organisation.\n\nDigital access for organisations. Includes exclusive features and content.\n\nSee why over a million readers pay to read the Financial Times."
        ],
        [
         "928",
         "Save now on essential digital access to quality FT journalism on any device. Saving based on monthly annualised price.\n\nThen $75 per month. Complete digital access to quality FT journalism on any device. Cancel or change your plan anytime during your trial.\n\nFT Digital Edition: today’s FT, cover to cover on any device. This subscription does not include access to ft.com or the FT App.\n\nComplete digital access to quality FT journalism with expert analysis from industry leaders. Pay a year upfront and save 20%.\n\nCheck whether you already have access via your university or organisation.\n\nDigital access for organisations. Includes exclusive features and content.\n\nSee why over a million readers pay to read the Financial Times."
        ],
        [
         "929",
         "Save now on essential digital access to quality FT journalism on any device. Saving based on monthly annualised price.\n\nThen $75 per month. Complete digital access to quality FT journalism on any device. Cancel or change your plan anytime during your trial.\n\nFT Digital Edition: today’s FT, cover to cover on any device. This subscription does not include access to ft.com or the FT App.\n\nComplete digital access to quality FT journalism with expert analysis from industry leaders. Pay a year upfront and save 20%.\n\nCheck whether you already have access via your university or organisation.\n\nDigital access for organisations. Includes exclusive features and content.\n\nSee why over a million readers pay to read the Financial Times."
        ],
        [
         "930",
         "Save now on essential digital access to quality FT journalism on any device. Saving based on monthly annualised price.\n\nThen $75 per month. Complete digital access to quality FT journalism on any device. Cancel or change your plan anytime during your trial.\n\nFT Digital Edition: today’s FT, cover to cover on any device. This subscription does not include access to ft.com or the FT App.\n\nComplete digital access to quality FT journalism with expert analysis from industry leaders. Pay a year upfront and save 20%.\n\nCheck whether you already have access via your university or organisation.\n\nDigital access for organisations. Includes exclusive features and content.\n\nSee why over a million readers pay to read the Financial Times."
        ],
        [
         "931",
         "Save now on essential digital access to quality FT journalism on any device. Saving based on monthly annualised price.\n\nThen $75 per month. Complete digital access to quality FT journalism on any device. Cancel or change your plan anytime during your trial.\n\nFT Digital Edition: today’s FT, cover to cover on any device. This subscription does not include access to ft.com or the FT App.\n\nComplete digital access to quality FT journalism with expert analysis from industry leaders. Pay a year upfront and save 20%.\n\nCheck whether you already have access via your university or organisation.\n\nDigital access for organisations. Includes exclusive features and content.\n\nSee why over a million readers pay to read the Financial Times."
        ],
        [
         "932",
         "Save now on essential digital access to quality FT journalism on any device. Saving based on monthly annualised price.\n\nThen $75 per month. Complete digital access to quality FT journalism on any device. Cancel or change your plan anytime during your trial.\n\nFT Digital Edition: today’s FT, cover to cover on any device. This subscription does not include access to ft.com or the FT App.\n\nComplete digital access to quality FT journalism with expert analysis from industry leaders. Pay a year upfront and save 20%.\n\nCheck whether you already have access via your university or organisation.\n\nDigital access for organisations. Includes exclusive features and content.\n\nSee why over a million readers pay to read the Financial Times."
        ],
        [
         "933",
         "Then $75 per month. Complete digital access to quality FT journalism on any device. Cancel or change your plan anytime during your trial.\n\nSave now on essential digltal access to quality FT journalism on any device. Saving based on monthly annualised price.\n\nComplete digital access to quality FT journalism with expert analysis from industry leaders. Pay a year upfront and save 20%.\n\nCheck whether you already have access via your university or organisation.\n\nDigital access for organisations. Includes exclusive features and content.\n\nSee why over a million readers pay to read the Financial Times."
        ],
        [
         "934",
         "Save now on essential digital access to quality FT journalism on any device. Saving based on monthly annualised price.\n\nThen $75 per month. Complete digital access to quality FT journalism on any device. Cancel or change your plan anytime during your trial.\n\nFT Digital Edition: today’s FT, cover to cover on any device. This subscription does not include access to ft.com or the FT App.\n\nComplete digital access to quality FT journalism with expert analysis from industry leaders. Pay a year upfront and save 20%.\n\nCheck whether you already have access via your university or organisation.\n\nDigital access for organisations. Includes exclusive features and content.\n\nSee why over a million readers pay to read the Financial Times."
        ],
        [
         "935",
         "Then $75 per month. Complete digital access to quality FT journalism on any device. Cancel or change your plan anytime during your trial.\n\nSave now on essential digltal access to quality FT journalism on any device. Saving based on monthly annualised price.\n\nComplete digital access to quality FT journalism with expert analysis from industry leaders. Pay a year upfront and save 20%.\n\nCheck whether you already have access via your university or organisation.\n\nDigital access for organisations. Includes exclusive features and content.\n\nSee why over a million readers pay to read the Financial Times."
        ],
        [
         "936",
         "Save now on essential digital access to quality FT journalism on any device. Saving based on monthly annualised price.\n\nFT Digital Edition: today’s FT, cover to cover on any device. This subscription does not include access to ft.com or the FT App.\n\nComplete digital access to quality FT journalism with expert analysis from industry leaders. Pay a year upfront and save 20%.\n\nCheck whether you already have access via your university or organisation.\n\nDigital access for organisations. Includes exclusive features and content.\n\nSee why over a million readers pay to read the Financial Times."
        ],
        [
         "937",
         "Save now on essential digital access to quality FT journalism on any device. Saving based on monthly annualised price.\n\nThen $75 per month. Complete digital access to quality FT journalism on any device. Cancel or change your plan anytime during your trial.\n\nFT Digital Edition: today’s FT, cover to cover on any device. This subscription does not include access to ft.com or the FT App.\n\nComplete digital access to quality FT journalism with expert analysis from industry leaders. Pay a year upfront and save 20%.\n\nCheck whether you already have access via your university or organisation.\n\nDigital access for organisations. Includes exclusive features and content.\n\nSee why over a million readers pay to read the Financial Times."
        ],
        [
         "938",
         "Save now on essential digital access to quality FT journalism on any device. Saving based on monthly annualised price.\n\nThen $75 per month. Complete digital access to quality FT journalism on any device. Cancel or change your plan anytime during your trial.\n\nFT Digital Edition: today’s FT, cover to cover on any device. This subscription does not include access to ft.com or the FT App.\n\nComplete digital access to quality FT journalism with expert analysis from industry leaders. Pay a year upfront and save 20%.\n\nCheck whether you already have access via your university or organisation.\n\nDigital access for organisations. Includes exclusive features and content.\n\nSee why over a million readers pay to read the Financial Times."
        ],
        [
         "939",
         "Save now on essential digital access to quality FT journalism on any device. Saving based on monthly annualised price.\n\nThen $75 per month. Complete digital access to quality FT journalism on any device. Cancel or change your plan anytime during your trial.\n\nFT Digital Edition: today’s FT, cover to cover on any device. This subscription does not include access to ft.com or the FT App.\n\nComplete digital access to quality FT journalism with expert analysis from industry leaders. Pay a year upfront and save 20%.\n\nCheck whether you already have access via your university or organisation.\n\nDigital access for organisations. Includes exclusive features and content.\n\nSee why over a million readers pay to read the Financial Times."
        ],
        [
         "940",
         "Save now on essential digital access to quality FT journalism on any device. Saving based on monthly annualised price.\n\nFT Digital Edition: today’s FT, cover to cover on any device. This subscription does not include access to ft.com or the FT App.\n\nComplete digital access to quality FT journalism with expert analysis from industry leaders. Pay a year upfront and save 20%.\n\nCheck whether you already have access via your university or organisation.\n\nDigital access for organisations. Includes exclusive features and content.\n\nSee why over a million readers pay to read the Financial Times."
        ],
        [
         "941",
         "Then $75 per month. Complete digital access to quality FT journalism on any device. Cancel or change your plan anytime during your trial.\n\nSave now on essential digltal access to quality FT journalism on any device. Saving based on monthly annualised price.\n\nComplete digital access to quality FT journalism with expert analysis from industry leaders. Pay a year upfront and save 20%.\n\nCheck whether you already have access via your university or organisation.\n\nDigital access for organisations. Includes exclusive features and content.\n\nSee why over a million readers pay to read the Financial Times."
        ],
        [
         "942",
         "Save now on essential digital access to quality FT journalism on any device. Saving based on monthly annualised price.\n\nThen $75 per month. Complete digital access to quality FT journalism on any device. Cancel or change your plan anytime during your trial.\n\nFT Digital Edition: today’s FT, cover to cover on any device. This subscription does not include access to ft.com or the FT App.\n\nComplete digital access to quality FT journalism with expert analysis from industry leaders. Pay a year upfront and save 20%.\n\nCheck whether you already have access via your university or organisation.\n\nDigital access for organisations. Includes exclusive features and content.\n\nSee why over a million readers pay to read the Financial Times."
        ],
        [
         "943",
         "Save now on essential digital access to quality FT journalism on any device. Saving based on monthly annualised price.\n\nThen $75 per month. Complete digital access to quality FT journalism on any device. Cancel or change your plan anytime during your trial.\n\nFT Digital Edition: today’s FT, cover to cover on any device. This subscription does not include access to ft.com or the FT App.\n\nComplete digital access to quality FT journalism with expert analysis from industry leaders. Pay a year upfront and save 20%.\n\nCheck whether you already have access via your university or organisation.\n\nDigital access for organisations. Includes exclusive features and content.\n\nSee why over a million readers pay to read the Financial Times."
        ],
        [
         "944",
         "Save now on essential digital access to quality FT journalism on any device. Saving based on monthly annualised price.\n\nThen $75 per month. Complete digital access to quality FT journalism on any device. Cancel or change your plan anytime during your trial.\n\nFT Digital Edition: today’s FT, cover to cover on any device. This subscription does not include access to ft.com or the FT App.\n\nComplete digital access to quality FT journalism with expert analysis from industry leaders. Pay a year upfront and save 20%.\n\nCheck whether you already have access via your university or organisation.\n\nDigital access for organisations. Includes exclusive features and content.\n\nSee why over a million readers pay to read the Financial Times."
        ],
        [
         "945",
         "Save now on essential digital access to quality FT journalism on any device. Saving based on monthly annualised price.\n\nThen $75 per month. Complete digital access to quality FT journalism on any device. Cancel or change your plan anytime during your trial.\n\nFT Digital Edition: today’s FT, cover to cover on any device. This subscription does not include access to ft.com or the FT App.\n\nComplete digital access to quality FT journalism with expert analysis from industry leaders. Pay a year upfront and save 20%.\n\nCheck whether you already have access via your university or organisation.\n\nDigital access for organisations. Includes exclusive features and content.\n\nSee why over a million readers pay to read the Financial Times."
        ],
        [
         "946",
         "Save now on essential digital access to quality FT journalism on any device. Saving based on monthly annualised price.\n\nThen $75 per month. Complete digital access to quality FT journalism on any device. Cancel or change your plan anytime during your trial.\n\nFT Digital Edition: today’s FT, cover to cover on any device. This subscription does not include access to ft.com or the FT App.\n\nComplete digital access to quality FT journalism with expert analysis from industry leaders. Pay a year upfront and save 20%.\n\nCheck whether you already have access via your university or organisation.\n\nDigital access for organisations. Includes exclusive features and content.\n\nSee why over a million readers pay to read the Financial Times."
        ],
        [
         "1308",
         "Отключите баннерную рекламу на сайтах и в приложении РБК за 99Р в месяц. Подписка продлевается автоматически каждый месяц, вы сможете отписаться в любой момент."
        ],
        [
         "1309",
         "Отключите баннерную рекламу на сайтах и в приложении РБК за 99Р в месяц. Подписка продлевается автоматически каждый месяц, вы сможете отписаться в любой момент."
        ],
        [
         "1310",
         "Отключите баннерную рекламу на сайтах и в приложении РБК за 99Р в месяц. Подписка продлевается автоматически каждый месяц, вы сможете отписаться в любой момент."
        ],
        [
         "1311",
         "Отключите баннерную рекламу на сайтах и в приложении РБК за 99Р в месяц. Подписка продлевается автоматически каждый месяц, вы сможете отписаться в любой момент."
        ],
        [
         "1312",
         "Отключите баннерную рекламу на сайтах и в приложении РБК за 99Р в месяц. Подписка продлевается автоматически каждый месяц, вы сможете отписаться в любой момент."
        ],
        [
         "1388",
         "Фильмы , созданные в Советском Союзе, стали настоящими шедеврами, вызывая интерес и любовь не только в СССР , но и далеко за его пределами. В каждой семье, на каждой улице, любого города можно было услышать обсуждения новых фильмов и восхищение актёрским мастерством. Именно поэтому игра «Угадайте советский фильм по трем актерам» может стать отличным способом вспомнить те замечательные времена, когда кино было важной частью нашей жизни.\n\nЭти картины переносили зрителей в мир, где правят честь, достоинство, доблесть, и, конечно же, любовь. Любовь в кино СССР — это особая тема, к которой режиссёры возвращались вновь и вновь, создавая настоящие шедевры. Фильмы о любви показывали самые тонкие грани человеческих чувств, передавая все нюансы отношений, от нежной влюблённости до сильнейших страстей, и именно это делало их такими близкими и понятными каждому зрителю.\n\nВ каждом кадре чувствовалось тепло и душа, которые вкладывали в свои работы режиссёры и актёры. Эти фильмы говорили с нами на языке эмоций, затрагивая самые тонкие струны человеческой души. Они показывали, как важны любовь, дружба, честность и верность. Эти темы были близки каждому, и именно поэтому советское кино нашло отклик в сердцах миллионов.\n\nСоветское кино было богато на жанры: комедии, драмы, мелодрамы, фантастика и исторические фильмы — каждый мог найти что-то по своему вкусу. Однако, независимо от жанра, главное в этих фильмах — их человечность. Советские фильмы всегда оставляли пространство для размышлений, они учили, вдохновляли и развлекали.\n\nСоветское кино продолжает жить и сегодня, благодаря тому, что в нём отразилась душа народа, его стремления и мечты. Каждый фильм — это не просто история, а маленькая жизнь, прожитая вместе со зрителем. Эти картины стали культурным кодом, который передаётся из поколения в поколение. Тест «Угадайте советский фильм по трем актерам» — это возможность прикоснуться к истории, вспомнить великие произведения искусства и насладиться мастерством актеров.\n\nИгра «Угадайте советский фильм по трем актерам» — это не только способ проверить свою память, но и возможность окунуться в атмосферу тех лет, вспомнить любимых героев и их истории. Это шанс ещё раз пережить все те эмоции, которые дарили нам советские фильмы."
        ],
        [
         "1439",
         "Фильмы , созданные в Советском Союзе, стали настоящими шедеврами, вызывая интерес и любовь не только в СССР , но и далеко за его пределами. В каждой семье, на каждой улице, любого города можно было услышать обсуждения новых фильмов и восхищение актёрским мастерством. Именно поэтому игра «Угадайте советский фильм по трем актерам» может стать отличным способом вспомнить те замечательные времена, когда кино было важной частью нашей жизни.\n\nЭти картины переносили зрителей в мир, где правят честь, достоинство, доблесть, и, конечно же, любовь. Любовь в кино СССР — это особая тема, к которой режиссёры возвращались вновь и вновь, создавая настоящие шедевры. Фильмы о любви показывали самые тонкие грани человеческих чувств, передавая все нюансы отношений, от нежной влюблённости до сильнейших страстей, и именно это делало их такими близкими и понятными каждому зрителю.\n\nВ каждом кадре чувствовалось тепло и душа, которые вкладывали в свои работы режиссёры и актёры. Эти фильмы говорили с нами на языке эмоций, затрагивая самые тонкие струны человеческой души. Они показывали, как важны любовь, дружба, честность и верность. Эти темы были близки каждому, и именно поэтому советское кино нашло отклик в сердцах миллионов.\n\nСоветское кино было богато на жанры: комедии, драмы, мелодрамы, фантастика и исторические фильмы — каждый мог найти что-то по своему вкусу. Однако, независимо от жанра, главное в этих фильмах — их человечность. Советские фильмы всегда оставляли пространство для размышлений, они учили, вдохновляли и развлекали.\n\nСоветское кино продолжает жить и сегодня, благодаря тому, что в нём отразилась душа народа, его стремления и мечты. Каждый фильм — это не просто история, а маленькая жизнь, прожитая вместе со зрителем. Эти картины стали культурным кодом, который передаётся из поколения в поколение. Тест «Угадайте советский фильм по трем актерам» — это возможность прикоснуться к истории, вспомнить великие произведения искусства и насладиться мастерством актеров.\n\nИгра «Угадайте советский фильм по трем актерам» — это не только способ проверить свою память, но и возможность окунуться в атмосферу тех лет, вспомнить любимых героев и их истории. Это шанс ещё раз пережить все те эмоции, которые дарили нам советские фильмы."
        ]
       ],
       "shape": {
        "columns": 1,
        "rows": 42
       }
      },
      "text/plain": [
       "103     Israel attempted to kill senior members of Ham...\n",
       "124     President Trump announced on Tuesday that the ...\n",
       "260     Connections is the one of the most popular New...\n",
       "261     Oh hey there! If you're here, it must be time ...\n",
       "263     If you're reading this, you're looking for a l...\n",
       "298     If you like playing daily word games like Word...\n",
       "315     Save now on essential digital access to qualit...\n",
       "682     Israel attempted to kill senior members of Ham...\n",
       "699     President Trump announced on Tuesday that the ...\n",
       "773     If you like playing daily word games like Word...\n",
       "775     Connections is the one of the most popular New...\n",
       "776     Oh hey there! If you're here, it must be time ...\n",
       "778     If you're reading this, you're looking for a l...\n",
       "924     Then $75 per month. Complete digital access to...\n",
       "926     Save now on essential digital access to qualit...\n",
       "927     Then $75 per month. Complete digital access to...\n",
       "928     Save now on essential digital access to qualit...\n",
       "929     Save now on essential digital access to qualit...\n",
       "930     Save now on essential digital access to qualit...\n",
       "931     Save now on essential digital access to qualit...\n",
       "932     Save now on essential digital access to qualit...\n",
       "933     Then $75 per month. Complete digital access to...\n",
       "934     Save now on essential digital access to qualit...\n",
       "935     Then $75 per month. Complete digital access to...\n",
       "936     Save now on essential digital access to qualit...\n",
       "937     Save now on essential digital access to qualit...\n",
       "938     Save now on essential digital access to qualit...\n",
       "939     Save now on essential digital access to qualit...\n",
       "940     Save now on essential digital access to qualit...\n",
       "941     Then $75 per month. Complete digital access to...\n",
       "942     Save now on essential digital access to qualit...\n",
       "943     Save now on essential digital access to qualit...\n",
       "944     Save now on essential digital access to qualit...\n",
       "945     Save now on essential digital access to qualit...\n",
       "946     Save now on essential digital access to qualit...\n",
       "1308    Отключите баннерную рекламу на сайтах и в прил...\n",
       "1309    Отключите баннерную рекламу на сайтах и в прил...\n",
       "1310    Отключите баннерную рекламу на сайтах и в прил...\n",
       "1311    Отключите баннерную рекламу на сайтах и в прил...\n",
       "1312    Отключите баннерную рекламу на сайтах и в прил...\n",
       "1388    Фильмы , созданные в Советском Союзе, стали на...\n",
       "1439    Фильмы , созданные в Советском Союзе, стали на...\n",
       "Name: content, dtype: object"
      ]
     },
     "execution_count": 14,
     "metadata": {},
     "output_type": "execute_result"
    }
   ],
   "source": [
    "duplicated_values = df[df.content.duplicated(keep=False)].content\n",
    "duplicated_values"
   ]
  },
  {
   "cell_type": "code",
   "execution_count": 15,
   "id": "f8f765d3",
   "metadata": {},
   "outputs": [],
   "source": [
    "df.drop_duplicates(subset=['content'], keep='first', inplace=True)"
   ]
  },
  {
   "cell_type": "code",
   "execution_count": 16,
   "id": "2d63350b",
   "metadata": {},
   "outputs": [
    {
     "name": "stdout",
     "output_type": "stream",
     "text": [
      "98     Gulf Powers Question U.S. Protection After Isr...\n",
      "680    Gulf Powers Question U.S. Protection After Isr...\n",
      "Name: h1, dtype: object\n"
     ]
    }
   ],
   "source": [
    "duplicated_values = df[df.h1.duplicated(keep=False)].h1\n",
    "print(duplicated_values)"
   ]
  },
  {
   "cell_type": "code",
   "execution_count": 17,
   "id": "f946fd1f",
   "metadata": {},
   "outputs": [],
   "source": [
    "df.drop_duplicates(subset=['h1'], keep='first', inplace=True)"
   ]
  },
  {
   "cell_type": "code",
   "execution_count": 18,
   "id": "7f5b9440",
   "metadata": {},
   "outputs": [],
   "source": [
    "df = df.drop(columns=[\"h2\"])"
   ]
  },
  {
   "cell_type": "code",
   "execution_count": 19,
   "id": "0a1d3407",
   "metadata": {},
   "outputs": [],
   "source": [
    "df.dropna(inplace=True)"
   ]
  },
  {
   "cell_type": "markdown",
   "id": "79782488",
   "metadata": {},
   "source": [
    "## Advance Content and title  Cleaning"
   ]
  },
  {
   "cell_type": "markdown",
   "id": "164e7889",
   "metadata": {},
   "source": [
    "### Clean Content"
   ]
  },
  {
   "cell_type": "code",
   "execution_count": 20,
   "id": "c43204f9",
   "metadata": {},
   "outputs": [],
   "source": [
    "def clean_and_summarize(text, sentence_count=4):\n",
    "    \"\"\"\n",
    "    Cleans text by removing newlines and other artifacts, then summarizes it.\n",
    "\n",
    "    Args:\n",
    "        text (str): The raw text content to be processed.\n",
    "        sentence_count (int): The desired number of sentences in the summary.\n",
    "\n",
    "    Returns:\n",
    "        str: A cleaned and summarized version of the text.\n",
    "    \"\"\"\n",
    "    if not isinstance(text, str):\n",
    "        # Handle potential non-string values in the column\n",
    "        return \"\"\n",
    "\n",
    "    # 1. Clean the text\n",
    "    cleaned_text = text.replace('\\n', ' ')\n",
    "    cleaned_text = re.sub(r'\\s+', ' ', cleaned_text).strip()\n",
    "\n",
    "    # If the text is too short, return it as is to avoid errors\n",
    "    if len(cleaned_text.split()) < 50:\n",
    "        return cleaned_text\n",
    "\n",
    "    # 2. Summarize the cleaned text\n",
    "    try:\n",
    "        parser = PlaintextParser.from_string(cleaned_text, Tokenizer(\"english\"))\n",
    "        summarizer = LsaSummarizer()\n",
    "        summary_sentences = summarizer(parser.document, sentence_count)\n",
    "        summary = ' '.join([str(sentence) for sentence in summary_sentences])\n",
    "        return summary\n",
    "    except Exception as e:\n",
    "        # In case of any summarization error, return the cleaned text\n",
    "        print(f\"Summarization error: {e}\")\n",
    "        return cleaned_text"
   ]
  },
  {
   "cell_type": "code",
   "execution_count": 21,
   "id": "9d9a845c",
   "metadata": {},
   "outputs": [],
   "source": [
    "df[\"cleaned_content\"] = df[\"content\"].apply(lambda x: clean_and_summarize(x, sentence_count=4))"
   ]
  },
  {
   "cell_type": "code",
   "execution_count": 22,
   "id": "97040f19",
   "metadata": {},
   "outputs": [],
   "source": [
    "df.dropna(subset=['cleaned_content'], inplace=True)"
   ]
  },
  {
   "cell_type": "code",
   "execution_count": 23,
   "id": "6c0edca0",
   "metadata": {},
   "outputs": [
    {
     "data": {
      "application/vnd.microsoft.datawrangler.viewer.v0+json": {
       "columns": [
        {
         "name": "index",
         "rawType": "int64",
         "type": "integer"
        },
        {
         "name": "cleaned_content",
         "rawType": "object",
         "type": "string"
        }
       ],
       "ref": "0145e175-eef5-49f8-93f6-8cb8babbeeec",
       "rows": [
        [
         "0",
         "Poland’s interior ministry said seven drones and parts of one unidentified missile have been found. The White House said that Trump was planning to speak with Polish President Karol Nawrocki on Wednesday. Poland earlier announced it was closing its eastern border with Russian ally Belarus, due to joint Russian-Belarusian military exercises beginning Friday, Reuters reported. CNN’s Chris Lau, Gianluca Mezzofiore, Victoria Butenko, Daria Tarasova-Markina, Darya Tarasova, Natasha Bertrand, Haley Britzky, Kit Maher and Antonia Mortensen contributed to this report."
        ],
        [
         "1",
         "Appointed by President Emmanuel Macron on Tuesday, former defense minister Lecornu succeeds François Bayrou, who was ousted after losing a confidence vote in parliament over his unpopular plan to tame the deficit. Early Wednesday, activists launched small but disruptive actions, closing off key ring roads in Bordeaux, Rennes, Nantes and Caen. Police quickly contained the situation as around 150 mostly young demonstrators chanted anti-police slogans in a largely calm atmosphere. A larger nationwide strike and protest is already planned for September 18, when all trade unions are expected to join."
        ],
        [
         "2",
         "The attack could have a chilling effect in the region and raises concerns that if a close US ally, such as Qatar, can come under attack by another US ally Israel, who might be next? But I will say this, we want the hostages back, but we are not thrilled about the way that went down,” Trump told reporters this evening outside Joe’s Seafood, Prime Steak & Stone Crab in Washington, DC. The strikes came as Israel on Tuesday ordered a complete evacuation of Gaza City, home to around a million Palestinians, ahead of its planned military takeover which it said is key to defeating Hamas. The UN Human Rights Chief Volker Türk has warned that an Israeli escalation in Gaza City would lead to “more massive forced displacement, more killing, more unbearable suffering, senseless destruction and atrocity crimes.” CNN’s Mostafa Salem, Mohammed Tawfeeq, Max Saltman, Sarah El Sirgany, Abeer Salman, Tal Shalev, Dana Karni, Kristen Holmes, Kevin Liptak, Andrew Potter, Kylie Atwood, Christian Edwards, Paula Newton and Billy Stockwell contributed reporting."
        ],
        [
         "3",
         "Ukraine’s President Volodymyr Zelensky described the airstrike as “brutally savage” and “directly on people. Now Putin is making his intentions clearer than ever “Russian propaganda claims to be ‘saving’ people in the Donetsk region, but in reality, it is dropping massive air bombs on people who came to receive pensions,” Sybiha added. The village was occupied in June 2022 but Ukrainian forces reclaimed it later that year. Across Ukraine, seven people have been killed and at least 22 injured within the last day."
        ],
        [
         "4",
         "“There are opportunities everywhere,” he said, adding that finding them was a matter of perseverance and adapting to new situations. She created an organization called Proyecto Comida Calientita (Warm Food Project), which provides freshly made meals to migrants. By his second semester, he was also working as a tutor, helping other pupils with admission exams and mathematics. After his stint there, he and a coworker launched their own call center that hired fellow deportees, many of whom were also English speakers struggling to fit in."
        ],
        [
         "5",
         "For a minister, some might say Sébastien Lecornu has had an easy gig inside French President Emmanuel Macron’s government. When Francois Bayrou, the latest ill-fated inhabitant of France’s prime ministerial residence, the Matignon, stepped aside after calling for his own doomed confidence vote (leading many commentators to describe it as jumping ship), headlines in France have turned to his successor. No knight in shining armor appeared – Macron is now on his seventh prime minister, so viable candidates are getting harder to find. According to Lazar, Lecornu offers some compromise – he is a right-wing politician yet still a figure of what the French call, “Social Gaullism,” conservative politicians who aren’t afraid to hike taxes, unlike Macron’s focus on pro-business policies."
        ],
        [
         "6",
         "Ethiopia’s downstream neighbors, however, have watched the project advance with dread since construction began in 2011. Ethiopia has been filling the reservoir in phases since 2020, arguing that it would not significantly harm downstream countries. In Ethiopia, which has faced years of internal armed conflict, largely along ethnic lines, the GERD has proven a source of national pride, said Mekdelawit Messay, an Ethiopian water researcher at Florida International University. “It has been a banner to rally under, and it shows what we can achieve when unified.” Local media say 91% of funding came from the state, and the remaining 9% from Ethiopians buying bonds or making donations."
        ],
        [
         "7",
         "Before he was ousted, Bayrou warned that getting rid of him would not resolve France’s challenges. As a result, for decades, two mainstream political parties on the left and right alternated in power. Unlike Germany or Italy, France has no tradition of coalition building, instead its politics have been shaped for more than 60 years by a presidency-dominated system. And for Macron, history does indeed risk repeating itself unless he can find a prime minister able to broker compromise."
        ],
        [
         "8",
         "A Russian cruise missile that hit a government building in central Kyiv on Sunday was filled with dozens of foreign parts, including chips and other electronic components made in the United States, Ukrainian officials said on Tuesday. The Iskander 9M727 missile that struck the building did not explode, most likely because it was damaged by Ukrainian air defenses, Vladyslav Vlasiuk, Ukraine’s presidential commissioner for sanctions policy, said on Tuesday. Infineon Technologies, the German company that now owns American-based Cypress Semiconductor – one of the manufacturers listed – told CNN that it has taken “extensive measures” to ensure its items don’t end up in Russia. Vlasiuk said that even though this particular missile still included dozens of Western-made parts, it contained fewer such components compared to missiles analyzed earlier in the war."
        ],
        [
         "9",
         "After being pushed out of Uganda, the militia went on to attack villages in Congo, Central African Republic and South Sudan. The court’s so-called confirmation of charges hearing comes two decades after it issued an arrest warrant for Kony. Court-appointed counsel for Kony argued the proceedings violate their client’s fair trial rights and should not have been held at all. He also noted that the warrants for Netanyahu and Putin were issued in recent years, whereas Kony has been wanted since 2005."
        ],
        [
         "10",
         "None of these new sites would be in Gaza City, the official said. There is no indication yet that the new sites have all been established. When plans for the takeover were announced, some Gaza City residents told CNN that they would rather die in their homes than be displaced again. Um Samed, a 59-year-old mother of five, told Reuters that she had to make the decision whether “to stay and die at home in Gaza City, or follow (Israel’s) orders and leave Gaza and die in the south.” CNN’s Ibrahim Dahman, Abeer Salman, Eugenia Yosef, Max Saltman and Kareem El Damanhoury contributed to this report."
        ],
        [
         "11",
         "The cause of the collision is not yet known but a video shared on social media and geolocated by CNN shows a freight train plowing into a double-decker bus that was beginning to cross the tracks in slow-moving traffic. A video circulating online also showed people trying to help passengers evacuate from the roof. A spokesperson for Canadian Pacific Kansas City told CNN that the train was operated by its subsidiary CPKC de Mexico, adding that the company is working with officials in the response efforts and investigation. “We express our most sincere solidarity with the affected families at this time,” it said in a statement, promising support."
        ],
        [
         "12",
         "BIS said that a former deputy head of Moldovan intelligence service SIS who handed over classified information to the KGB was among them. “To successfully counter these hostile activities in Europe, we need to restrict the movement of accredited diplomats from Russia and Belarus within the Schengen (borderless) area,” BIS head Michal Koudelka said in a statement. Russia strikes Ukrainian government building, in largest air attack of war Romania’s anti-organized crime agency, DIICOT, said on Monday that it implemented an arrest warrant for a 47-year-old suspect on treason charges. The suspect allegedly disclosed state secrets to Belarusian intelligence officers that would likely “endanger national security,” DIICOT stated."
        ],
        [
         "13",
         "Nationwide demonstrations and highway blockades are set for Wednesday, followed by a broader union led strike on September 18. As a result, for decades, two mainstream political parties on the left and right alternated in power. Unlike Germany or Italy, France has no tradition of coalition building, instead its politics have been shaped for more than 60 years by a presidency-dominated system. Lecornu, 39, is regarded as a political survivor, the only minister to have served continuously since Macron first took office in 2017."
        ],
        [
         "14",
         "Pig heads appeared outside several mosques around Paris on Tuesday, authorities said, decrying the insult to Muslims. France has Europe’s largest population of Muslims, over 6 million, for whom pigs are considered impure. “An inquiry has been immediately opened,” Paris police chief Laurent Nunez said on X. A Paris police unit is investigating the incident for suspected incitement to hatred, aggravated by discrimination."
        ],
        [
         "15",
         "Prince Harry has paid tribute to his late grandmother, Queen Elizabeth II, on the third anniversary of her death as he returned to the United Kingdom for a short visit, which has also sparked speculation over whether he might meet his father, King Charles III. The Duke of Sussex, who lives in California with wife Meghan and their two children, has come back to England for several charity engagements this week. “For two decades, this event has shone a bright spotlight on the needs of children and young people living with complex medical conditions,” Harry said in a speech at the awards ceremony. The Prince of Wales will on Tuesday visit Spiral Skills, a youth organization in south London, which received funding from William’s homelessness initiative, “Homewards,” to expand its operations into a new hub for young people in the area."
        ],
        [
         "16",
         "A check-in area at London’s Heathrow airport was briefly evacuated on Monday due to a possible hazardous substance incident, but police later said no harmful substances were found at the scene. A Heathrow spokesperson told CNN that emergency services ﻿ confirmed the terminal was safe to reopen. “Specialist crews were deployed to carry out an assessment of the scene, and Terminal 4 check-in was evacuated as a precaution whilst firefighters conducted operations.” London Fire Brigade said it was called about the incident at 5:01 p.m. local time (12:01 p.m. Heathrow has been plagued by a string of recent incidents."
        ],
        [
         "17",
         "A total of 364 MPs voted against Bayrou and 194 voted for him after he called the vote in a bid to push through an unpopular €44 billion ($51 billion) savings plan that included scrapping two public holidays and freezing government spending. Bayrou will now be forced to step down after just nine months in office, following in the footsteps of his predecessor Michel Barnier, who lost a no-confidence vote last December. A possible downgrade of France’s sovereign debt rating review Friday would deliver another blow to its economic standing in Europe. Instability in Paris is a gift to both Russian President Vladimir Putin and his US counterpart Donald Trump, who share a common delight in mocking Europe’s weaknesses."
        ],
        [
         "18",
         "Russia’s president is no longer trying to mollify Trump, however, and the US presidential envoy Keith Kellogg correctly deemed these assaults as an “escalation” on Sunday. Ukrainian officials fear Moscow’s troops are amassing yet again to make a final assault on Pokrovsk, in the east, and might see progress near Kupiansk, farther north. Europe has done much of its part, pledging higher spending, ongoing commitment, and even ground troops in Ukraine if there is a peace. This is an impossible task – partly due to Trump’s own muddled thinking – but most importantly, because Putin does not want peace."
        ],
        [
         "19",
         "An activist group seeking to break Israel’s siege on Gaza by sea said one of its main boats was struck by a drone at a port in Tunisia on Monday night, but all six passengers and crew are safe. The features, he said, were “common, but not exclusive, to some models of Israeli hand grenades,” adding that better images may reveal more details. In June, a yacht with 12 activists onboard, including Thunberg, was intercepted off the coast of Gaza . In a statement, GSF said that “acts of aggression aimed at intimidating and derailing our mission will not deter us.”"
        ],
        [
         "20",
         "Einav Zangauker, the mother of an Israeli hostage held in Gaza, said Tuesday’s strike could serve as a death sentence for her son. It could be that at this very moment, the prime minister has essentially executed my Matan, sentenced him to death,” Zangauker wrote on X. “Unilaterally bombing inside Qatar, a sovereign nation and close ally of the United States that is working very hard in bravely taking risks with us to broker peace, does not advance Israel or America’s goals,” she said. CNN’s Kareem Khadder, Jeremy Diamond, Sarah El Sirgany, Abeer Salman, Max Saltman, Billy Stockwell, Abbas Al Lawati, Catherine Nicholls, Mohammed Tawfeeq and Kevin Liptak contributed to this report."
        ],
        [
         "21",
         "In exchange, a source familiar with the proposal said Israel would release “thousands” of Palestinian prisoners. For weeks, Netanyahu did not respond to the ceasefire proposal put forward by Qatar and Egypt, which Hamas accepted. “But we will not sign a humiliating surrender document — and there is no emperor in Hamas’ leadership like Japan’s Hirohito,” Naim added. CNN’s Tal Shalev, Ibrahim Dahman and Mohammed Tawfeeq contributed to this report."
        ],
        [
         "22",
         "Toledano said it took people a few seconds to understand what was happening after the first burst of gunfire. Prime Minister Benjamin Netanyahu visited the area after holding a “situational assessment” with his heads of security, where he announced measures against Palestinian villages. Later Monday, Israeli President Isaac Herzog visited wounded victims of the attack at Shaare Zedek Medical Center. I say to the residents: you have been warned — get out!” Netanyahu said in a video message."
        ],
        [
         "23",
         "Besides formalizing an arms embargo, which the Spanish government says has been de facto in effect since October 2023, Spain will ban ships carrying fuel for Israel’s armed forces from passing through Spanish ports, and increase its humanitarian aid toward Gaza in 2026 to reach 150 million euros ($176 million), he said. Israel lambasted the accusation, saying it is based on a \"campaign of lies\" by Hamas. Israel’s offensive has killed more than 64,000 Palestinians, according to the Gaza Health Ministry, which does not say how many were civilians or combatants. “If they want to hold or halt defense connections with Israel,” Saar told reporters, “who do you think will lose from that?"
        ],
        [
         "24",
         "Videos shared on social media showed shattered windows and glass-covered floors at the airport’s arrivals hall. Two people sustained minor injuries as a result of the attack, MDA said. In early May, a ballistic missile fired by the Houthis penetrated Israel’s air defenses and struck Ben Gurion international airport near Tel Aviv, halting flights for about 30 minutes. Israel’s long-range Arrow interceptor missile failed to stop the Houthi projectile before it hit."
        ],
        [
         "25",
         "Kennedy appeared in front of the Senate Finance Committee and answered questions on a variety of topics , including vaccines, recent staffing changes and increasing calls for him to resign. He often fired back at lawmakers during his testimony, which was praised by the White House . Some of the pointed questioning came from Republicans who confirmed Kennedy. Kennedy has also canceled his department’s funding for future mRNA vaccine developments."
        ],
        [
         "26",
         "Xi Jinping oversaw a huge display of China’s military power on Wednesday before some of the world’s most powerful authoritarian leaders, rallying them behind his vision for a new world order as US President Donald Trump wages a global trade war and shakes up American alliances. Russia’s Vladimir Putin and North Korea’s Kim Jong Un flanked Xi at the start of the parade as the trio stood together publicly for the first time in a historic moment. The parade unveiled hundreds of advanced weapons and featured over 10,000 troops, showcasing China’s growing military power under Xi’s push to modernize the world’s largest standing army ."
        ],
        [
         "27",
         "Eighteen other people were wounded , including 15 children and three adults. The shooter, who died of a self-inflicted gunshot wound, was identified as 23-year-old Robin Westman. Westman shared a “manifesto” on social media that is being investigated, police said. Investigators believe Westman likely intended to carry out yesterday’s attack from inside the church."
        ],
        [
         "28",
         "“To date, the provisional report shows 28 suspected cases and 15 deaths, including 14 in Boulapé and 1 in Mweka, as well as four health care workers,” Kamba said. Travelers and health-care providers should be on alert due to Ebola disease outbreak in Uganda, CDC warns The World Health Organization said it dispatched its experts alongside Congo’s Rapid Response Team to Kasai province to strengthen disease surveillance, treatment and infection prevention and control in health facilities. The Ebola virus is highly contagious and can be contracted through bodily fluids such as vomit, blood, or semen. The disease it causes is a rare but severe — and often fatal — illness in people."
        ],
        [
         "29",
         "Burkina Faso’s transitional parliament passed legislation outlawing conduct deemed to promote LGBTQ practices, introducing fines, prison sentences and sanctions for persons convicted, its justice minister said. “The law provides for a prison sentence ranging from two to five years and a fine,” Justice Minister Edasso Rodrigue Bayala said on state television on Monday night. LGBTQ people describe living there as ‘hell’ The government has framed the law as an effort to modernize family law and clarify nationality rules, but rights advocates are likely to call out the restrictions on LGBTQ practices and limits imposed on legal recourse in nationality cases. Anti-gay laws are in place in various conservative African countries including Senegal, Uganda and Malawi, though some others, including South Africa, Botswana and Angola, have decriminalized LGBTQ practices or enacted protective measures."
        ],
        [
         "30",
         "And on Tuesday 2 September the US carried out a lethal strike on a speedboat it said was carrying drugs in international waters and had departed from Venezuela, fueling suspicions in Caracas that Washington is trying to topple the regime of President Nicolas Maduro. It “would not be appropriate” at this moment to talk about possible military alliances with other Latin American countries and the region since, Gil said, they maintain a “pro-peace” stance. But it doesn’t work because these drug cartels know they will lose 2% of their cargo. I am concerned, as a Latin American, that this narrative is trying to be imposed,” he said."
        ],
        [
         "31",
         "Lawyers for the eight detainees – who came from Cuba, Laos, Vietnam and other countries, along with Mexico - had argued that they would face dangerous physical conditions in South Sudan, which has struggled with intercommunal violence since its independence in 2011. One deportee, a South Sudanese citizen, was freed earlier, the Associated Press reported Saturday. Beyond South Sudan, the Trump administration is also coordinating US deportations with other African countries including Rwanda, Uganda and Eswatini . While Rwanda recently reached an agreement to take in up to 250 migrants deported from the US, Uganda has publicly insisted it will only accept limited cases, and Eswatini has already received deportees despite mounting criticism."
        ],
        [
         "32",
         "Struck by lightning during a roaring thunderstorm 10 years ago, an ancient pine tree in Bolivia’s capital of La Paz is thriving. Pilgrims stream through the alleys bearing offerings – coins, flowers, sweets, handwritten disclosures of secret wishes – to stuff into bark crevices. “People ask for love, work, health, children, even to bring back their lost pet,” explained Javier Cordero, who leads funeral prayers at the cemetery. But long before such forest ecology studies, Indigenous Aymara shamans in Bolivia believed lightning strikes bestowed divine powers upon their survivors, whether people or trees."
        ],
        [
         "33",
         "Just a few hundred people live in Chichiriviche, and some 70 families depend on fishing for their subsistence, so not taking the boats out is unthinkable. The Venezuelan economy has long been troubled by chronic inefficiencies and historically subject to hyperinflationary cycles. “Tension is surely there, but I’m busy working and trying to make my products, so I don’t think about it,” says Gilberto Salas, an ice-cream maker in the central Caracas neighborhood of Chacao. They have repeatedly detained dissenting voices, including protesters, activists and a former presidential candidate ."
        ],
        [
         "34",
         "Then, a government ban last week on more than two dozen social media platforms including Instagram, Facebook and WhatsApp added fuel to the fire. Video also appeared to show demonstrators ransacking Prime Minister KP Sharma Oli’s private residence on Tuesday, Reuters reported. Others were worried about the response from a governing class that has just been rattled by its biggest challenge in years. “We are scared that students who protested peacefully will also be targeted.” Isaac Yee, Teele Rebane, Aishwarya S. Iyer and Nishant Khanal contributed reporting."
        ],
        [
         "35",
         "Analysts say the omission could signal that Kim has secured what he long sought: China’s tacit acceptance of North Korea as a nuclear power. But as US-China relations have deteriorated amid intensifying strategic rivalry, Beijing has scaled back its cooperation on curbing North Korea’s nuclear ambitions. In 2022, China and Russia jointly vetoed a US-led resolution at the UN Security Council that sought additional sanctions over North Korea’s renewed ballistic missile launches. Some experts have cautioned that the public omission of denuclearization by Xi and Kim might not amount to a shift in China’s official stance."
        ],
        [
         "36",
         "Police used live ammunition, water cannons, and tear gas against the protesters, Reuters news agency reported. Crowds of protesters could be seen breaking into the property and destroying furniture before setting it on fire. Meanwhile, a viral online movement against “Nepo Kids” — politicians’ children showing off their lavish lifestyles — is fueling further anger by highlighting the disparities between those in power and regular Nepalis. More than 400 people, including security forces staff, were hospitalized on Monday, according to a report by Nepal’s health ministry."
        ],
        [
         "37",
         "During, his exile Thaksin continued to be a driving force in politics behind the scenes. Thailand’s prime minister removed from office over leaked phone call scandal with Cambodian strongman Many observers feel that the family’s power in Thailand is diminished, and its long dominant political machine could finally be out of steam. Last week, that changed when the Shinawatra’s Pheu Thai Party was ousted from government. The former interior minister who spearheaded Thailand’s legalization of cannabis, and his government took office on Sunday after obtaining a royal endorsement from King Vajiralongkorn."
        ],
        [
         "38",
         "Owned by Ferrari, Mugello Circuit serves as a testing ground for the Italian manufacturer’s F1 cars. “Mugello is pure passion,” says Fabio Di Giannantonio, one of two Italian riders for the VR46 Ducati team. A passer-by pours pour beer into the funnel, which sprays back gold liquid, along with a puff of smoke as Fuso hoots in delight Given Mugello’s rural location, accommodation can be hard to find for those not camping. About 50 VIPs — including actor Eric Bana, former F1 driver Mark Webber, World Cup-winning soccer captain Fabio Cannavaro, and MotoGP legend Giacomo Agostini — sit at white-clothed tables as Florence-based chef Riccardo Monco serves a multicourse meal."
        ],
        [
         "39",
         "This more advanced map was released in 2016, and under South Korean law, cannot be exported to overseas servers without government approval. A big fear is that Google Maps’ dominance could displace competitors like Naver and Kakao, if it was allowed into the country. That could open the door to an enormous amount of information on user behavior, like how people are moving or interacting with online services. After all, Ahn claimed, Google doesn’t request data directly from the government in many other countries where it does have full mapping and navigation services."
        ],
        [
         "40",
         "Layered onto all of this is a political system in which priorities flip every few years, undermining the long-term planning and financing that such megaprojects demand. We take you inside The Trump administration has taken a different approach, demanding that Amtrak focus on improving on-time performance before expanding. Brightline West, a privately owned 218-mile line linking Rancho Cucamonga, east of Los Angeles, with Las Vegas has begun early construction and is expected to ramp up in late 2025. Together with California’s ambitions, should they come to fruition, the line could show that high-speed rail is not only feasible but transformative for American intercity travel."
        ],
        [
         "41",
         "To visitors, Venice is a glorious tapestry of historic buildings, waterways, bell towers, red roofs — and a mighty winged lion, the symbol of the Venetian republic, carved into structures across the city. This, they said, would explain why the 4-meter- (13-foot-) long and 2.2-meter- (7-foot-) high statue, previously thought to have been made locally, in Syria or Anatolia, is stylistically mysterious. Once the Polos sent the statue back to Italy after their visit to the Mongol court, it was probably “discreetly and laboriously refitted” to look like the holy emblem of St. Mark, with horns removed and a “wig” added, they added. “In a puzzling absence of written information, the intention and logistics behind its journey to Venice remain elusive and open to interpretation."
        ],
        [
         "42",
         "That was how he got into a Netflix party for the reality show “Next in Fashion” after meeting and photographing its co-host, Alexa Chung, outside. Bassini has observed the circuit of influencers and hopefuls who try a more demanding don’t-you-know-who-I-am approach, only to see them get turned away unceremoniously each time. The actor and director Jemima Kirke once asked him how to fix her Polaroid camera while waiting for her car outside of a Puppets and Puppets show, he recounted, while Klum waxed poetic with him about the feeling of developing film in a lab. But during his first attempt to photograph New York Fashion Week on a wintery day in 2016, he had no connections."
        ],
        [
         "43",
         "In preparation for the event, Rivalta will be closed off to tourists and visitors. Armani stores will also be closed in the afternoon as a mark of respect. “We are grateful for having chosen this place; we feel loved and esteemed,” Giuseppe Busani, a parish priest of Rivalta, who is officiating Armani’s private funeral, told the Italian newspaper Corriere della Sera. CNN’s Barbie Latza Nadeau, Sharon Braithwaite and Marianna Cerini contributed to this report."
        ],
        [
         "44",
         "This was, however, another avant-garde creation by Louis Souvestre, the self-described “hairfreak” who continues to walk a fine line between hairstyling and sculpture. No detail was overlooked, with two thin braids even dangling down and disappearing into the singers’ low-rise burgundy pants, like jack cables. With her forthcoming album “Vie” expected to be heavily 1980s-inspired, the look was, in part, a piece of clever marketing. Styled by Kyle Luu and sporting head-to-toe Dolce & Gabbana, the LA-based “global girl group” Katseye showed precisely how it’s done."
        ],
        [
         "45",
         "Italy’s most famous film festival has drawn to a close. The 82nd edition of the Venice Film Festival, which concluded on September 6, presented a showcase of hotly anticipated films such as “Bugonia” by the Greek director Yorgos Lanthimos, “Frankenstein” by Guillermo Del Toro, and “Jay Kelly” by Noah Baumbach. Italian actor Alba Rohrwacher wore a custom deep blue satin dress designed by Jonathan Anderson for Dior (his first womenswear collection for the brand is scheduled to debut at Paris Fashion Week in October). Similarly, Louise Trotter’s vision for Italian label Bottega Veneta can already be seen on Jacob Elordi and Vicky Krieps, while Ayo Edebiri wore Chanel designed by the French house’s new creative director Matthieu Blazy."
        ],
        [
         "46",
         "Nearly three years apart in age, the two sisters were extraordinarily close; so close that their mother once said, “if Cassandra’s head had been going to be cut off, Jane would have hers cut off too.” As Kalika Sands, Sotheby’s Head of Books and Manuscripts New York, notes, they had an “incredibly close emotional bond” as well as a “very strong intellectual bond.” This relationship is evident in the letters they wrote to each other. In this one, Austen rattles through an account of her days in Bath, gossips about their neighbors and relatives, shares news about their friends, pokes fun at Cassandra’s ill health, and laments the family’s diminished social status. It was written about three months after Austen’s father died, Sands told CNN, quoting a passage that shows the changed social circles the family moved in and “how reduced Jane Austen felt.” “Seven years and four months ago, we went to the same riding house to see Miss Lefroy’s performance,” Austen wrote. No letters from the period three or four years before this letter was written have survived, Sands said, pointing out this was a time when Austen wasn’t very productive, struggled with her family’s move to Bath and was perhaps depressed, as some critics have hypothesized."
        ],
        [
         "47",
         "A lightning-sparked wildfire in California’s Sierra National Forest burned Tuesday through a grove of giant sequoias and set some of the ancient towering trees on fire. To protect the majestic trees, some estimated to be 3,000 years old, fire crews laid sprinkler lines to increase ground moisture, wrapped the trunks with fire-resistant foil blankets, raked flammable material away from trees and patrolled the area looking for hotspots, he said. The giant trees rely on low-intensity fire to help open their cones to disperse seeds, and flames clear undergrowth so seedlings can take root and get sunlight. The blaze has scorched 85 square miles of grass, chaparral and timber in a remote area known for camping and hiking about 60 miles east of Fresno."
        ],
        [
         "48",
         "The most basic building block is that water temperatures reach their warmest levels after basking in summer’s heat. ﻿The tropical Atlantic has been enveloped in dry, stable air so far this month, which is one of the main reasons it’s unusually quiet. Just two days later, Tropical Storm Chantal triggered destructive and deadly floods in a narrow strip of North Carolina. Last year, Hurricane Helene’s devastating impacts played out from Florida to Georgia, western North Carolina and eastern Tennessee in late September."
        ],
        [
         "49",
         "There were no reports of injuries or deaths from the fire as of Wednesday evening, and multiple structures have been damaged or destroyed, a Cal Fire Tuolumne-Calaveras Unit spokesperson told CNN. The California Gold Rush brought thousands of Chinese miners to the United States, where they faced anti-immigrant sentiments and persecution that included an exorbitant Foreign Miners Tax designed to drive them away from mining. The town, which also served as a backdrop for multiple films , was added to California’s Historical Landmarks list in 1949. Since these produce minimal rain, lightning strikes dry ground with little to prevent a spark from turning into an all-out blaze."
        ]
       ],
       "shape": {
        "columns": 1,
        "rows": 1119
       }
      },
      "text/plain": [
       "0       Poland’s interior ministry said seven drones a...\n",
       "1       Appointed by President Emmanuel Macron on Tues...\n",
       "2       The attack could have a chilling effect in the...\n",
       "3       Ukraine’s President Volodymyr Zelensky describ...\n",
       "4       “There are opportunities everywhere,” he said,...\n",
       "                              ...                        \n",
       "1472    Сегодня Центральный банк России установил новы...\n",
       "1473    Сегодня Центральный банк России установил новы...\n",
       "1474    Однако настоящая дорога не всегда черно-белая,...\n",
       "1475    Неожиданные выводы исследователей: какое молок...\n",
       "1476    Сегодня Центральным банком России установлен н...\n",
       "Name: cleaned_content, Length: 1119, dtype: object"
      ]
     },
     "execution_count": 23,
     "metadata": {},
     "output_type": "execute_result"
    }
   ],
   "source": [
    "df[\"cleaned_content\"]"
   ]
  },
  {
   "cell_type": "markdown",
   "id": "3105cc15",
   "metadata": {},
   "source": [
    "### Clean Titles"
   ]
  },
  {
   "cell_type": "code",
   "execution_count": 24,
   "id": "fd220b33",
   "metadata": {},
   "outputs": [],
   "source": [
    "def clean_title(title):\n",
    "    \"\"\"\n",
    "    Cleans a single title string by removing specific patterns.\n",
    "\n",
    "    Args:\n",
    "        title (str): The raw title string to be cleaned.\n",
    "\n",
    "    Returns:\n",
    "        str: The cleaned title.\n",
    "    \"\"\"\n",
    "    if not isinstance(title, str):\n",
    "        return \"\"\n",
    "\n",
    "    title = re.sub(r'\\s*\\(.*\\)', '', title)\n",
    "\n",
    "    title = re.sub(r'\\s*(?:\\||—|–|:).*', '', title)\n",
    "\n",
    "    title = title.strip()\n",
    "\n",
    "    return title"
   ]
  },
  {
   "cell_type": "code",
   "execution_count": 25,
   "id": "68f525fe",
   "metadata": {},
   "outputs": [],
   "source": [
    "df.dropna(subset=['title'], inplace=True)"
   ]
  },
  {
   "cell_type": "code",
   "execution_count": 26,
   "id": "9c2f1e74",
   "metadata": {},
   "outputs": [
    {
     "data": {
      "application/vnd.microsoft.datawrangler.viewer.v0+json": {
       "columns": [
        {
         "name": "index",
         "rawType": "int64",
         "type": "integer"
        },
        {
         "name": "cleaned_title",
         "rawType": "object",
         "type": "string"
        }
       ],
       "ref": "c483f801-3ad6-4465-9147-5284bcf98a3d",
       "rows": [
        [
         "0",
         "NATO shoots down Russian drones in Polish airspace, accusing Moscow of being ‘absolutely reckless’"
        ],
        [
         "1",
         "France hit by protests and disruption as new prime minister takes office"
        ],
        [
         "2",
         "Israel strikes Hamas leadership in Qatar in unprecedented attack. Here’s what to know"
        ],
        [
         "3",
         "Russian aerial bomb kills at least 25 civilians in rural Ukrainian village, government says"
        ],
        [
         "4",
         "She was deported nine times. Then, like others, she found her American Dream in Mexico"
        ],
        [
         "5",
         "French prime ministers face an impossible problem. Can this man solve it?"
        ],
        [
         "6",
         "Ethiopia opens Africa’s largest hydroelectric dam to Egyptian protest"
        ],
        [
         "7",
         "France’s government has collapsed again. How did we get here and what’s next?"
        ],
        [
         "8",
         "Ukraine says Russian missile that hit government building is packed with US and European parts"
        ],
        [
         "9",
         "ICC opens war crimes case against Ugandan rebel leader Joseph Kony"
        ],
        [
         "10",
         "Israel orders full evacuation of Gaza City as Netanyahu warns ‘this is only the beginning’"
        ],
        [
         "11",
         "Train collides with double-decker bus in Mexico, killing at least 10 people"
        ],
        [
         "12",
         "Czech Republic and allies break up Belarus spy network across Europe"
        ],
        [
         "13",
         "French President Emmanuel Macron appoints outgoing defense minister Sébastien Lecornu as prime minister"
        ],
        [
         "14",
         "Pig heads discovered outside several Paris mosques"
        ],
        [
         "15",
         "Prince Harry returns to the UK, but it’s unclear if he’ll see King Charles"
        ],
        [
         "16",
         "London Heathrow Airport check-in area reopens after police say no hazardous materials found at scene"
        ],
        [
         "17",
         "French government collapses after prime minister loses confidence vote"
        ],
        [
         "18",
         "Trump’s misreading of Russia has cost Ukraine. Now Putin is making his intentions clearer than ever"
        ],
        [
         "19",
         "Gaza aid flotilla says boat struck by drone at Tunisian port"
        ],
        [
         "20",
         "Israel carries out strike targeting Hamas leadership in Qatar"
        ],
        [
         "21",
         "Qatar presses Hamas to “respond positively” to US ceasefire proposal, official says"
        ],
        [
         "22",
         "At least 6 killed in shooting at Jerusalem bus stop, Israeli officials say, in city’s deadliest attack in 2 years"
        ],
        [
         "23",
         "Spain intensifies criticism of Israeli offensive in Gaza. Israel responds with travel bans"
        ],
        [
         "24",
         "Sirens fail as Houthi drone hits arrivals hall at Ramon Airport in southern Israel, authorities say"
        ],
        [
         "25",
         "Photos this week"
        ],
        [
         "26",
         "Photos"
        ],
        [
         "27",
         "Photos this week"
        ],
        [
         "28",
         "New Ebola outbreak in DR Congo suspected of causing 15 deaths"
        ],
        [
         "29",
         "Burkina Faso parliament passes law outlawing LGBTQ practices"
        ],
        [
         "30",
         "Venezuela not seeking conflict with the United States, its foreign minister tells CNN"
        ],
        [
         "31",
         "South Sudan repatriates Mexican man deported from US"
        ],
        [
         "32",
         "A lightning-struck ‘miracle tree’ said to fulfill wishes is drawing devotees to a Bolivian cemetery"
        ],
        [
         "33",
         "As US tensions rise, Venezuelans keep calm and carry on"
        ],
        [
         "34",
         "A parliament in flames, a leader toppled. Nepal Gen-Z protesters ask"
        ],
        [
         "35",
         "Kim has long sought recognition as a nuclear power. Xi may have just given it to him"
        ],
        [
         "36",
         "A social media ban, corruption and ‘Nepo Kids"
        ],
        [
         "37",
         "Thailand’s top court orders famed former prime minister Thaksin Shinawatra to spend one year in jail"
        ],
        [
         "38",
         "Wild racing, wild parties and wild boar"
        ],
        [
         "39",
         "Why doesn’t Google Maps work in one of Asia’s most developed, tourist-friendly countries?"
        ],
        [
         "40",
         "High-speed rail has come to America. Or has it?"
        ],
        [
         "41",
         "Venice’s famous winged lion statue is actually Chinese, scientists say"
        ],
        [
         "42",
         "The celebrity photographer who has made a career out of sneaking into fashion shows"
        ],
        [
         "43",
         "Italy says goodbye to legendary designer Giorgio Armani"
        ],
        [
         "44",
         "MTV VMAs red carpet"
        ],
        [
         "45",
         "The best looks from the 2025 Venice Film Festival"
        ],
        [
         "46",
         "Long, chatty letter from Jane Austen to sister Cassandra to be auctioned"
        ],
        [
         "47",
         "Grove of giant sequoia trees burns in California’s Sierra National Forest"
        ],
        [
         "48",
         "Why Atlantic hurricane season has gone silent"
        ],
        [
         "49",
         "Historic California gold mining town overrun by fast-moving wildfire"
        ]
       ],
       "shape": {
        "columns": 1,
        "rows": 1119
       }
      },
      "text/plain": [
       "0       NATO shoots down Russian drones in Polish airs...\n",
       "1       France hit by protests and disruption as new p...\n",
       "2       Israel strikes Hamas leadership in Qatar in un...\n",
       "3       Russian aerial bomb kills at least 25 civilian...\n",
       "4       She was deported nine times. Then, like others...\n",
       "                              ...                        \n",
       "1472    Курс юаня к рублю на сегодня 11 сентября 2025 ...\n",
       "1473    Курс тенге к рублю на сегодня 11 сентября 2025...\n",
       "1474                           Пересечение сплошной линии\n",
       "1475                               Ученые раскрыли секрет\n",
       "1476    Курс евро к рублю на сегодня 11 сентября 2025 ...\n",
       "Name: cleaned_title, Length: 1119, dtype: object"
      ]
     },
     "execution_count": 26,
     "metadata": {},
     "output_type": "execute_result"
    }
   ],
   "source": [
    "df['cleaned_title'] = df['title'].apply(clean_title)\n",
    "df['cleaned_title']"
   ]
  },
  {
   "cell_type": "markdown",
   "id": "7bfc94fe",
   "metadata": {},
   "source": [
    "## Compare Original content and title with Semantic Similarity Scores"
   ]
  },
  {
   "cell_type": "markdown",
   "id": "9f4a5a82",
   "metadata": {},
   "source": [
    "### Length compere"
   ]
  },
  {
   "cell_type": "code",
   "execution_count": 27,
   "id": "2fa6feb2",
   "metadata": {},
   "outputs": [
    {
     "name": "stdout",
     "output_type": "stream",
     "text": [
      "Comparison of Original vs. Cleaned Content:\n",
      "\n",
      "==================================================\n",
      "\n",
      "Word Count Comparison:\n",
      "   original_word_count  cleaned_word_count\n",
      "0                 1461                  79\n",
      "1                  524                  90\n",
      "2                 1209                 172\n",
      "3                  486                  83\n",
      "4                 1560                  85\n"
     ]
    }
   ],
   "source": [
    "df_comparison = df[['content', 'cleaned_content']].copy()\n",
    "df_comparison['original_word_count'] = df_comparison['content'].apply(lambda x: len(x.split()))\n",
    "df_comparison['cleaned_word_count'] = df_comparison['cleaned_content'].apply(lambda x: len(x.split()))\n",
    "\n",
    "\n",
    "print(\"Comparison of Original vs. Cleaned Content:\")\n",
    "print(\"\\n\" + \"=\"*50 + \"\\n\")\n",
    "print(\"Word Count Comparison:\")\n",
    "print(df_comparison[['original_word_count', 'cleaned_word_count']].head())"
   ]
  },
  {
   "cell_type": "code",
   "execution_count": 31,
   "id": "b5c2bdcb",
   "metadata": {},
   "outputs": [
    {
     "data": {
      "application/vnd.microsoft.datawrangler.viewer.v0+json": {
       "columns": [
        {
         "name": "index",
         "rawType": "object",
         "type": "string"
        },
        {
         "name": "original_word_count",
         "rawType": "float64",
         "type": "float"
        },
        {
         "name": "cleaned_word_count",
         "rawType": "float64",
         "type": "float"
        }
       ],
       "ref": "e2d991bf-1695-47d4-8438-41cfd325b77e",
       "rows": [
        [
         "count",
         "1119.0",
         "1119.0"
        ],
        [
         "mean",
         "657.3208221626452",
         "97.31992850759607"
        ],
        [
         "std",
         "679.1245218090717",
         "37.0425161324931"
        ],
        [
         "min",
         "10.0",
         "0.0"
        ],
        [
         "25%",
         "247.0",
         "77.0"
        ],
        [
         "50%",
         "438.0",
         "91.0"
        ],
        [
         "75%",
         "862.0",
         "110.0"
        ],
        [
         "max",
         "6630.0",
         "421.0"
        ]
       ],
       "shape": {
        "columns": 2,
        "rows": 8
       }
      },
      "text/html": [
       "<div>\n",
       "<style scoped>\n",
       "    .dataframe tbody tr th:only-of-type {\n",
       "        vertical-align: middle;\n",
       "    }\n",
       "\n",
       "    .dataframe tbody tr th {\n",
       "        vertical-align: top;\n",
       "    }\n",
       "\n",
       "    .dataframe thead th {\n",
       "        text-align: right;\n",
       "    }\n",
       "</style>\n",
       "<table border=\"1\" class=\"dataframe\">\n",
       "  <thead>\n",
       "    <tr style=\"text-align: right;\">\n",
       "      <th></th>\n",
       "      <th>original_word_count</th>\n",
       "      <th>cleaned_word_count</th>\n",
       "    </tr>\n",
       "  </thead>\n",
       "  <tbody>\n",
       "    <tr>\n",
       "      <th>count</th>\n",
       "      <td>1119.000000</td>\n",
       "      <td>1119.000000</td>\n",
       "    </tr>\n",
       "    <tr>\n",
       "      <th>mean</th>\n",
       "      <td>657.320822</td>\n",
       "      <td>97.319929</td>\n",
       "    </tr>\n",
       "    <tr>\n",
       "      <th>std</th>\n",
       "      <td>679.124522</td>\n",
       "      <td>37.042516</td>\n",
       "    </tr>\n",
       "    <tr>\n",
       "      <th>min</th>\n",
       "      <td>10.000000</td>\n",
       "      <td>0.000000</td>\n",
       "    </tr>\n",
       "    <tr>\n",
       "      <th>25%</th>\n",
       "      <td>247.000000</td>\n",
       "      <td>77.000000</td>\n",
       "    </tr>\n",
       "    <tr>\n",
       "      <th>50%</th>\n",
       "      <td>438.000000</td>\n",
       "      <td>91.000000</td>\n",
       "    </tr>\n",
       "    <tr>\n",
       "      <th>75%</th>\n",
       "      <td>862.000000</td>\n",
       "      <td>110.000000</td>\n",
       "    </tr>\n",
       "    <tr>\n",
       "      <th>max</th>\n",
       "      <td>6630.000000</td>\n",
       "      <td>421.000000</td>\n",
       "    </tr>\n",
       "  </tbody>\n",
       "</table>\n",
       "</div>"
      ],
      "text/plain": [
       "       original_word_count  cleaned_word_count\n",
       "count          1119.000000         1119.000000\n",
       "mean            657.320822           97.319929\n",
       "std             679.124522           37.042516\n",
       "min              10.000000            0.000000\n",
       "25%             247.000000           77.000000\n",
       "50%             438.000000           91.000000\n",
       "75%             862.000000          110.000000\n",
       "max            6630.000000          421.000000"
      ]
     },
     "execution_count": 31,
     "metadata": {},
     "output_type": "execute_result"
    }
   ],
   "source": [
    "df_comparison.describe()"
   ]
  },
  {
   "cell_type": "markdown",
   "id": "0ccc9b13",
   "metadata": {},
   "source": [
    "### Semantic Similarity Scores"
   ]
  },
  {
   "cell_type": "code",
   "execution_count": 28,
   "id": "1b63649f",
   "metadata": {},
   "outputs": [
    {
     "data": {
      "application/vnd.microsoft.datawrangler.viewer.v0+json": {
       "columns": [
        {
         "name": "index",
         "rawType": "int64",
         "type": "integer"
        },
        {
         "name": "similarity_score_between_content_&_cleanedContent",
         "rawType": "float64",
         "type": "float"
        },
        {
         "name": "similarity_score_between_Title_&_Title",
         "rawType": "float64",
         "type": "float"
        }
       ],
       "ref": "c7603f72-858d-4182-8b5e-6bd38b5ec2d4",
       "rows": [
        [
         "0",
         "0.6560666561126709",
         "0.9774646162986755"
        ],
        [
         "1",
         "0.8083125948905945",
         "0.9242808818817139"
        ],
        [
         "2",
         "0.7519351243972778",
         "0.9695334434509277"
        ],
        [
         "3",
         "0.762566328048706",
         "0.989256739616394"
        ],
        [
         "4",
         "0.25156065821647644",
         "0.9689694046974182"
        ],
        [
         "5",
         "0.8444905281066895",
         "0.9742623567581177"
        ],
        [
         "6",
         "0.5941417217254639",
         "0.9754994511604309"
        ],
        [
         "7",
         "0.7025827169418335",
         "0.9656749963760376"
        ],
        [
         "8",
         "0.881866455078125",
         "0.9825283885002136"
        ],
        [
         "9",
         "0.6488783955574036",
         "0.9780056476593018"
        ],
        [
         "10",
         "0.5741872787475586",
         "0.9715860486030579"
        ],
        [
         "11",
         "0.8201499581336975",
         "0.9638990163803101"
        ],
        [
         "12",
         "0.8829376101493835",
         "0.9734761714935303"
        ],
        [
         "13",
         "0.6790158152580261",
         "0.9777617454528809"
        ],
        [
         "14",
         "0.8716816902160645",
         "0.9673813581466675"
        ],
        [
         "15",
         "0.79736328125",
         "0.967540979385376"
        ],
        [
         "16",
         "0.9221045970916748",
         "0.9846240282058716"
        ],
        [
         "17",
         "0.8129859566688538",
         "0.9581542015075684"
        ],
        [
         "18",
         "0.7268866300582886",
         "0.9687961339950562"
        ],
        [
         "19",
         "0.7535399198532104",
         "0.9805440306663513"
        ],
        [
         "20",
         "0.6653742790222168",
         "0.965124785900116"
        ],
        [
         "21",
         "0.6961177587509155",
         "0.9953754544258118"
        ],
        [
         "22",
         "0.5641456842422485",
         "0.9723501205444336"
        ],
        [
         "23",
         "0.819638729095459",
         "0.962043821811676"
        ],
        [
         "24",
         "0.6195225715637207",
         "0.9904943704605103"
        ],
        [
         "25",
         "0.8499346971511841",
         "0.6644780039787292"
        ],
        [
         "26",
         "1.0",
         "0.3047342300415039"
        ],
        [
         "27",
         "0.773980975151062",
         "0.6757198572158813"
        ],
        [
         "28",
         "0.9315356016159058",
         "0.9494288563728333"
        ],
        [
         "29",
         "0.8814059495925903",
         "0.9683831334114075"
        ],
        [
         "30",
         "0.7718251943588257",
         "0.9859809279441833"
        ],
        [
         "31",
         "0.5725053548812866",
         "0.9511045813560486"
        ],
        [
         "32",
         "0.8101871609687805",
         "0.991270899772644"
        ],
        [
         "33",
         "0.633752703666687",
         "0.8904274702072144"
        ],
        [
         "34",
         "0.5326815843582153",
         "0.9075149297714233"
        ],
        [
         "35",
         "0.5485275983810425",
         "0.9619025588035583"
        ],
        [
         "36",
         "0.643466591835022",
         "0.7338433265686035"
        ],
        [
         "37",
         "0.7331560254096985",
         "0.9895941019058228"
        ],
        [
         "38",
         "0.6478697061538696",
         "0.6435667872428894"
        ],
        [
         "39",
         "0.7897955179214478",
         "0.9815314412117004"
        ],
        [
         "40",
         "0.6311606168746948",
         "0.9536517858505249"
        ],
        [
         "41",
         "0.7386457324028015",
         "0.9853270649909973"
        ],
        [
         "42",
         "0.5062894821166992",
         "0.9629522562026978"
        ],
        [
         "43",
         "0.7314271330833435",
         "0.9870678782463074"
        ],
        [
         "44",
         "0.5696519017219543",
         "0.7482324838638306"
        ],
        [
         "45",
         "0.8694198131561279",
         "0.9735652208328247"
        ],
        [
         "46",
         "0.7184301614761353",
         "0.9796934127807617"
        ],
        [
         "47",
         "0.8397913575172424",
         "0.9794714450836182"
        ],
        [
         "48",
         "0.6150104403495789",
         "0.9385534524917603"
        ],
        [
         "49",
         "0.7041012644767761",
         "0.9453330039978027"
        ]
       ],
       "shape": {
        "columns": 2,
        "rows": 1119
       }
      },
      "text/html": [
       "<div>\n",
       "<style scoped>\n",
       "    .dataframe tbody tr th:only-of-type {\n",
       "        vertical-align: middle;\n",
       "    }\n",
       "\n",
       "    .dataframe tbody tr th {\n",
       "        vertical-align: top;\n",
       "    }\n",
       "\n",
       "    .dataframe thead th {\n",
       "        text-align: right;\n",
       "    }\n",
       "</style>\n",
       "<table border=\"1\" class=\"dataframe\">\n",
       "  <thead>\n",
       "    <tr style=\"text-align: right;\">\n",
       "      <th></th>\n",
       "      <th>similarity_score_between_content_&amp;_cleanedContent</th>\n",
       "      <th>similarity_score_between_Title_&amp;_Title</th>\n",
       "    </tr>\n",
       "  </thead>\n",
       "  <tbody>\n",
       "    <tr>\n",
       "      <th>0</th>\n",
       "      <td>0.656067</td>\n",
       "      <td>0.977465</td>\n",
       "    </tr>\n",
       "    <tr>\n",
       "      <th>1</th>\n",
       "      <td>0.808313</td>\n",
       "      <td>0.924281</td>\n",
       "    </tr>\n",
       "    <tr>\n",
       "      <th>2</th>\n",
       "      <td>0.751935</td>\n",
       "      <td>0.969533</td>\n",
       "    </tr>\n",
       "    <tr>\n",
       "      <th>3</th>\n",
       "      <td>0.762566</td>\n",
       "      <td>0.989257</td>\n",
       "    </tr>\n",
       "    <tr>\n",
       "      <th>4</th>\n",
       "      <td>0.251561</td>\n",
       "      <td>0.968969</td>\n",
       "    </tr>\n",
       "    <tr>\n",
       "      <th>...</th>\n",
       "      <td>...</td>\n",
       "      <td>...</td>\n",
       "    </tr>\n",
       "    <tr>\n",
       "      <th>1472</th>\n",
       "      <td>0.871424</td>\n",
       "      <td>1.000000</td>\n",
       "    </tr>\n",
       "    <tr>\n",
       "      <th>1473</th>\n",
       "      <td>0.885209</td>\n",
       "      <td>1.000000</td>\n",
       "    </tr>\n",
       "    <tr>\n",
       "      <th>1474</th>\n",
       "      <td>0.850105</td>\n",
       "      <td>0.693393</td>\n",
       "    </tr>\n",
       "    <tr>\n",
       "      <th>1475</th>\n",
       "      <td>1.000000</td>\n",
       "      <td>0.663835</td>\n",
       "    </tr>\n",
       "    <tr>\n",
       "      <th>1476</th>\n",
       "      <td>0.906157</td>\n",
       "      <td>1.000000</td>\n",
       "    </tr>\n",
       "  </tbody>\n",
       "</table>\n",
       "<p>1119 rows × 2 columns</p>\n",
       "</div>"
      ],
      "text/plain": [
       "      similarity_score_between_content_&_cleanedContent  \\\n",
       "0                                              0.656067   \n",
       "1                                              0.808313   \n",
       "2                                              0.751935   \n",
       "3                                              0.762566   \n",
       "4                                              0.251561   \n",
       "...                                                 ...   \n",
       "1472                                           0.871424   \n",
       "1473                                           0.885209   \n",
       "1474                                           0.850105   \n",
       "1475                                           1.000000   \n",
       "1476                                           0.906157   \n",
       "\n",
       "      similarity_score_between_Title_&_Title  \n",
       "0                                   0.977465  \n",
       "1                                   0.924281  \n",
       "2                                   0.969533  \n",
       "3                                   0.989257  \n",
       "4                                   0.968969  \n",
       "...                                      ...  \n",
       "1472                                1.000000  \n",
       "1473                                1.000000  \n",
       "1474                                0.693393  \n",
       "1475                                0.663835  \n",
       "1476                                1.000000  \n",
       "\n",
       "[1119 rows x 2 columns]"
      ]
     },
     "execution_count": 28,
     "metadata": {},
     "output_type": "execute_result"
    }
   ],
   "source": [
    "\n",
    "df['similarity_score_between_content_&_cleanedContent'] = df.apply(\n",
    "    lambda row: util.cos_sim(\n",
    "        model.encode(row['content'], convert_to_tensor=True),\n",
    "        model.encode(row['cleaned_content'], convert_to_tensor=True)\n",
    "    ).item(),\n",
    "    axis=1\n",
    ")\n",
    "\n",
    "df['similarity_score_between_Title_&_Title'] = df.apply(\n",
    "    lambda row: util.cos_sim(\n",
    "        model.encode(row['title'], convert_to_tensor=True),\n",
    "        model.encode(row['cleaned_title'], convert_to_tensor=True)\n",
    "    ).item(),\n",
    "    axis=1\n",
    ")\n",
    "df[['similarity_score_between_content_&_cleanedContent', 'similarity_score_between_Title_&_Title']]"
   ]
  },
  {
   "cell_type": "code",
   "execution_count": 29,
   "id": "b9f5a815",
   "metadata": {},
   "outputs": [
    {
     "data": {
      "application/vnd.microsoft.datawrangler.viewer.v0+json": {
       "columns": [
        {
         "name": "index",
         "rawType": "object",
         "type": "string"
        },
        {
         "name": "similarity_score_between_content_&_cleanedContent",
         "rawType": "float64",
         "type": "float"
        },
        {
         "name": "similarity_score_between_Title_&_Title",
         "rawType": "float64",
         "type": "float"
        }
       ],
       "ref": "8d8634aa-72b5-43de-87ae-5911ec3e6c34",
       "rows": [
        [
         "count",
         "1119.0",
         "1119.0"
        ],
        [
         "mean",
         "0.7638584264821245",
         "0.9268250315316134"
        ],
        [
         "std",
         "0.17643278727635345",
         "0.1439872723903848"
        ],
        [
         "min",
         "0.01434105634689331",
         "0.10671289265155792"
        ],
        [
         "25%",
         "0.6736854910850525",
         "0.9271151125431061"
        ],
        [
         "50%",
         "0.7998507022857666",
         "0.9999999403953552"
        ],
        [
         "75%",
         "0.8852904438972473",
         "1.0"
        ],
        [
         "max",
         "1.000000238418579",
         "1.000000238418579"
        ]
       ],
       "shape": {
        "columns": 2,
        "rows": 8
       }
      },
      "text/html": [
       "<div>\n",
       "<style scoped>\n",
       "    .dataframe tbody tr th:only-of-type {\n",
       "        vertical-align: middle;\n",
       "    }\n",
       "\n",
       "    .dataframe tbody tr th {\n",
       "        vertical-align: top;\n",
       "    }\n",
       "\n",
       "    .dataframe thead th {\n",
       "        text-align: right;\n",
       "    }\n",
       "</style>\n",
       "<table border=\"1\" class=\"dataframe\">\n",
       "  <thead>\n",
       "    <tr style=\"text-align: right;\">\n",
       "      <th></th>\n",
       "      <th>similarity_score_between_content_&amp;_cleanedContent</th>\n",
       "      <th>similarity_score_between_Title_&amp;_Title</th>\n",
       "    </tr>\n",
       "  </thead>\n",
       "  <tbody>\n",
       "    <tr>\n",
       "      <th>count</th>\n",
       "      <td>1119.000000</td>\n",
       "      <td>1119.000000</td>\n",
       "    </tr>\n",
       "    <tr>\n",
       "      <th>mean</th>\n",
       "      <td>0.763858</td>\n",
       "      <td>0.926825</td>\n",
       "    </tr>\n",
       "    <tr>\n",
       "      <th>std</th>\n",
       "      <td>0.176433</td>\n",
       "      <td>0.143987</td>\n",
       "    </tr>\n",
       "    <tr>\n",
       "      <th>min</th>\n",
       "      <td>0.014341</td>\n",
       "      <td>0.106713</td>\n",
       "    </tr>\n",
       "    <tr>\n",
       "      <th>25%</th>\n",
       "      <td>0.673685</td>\n",
       "      <td>0.927115</td>\n",
       "    </tr>\n",
       "    <tr>\n",
       "      <th>50%</th>\n",
       "      <td>0.799851</td>\n",
       "      <td>1.000000</td>\n",
       "    </tr>\n",
       "    <tr>\n",
       "      <th>75%</th>\n",
       "      <td>0.885290</td>\n",
       "      <td>1.000000</td>\n",
       "    </tr>\n",
       "    <tr>\n",
       "      <th>max</th>\n",
       "      <td>1.000000</td>\n",
       "      <td>1.000000</td>\n",
       "    </tr>\n",
       "  </tbody>\n",
       "</table>\n",
       "</div>"
      ],
      "text/plain": [
       "       similarity_score_between_content_&_cleanedContent  \\\n",
       "count                                        1119.000000   \n",
       "mean                                            0.763858   \n",
       "std                                             0.176433   \n",
       "min                                             0.014341   \n",
       "25%                                             0.673685   \n",
       "50%                                             0.799851   \n",
       "75%                                             0.885290   \n",
       "max                                             1.000000   \n",
       "\n",
       "       similarity_score_between_Title_&_Title  \n",
       "count                             1119.000000  \n",
       "mean                                 0.926825  \n",
       "std                                  0.143987  \n",
       "min                                  0.106713  \n",
       "25%                                  0.927115  \n",
       "50%                                  1.000000  \n",
       "75%                                  1.000000  \n",
       "max                                  1.000000  "
      ]
     },
     "execution_count": 29,
     "metadata": {},
     "output_type": "execute_result"
    }
   ],
   "source": [
    "df[['similarity_score_between_content_&_cleanedContent', 'similarity_score_between_Title_&_Title']].describe()"
   ]
  },
  {
   "cell_type": "markdown",
   "id": "8fb39c4f",
   "metadata": {},
   "source": [
    "## Save the dataFrame"
   ]
  },
  {
   "cell_type": "code",
   "execution_count": 30,
   "id": "2576104e",
   "metadata": {},
   "outputs": [],
   "source": [
    "dfc = df[['id', 'source', 'url', 'cleaned_title', 'fetched_at',\n",
    "       't_total_sec', 'cleaned_content']]\n",
    "\n",
    "# rename columns\n",
    "dfc = dfc.rename(columns={\n",
    "    'cleaned_title': 'title',\n",
    "    'cleaned_content': 'content'\n",
    "})\n",
    "\n",
    "dfc.to_csv(r'../data/cleaned_data/clean_data.csv', index=False)"
   ]
  }
 ],
 "metadata": {
  "kernelspec": {
   "display_name": "Python 3",
   "language": "python",
   "name": "python3"
  },
  "language_info": {
   "codemirror_mode": {
    "name": "ipython",
    "version": 3
   },
   "file_extension": ".py",
   "mimetype": "text/x-python",
   "name": "python",
   "nbconvert_exporter": "python",
   "pygments_lexer": "ipython3",
   "version": "3.13.5"
  }
 },
 "nbformat": 4,
 "nbformat_minor": 5
}
